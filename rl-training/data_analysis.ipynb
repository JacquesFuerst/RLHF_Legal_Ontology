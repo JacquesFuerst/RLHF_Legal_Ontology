{
 "cells": [
  {
   "cell_type": "markdown",
   "id": "bd01ea27",
   "metadata": {},
   "source": [
    "# Data cleanup notebook\n"
   ]
  },
  {
   "cell_type": "markdown",
   "id": "aae5f442",
   "metadata": {},
   "source": [
    "## 1. Imports"
   ]
  },
  {
   "cell_type": "code",
   "execution_count": 51,
   "id": "ab85d869",
   "metadata": {},
   "outputs": [],
   "source": [
    "import torch\n",
    "from torchmetrics.nominal import FleissKappa\n",
    "import pandas as pd\n",
    "import numpy as np\n",
    "\n",
    "from utils import parse_ratings"
   ]
  },
  {
   "cell_type": "markdown",
   "id": "7d4514bf",
   "metadata": {},
   "source": [
    "## 2. Clean up messed up files"
   ]
  },
  {
   "cell_type": "markdown",
   "id": "8bac294e",
   "metadata": {},
   "source": [
    "### Load files"
   ]
  },
  {
   "cell_type": "code",
   "execution_count": 32,
   "id": "dc34f4ac",
   "metadata": {},
   "outputs": [],
   "source": [
    "# Participant 2\n",
    "\n",
    "first_file_2 = \"/home/jacques.furst/development/RAG/flintfiller-precondition-rl/data/human_feedback/human_feedback_7a185ca4-3d37-4487-8aa7-ad9e8f6fe884.csv\" # 13:10\n",
    "second_file_2 = \"/home/jacques.furst/development/RAG/flintfiller-precondition-rl/data/human_feedback/human_feedback_861cdaee-9f2e-4454-8252-d8ff397eb14e.csv\" # 15:48\n",
    "third_file_2 = \"/home/jacques.furst/development/RAG/flintfiller-precondition-rl/data/human_feedback/human_feedback_f60e0e84-2638-44da-871b-4847b751fabb.csv\" # 16:23\n",
    "\n",
    "\n",
    "# Participant 6\n",
    "\n",
    "first_file_6 = \"/home/jacques.furst/development/RAG/flintfiller-precondition-rl/data/human_feedback/human_feedback_48d1eb99-5d33-476a-a1a4-75917aa92e92.csv\" #12:21\n",
    "second_file_6 = \"/home/jacques.furst/development/RAG/flintfiller-precondition-rl/data/human_feedback/human_feedback_b3d2cab5-ffca-467d-bddb-b9e188e5a85a.csv\" # 11:09\n",
    "third_file_6 = \"/home/jacques.furst/development/RAG/flintfiller-precondition-rl/data/human_feedback/human_feedback_c2e282a4-f8e7-4542-95ab-a9a74b6f57e0.csv\" # 13:39"
   ]
  },
  {
   "cell_type": "markdown",
   "id": "da94d9db",
   "metadata": {},
   "source": [
    "### Sort out files participant 2"
   ]
  },
  {
   "cell_type": "code",
   "execution_count": 44,
   "id": "c67f99ea",
   "metadata": {},
   "outputs": [
    {
     "name": "stdout",
     "output_type": "stream",
     "text": [
      "281\n"
     ]
    }
   ],
   "source": [
    "df_2_1 = pd.read_csv(first_file_2, sep=\";\")\n",
    "df_2_2 = pd.read_csv(second_file_2, sep=\";\")\n",
    "df_2_3 = pd.read_csv(third_file_2, sep=\";\")\n",
    "\n",
    "df_2_1 = df_2_1[:186]\n",
    "df_2_2 = df_2_2[186:]\n",
    "df_2_3 = df_2_3[30:]\n",
    "\n",
    "df_2 = pd.concat([df_2_1, df_2_2, df_2_3], ignore_index=True)\n",
    "print(len(df_2))"
   ]
  },
  {
   "cell_type": "markdown",
   "id": "9e13ec52",
   "metadata": {},
   "source": [
    "### Sort out files participant 6"
   ]
  },
  {
   "cell_type": "code",
   "execution_count": 46,
   "id": "4b247c13",
   "metadata": {},
   "outputs": [
    {
     "name": "stdout",
     "output_type": "stream",
     "text": [
      "84\n",
      "168\n",
      "114\n",
      "282\n"
     ]
    }
   ],
   "source": [
    "df_6_1 = pd.read_csv(second_file_6, sep=\";\")\n",
    "df_6_2 = pd.read_csv(first_file_6, sep=\";\")\n",
    "df_6_3 = pd.read_csv(third_file_6, sep=\";\")\n",
    "\n",
    "print(len(df_6_1))\n",
    "print(len(df_6_2))\n",
    "print(len(df_6_3))\n",
    "\n",
    "df_6_1 = df_6_1[:]\n",
    "df_6_2 = df_6_2[84:]\n",
    "df_6_3 = df_6_3[:]\n",
    "\n",
    "df_6 = pd.concat([df_6_1, df_6_2, df_6_3], ignore_index=True)\n",
    "print(len(df_6))"
   ]
  },
  {
   "cell_type": "markdown",
   "id": "83e037d8",
   "metadata": {},
   "source": [
    "### Check if there are duplicate rows in the dataframes"
   ]
  },
  {
   "cell_type": "code",
   "execution_count": 47,
   "id": "d4f67265",
   "metadata": {},
   "outputs": [
    {
     "name": "stdout",
     "output_type": "stream",
     "text": [
      "0\n",
      "0\n"
     ]
    }
   ],
   "source": [
    "duplicates_6 = df_6.iloc[:, :-2].duplicated()\n",
    "duplicates_2 = df_2.iloc[:, :-2].duplicated()\n",
    "print(duplicates_6.sum())\n",
    "print(duplicates_2.sum())"
   ]
  },
  {
   "cell_type": "markdown",
   "id": "18eba8f6",
   "metadata": {},
   "source": [
    "## 3. Load all proper files (except for the ones that were already created)\n"
   ]
  },
  {
   "cell_type": "code",
   "execution_count": 48,
   "id": "5517e4c5",
   "metadata": {},
   "outputs": [],
   "source": [
    "FILE_1 = \"/home/jacques.furst/development/RAG/flintfiller-precondition-rl/data/human_feedback/human_feedback_b2339fe6-2896-43ab-a9c8-24c8aacfbbd1.csv\"\n",
    "FILE_2 = None\n",
    "FILE_3 = \"/home/jacques.furst/development/RAG/flintfiller-precondition-rl/data/human_feedback/human_feedback_6430b6fd-0ddd-4cc6-a4a0-216d5603143e.csv\"\n",
    "FILE_4 = \"/home/jacques.furst/development/RAG/flintfiller-precondition-rl/data/human_feedback/human_feedback_5fa87112-3702-4263-ba81-1779b3b24d16.csv\"\n",
    "FILE_5 = \"/home/jacques.furst/development/RAG/flintfiller-precondition-rl/data/human_feedback/human_feedback_7b177fba-3ddb-465b-9a25-6f4481eeb492.csv\"\n",
    "FILE_6 = None\n",
    "FILE_7 = \"/home/jacques.furst/development/RAG/flintfiller-precondition-rl/data/human_feedback/human_feedback_ab53866b-7831-4f33-a628-3b6dbf01ead1.csv\"\n",
    "FILE_8 = \"/home/jacques.furst/development/RAG/flintfiller-precondition-rl/data/human_feedback/human_feedback_b1ed9f35-7d6a-439c-8a46-089311e8e340.csv\"\n",
    "FILE_9 = None "
   ]
  },
  {
   "cell_type": "markdown",
   "id": "1b127917",
   "metadata": {},
   "source": [
    "### Load all dataframes"
   ]
  },
  {
   "cell_type": "code",
   "execution_count": 49,
   "id": "1da622b8",
   "metadata": {},
   "outputs": [],
   "source": [
    "df_1 = pd.read_csv(FILE_1, sep=\";\")\n",
    "df_3 = pd.read_csv(FILE_3, sep=\";\")\n",
    "df_4 = pd.read_csv(FILE_4, sep=\";\")\n",
    "df_5 = pd.read_csv(FILE_5, sep=\";\")\n",
    "df_7 = pd.read_csv(FILE_7, sep=\";\")\n",
    "df_8 = pd.read_csv(FILE_8, sep=\";\")\n",
    "#df_9 = pd.read_csv(FILE_1, sep=\";\")"
   ]
  },
  {
   "cell_type": "markdown",
   "id": "0c4e952f",
   "metadata": {},
   "source": [
    "### Cast ratings to numeric values to use fleiss kappa"
   ]
  },
  {
   "cell_type": "code",
   "execution_count": null,
   "id": "05ecf0ac",
   "metadata": {},
   "outputs": [
    {
     "data": {
      "text/html": [
       "<div>\n",
       "<style scoped>\n",
       "    .dataframe tbody tr th:only-of-type {\n",
       "        vertical-align: middle;\n",
       "    }\n",
       "\n",
       "    .dataframe tbody tr th {\n",
       "        vertical-align: top;\n",
       "    }\n",
       "\n",
       "    .dataframe thead th {\n",
       "        text-align: right;\n",
       "    }\n",
       "</style>\n",
       "<table border=\"1\" class=\"dataframe\">\n",
       "  <thead>\n",
       "    <tr style=\"text-align: right;\">\n",
       "      <th></th>\n",
       "      <th>file</th>\n",
       "      <th>frame_ID</th>\n",
       "      <th>frame_type</th>\n",
       "      <th>frame_text</th>\n",
       "      <th>precondition_id</th>\n",
       "      <th>precondition_text</th>\n",
       "      <th>precondition_position</th>\n",
       "      <th>response_text</th>\n",
       "      <th>prompt_config_examples</th>\n",
       "      <th>prompt_config_chain_of_thought</th>\n",
       "      <th>feedback_extraction</th>\n",
       "      <th>feedback_detection</th>\n",
       "      <th>additional_feedback</th>\n",
       "    </tr>\n",
       "  </thead>\n",
       "  <tbody>\n",
       "    <tr>\n",
       "      <th>0</th>\n",
       "      <td>Interpretatie_Vw_over_besluiten_op_aanvragen_v...</td>\n",
       "      <td>7e8d151e-a6ad-4877-85db-5eda2990ac67</td>\n",
       "      <td>fact</td>\n",
       "      <td>Onze Minister</td>\n",
       "      <td>341a8e52-ca51-42ec-b84e-f606887369e7</td>\n",
       "      <td>Onze Minister in de Vreemdelingenwet en de daa...</td>\n",
       "      <td>Artikel 1 IN Vreemdelingenwet 2024</td>\n",
       "      <td>1. Subfact: Onze Minister\\n                2. ...</td>\n",
       "      <td>False</td>\n",
       "      <td>True</td>\n",
       "      <td>None</td>\n",
       "      <td>None</td>\n",
       "      <td>NaN</td>\n",
       "    </tr>\n",
       "    <tr>\n",
       "      <th>1</th>\n",
       "      <td>Interpretatie_Vw_over_besluiten_op_aanvragen_v...</td>\n",
       "      <td>7e8d151e-a6ad-4877-85db-5eda2990ac67</td>\n",
       "      <td>fact</td>\n",
       "      <td>Onze Minister</td>\n",
       "      <td>7e8d151e-a6ad-4877-85db-5eda2990ac67</td>\n",
       "      <td>Onze Minister</td>\n",
       "      <td>Artikel 1 IN Vreemdelingenwet 2024</td>\n",
       "      <td>1. Subfact: Onze Minister\\n                2. ...</td>\n",
       "      <td>False</td>\n",
       "      <td>True</td>\n",
       "      <td>None</td>\n",
       "      <td>None</td>\n",
       "      <td>NaN</td>\n",
       "    </tr>\n",
       "    <tr>\n",
       "      <th>2</th>\n",
       "      <td>Interpretatie_Vw_over_besluiten_op_aanvragen_v...</td>\n",
       "      <td>7e8d151e-a6ad-4877-85db-5eda2990ac67</td>\n",
       "      <td>fact</td>\n",
       "      <td>Onze Minister</td>\n",
       "      <td>dd1b844c-4239-4d34-97ef-aa7022f430db</td>\n",
       "      <td>Onze Minister van Veiligheid en Justitie</td>\n",
       "      <td>Artikel 1 IN Vreemdelingenwet 2024</td>\n",
       "      <td>1. Subfact: Onze Minister\\n                2. ...</td>\n",
       "      <td>False</td>\n",
       "      <td>True</td>\n",
       "      <td>None</td>\n",
       "      <td>None</td>\n",
       "      <td>NaN</td>\n",
       "    </tr>\n",
       "    <tr>\n",
       "      <th>3</th>\n",
       "      <td>Interpretatie_Vw_over_besluiten_op_aanvragen_v...</td>\n",
       "      <td>7e8d151e-a6ad-4877-85db-5eda2990ac67</td>\n",
       "      <td>fact</td>\n",
       "      <td>Onze Minister</td>\n",
       "      <td>341a8e52-ca51-42ec-b84e-f606887369e7</td>\n",
       "      <td>Onze Minister in de Vreemdelingenwet en de daa...</td>\n",
       "      <td>Artikel 1 IN Vreemdelingenwet 2024</td>\n",
       "      <td>1. Subfact: Onze Minister\\n\\n                2...</td>\n",
       "      <td>False</td>\n",
       "      <td>True</td>\n",
       "      <td>None</td>\n",
       "      <td>None</td>\n",
       "      <td>NaN</td>\n",
       "    </tr>\n",
       "    <tr>\n",
       "      <th>4</th>\n",
       "      <td>Interpretatie_Vw_over_besluiten_op_aanvragen_v...</td>\n",
       "      <td>7e8d151e-a6ad-4877-85db-5eda2990ac67</td>\n",
       "      <td>fact</td>\n",
       "      <td>Onze Minister</td>\n",
       "      <td>7e8d151e-a6ad-4877-85db-5eda2990ac67</td>\n",
       "      <td>Onze Minister</td>\n",
       "      <td>Artikel 1 IN Vreemdelingenwet 2024</td>\n",
       "      <td>1. Subfact: Onze Minister\\n\\n                2...</td>\n",
       "      <td>False</td>\n",
       "      <td>True</td>\n",
       "      <td>None</td>\n",
       "      <td>None</td>\n",
       "      <td>NaN</td>\n",
       "    </tr>\n",
       "  </tbody>\n",
       "</table>\n",
       "</div>"
      ],
      "text/plain": [
       "                                                file  \\\n",
       "0  Interpretatie_Vw_over_besluiten_op_aanvragen_v...   \n",
       "1  Interpretatie_Vw_over_besluiten_op_aanvragen_v...   \n",
       "2  Interpretatie_Vw_over_besluiten_op_aanvragen_v...   \n",
       "3  Interpretatie_Vw_over_besluiten_op_aanvragen_v...   \n",
       "4  Interpretatie_Vw_over_besluiten_op_aanvragen_v...   \n",
       "\n",
       "                               frame_ID frame_type     frame_text  \\\n",
       "0  7e8d151e-a6ad-4877-85db-5eda2990ac67       fact  Onze Minister   \n",
       "1  7e8d151e-a6ad-4877-85db-5eda2990ac67       fact  Onze Minister   \n",
       "2  7e8d151e-a6ad-4877-85db-5eda2990ac67       fact  Onze Minister   \n",
       "3  7e8d151e-a6ad-4877-85db-5eda2990ac67       fact  Onze Minister   \n",
       "4  7e8d151e-a6ad-4877-85db-5eda2990ac67       fact  Onze Minister   \n",
       "\n",
       "                        precondition_id  \\\n",
       "0  341a8e52-ca51-42ec-b84e-f606887369e7   \n",
       "1  7e8d151e-a6ad-4877-85db-5eda2990ac67   \n",
       "2  dd1b844c-4239-4d34-97ef-aa7022f430db   \n",
       "3  341a8e52-ca51-42ec-b84e-f606887369e7   \n",
       "4  7e8d151e-a6ad-4877-85db-5eda2990ac67   \n",
       "\n",
       "                                   precondition_text  \\\n",
       "0  Onze Minister in de Vreemdelingenwet en de daa...   \n",
       "1                                      Onze Minister   \n",
       "2           Onze Minister van Veiligheid en Justitie   \n",
       "3  Onze Minister in de Vreemdelingenwet en de daa...   \n",
       "4                                      Onze Minister   \n",
       "\n",
       "                precondition_position  \\\n",
       "0  Artikel 1 IN Vreemdelingenwet 2024   \n",
       "1  Artikel 1 IN Vreemdelingenwet 2024   \n",
       "2  Artikel 1 IN Vreemdelingenwet 2024   \n",
       "3  Artikel 1 IN Vreemdelingenwet 2024   \n",
       "4  Artikel 1 IN Vreemdelingenwet 2024   \n",
       "\n",
       "                                       response_text  prompt_config_examples  \\\n",
       "0  1. Subfact: Onze Minister\\n                2. ...                   False   \n",
       "1  1. Subfact: Onze Minister\\n                2. ...                   False   \n",
       "2  1. Subfact: Onze Minister\\n                2. ...                   False   \n",
       "3  1. Subfact: Onze Minister\\n\\n                2...                   False   \n",
       "4  1. Subfact: Onze Minister\\n\\n                2...                   False   \n",
       "\n",
       "   prompt_config_chain_of_thought feedback_extraction feedback_detection  \\\n",
       "0                            True                None               None   \n",
       "1                            True                None               None   \n",
       "2                            True                None               None   \n",
       "3                            True                None               None   \n",
       "4                            True                None               None   \n",
       "\n",
       "   additional_feedback  \n",
       "0                  NaN  \n",
       "1                  NaN  \n",
       "2                  NaN  \n",
       "3                  NaN  \n",
       "4                  NaN  "
      ]
     },
     "execution_count": 54,
     "metadata": {},
     "output_type": "execute_result"
    }
   ],
   "source": [
    "# parse ratings in all dataframes to be able to calculate Fleiss kappa\n",
    "def apply_parse_ratings(df):\n",
    "    df['feedback_extraction'] = [parse_ratings(feedback) for feedback in df['feedback_extraction']]\n",
    "    df['feedback_detection'] = [parse_ratings(feedback) for feedback in df['feedback_detection']]\n",
    "    return df\n",
    "\n",
    "# Apply to each DataFrame\n",
    "df1 = apply_parse_ratings(df_1)\n",
    "df2 = apply_parse_ratings(df_2)\n",
    "df3 = apply_parse_ratings(df_3)\n",
    "df4 = apply_parse_ratings(df_4)\n",
    "df5 = apply_parse_ratings(df_5)\n",
    "df6 = apply_parse_ratings(df_6)\n",
    "df7 = apply_parse_ratings(df_7)\n",
    "df8 = apply_parse_ratings(df_8)\n",
    "#df9 = apply_parse_ratings(df_9)\n",
    "\n",
    "df_8.head()\n",
    "\n",
    "#TODO: apply parse ratigns is somehow broken, fix...\n"
   ]
  },
  {
   "cell_type": "code",
   "execution_count": 53,
   "id": "d031f767",
   "metadata": {},
   "outputs": [
    {
     "ename": "RuntimeError",
     "evalue": "Could not infer dtype of NoneType",
     "output_type": "error",
     "traceback": [
      "\u001b[0;31m---------------------------------------------------------------------------\u001b[0m",
      "\u001b[0;31mRuntimeError\u001b[0m                              Traceback (most recent call last)",
      "Cell \u001b[0;32mIn[53], line 11\u001b[0m\n\u001b[1;32m      9\u001b[0m \u001b[38;5;66;03m# Prepare data\u001b[39;00m\n\u001b[1;32m     10\u001b[0m extraction_tensor \u001b[38;5;241m=\u001b[39m prepare_data(dfs, \u001b[38;5;124m'\u001b[39m\u001b[38;5;124mfeedback_extraction\u001b[39m\u001b[38;5;124m'\u001b[39m)\n\u001b[0;32m---> 11\u001b[0m detection_tensor \u001b[38;5;241m=\u001b[39m \u001b[43mprepare_data\u001b[49m\u001b[43m(\u001b[49m\u001b[43mdfs\u001b[49m\u001b[43m,\u001b[49m\u001b[43m \u001b[49m\u001b[38;5;124;43m'\u001b[39;49m\u001b[38;5;124;43mfeedback_detection\u001b[39;49m\u001b[38;5;124;43m'\u001b[39;49m\u001b[43m)\u001b[49m\n\u001b[1;32m     13\u001b[0m \u001b[38;5;66;03m# Determine number of classes (assuming all ratings are integers starting from 0 or 1)\u001b[39;00m\n\u001b[1;32m     14\u001b[0m num_classes_extraction \u001b[38;5;241m=\u001b[39m \u001b[38;5;28mlen\u001b[39m(\u001b[38;5;28mset\u001b[39m(extraction_tensor\u001b[38;5;241m.\u001b[39mflatten()\u001b[38;5;241m.\u001b[39mtolist()))\n",
      "Cell \u001b[0;32mIn[53], line 7\u001b[0m, in \u001b[0;36mprepare_data\u001b[0;34m(dfs, column)\u001b[0m\n\u001b[1;32m      5\u001b[0m \u001b[38;5;28;01mdef\u001b[39;00m\u001b[38;5;250m \u001b[39m\u001b[38;5;21mprepare_data\u001b[39m(dfs, column):\n\u001b[1;32m      6\u001b[0m     data \u001b[38;5;241m=\u001b[39m [df[column]\u001b[38;5;241m.\u001b[39mhead(\u001b[38;5;241m50\u001b[39m)\u001b[38;5;241m.\u001b[39mtolist() \u001b[38;5;28;01mfor\u001b[39;00m df \u001b[38;5;129;01min\u001b[39;00m dfs]\n\u001b[0;32m----> 7\u001b[0m     \u001b[38;5;28;01mreturn\u001b[39;00m \u001b[43mtorch\u001b[49m\u001b[38;5;241;43m.\u001b[39;49m\u001b[43mtensor\u001b[49m\u001b[43m(\u001b[49m\u001b[38;5;28;43mlist\u001b[39;49m\u001b[43m(\u001b[49m\u001b[38;5;28;43mzip\u001b[39;49m\u001b[43m(\u001b[49m\u001b[38;5;241;43m*\u001b[39;49m\u001b[43mdata\u001b[49m\u001b[43m)\u001b[49m\u001b[43m)\u001b[49m\u001b[43m)\u001b[49m\n",
      "\u001b[0;31mRuntimeError\u001b[0m: Could not infer dtype of NoneType"
     ]
    }
   ],
   "source": [
    "\n",
    "# Collect the first 50 entries from each DataFrame for each column\n",
    "dfs = [df1, df2, df3, df4, df5, df6, df7, df8]\n",
    "\n",
    "# Helper function to extract and stack ratings\n",
    "def prepare_data(dfs, column):\n",
    "    data = [df[column].head(50).tolist() for df in dfs]\n",
    "    return torch.tensor(list(zip(*data))) # shape: (50 items, 8 raters)\n",
    "\n",
    "# Prepare data\n",
    "extraction_tensor = prepare_data(dfs, 'feedback_extraction')\n",
    "detection_tensor = prepare_data(dfs, 'feedback_detection')\n",
    "\n",
    "# Determine number of classes (assuming all ratings are integers starting from 0 or 1)\n",
    "num_classes_extraction = len(set(extraction_tensor.flatten().tolist()))\n",
    "num_classes_detection = len(set(detection_tensor.flatten().tolist()))\n",
    "\n",
    "# Compute Fleiss' Kappa\n",
    "kappa_extraction = FleissKappa(num_classes=num_classes_extraction)\n",
    "kappa_detection = FleissKappa(num_classes=num_classes_detection)\n",
    "\n",
    "print(\"Fleiss' Kappa for feedback_extraction:\", kappa_extraction(extraction_tensor))\n",
    "print(\"Fleiss' Kappa for feedback_detection:\", kappa_detection(detection_tensor))\n"
   ]
  }
 ],
 "metadata": {
  "kernelspec": {
   "display_name": "data_cleanup",
   "language": "python",
   "name": "python3"
  },
  "language_info": {
   "codemirror_mode": {
    "name": "ipython",
    "version": 3
   },
   "file_extension": ".py",
   "mimetype": "text/x-python",
   "name": "python",
   "nbconvert_exporter": "python",
   "pygments_lexer": "ipython3",
   "version": "3.9.21"
  }
 },
 "nbformat": 4,
 "nbformat_minor": 5
}
