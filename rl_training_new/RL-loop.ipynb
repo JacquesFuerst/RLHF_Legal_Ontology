{
 "cells": [
  {
   "cell_type": "markdown",
   "metadata": {},
   "source": [
    "# RL Training"
   ]
  },
  {
   "cell_type": "code",
   "execution_count": 1,
   "metadata": {},
   "outputs": [
    {
     "name": "stdout",
     "output_type": "stream",
     "text": [
      "1,2\n",
      "2.7.1+cu126\n",
      "12.6\n",
      "90501\n",
      "True\n",
      "There are 2 GPU(s) available.\n",
      "CUDA is available. Using GPU: NVIDIA L40S\n"
     ]
    }
   ],
   "source": [
    "import torch\n",
    "import warnings\n",
    "warnings.filterwarnings('ignore')\n",
    "from datasets import Dataset, load_dataset\n",
    "from transformers import AutoTokenizer, AutoModelForSequenceClassification, AutoModelForCausalLM\n",
    "from trl import PPOConfig, create_reference_model, AutoModelForCausalLMWithValueHead\n",
    "from trl import GRPOTrainer, GRPOConfig\n",
    "from datasets import DatasetDict\n",
    "\n",
    "from peft import LoraConfig, get_peft_model, PeftModel, prepare_model_for_kbit_training\n",
    "\n",
    "import os\n",
    "from dotenv import load_dotenv\n",
    "from utils import CustomRewardFunction, LabelPreservingCollator, CustomRewardFunctionPPOTrainer\n",
    "from ppo_trainer_custom import CustomPPOTrainer\n",
    "import pandas as pd\n",
    "from accelerate import Accelerator\n",
    "\n",
    "from types import MethodType\n",
    "# import sys\n",
    "# import wandb\n",
    "\n",
    "# # Add the parent directory to the Python path\n",
    "# sys.path.append(os.path.abspath(os.path.join(os.path.dirname(__file__), '..')))\n",
    "\n",
    "# Load environment variables from .env file\n",
    "load_dotenv()\n",
    "\n",
    "# load the relevant devices available on the server\n",
    "os.environ[\"CUDA_VISIBLE_DEVICES\"] = os.getenv(\"AVAILABLE_DEVICES\")\n",
    "\n",
    "# Enable expandable CUDA segments\n",
    "os.environ[\"PYTORCH_CUDA_ALLOC_CONF\"] = \"expandable_segments:True\"\n",
    "\n",
    "print(os.environ[\"CUDA_VISIBLE_DEVICES\"])\n",
    "\n",
    "# import torch\n",
    "print(torch.__version__)\n",
    "print(torch.version.cuda)\n",
    "print(torch.backends.cudnn.version())\n",
    "print(torch.cuda.is_available())\n",
    "\n",
    "# load cuda\n",
    "if torch.cuda.is_available():\n",
    "    device = torch.device(\"cuda\")\n",
    "    print('There are %d GPU(s) available.' % torch.cuda.device_count())\n",
    "    print(\"CUDA is available. Using GPU:\", torch.cuda.get_device_name(0))\n",
    "else:\n",
    "    device = torch.device(\"cpu\")\n",
    "    print(\"CUDA is not available. Using CPU.\")\n",
    "\n",
    "# device = torch.device(\"cpu\")\n",
    "accelerator = Accelerator()"
   ]
  },
  {
   "cell_type": "code",
   "execution_count": 2,
   "metadata": {},
   "outputs": [],
   "source": [
    "MODEL = os.getenv(\"GENERATION_MODEL_NAME\")\n",
    "ALGORITHM = os.getenv(\"RL_ALGORITHM\")\n",
    "REWARD_MODEL = os.getenv(\"REWARD_MODEL_NAME\")\n",
    "REWARD_MODEL_EXTRACTION_LORA = os.getenv(\"REWARD_MODEL_EXTRACTION_LORA\")\n",
    "REWARD_MODEL_DETECTION_LORA = os.getenv(\"REWARD_MODEL_DETECTION_LORA\")\n",
    "RL_TOKENIZATION = \"best_window\"\n",
    "MAX_LENGTH = int(os.getenv(\"RL_MAX_LENGTH\"))\n",
    "STRIDE = int(os.getenv(\"RL_STRIDE\"))\n",
    "PROMPT_DATASET = os.getenv(\"PROMPT_DATASET_CSV\")\n",
    "DETECTION_DIFFERENCE = int(os.getenv(\"DETECTION_DIFFERENCE\"))\n",
    "WEIGHT_EXTRACTION = float(os.getenv(\"WEIGHT_EXTRACTION\"))\n",
    "WEIGHT_DETECTION = float(os.getenv(\"WEIGHT_DETECTION\"))\n",
    "RL_TRAINING_FILES = os.getenv(\"RL_TRAINING_FILES\") + \"_\" + ALGORITHM"
   ]
  },
  {
   "cell_type": "markdown",
   "metadata": {},
   "source": [
    "## Load prompt dataset"
   ]
  },
  {
   "cell_type": "code",
   "execution_count": 3,
   "metadata": {},
   "outputs": [],
   "source": [
    "prompt_df = pd.read_csv(PROMPT_DATASET, sep=\";\")\n",
    "dataset = Dataset.from_pandas(prompt_df)\n",
    "\n",
    "#TODO: test whether everything is well-separated\n",
    "train_test_split = dataset.train_test_split(test_size=0.3, seed=42)\n",
    "eval_test_split = train_test_split[\"test\"].train_test_split(test_size=0.5, seed=42)\n",
    "\n",
    "\n",
    "final_splits = DatasetDict({\n",
    "    'train': train_test_split['train'],\n",
    "    'validation': eval_test_split['train'],\n",
    "    'test': eval_test_split['test']\n",
    "})"
   ]
  },
  {
   "cell_type": "code",
   "execution_count": 4,
   "metadata": {},
   "outputs": [
    {
     "name": "stdout",
     "output_type": "stream",
     "text": [
      "Index(['prompt', 'precondition_texts', 'precondition_positions'], dtype='object')\n",
      "26\n",
      "['prompt', 'precondition_texts', 'precondition_positions']\n"
     ]
    }
   ],
   "source": [
    "print(prompt_df.columns)\n",
    "print(len(prompt_df))\n",
    "print(dataset.column_names)"
   ]
  },
  {
   "cell_type": "code",
   "execution_count": 5,
   "metadata": {},
   "outputs": [],
   "source": [
    "#TODO: do train test eval split"
   ]
  },
  {
   "cell_type": "markdown",
   "metadata": {},
   "source": [
    "## Load the model"
   ]
  },
  {
   "cell_type": "markdown",
   "metadata": {},
   "source": [
    "### Dataset columns\n",
    "\n",
    "1. prompt\n",
    "2. precondition_text_dict --> key: id, value: text \n",
    "3. precondition_position_dict --> key: id, value: position\n",
    "\n",
    "Think about whether any other components are needed...\n",
    "Need to iterate through all preconditions to get reward, or return several rewards per response and finetune model on each one --> iteration should be good enough, just need to define reward function properly for this..."
   ]
  },
  {
   "cell_type": "code",
   "execution_count": 6,
   "metadata": {},
   "outputs": [
    {
     "name": "stderr",
     "output_type": "stream",
     "text": [
      "Loading checkpoint shards: 100%|██████████| 3/3 [00:11<00:00,  3.86s/it]\n"
     ]
    },
    {
     "name": "stdout",
     "output_type": "stream",
     "text": [
      "tokenizer ma length: 1000000000000000019884624838656\n"
     ]
    },
    {
     "name": "stderr",
     "output_type": "stream",
     "text": [
      "Some weights of BertForSequenceClassification were not initialized from the model checkpoint at nlpaueb/legal-bert-base-uncased and are newly initialized: ['classifier.bias', 'classifier.weight']\n",
      "You should probably TRAIN this model on a down-stream task to be able to use it for predictions and inference.\n"
     ]
    }
   ],
   "source": [
    "# Load base model and tokenizer\n",
    "base_model = AutoModelForCausalLM.from_pretrained(MODEL,  \n",
    "                                             device_map={\"\": accelerator.process_index},  # For GPU/TPU acceleration\n",
    "                                             torch_dtype=torch.bfloat16,\n",
    "                                            #  load_in_4bit=True,\n",
    "                                             quantization_config={\n",
    "                                                \"load_in_4bit\": True,\n",
    "                                                \"bnb_4bit_compute_dtype\": torch.bfloat16,\n",
    "                                                \"bnb_4bit_use_double_quant\": True,\n",
    "                                                \"bnb_4bit_quant_type\": \"nf4\"\n",
    "                                                }\n",
    "                                            )   # Optimize precision)\n",
    "\n",
    "\n",
    "tokenizer = AutoTokenizer.from_pretrained(MODEL, truncation=False, padding=False)\n",
    "tokenizer.pad_token = tokenizer.eos_token\n",
    "\n",
    "qlora_config = LoraConfig(\n",
    "    r=64,\n",
    "    lora_alpha=16,\n",
    "    target_modules=[\"q_proj\", \"v_proj\"],  # depends on the model architecture\n",
    "    lora_dropout=0.05,\n",
    "    bias=\"none\",\n",
    "    task_type=\"CAUSAL_LM\"\n",
    ")\n",
    "\n",
    "base_model.gradient_checkpointing_enable()\n",
    "\n",
    "# Prepare for QLoRA fine-tuning\n",
    "base_model = prepare_model_for_kbit_training(base_model)\n",
    "\n",
    "# Apply QLoRA\n",
    "policy_model = get_peft_model(base_model, qlora_config)\n",
    "\n",
    "\n",
    "\n",
    "# device = model.device\n",
    "\n",
    "\n",
    "\n",
    "print(f\"tokenizer ma length: {tokenizer.model_max_length}\")\n",
    "\n",
    "# Load reward model feedback extraction\n",
    "reward_model = AutoModelForSequenceClassification.from_pretrained(REWARD_MODEL, num_labels=1)\n",
    "reward_tokenizer = AutoTokenizer.from_pretrained(REWARD_MODEL)\n",
    "\n",
    "extraction_model = PeftModel.from_pretrained(reward_model, REWARD_MODEL_EXTRACTION_LORA).to(device)\n",
    "# extraction_model = extraction_model.merge_and_unload()\n",
    "\n",
    "detection_model = PeftModel.from_pretrained(reward_model, REWARD_MODEL_DETECTION_LORA).to(device)\n",
    "# detection_model = detection_model.merge_and_unload()\n",
    "\n",
    "\n",
    "# Create the custom reward function\n",
    "reward_function = CustomRewardFunction(extraction_model, detection_model, reward_tokenizer, MAX_LENGTH, STRIDE, RL_TOKENIZATION, device, weight_extraction=WEIGHT_EXTRACTION, weight_detection=WEIGHT_DETECTION, detection_difference=DETECTION_DIFFERENCE)"
   ]
  },
  {
   "cell_type": "markdown",
   "metadata": {},
   "source": [
    "## LoRA config and wnadb init"
   ]
  },
  {
   "cell_type": "code",
   "execution_count": 7,
   "metadata": {},
   "outputs": [],
   "source": [
    "lora_config = LoraConfig(\n",
    "    r=8,\n",
    "    lora_alpha=16,\n",
    "    lora_dropout=0.1,\n",
    "    bias=\"none\",\n",
    "    task_type='CAUSAL_LM',  \n",
    ")\n",
    "\n",
    "# wandb.init(project=\"RL-preconditions\", name=\"grpo-run-test\")"
   ]
  },
  {
   "cell_type": "markdown",
   "metadata": {},
   "source": [
    "# GRPO Training Setup"
   ]
  },
  {
   "cell_type": "code",
   "execution_count": 8,
   "metadata": {},
   "outputs": [],
   "source": [
    "if ALGORITHM == \"GRPO\":\n",
    "\n",
    "    training_args = GRPOConfig(\n",
    "        output_dir=RL_TRAINING_FILES, \n",
    "        logging_steps=1, \n",
    "        gradient_checkpointing=True,\n",
    "        learning_rate=1e-5,\n",
    "        num_train_epochs=10,\n",
    "        weight_decay=0.01,\n",
    "        warmup_steps=5, # TODO:check if this makes any sense at all\n",
    "        logging_dir=\"logs\",\n",
    "        # save_steps=1,\n",
    "        # save_total_limit=2,\n",
    "        eval_strategy=\"epoch\",\n",
    "        save_strategy=\"epoch\",\n",
    "        # eval_steps=1,\n",
    "        # batch_size=2,\n",
    "        load_best_model_at_end=True,\n",
    "        metric_for_best_model=\"eval_loss\",\n",
    "        gradient_accumulation_steps=3, #TODO: think about whether this is truly necessary\n",
    "        report_to=\"wandb\",\n",
    "        )\n",
    "\n",
    "    # Initialize GRPO trainer\n",
    "    trainer = GRPOTrainer(\n",
    "        model=policy_model,\n",
    "        reward_funcs=reward_function,\n",
    "        train_dataset=final_splits['train'],\n",
    "        eval_dataset=final_splits['validation'],\n",
    "        args=training_args,\n",
    "        # **grpo_config\n",
    "        peft_config=lora_config\n",
    "    )\n",
    "\n",
    "#TODO: maybe get a learning rate scheduler for this...\n",
    "\n"
   ]
  },
  {
   "cell_type": "markdown",
   "metadata": {},
   "source": [
    "## Code from Huggingface TRL"
   ]
  },
  {
   "cell_type": "markdown",
   "metadata": {},
   "source": [
    "## Notes:\n",
    "\n",
    "1. Do not use SLURM since I am in a single-node multi GPU setting and SLURM would work with scheduled training on a multi node cluster... --> use accelerate instead\n",
    "\n",
    "2. install transformers accelerate deepspeed trl\n",
    "\n",
    "3. DAPO paper for some hyperparameter settings, DeepSeekMath paper for hyperparametersettings is good as well"
   ]
  },
  {
   "cell_type": "markdown",
   "metadata": {},
   "source": [
    "# PPO Training Setup"
   ]
  },
  {
   "cell_type": "code",
   "execution_count": 9,
   "metadata": {},
   "outputs": [
    {
     "name": "stdout",
     "output_type": "stream",
     "text": [
      "cuda\n"
     ]
    }
   ],
   "source": [
    "# #TODO: initialize proper weights here\n",
    "print(device)\n",
    "# device = torch.device(\"cpu\")"
   ]
  },
  {
   "cell_type": "code",
   "execution_count": 10,
   "metadata": {},
   "outputs": [
    {
     "name": "stderr",
     "output_type": "stream",
     "text": [
      "Map:   0%|          | 0/26 [00:00<?, ? examples/s]"
     ]
    },
    {
     "name": "stderr",
     "output_type": "stream",
     "text": [
      "Map: 100%|██████████| 26/26 [00:00<00:00, 381.25 examples/s]\n",
      "Map: 100%|██████████| 26/26 [00:00<00:00, 4473.74 examples/s]"
     ]
    },
    {
     "name": "stdout",
     "output_type": "stream",
     "text": [
      "dict_keys(['input_ids', 'attention_mask', 'additional_entries'])\n"
     ]
    },
    {
     "name": "stderr",
     "output_type": "stream",
     "text": [
      "\n"
     ]
    }
   ],
   "source": [
    "#TODO: Prepare dataset here\n",
    "# Need to tokenize to use for PPO\n",
    "\n",
    "def tokenize_and_keep_original(example):\n",
    "    # Tokenize the \"text\" column\n",
    "    tokenized = tokenizer(example[\"prompt\"], truncation=False, padding=False, max_length=2000)\n",
    "    # Keep the original text\n",
    "    # tokenized[\"original_text\"] = example[\"prompt\"]\n",
    "    return tokenized\n",
    "\n",
    "# Apply the function to the dataset\n",
    "tokenized_dataset = dataset.map(tokenize_and_keep_original, batched=True)\n",
    "\n",
    "# Create label column for this to be handled properly in PPO Trainer\n",
    "def create_label(example):\n",
    "    return {\"additional_entries\": (example[\"prompt\"], example[\"precondition_texts\"], example[\"precondition_positions\"])}\n",
    "\n",
    "tokenized_dataset = tokenized_dataset.map(create_label)\n",
    "tokenized_dataset = tokenized_dataset.remove_columns([\"prompt\", \"precondition_texts\", \"precondition_positions\"])\n",
    "print(tokenized_dataset[0].keys())\n",
    "# print(tokenized_dataset[0][\"prompt\"])\n",
    "\n",
    "#TODO: do train test split on this\n",
    "\n",
    "#TODO: test whether everything is well-separated\n",
    "train_test_split_PPO = tokenized_dataset.train_test_split(test_size=0.3, seed=42)\n",
    "eval_test_split_PPO = train_test_split_PPO[\"test\"].train_test_split(test_size=0.5, seed=42)\n",
    "\n",
    "\n",
    "final_splits_PPO = DatasetDict({\n",
    "    'train': train_test_split_PPO['train'],\n",
    "    'validation': eval_test_split_PPO['train'],\n",
    "    'test': eval_test_split_PPO['test']\n",
    "})\n",
    "\n",
    "# use own data collator that does not pad label column\n",
    "data_collator = LabelPreservingCollator(tokenizer)"
   ]
  },
  {
   "cell_type": "markdown",
   "metadata": {},
   "source": [
    "### Value model and ref_model"
   ]
  },
  {
   "cell_type": "code",
   "execution_count": 11,
   "metadata": {},
   "outputs": [],
   "source": [
    "if ALGORITHM == \"PPO\":\n",
    "    #TODO: use create reference model function here instead...\n",
    "\n",
    "    ref_model = create_reference_model(policy_model)\n",
    "    # ref_model.to(model.device)\n",
    "    # load the value model with same peft setup as the policy model\n",
    "    \n",
    "    # can add value head to policy model here\n",
    "    policy_model = AutoModelForCausalLMWithValueHead.from_pretrained(policy_model, \n",
    "                                                                    peft_config=qlora_config, \n",
    "                                                                    device_map={\"\": accelerator.process_index},  # For GPU/TPU acceleration\n",
    "                                                                    )\n",
    "    policy_model.base_model_prefix = \"pretrained_model\"\n",
    "\n",
    "    def score(self, hidden_states):\n",
    "        return self.v_head(hidden_states).squeeze(-1)\n",
    "\n",
    "    policy_model.score = MethodType(score, policy_model)\n",
    "\n",
    "    #TODO: use accelerator.process_index here maybe\n",
    "\n",
    "    reward_function_PPO = CustomRewardFunctionPPOTrainer(extraction_model, \n",
    "                                                         detection_model, \n",
    "                                                         reward_tokenizer, \n",
    "                                                         MAX_LENGTH, \n",
    "                                                         STRIDE, \n",
    "                                                         RL_TOKENIZATION, \n",
    "                                                         device, \n",
    "                                                         weight_extraction=WEIGHT_EXTRACTION, \n",
    "                                                         weight_detection=WEIGHT_DETECTION, \n",
    "                                                         detection_difference=DETECTION_DIFFERENCE)\n"
   ]
  },
  {
   "cell_type": "code",
   "execution_count": null,
   "metadata": {},
   "outputs": [],
   "source": [
    "if ALGORITHM == \"PPO\":\n",
    "\n",
    "    \n",
    "\n",
    "    training_args_PPO = PPOConfig(\n",
    "        output_dir=RL_TRAINING_FILES, \n",
    "        logging_steps=10, \n",
    "        gradient_checkpointing=True,\n",
    "        learning_rate=1e-5,\n",
    "        num_train_epochs=3,\n",
    "        weight_decay=0.01,\n",
    "        warmup_steps=100,\n",
    "        logging_dir=\"logs\",\n",
    "        save_steps=1000,\n",
    "        save_total_limit=2,\n",
    "        eval_strategy=\"steps\",\n",
    "        eval_steps=100,\n",
    "        load_best_model_at_end=True,\n",
    "        metric_for_best_model=\"eval_loss\",\n",
    "        report_to=\"wandb\",\n",
    "        response_length=3200,\n",
    "        # local_rollout_forward_batch_size=2000,\n",
    "        # per_device_train_batch_size=128,\n",
    "        # local_mini_batch_size=2000,\n",
    "        # response_length=1000,\n",
    "        )\n",
    "\n",
    "    # Initialize GRPO trainer\n",
    "    trainer = CustomPPOTrainer(\n",
    "        model=policy_model,\n",
    "        reward_func=reward_function_PPO,\n",
    "        # collator_max_length=2000,\n",
    "        train_dataset=final_splits_PPO['train'],\n",
    "        eval_dataset=final_splits_PPO['validation'],\n",
    "        args=training_args_PPO,\n",
    "        ref_model=ref_model,\n",
    "        value_model=policy_model,\n",
    "        # **grpo_config\n",
    "        peft_config=lora_config,\n",
    "        processing_class=tokenizer,\n",
    "        data_collator=data_collator\n",
    "    )"
   ]
  },
  {
   "cell_type": "markdown",
   "metadata": {},
   "source": [
    "Ideas to replace reward model with actual reward function:\n",
    "\n",
    "1. Get stub reward model but make sure it is not used anywhere\n",
    "2. overwrite get_reward function"
   ]
  },
  {
   "cell_type": "markdown",
   "metadata": {},
   "source": [
    "# Training and Evaluation"
   ]
  },
  {
   "cell_type": "code",
   "execution_count": 13,
   "metadata": {},
   "outputs": [],
   "source": [
    "#TODO: add metrics to evaluate training like reward, KL divergence (how much does finetuned model differ from original one), entropy of the policy (exploration versus exploitation), sampling outputs, "
   ]
  },
  {
   "cell_type": "code",
   "execution_count": 14,
   "metadata": {},
   "outputs": [
    {
     "name": "stdout",
     "output_type": "stream",
     "text": [
      "===training policy===\n"
     ]
    },
    {
     "name": "stderr",
     "output_type": "stream",
     "text": [
      "\u001b[34m\u001b[1mwandb\u001b[0m: Currently logged in as: \u001b[33mjacques-furst123\u001b[0m (\u001b[33mjacques-furst123-none\u001b[0m) to \u001b[32mhttps://api.wandb.ai\u001b[0m. Use \u001b[1m`wandb login --relogin`\u001b[0m to force relogin\n"
     ]
    },
    {
     "data": {
      "text/html": [
       "Tracking run with wandb version 0.20.1"
      ],
      "text/plain": [
       "<IPython.core.display.HTML object>"
      ]
     },
     "metadata": {},
     "output_type": "display_data"
    },
    {
     "data": {
      "text/html": [
       "Run data is saved locally in <code>/home/jacques.furst/development/RAG/flintfiller-precondition-rl/rl_training_new/wandb/run-20250616_135346-o33ji28a</code>"
      ],
      "text/plain": [
       "<IPython.core.display.HTML object>"
      ]
     },
     "metadata": {},
     "output_type": "display_data"
    },
    {
     "data": {
      "text/html": [
       "Syncing run <strong><a href='https://wandb.ai/jacques-furst123-none/huggingface/runs/o33ji28a' target=\"_blank\">ppo_config__42__1750074825</a></strong> to <a href='https://wandb.ai/jacques-furst123-none/huggingface' target=\"_blank\">Weights & Biases</a> (<a href='https://wandb.me/developer-guide' target=\"_blank\">docs</a>)<br>"
      ],
      "text/plain": [
       "<IPython.core.display.HTML object>"
      ]
     },
     "metadata": {},
     "output_type": "display_data"
    },
    {
     "data": {
      "text/html": [
       " View project at <a href='https://wandb.ai/jacques-furst123-none/huggingface' target=\"_blank\">https://wandb.ai/jacques-furst123-none/huggingface</a>"
      ],
      "text/plain": [
       "<IPython.core.display.HTML object>"
      ]
     },
     "metadata": {},
     "output_type": "display_data"
    },
    {
     "data": {
      "text/html": [
       " View run at <a href='https://wandb.ai/jacques-furst123-none/huggingface/runs/o33ji28a' target=\"_blank\">https://wandb.ai/jacques-furst123-none/huggingface/runs/o33ji28a</a>"
      ],
      "text/plain": [
       "<IPython.core.display.HTML object>"
      ]
     },
     "metadata": {},
     "output_type": "display_data"
    },
    {
     "name": "stderr",
     "output_type": "stream",
     "text": [
      "`use_cache=True` is incompatible with gradient checkpointing. Setting `use_cache=False`.\n"
     ]
    },
    {
     "name": "stdout",
     "output_type": "stream",
     "text": [
      "Query as passed into reward model: ['\\n\\n\\n                --- Definitie ---\\n\\n                Preconditie: Een preconditie beschrijft de omstandigheden waaronder de handeling wettelijk kan worden uitgevoerd.\\n                Act: Een act kan worden uitgevoerd door een agent binnen het normatieve systeem dat wordt gedefinieerd door het juridische document.\\n                Fact: Fact frames beschrijven zaken waarvan de aanwezigheid of waarheidswaarde de toestand van het normatieve systeem kenmerkt. \\n\\n                \\n\\n                \\n\\n                                --- Gedachteketen ---\\n\\n                                1. Zoek alle vermeldingen van de fact in de tekst.\\n                                2. Zoek in de artikelen waarin de fact wordt genoemd naar specifieke subfacts voor de fact. \\n                                3. Zoek ook naar specifieke verwijzingen naar andere artikelen waarin mogelijk andere subfacts voor de fact worden genoemd.\\n                                4. Extraheer de subfacts en hun positie in de tekst.\\n\\n                                \\n\\n                \\n\\n                                --- Aantal Subfacts ---\\n                                \\n                                Het aantal subfacts dat je moet vinden is: 3.\\n                                \\n                \\n                --- Opdracht ---\\n\\n                Gebruik de volgende context: \\n Comptabiliteitswet 2016  \\n  \\n  \\n  \\n  \\n  \\nHoofdstuk 2. De begroting en verantwoording van het Rijk  \\n  \\n§ 1. Rijksbegroting  \\n  \\nArtikel 2.1. Samenstelling en inhoud van de rijksbegroting  \\n1. Tot de rijksbegroting behoren de departementale en de niet-departementale begrotingen van de \\nministeries en de colleges.  \\n2. Onze Ministers, ieder met betrekking tot het beleid waarvoor hij verantwoordelijk is, stellen voor de \\naanvang van een begrotingsjaar een begroting op.  \\n3. Voor elk ministerie is er één departementale begroting en kunnen er één of meer niet-departementale \\nbegrotingen zijn.  \\n4. Voor elk college is er een niet-departementale begroting.  \\n5. Als niet-departementale begroting worden voorts uitsluitend aangemerkt:  \\na. de begroting van de Koning, bedoeld in artikel 2.9, en de begroting van Nationale Schuld, bedoeld in \\nartikel 2.10;  \\nb. de begroting van koninkrijksrelaties, tenzij de uitgaven en ontvangsten die samenhangen met \\nkoninkrijksrelaties worden opgenomen in de betrokken departementale begroting;  \\nc. de begrotingen van de begrotingsfondsen, bedoeld in artikel 2.11, eerste lid;  \\nd. de programmabegrotingen, bedoeld in artikel 2.12, eerste lid.  \\n6. Een departementale begroting bevat de weergave van het beleid en de bedrijfsvoering van het \\nministerie, met uitzondering van de beleidsaangelegenheden die worden opgenomen in een begroting als\\nbedoeld in het vijfde lid.  \\n7. De niet-departementale begroting van een college bevat de weergave van de taken en van de \\nbedrijfsvoering van het college.  \\n8. Een programmabegroting, onderscheidenlijk een begroting van een begrotingsfonds, bevat de \\nweergave van het afgezonderde beheer, bedoeld in artikel 2.12, eerste lid, respectievelijk artikel 2.11, \\neerste lid. Een programmabegroting, onderscheidenlijk een begroting van een begrotingsfonds, bevat \\ngeen weergave van de bedrijfsvoering die met dat afgezonderde beheer samenhangt.  \\n§ 2. Inrichting van de begroting  \\n  \\n  \\nArtikel 2.2. Presentatie van een begroting  \\n  \\nEen begroting bestaat uit een begrotingsstaat en een daarbij behorende toelichting.  \\n  \\n  \\nArtikel 2.5. Begrotingsstaat  \\n  \\nDe begrotingsstaat bestaat uit begrotingsartikelen en bevat per begrotingsartikel de volgende gegevens:  \\na. het artikelnummer;  \\nb. de artikelomschrijving;  \\nc. het geraamde bedrag voor financiële verplichtingen;  \\nd. het geraamde bedrag voor kasuitgaven;  \\ne. het geraamde bedrag voor kasontvangsten.  \\n  \\n  \\nArtikel 2.23. Indienen van de rijksbegroting  \\n  \\n1. Wij dienen de voorstellen van wet tot vaststelling van de begrotingsstaten op de derde dinsdag van \\nseptember van het jaar voorafgaande aan het begrotingsjaar bij de Tweede Kamer der Staten-Generaal \\nin.  \\n2. In afwijking van het eerste lid kunnen Wij Onze Minister van Financiën machtigen de voorstellen van \\nwet tot vaststelling van de begrotingsstaten bij de Tweede Kamer der Staten-Generaal in te dienen.  \\n3. Onze Minister van Financiën biedt op de dag van de indiening van de voorstellen van wet tot \\nvaststelling van de begrotingsstaten de Miljoenennota aan de Staten-Generaal aan.  \\n4. De Miljoenennota bevat in elk geval:  \\na. het budgettaire totaalbeeld voor het betrokken begrotingsjaar en de vier daaropvolgende jaren van de \\nrijksbegroting en de niet tot de rijksbegroting behorende budgetdisciplinesectoren;  \\nb. de budgettaire beschouwingen over het voorgenomen beleid voor de collectieve sector;  \\nc. een overzicht van de uitgaven en de ontvangsten in de begrotingen voor het begrotingsjaar en de vier \\ndaarop aansluitende jaren.  \\n  \\n  \\n  \\nHoofdstuk 4. Begrotingsbeheer en financieel beheer: verantwoordelijkheden  \\n  \\n§ 1. Beleid en bedrijfsvoering door Onze Ministers  \\n  \\n  \\nArtikel 4.3. Beheer niet-departementale begrotingen  \\n  \\n1. Onze Minister van Algemene Zaken is verantwoordelijk voor het beheer van de begroting van de \\nKoning.  \\n2. Onze Minister van Binnenlandse Zaken en Koninkrijksrelaties is verantwoordelijk voor het beheer van \\nde begroting van koninkrijksrelaties.  \\n3. Onze Minister van Financiën is verantwoordelijk voor het beheer van de begroting van Nationale \\nSchuld.  \\n§ 2. Beheer door colleges  \\n  \\nArtikel 4.4. Beheer begrotingen colleges  \\n  \\n1. Onze Minister van Algemene Zaken is verantwoordelijk voor het beheer van de begrotingen van het \\nKabinet van de Koning en de Commissie van toezicht betreffende de inlichtingen- en veiligheidsdiensten.  \\n2. Onze Minister van Binnenlandse Zaken en Koninkrijksrelaties is verantwoordelijk voor het beheer van \\nde begrotingen van de Staten-Generaal, de Raad van State, de Algemene Rekenkamer, de Nationale \\nombudsman, de Kanselarij der Nederlandse Orden, het Kabinet van de Gouverneur van Aruba, het \\nKabinet van de Gouverneur van Curaçao, het Kabinet van de Gouverneur van Sint Maarten en de \\nKiesraad.  \\n3. De colleges zijn belast met het begrotingsbeheer, het financieel beheer, de materiële bedrijfsvoering en\\nde daartoe gevoerde administraties.  \\n4. Onze Ministers die het aangaan maken met de colleges over het beheer van hun begrotingen \\nafspraken, waarin recht wordt gedaan aan de staatsrechtelijke positie van de colleges.  \\n  \\n  \\n  \\n  \\nRijksbegrotingsvoorschriften 2024  \\n  \\nDe begrotingsstaat  \\n  \\nArtikelen 2.1, eerste lid, derde tot en met achtste lid, 2.2, 2.5 en 2.11 van de Comptabiliteitswet 2016  \\n  \\nBepalingen  \\n  \\nDe begrotingsstaat behorende bij een departementale begroting inclusief de begrotingsstaat van de \\nagentschappen wordt ingericht conform model 1.20.  \\nDe begrotingsstaat behorend bij een departementale begroting, inclusief de begrotingsstaat van de \\nagentschappen en van de begrotingsfondsen wordt conform model 1.24 ingericht.  \\nDe begrotingsstaat behorende bij de begroting van een niet-departementale begroting eventueel inclusief \\nde agentschappen wordt volgens model 1.21 of model 1.22 opgesteld.  \\nDe begrotingsstaat behorende bij een begrotingsfonds wordt ingericht volgens model 1.23.  \\n  \\n \\n \\n \\n                \\n                Query: Vind alle aubfacts voor de volgende fact in de tekst: Indiener. Toon voor elke subfact de inhoud en de positie ervan in de wetstekst en de naam van de wet/ wettelijke tekst waar de subfact staat. \\n \\n\\n\\n                --- Antwoord ---\\n\\n                Geef het antwoord in het volgende formaat, voor iedere subfact die je kan vinden: \\n \\n\\n                Subfact: <subfact> \\n \\n\\n                Positie: Artikel <artikelnummer>, sectie <sectienummer> IN <wetstekst> \\n \\n\\n                ', '\\n\\n\\n                --- Definitie ---\\n\\n                Preconditie: Een preconditie beschrijft de omstandigheden waaronder de handeling wettelijk kan worden uitgevoerd.\\n                Act: Een act kan worden uitgevoerd door een agent binnen het normatieve systeem dat wordt gedefinieerd door het juridische document.\\n                Fact: Fact frames beschrijven zaken waarvan de aanwezigheid of waarheidswaarde de toestand van het normatieve systeem kenmerkt. \\n\\n                \\n\\n                \\n\\n                                --- Gedachteketen ---\\n\\n                                1. Zoek alle vermeldingen van de fact in de tekst.\\n                                2. Zoek in de artikelen waarin de fact wordt genoemd naar specifieke subfacts voor de fact. \\n                                3. Zoek ook naar specifieke verwijzingen naar andere artikelen waarin mogelijk andere subfacts voor de fact worden genoemd.\\n                                4. Extraheer de subfacts en hun positie in de tekst.\\n\\n                                \\n\\n                \\n\\n                                --- Aantal Subfacts ---\\n                                \\n                                Het aantal subfacts dat je moet vinden is: 3.\\n                                \\n                \\n                --- Opdracht ---\\n\\n                Gebruik de volgende context: \\n Comptabiliteitswet 2016  \\n  \\n  \\n  \\n  \\n  \\nHoofdstuk 2. De begroting en verantwoording van het Rijk  \\n  \\n§ 1. Rijksbegroting  \\n  \\nArtikel 2.1. Samenstelling en inhoud van de rijksbegroting  \\n1. Tot de rijksbegroting behoren de departementale en de niet-departementale begrotingen van de \\nministeries en de colleges.  \\n2. Onze Ministers, ieder met betrekking tot het beleid waarvoor hij verantwoordelijk is, stellen voor de \\naanvang van een begrotingsjaar een begroting op.  \\n3. Voor elk ministerie is er één departementale begroting en kunnen er één of meer niet-departementale \\nbegrotingen zijn.  \\n4. Voor elk college is er een niet-departementale begroting.  \\n5. Als niet-departementale begroting worden voorts uitsluitend aangemerkt:  \\na. de begroting van de Koning, bedoeld in artikel 2.9, en de begroting van Nationale Schuld, bedoeld in \\nartikel 2.10;  \\nb. de begroting van koninkrijksrelaties, tenzij de uitgaven en ontvangsten die samenhangen met \\nkoninkrijksrelaties worden opgenomen in de betrokken departementale begroting;  \\nc. de begrotingen van de begrotingsfondsen, bedoeld in artikel 2.11, eerste lid;  \\nd. de programmabegrotingen, bedoeld in artikel 2.12, eerste lid.  \\n6. Een departementale begroting bevat de weergave van het beleid en de bedrijfsvoering van het \\nministerie, met uitzondering van de beleidsaangelegenheden die worden opgenomen in een begroting als\\nbedoeld in het vijfde lid.  \\n7. De niet-departementale begroting van een college bevat de weergave van de taken en van de \\nbedrijfsvoering van het college.  \\n8. Een programmabegroting, onderscheidenlijk een begroting van een begrotingsfonds, bevat de \\nweergave van het afgezonderde beheer, bedoeld in artikel 2.12, eerste lid, respectievelijk artikel 2.11, \\neerste lid. Een programmabegroting, onderscheidenlijk een begroting van een begrotingsfonds, bevat \\ngeen weergave van de bedrijfsvoering die met dat afgezonderde beheer samenhangt.  \\n§ 2. Inrichting van de begroting  \\n  \\n  \\nArtikel 2.2. Presentatie van een begroting  \\n  \\nEen begroting bestaat uit een begrotingsstaat en een daarbij behorende toelichting.  \\n  \\n  \\nArtikel 2.5. Begrotingsstaat  \\n  \\nDe begrotingsstaat bestaat uit begrotingsartikelen en bevat per begrotingsartikel de volgende gegevens:  \\na. het artikelnummer;  \\nb. de artikelomschrijving;  \\nc. het geraamde bedrag voor financiële verplichtingen;  \\nd. het geraamde bedrag voor kasuitgaven;  \\ne. het geraamde bedrag voor kasontvangsten.  \\n  \\n  \\nArtikel 2.23. Indienen van de rijksbegroting  \\n  \\n1. Wij dienen de voorstellen van wet tot vaststelling van de begrotingsstaten op de derde dinsdag van \\nseptember van het jaar voorafgaande aan het begrotingsjaar bij de Tweede Kamer der Staten-Generaal \\nin.  \\n2. In afwijking van het eerste lid kunnen Wij Onze Minister van Financiën machtigen de voorstellen van \\nwet tot vaststelling van de begrotingsstaten bij de Tweede Kamer der Staten-Generaal in te dienen.  \\n3. Onze Minister van Financiën biedt op de dag van de indiening van de voorstellen van wet tot \\nvaststelling van de begrotingsstaten de Miljoenennota aan de Staten-Generaal aan.  \\n4. De Miljoenennota bevat in elk geval:  \\na. het budgettaire totaalbeeld voor het betrokken begrotingsjaar en de vier daaropvolgende jaren van de \\nrijksbegroting en de niet tot de rijksbegroting behorende budgetdisciplinesectoren;  \\nb. de budgettaire beschouwingen over het voorgenomen beleid voor de collectieve sector;  \\nc. een overzicht van de uitgaven en de ontvangsten in de begrotingen voor het begrotingsjaar en de vier \\ndaarop aansluitende jaren.  \\n  \\n  \\n  \\nHoofdstuk 4. Begrotingsbeheer en financieel beheer: verantwoordelijkheden  \\n  \\n§ 1. Beleid en bedrijfsvoering door Onze Ministers  \\n  \\n  \\nArtikel 4.3. Beheer niet-departementale begrotingen  \\n  \\n1. Onze Minister van Algemene Zaken is verantwoordelijk voor het beheer van de begroting van de \\nKoning.  \\n2. Onze Minister van Binnenlandse Zaken en Koninkrijksrelaties is verantwoordelijk voor het beheer van \\nde begroting van koninkrijksrelaties.  \\n3. Onze Minister van Financiën is verantwoordelijk voor het beheer van de begroting van Nationale \\nSchuld.  \\n§ 2. Beheer door colleges  \\n  \\nArtikel 4.4. Beheer begrotingen colleges  \\n  \\n1. Onze Minister van Algemene Zaken is verantwoordelijk voor het beheer van de begrotingen van het \\nKabinet van de Koning en de Commissie van toezicht betreffende de inlichtingen- en veiligheidsdiensten.  \\n2. Onze Minister van Binnenlandse Zaken en Koninkrijksrelaties is verantwoordelijk voor het beheer van \\nde begrotingen van de Staten-Generaal, de Raad van State, de Algemene Rekenkamer, de Nationale \\nombudsman, de Kanselarij der Nederlandse Orden, het Kabinet van de Gouverneur van Aruba, het \\nKabinet van de Gouverneur van Curaçao, het Kabinet van de Gouverneur van Sint Maarten en de \\nKiesraad.  \\n3. De colleges zijn belast met het begrotingsbeheer, het financieel beheer, de materiële bedrijfsvoering en\\nde daartoe gevoerde administraties.  \\n4. Onze Ministers die het aangaan maken met de colleges over het beheer van hun begrotingen \\nafspraken, waarin recht wordt gedaan aan de staatsrechtelijke positie van de colleges.  \\n  \\n  \\n  \\n  \\nRijksbegrotingsvoorschriften 2024  \\n  \\nDe begrotingsstaat  \\n  \\nArtikelen 2.1, eerste lid, derde tot en met achtste lid, 2.2, 2.5 en 2.11 van de Comptabiliteitswet 2016  \\n  \\nBepalingen  \\n  \\nDe begrotingsstaat behorende bij een departementale begroting inclusief de begrotingsstaat van de \\nagentschappen wordt ingericht conform model 1.20.  \\nDe begrotingsstaat behorend bij een departementale begroting, inclusief de begrotingsstaat van de \\nagentschappen en van de begrotingsfondsen wordt conform model 1.24 ingericht.  \\nDe begrotingsstaat behorende bij de begroting van een niet-departementale begroting eventueel inclusief \\nde agentschappen wordt volgens model 1.21 of model 1.22 opgesteld.  \\nDe begrotingsstaat behorende bij een begrotingsfonds wordt ingericht volgens model 1.23.  \\n  \\n \\n \\n \\n                \\n                Query: Vind alle aubfacts voor de volgende fact in de tekst: De miljoenennota bevat in elk geval het budgettaire totaalbeeld, de budgettaire beschouwingen en een overzicht van de uitgaven en ontvangsten. Toon voor elke subfact de inhoud en de positie ervan in de wetstekst en de naam van de wet/ wettelijke tekst waar de subfact staat. \\n \\n\\n\\n                --- Antwoord ---\\n\\n                Geef het antwoord in het volgende formaat, voor iedere subfact die je kan vinden: \\n \\n\\n                Subfact: <subfact> \\n \\n\\n                Positie: Artikel <artikelnummer>, sectie <sectienummer> IN <wetstekst> \\n \\n\\n                ', '\\n\\n\\n                --- Definitie ---\\n\\n                Preconditie: Een preconditie beschrijft de omstandigheden waaronder de handeling wettelijk kan worden uitgevoerd.\\n                Act: Een act kan worden uitgevoerd door een agent binnen het normatieve systeem dat wordt gedefinieerd door het juridische document.\\n                Fact: Fact frames beschrijven zaken waarvan de aanwezigheid of waarheidswaarde de toestand van het normatieve systeem kenmerkt. \\n\\n                \\n\\n                \\n\\n                                --- Gedachteketen ---\\n\\n                                1. Zoek alle vermeldingen van de act in de tekst.\\n                                2. Zoek in de artikelen waarin de act wordt genoemd naar specifieke precondities voor de act. \\n                                3. Zoek ook naar specifieke verwijzingen naar andere artikelen waarin mogelijk andere predcondities voor de act worden genoemd.\\n                                4. Extraheer de precondities en hun positie in de tekst.\\n\\n                                \\n\\n                \\n\\n                                --- Aantal precondities ---\\n                                \\n                                Het aantal precondities dat je moet vinden is: 5.\\n                                \\n                \\n                --- Opdracht ---\\n\\n                Gebruik de volgende context: \\n Algemene wet bestuursrecht  \\n  \\n  \\n  \\nArtikel 1:3  \\n3. Onder aanvraag wordt verstaan: een verzoek van een belanghebbende, een besluit te nemen.  \\nArtikel 3:4  \\n2. De voor een of meer belanghebbenden nadelige gevolgen van een besluit mogen niet onevenredig zijn\\nin verhouding tot de met het besluit te dienen doelen.  \\nArtikel 4:5  \\n1. Het bestuursorgaan kan besluiten de aanvraag niet te behandelen, indien:  \\na. de aanvrager niet heeft voldaan aan enig wettelijk voorschrift voor het in behandeling nemen van de \\naanvraag, of  \\nb. de aanvraag geheel of gedeeltelijk is geweigerd op grond van artikel 2:15, of  \\nc. de verstrekte gegevens en bescheiden onvoldoende zijn voor de beoordeling van de aanvraag of voor \\nde voorbereiding van de beschikking,  \\n2. Indien de aanvraag of een van de daarbij behorende gegevens of bescheiden in een vreemde taal is \\ngesteld en een vertaling daarvan voor de beoordeling van de aanvraag of voor de voorbereiding van de \\nbeschikking noodzakelijk is, kan het bestuursorgaan besluiten de aanvraag niet te behandelen, mits de \\naanvrager de gelegenheid heeft gehad binnen een door het bestuursorgaan gestelde termijn de aanvraag\\nmet een vertaling aan te vullen.  \\n3. Indien de aanvraag of een van de daarbij behorende gegevens of bescheiden omvangrijk of \\ningewikkeld is en een samenvatting voor de beoordeling van de aanvraag of voor de voorbereiding van \\nde beschikking noodzakelijk is, kan het bestuursorgaan besluiten de aanvraag niet te behandelen, mits \\nde aanvrager de gelegenheid heeft gehad binnen een door het bestuursorgaan gestelde termijn de \\naanvraag met een samenvatting aan te vullen.  \\n4. Een besluit om de aanvraag niet te behandelen wordt aan de aanvrager bekendgemaakt binnen vier \\nweken nadat de aanvraag is aangevuld of nadat de daarvoor gestelde termijn ongebruikt is verstreken.  \\n  \\n  \\nVreemdelingenwet geldig vanaf 2024  \\n  \\n  \\nArtikel 1  \\nIn deze wet en de daarop berustende bepalingen wordt verstaan onder:  \\n* Onze Minister: Onze Minister van Veiligheid en Justitie;  \\n* referent: degene die overeenkomstig artikel 2a een verklaring heeft afgelegd of als zodanig is \\naangewezen;  \\n* verblijf op reguliere gronden: het verblijf van een vreemdeling in Nederland op grond van deze wet \\nanders dan op de gronden bedoeld in de artikelen 29 en 34;  \\n* vreemdeling: ieder die de Nederlandse nationaliteit niet bezit en niet op grond van een wettelijke \\nbepaling als Nederlander moet worden behandeld;  \\nArtikel 8  \\nDe vreemdeling heeft in Nederland uitsluitend rechtmatig verblijf:  \\na. op grond van een verblijfsvergunning voor bepaalde tijd als bedoeld in artikel 14;  \\nArtikel 9  \\n1. Onze Minister verschaft aan de vreemdeling, die rechtmatig verblijf heeft op grond van artikel 8, onder \\na tot en met d, f tot en met h en j tot en met m, en aan de vreemdeling die rechtmatig verblijf heeft op \\ngrond van artikel 8, onder e, en gemeenschapsonderdaan is als bedoeld in artikel 1, sub 2°, 4° en 6°, een\\ndocument of schriftelijke verklaring, waaruit het rechtmatig verblijf blijkt.  \\nAfdeling 3. De verblijfsvergunning regulier  \\nArtikel 14  \\n1. Onze Minister is bevoegd:  \\na. de aanvraag tot het verlenen van een verblijfsvergunning voor bepaalde tijd in te willigen, af te wijzen \\ndan wel niet in behandeling te nemen;  \\n3. Een verblijfsvergunning voor bepaalde tijd wordt verleend onder beperkingen, verband houdende met \\nhet doel waarvoor het verblijf is toegestaan.  \\n4. De verblijfsvergunning voor bepaalde tijd wordt verleend voor ten hoogste vijf achtereenvolgende \\njaren.  \\nArtikel 16  \\n1. Een aanvraag tot het verlenen van een verblijfsvergunning voor bepaalde tijd als bedoeld in artikel 14 \\nkan worden afgewezen indien:  \\na. de vreemdeling niet beschikt over een geldige machtiging tot voorlopig verblijf die overeenkomt met het\\nverblijfsdoel waarvoor de verblijfsvergunning is aangevraagd;  \\nb. de vreemdeling niet beschikt over een geldig document voor grensoverschrijding;  \\nc. de vreemdeling niet zelfstandig en duurzaam beschikt over voldoende middelen van bestaan dan wel, \\nindien de persoon bij wie de vreemdeling wil verblijven, niet zelfstandig en duurzaam beschikt over \\nvoldoende middelen van bestaan;  \\nd. de vreemdeling een gevaar vormt voor de openbare orde of nationale veiligheid;  \\ne. de vreemdeling niet bereid is om medewerking te verlenen aan een medisch onderzoek naar een \\nziekte aangewezen bij of krachtens de Wet publieke gezondheid, ter bescherming van de \\nvolksgezondheid of een medische behandeling tegen een dergelijke ziekte te ondergaan;  \\nf. de vreemdeling voor een werkgever arbeid verricht, zonder dat aan de Wet arbeid vreemdelingen is \\nvoldaan;  \\ng. de vreemdeling niet voldoet aan de beperking, verband houdende met het doel waarvoor hij wil \\nverblijven;  \\nh. de vreemdeling, die niet behoort tot een der categorieën, bedoeld in artikel 17, eerste lid, na verkrijging\\nvan rechtmatig verblijf in Nederland inburgeringsplichtig zou zijn op grond van de artikelen 3 en 4 van de \\nWet inburgering 2021 en niet beschikt over kennis op basisniveau van de Nederlandse taal en de \\nNederlandse maatschappij;  \\ni. de vreemdeling onjuiste gegevens heeft verstrekt dan wel gegevens heeft achtergehouden terwijl die \\ngegevens tot afwijzing van een eerdere aanvraag tot het verlenen, verlengen of wijzigen van een visum of\\neen verblijfsvergunning hebben geleid of zouden hebben geleid;  \\nj. de vreemdeling in Nederland verblijf heeft gehouden, anders dan op grond van artikel 8.  \\nk. ten behoeve van het verblijf van de vreemdeling geen verklaring van een referent is overgelegd als \\nbedoeld in artikel 2a, eerste lid.  \\nArtikel 17  \\n1. Een aanvraag tot het verlenen van een verblijfsvergunning voor bepaalde tijd als bedoeld in artikel 14 \\nwordt niet afgewezen wegens het ontbreken van een geldige machtiging tot voorlopig verblijf, indien het \\nbetreft:  \\na. de vreemdeling die de nationaliteit bezit van één der door bij regeling van Onze Minister in \\novereenstemming met Onze Minister van Buitenlandse Zaken aan te wijzen landen;  \\nb. de gemeenschapsonderdaan, voorzover niet reeds vrijgesteld op grond van een aanwijzing als \\nbedoeld onder a;  \\nc. de vreemdeling voor wie het gelet op diens gezondheidstoestand niet verantwoord is om te reizen;  \\nd. de vreemdeling die slachtoffer of getuige-aangever is van mensenhandel;  \\ne. de vreemdeling die onmiddellijk voorafgaande aan de aanvraag in het bezit was van een \\nverblijfsvergunning voor bepaalde tijd als bedoeld in artikel 28 dan wel van een verblijfsvergunning voor \\nonbepaalde tijd als bedoeld in artikel 33;  \\nf. de vreemdeling die tijdig een aanvraag heeft ingediend tot wijziging van een verblijfsvergunning;  \\ng. de vreemdeling die behoort tot een bij algemene maatregel van bestuur aangewezen categorie;  \\nArtikel 17a  \\n2. De vreemdeling is, in door Onze Minister te bepalen gevallen en volgens door Onze Minister te geven \\nregels, leges verschuldigd terzake van de afdoening van een aanvraag.  \\nAls betaling achterwege blijft, wordt de aanvraag niet in behandeling genomen dan wel het document niet\\nafgegeven.  \\nArtikel 4:5, vierde lid, Algemene wet bestuursrecht is niet van toepassing.  \\nArtikel 26  \\n1. De verblijfsvergunning, die van rechtswege rechtmatig verblijf inhoudt, wordt verleend met ingang van \\nde dag waarop de vreemdeling heeft aangetoond dat hij aan alle voorwaarden voldoet, maar niet eerder \\ndan met ingang van de dag waarop de aanvraag is ontvangen.  \\nArtikel 27  \\n1. De beschikking waarbij een aanvraag tot het verlenen van een verblijfsvergunning voor bepaalde tijd \\nals bedoeld in artikel 14 of een verblijfsvergunning voor onbepaalde tijd als bedoeld in artikel 20 wordt \\nafgewezen, geldt als terugkeerbesluit, tenzij reeds eerder een terugkeerbesluit tegen de vreemdeling is \\nuitgevaardigd en aan de daaruit voortvloeiende terugkeerverplichting niet is voldaan, en heeft van \\nrechtswege tot gevolg dat:  \\na. de vreemdeling niet langer rechtmatig verblijf heeft tenzij er een andere rechtsgrond voor rechtmatig \\nverblijf van toepassing is;  \\nb. de vreemdeling Nederland uit eigen beweging dient te verlaten binnen de in artikel 62 gestelde termijn, \\nbij gebreke waarvan de vreemdeling kan worden uitgezet, en  \\nc. de ambtenaren belast met het toezicht op vreemdelingen, na ommekomst van de termijn waarbinnen \\nde vreemdeling Nederland uit eigen beweging dient te verlaten, bevoegd zijn elke plaats te betreden, \\ndaaronder begrepen een woning, zonder de toestemming van de bewoner, teneinde de vreemdeling uit te\\nzetten.  \\n2. Het eerste lid is van overeenkomstige toepassing indien:  \\na. ingevolge artikel 24 of ingevolge artikel 4:5 van de Algemene wet bestuursrecht is besloten dat de \\naanvraag niet in behandeling wordt genomen;  \\nArtikel 66a  \\n6. In afwijking van artikel 8 kan de vreemdeling jegens wie een inreisverbod geldt of die is gesignaleerd \\nter fine van weigering van de toegang geen rechtmatig verblijf hebben, met uitzondering van het \\nrechtmatig verblijf:  \\na. van de vreemdeling die een eerste aanvraag tot het verlenen van een verblijfsvergunning als bedoeld \\nin artikel 28 heeft ingediend, zolang op die aanvraag nog niet is beslist;  \\nb. bedoeld in artikel 8, onder j, en  \\nc. van de vreemdeling wiens uitzetting op grond van een rechterlijke beslissing achterwege dient te \\nblijven totdat op het bezwaarschrift of beroepschrift is beslist.  \\nArtikel 67  \\n3. In afwijking van artikel 8 kan de ongewenst verklaarde vreemdeling geen rechtmatig verblijf hebben.  \\nArtikel 106a  \\n1. Voor zover op grond van de Europese verordeningen die betrekking hebben op biometrische gegevens\\ngeen gezichtsopname of vingerafdrukken kunnen worden afgenomen en verwerkt, kunnen van een \\nvreemdeling een gezichtsopname en tien vingerafdrukken worden afgenomen en verwerkt voor het \\nvaststellen van de identiteit met het oog op de uitvoering van deze wet.  \\nDe gezichtsopname en vingerafdrukken worden vergeleken met de gezichtsopnames en vingerafdrukken \\nin de vreemdelingenadministratie.  \\n  \\n  \\n  \\n \\n \\n \\n                \\n                Query: Vind alle precondities voor de volgende act in de tekst: niet in behandeling nemen aanvraag van vreemdeling tot het verlenen van een reguliere verblijfsvergunning voor bepaalde tijd door Onze Minister van Veiligheid en Justitie. Toon voor elke preconditie de inhoud en de positie ervan in de wetstekst en de naam van de wet/ wettelijke tekst waar de preconditie staat. \\n \\n\\n\\n                --- Antwoord ---\\n\\n                Geef het antwoord in het volgende formaat, voor iedere preconditie die je kan vinden: \\n \\n\\n                Preconditie: <preconditie> \\n \\n\\n                Positie: Artikel <artikelnummer>, sectie <sectienummer> IN <wetstekst> \\n \\n\\n                ', '\\n\\n\\n                --- Definitie ---\\n\\n                Preconditie: Een preconditie beschrijft de omstandigheden waaronder de handeling wettelijk kan worden uitgevoerd.\\n                Act: Een act kan worden uitgevoerd door een agent binnen het normatieve systeem dat wordt gedefinieerd door het juridische document.\\n                Fact: Fact frames beschrijven zaken waarvan de aanwezigheid of waarheidswaarde de toestand van het normatieve systeem kenmerkt. \\n\\n                \\n\\n                \\n\\n                                --- Gedachteketen ---\\n\\n                                1. Zoek alle vermeldingen van de fact in de tekst.\\n                                2. Zoek in de artikelen waarin de fact wordt genoemd naar specifieke subfacts voor de fact. \\n                                3. Zoek ook naar specifieke verwijzingen naar andere artikelen waarin mogelijk andere subfacts voor de fact worden genoemd.\\n                                4. Extraheer de subfacts en hun positie in de tekst.\\n\\n                                \\n\\n                \\n\\n                                --- Aantal Subfacts ---\\n                                \\n                                Het aantal subfacts dat je moet vinden is: 2.\\n                                \\n                \\n                --- Opdracht ---\\n\\n                Gebruik de volgende context: \\n Comptabiliteitswet 2016  \\n  \\n  \\n  \\n  \\n  \\nHoofdstuk 2. De begroting en verantwoording van het Rijk  \\n  \\n§ 1. Rijksbegroting  \\n  \\nArtikel 2.1. Samenstelling en inhoud van de rijksbegroting  \\n1. Tot de rijksbegroting behoren de departementale en de niet-departementale begrotingen van de \\nministeries en de colleges.  \\n2. Onze Ministers, ieder met betrekking tot het beleid waarvoor hij verantwoordelijk is, stellen voor de \\naanvang van een begrotingsjaar een begroting op.  \\n3. Voor elk ministerie is er één departementale begroting en kunnen er één of meer niet-departementale \\nbegrotingen zijn.  \\n4. Voor elk college is er een niet-departementale begroting.  \\n5. Als niet-departementale begroting worden voorts uitsluitend aangemerkt:  \\na. de begroting van de Koning, bedoeld in artikel 2.9, en de begroting van Nationale Schuld, bedoeld in \\nartikel 2.10;  \\nb. de begroting van koninkrijksrelaties, tenzij de uitgaven en ontvangsten die samenhangen met \\nkoninkrijksrelaties worden opgenomen in de betrokken departementale begroting;  \\nc. de begrotingen van de begrotingsfondsen, bedoeld in artikel 2.11, eerste lid;  \\nd. de programmabegrotingen, bedoeld in artikel 2.12, eerste lid.  \\n6. Een departementale begroting bevat de weergave van het beleid en de bedrijfsvoering van het \\nministerie, met uitzondering van de beleidsaangelegenheden die worden opgenomen in een begroting als\\nbedoeld in het vijfde lid.  \\n7. De niet-departementale begroting van een college bevat de weergave van de taken en van de \\nbedrijfsvoering van het college.  \\n8. Een programmabegroting, onderscheidenlijk een begroting van een begrotingsfonds, bevat de \\nweergave van het afgezonderde beheer, bedoeld in artikel 2.12, eerste lid, respectievelijk artikel 2.11, \\neerste lid. Een programmabegroting, onderscheidenlijk een begroting van een begrotingsfonds, bevat \\ngeen weergave van de bedrijfsvoering die met dat afgezonderde beheer samenhangt.  \\n§ 2. Inrichting van de begroting  \\n  \\n  \\nArtikel 2.2. Presentatie van een begroting  \\n  \\nEen begroting bestaat uit een begrotingsstaat en een daarbij behorende toelichting.  \\n  \\n  \\nArtikel 2.5. Begrotingsstaat  \\n  \\nDe begrotingsstaat bestaat uit begrotingsartikelen en bevat per begrotingsartikel de volgende gegevens:  \\na. het artikelnummer;  \\nb. de artikelomschrijving;  \\nc. het geraamde bedrag voor financiële verplichtingen;  \\nd. het geraamde bedrag voor kasuitgaven;  \\ne. het geraamde bedrag voor kasontvangsten.  \\n  \\n  \\nArtikel 2.23. Indienen van de rijksbegroting  \\n  \\n1. Wij dienen de voorstellen van wet tot vaststelling van de begrotingsstaten op de derde dinsdag van \\nseptember van het jaar voorafgaande aan het begrotingsjaar bij de Tweede Kamer der Staten-Generaal \\nin.  \\n2. In afwijking van het eerste lid kunnen Wij Onze Minister van Financiën machtigen de voorstellen van \\nwet tot vaststelling van de begrotingsstaten bij de Tweede Kamer der Staten-Generaal in te dienen.  \\n3. Onze Minister van Financiën biedt op de dag van de indiening van de voorstellen van wet tot \\nvaststelling van de begrotingsstaten de Miljoenennota aan de Staten-Generaal aan.  \\n4. De Miljoenennota bevat in elk geval:  \\na. het budgettaire totaalbeeld voor het betrokken begrotingsjaar en de vier daaropvolgende jaren van de \\nrijksbegroting en de niet tot de rijksbegroting behorende budgetdisciplinesectoren;  \\nb. de budgettaire beschouwingen over het voorgenomen beleid voor de collectieve sector;  \\nc. een overzicht van de uitgaven en de ontvangsten in de begrotingen voor het begrotingsjaar en de vier \\ndaarop aansluitende jaren.  \\n  \\n  \\n  \\nHoofdstuk 4. Begrotingsbeheer en financieel beheer: verantwoordelijkheden  \\n  \\n§ 1. Beleid en bedrijfsvoering door Onze Ministers  \\n  \\n  \\nArtikel 4.3. Beheer niet-departementale begrotingen  \\n  \\n1. Onze Minister van Algemene Zaken is verantwoordelijk voor het beheer van de begroting van de \\nKoning.  \\n2. Onze Minister van Binnenlandse Zaken en Koninkrijksrelaties is verantwoordelijk voor het beheer van \\nde begroting van koninkrijksrelaties.  \\n3. Onze Minister van Financiën is verantwoordelijk voor het beheer van de begroting van Nationale \\nSchuld.  \\n§ 2. Beheer door colleges  \\n  \\nArtikel 4.4. Beheer begrotingen colleges  \\n  \\n1. Onze Minister van Algemene Zaken is verantwoordelijk voor het beheer van de begrotingen van het \\nKabinet van de Koning en de Commissie van toezicht betreffende de inlichtingen- en veiligheidsdiensten.  \\n2. Onze Minister van Binnenlandse Zaken en Koninkrijksrelaties is verantwoordelijk voor het beheer van \\nde begrotingen van de Staten-Generaal, de Raad van State, de Algemene Rekenkamer, de Nationale \\nombudsman, de Kanselarij der Nederlandse Orden, het Kabinet van de Gouverneur van Aruba, het \\nKabinet van de Gouverneur van Curaçao, het Kabinet van de Gouverneur van Sint Maarten en de \\nKiesraad.  \\n3. De colleges zijn belast met het begrotingsbeheer, het financieel beheer, de materiële bedrijfsvoering en\\nde daartoe gevoerde administraties.  \\n4. Onze Ministers die het aangaan maken met de colleges over het beheer van hun begrotingen \\nafspraken, waarin recht wordt gedaan aan de staatsrechtelijke positie van de colleges.  \\n  \\n  \\n  \\n  \\nRijksbegrotingsvoorschriften 2024  \\n  \\nDe begrotingsstaat  \\n  \\nArtikelen 2.1, eerste lid, derde tot en met achtste lid, 2.2, 2.5 en 2.11 van de Comptabiliteitswet 2016  \\n  \\nBepalingen  \\n  \\nDe begrotingsstaat behorende bij een departementale begroting inclusief de begrotingsstaat van de \\nagentschappen wordt ingericht conform model 1.20.  \\nDe begrotingsstaat behorend bij een departementale begroting, inclusief de begrotingsstaat van de \\nagentschappen en van de begrotingsfondsen wordt conform model 1.24 ingericht.  \\nDe begrotingsstaat behorende bij de begroting van een niet-departementale begroting eventueel inclusief \\nde agentschappen wordt volgens model 1.21 of model 1.22 opgesteld.  \\nDe begrotingsstaat behorende bij een begrotingsfonds wordt ingericht volgens model 1.23.  \\n  \\n \\n \\n \\n                \\n                Query: Vind alle aubfacts voor de volgende fact in de tekst: Begroting bevat begrotingsstaat. Toon voor elke subfact de inhoud en de positie ervan in de wetstekst en de naam van de wet/ wettelijke tekst waar de subfact staat. \\n \\n\\n\\n                --- Antwoord ---\\n\\n                Geef het antwoord in het volgende formaat, voor iedere subfact die je kan vinden: \\n \\n\\n                Subfact: <subfact> \\n \\n\\n                Positie: Artikel <artikelnummer>, sectie <sectienummer> IN <wetstekst> \\n \\n\\n                ', '\\n\\n\\n                --- Definitie ---\\n\\n                Preconditie: Een preconditie beschrijft de omstandigheden waaronder de handeling wettelijk kan worden uitgevoerd.\\n                Act: Een act kan worden uitgevoerd door een agent binnen het normatieve systeem dat wordt gedefinieerd door het juridische document.\\n                Fact: Fact frames beschrijven zaken waarvan de aanwezigheid of waarheidswaarde de toestand van het normatieve systeem kenmerkt. \\n\\n                \\n\\n                \\n\\n                                --- Gedachteketen ---\\n\\n                                1. Zoek alle vermeldingen van de act in de tekst.\\n                                2. Zoek in de artikelen waarin de act wordt genoemd naar specifieke precondities voor de act. \\n                                3. Zoek ook naar specifieke verwijzingen naar andere artikelen waarin mogelijk andere predcondities voor de act worden genoemd.\\n                                4. Extraheer de precondities en hun positie in de tekst.\\n\\n                                \\n\\n                \\n\\n                                --- Aantal precondities ---\\n                                \\n                                Het aantal precondities dat je moet vinden is: 1.\\n                                \\n                \\n                --- Opdracht ---\\n\\n                Gebruik de volgende context: \\n Comptabiliteitswet 2016  \\n  \\n  \\n  \\n  \\n  \\nHoofdstuk 2. De begroting en verantwoording van het Rijk  \\n  \\n§ 1. Rijksbegroting  \\n  \\nArtikel 2.1. Samenstelling en inhoud van de rijksbegroting  \\n1. Tot de rijksbegroting behoren de departementale en de niet-departementale begrotingen van de \\nministeries en de colleges.  \\n2. Onze Ministers, ieder met betrekking tot het beleid waarvoor hij verantwoordelijk is, stellen voor de \\naanvang van een begrotingsjaar een begroting op.  \\n3. Voor elk ministerie is er één departementale begroting en kunnen er één of meer niet-departementale \\nbegrotingen zijn.  \\n4. Voor elk college is er een niet-departementale begroting.  \\n5. Als niet-departementale begroting worden voorts uitsluitend aangemerkt:  \\na. de begroting van de Koning, bedoeld in artikel 2.9, en de begroting van Nationale Schuld, bedoeld in \\nartikel 2.10;  \\nb. de begroting van koninkrijksrelaties, tenzij de uitgaven en ontvangsten die samenhangen met \\nkoninkrijksrelaties worden opgenomen in de betrokken departementale begroting;  \\nc. de begrotingen van de begrotingsfondsen, bedoeld in artikel 2.11, eerste lid;  \\nd. de programmabegrotingen, bedoeld in artikel 2.12, eerste lid.  \\n6. Een departementale begroting bevat de weergave van het beleid en de bedrijfsvoering van het \\nministerie, met uitzondering van de beleidsaangelegenheden die worden opgenomen in een begroting als\\nbedoeld in het vijfde lid.  \\n7. De niet-departementale begroting van een college bevat de weergave van de taken en van de \\nbedrijfsvoering van het college.  \\n8. Een programmabegroting, onderscheidenlijk een begroting van een begrotingsfonds, bevat de \\nweergave van het afgezonderde beheer, bedoeld in artikel 2.12, eerste lid, respectievelijk artikel 2.11, \\neerste lid. Een programmabegroting, onderscheidenlijk een begroting van een begrotingsfonds, bevat \\ngeen weergave van de bedrijfsvoering die met dat afgezonderde beheer samenhangt.  \\n§ 2. Inrichting van de begroting  \\n  \\n  \\nArtikel 2.2. Presentatie van een begroting  \\n  \\nEen begroting bestaat uit een begrotingsstaat en een daarbij behorende toelichting.  \\n  \\n  \\nArtikel 2.5. Begrotingsstaat  \\n  \\nDe begrotingsstaat bestaat uit begrotingsartikelen en bevat per begrotingsartikel de volgende gegevens:  \\na. het artikelnummer;  \\nb. de artikelomschrijving;  \\nc. het geraamde bedrag voor financiële verplichtingen;  \\nd. het geraamde bedrag voor kasuitgaven;  \\ne. het geraamde bedrag voor kasontvangsten.  \\n  \\n  \\nArtikel 2.23. Indienen van de rijksbegroting  \\n  \\n1. Wij dienen de voorstellen van wet tot vaststelling van de begrotingsstaten op de derde dinsdag van \\nseptember van het jaar voorafgaande aan het begrotingsjaar bij de Tweede Kamer der Staten-Generaal \\nin.  \\n2. In afwijking van het eerste lid kunnen Wij Onze Minister van Financiën machtigen de voorstellen van \\nwet tot vaststelling van de begrotingsstaten bij de Tweede Kamer der Staten-Generaal in te dienen.  \\n3. Onze Minister van Financiën biedt op de dag van de indiening van de voorstellen van wet tot \\nvaststelling van de begrotingsstaten de Miljoenennota aan de Staten-Generaal aan.  \\n4. De Miljoenennota bevat in elk geval:  \\na. het budgettaire totaalbeeld voor het betrokken begrotingsjaar en de vier daaropvolgende jaren van de \\nrijksbegroting en de niet tot de rijksbegroting behorende budgetdisciplinesectoren;  \\nb. de budgettaire beschouwingen over het voorgenomen beleid voor de collectieve sector;  \\nc. een overzicht van de uitgaven en de ontvangsten in de begrotingen voor het begrotingsjaar en de vier \\ndaarop aansluitende jaren.  \\n  \\n  \\n  \\nHoofdstuk 4. Begrotingsbeheer en financieel beheer: verantwoordelijkheden  \\n  \\n§ 1. Beleid en bedrijfsvoering door Onze Ministers  \\n  \\n  \\nArtikel 4.3. Beheer niet-departementale begrotingen  \\n  \\n1. Onze Minister van Algemene Zaken is verantwoordelijk voor het beheer van de begroting van de \\nKoning.  \\n2. Onze Minister van Binnenlandse Zaken en Koninkrijksrelaties is verantwoordelijk voor het beheer van \\nde begroting van koninkrijksrelaties.  \\n3. Onze Minister van Financiën is verantwoordelijk voor het beheer van de begroting van Nationale \\nSchuld.  \\n§ 2. Beheer door colleges  \\n  \\nArtikel 4.4. Beheer begrotingen colleges  \\n  \\n1. Onze Minister van Algemene Zaken is verantwoordelijk voor het beheer van de begrotingen van het \\nKabinet van de Koning en de Commissie van toezicht betreffende de inlichtingen- en veiligheidsdiensten.  \\n2. Onze Minister van Binnenlandse Zaken en Koninkrijksrelaties is verantwoordelijk voor het beheer van \\nde begrotingen van de Staten-Generaal, de Raad van State, de Algemene Rekenkamer, de Nationale \\nombudsman, de Kanselarij der Nederlandse Orden, het Kabinet van de Gouverneur van Aruba, het \\nKabinet van de Gouverneur van Curaçao, het Kabinet van de Gouverneur van Sint Maarten en de \\nKiesraad.  \\n3. De colleges zijn belast met het begrotingsbeheer, het financieel beheer, de materiële bedrijfsvoering en\\nde daartoe gevoerde administraties.  \\n4. Onze Ministers die het aangaan maken met de colleges over het beheer van hun begrotingen \\nafspraken, waarin recht wordt gedaan aan de staatsrechtelijke positie van de colleges.  \\n  \\n  \\n  \\n  \\nRijksbegrotingsvoorschriften 2024  \\n  \\nDe begrotingsstaat  \\n  \\nArtikelen 2.1, eerste lid, derde tot en met achtste lid, 2.2, 2.5 en 2.11 van de Comptabiliteitswet 2016  \\n  \\nBepalingen  \\n  \\nDe begrotingsstaat behorende bij een departementale begroting inclusief de begrotingsstaat van de \\nagentschappen wordt ingericht conform model 1.20.  \\nDe begrotingsstaat behorend bij een departementale begroting, inclusief de begrotingsstaat van de \\nagentschappen en van de begrotingsfondsen wordt conform model 1.24 ingericht.  \\nDe begrotingsstaat behorende bij de begroting van een niet-departementale begroting eventueel inclusief \\nde agentschappen wordt volgens model 1.21 of model 1.22 opgesteld.  \\nDe begrotingsstaat behorende bij een begrotingsfonds wordt ingericht volgens model 1.23.  \\n  \\n \\n \\n \\n                \\n                Query: Vind alle precondities voor de volgende act in de tekst: betalen recht op algemene bijstand college van de gemeente waar de belanghebbende woonplaats heeft belanghebbende. Toon voor elke preconditie de inhoud en de positie ervan in de wetstekst en de naam van de wet/ wettelijke tekst waar de preconditie staat. \\n \\n\\n\\n                --- Antwoord ---\\n\\n                Geef het antwoord in het volgende formaat, voor iedere preconditie die je kan vinden: \\n \\n\\n                Preconditie: <preconditie> \\n \\n\\n                Positie: Artikel <artikelnummer>, sectie <sectienummer> IN <wetstekst> \\n \\n\\n                ', '\\n\\n\\n                --- Definitie ---\\n\\n                Preconditie: Een preconditie beschrijft de omstandigheden waaronder de handeling wettelijk kan worden uitgevoerd.\\n                Act: Een act kan worden uitgevoerd door een agent binnen het normatieve systeem dat wordt gedefinieerd door het juridische document.\\n                Fact: Fact frames beschrijven zaken waarvan de aanwezigheid of waarheidswaarde de toestand van het normatieve systeem kenmerkt. \\n\\n                \\n\\n                \\n\\n                                --- Gedachteketen ---\\n\\n                                1. Zoek alle vermeldingen van de act in de tekst.\\n                                2. Zoek in de artikelen waarin de act wordt genoemd naar specifieke precondities voor de act. \\n                                3. Zoek ook naar specifieke verwijzingen naar andere artikelen waarin mogelijk andere predcondities voor de act worden genoemd.\\n                                4. Extraheer de precondities en hun positie in de tekst.\\n\\n                                \\n\\n                \\n\\n                                --- Aantal precondities ---\\n                                \\n                                Het aantal precondities dat je moet vinden is: 28.\\n                                \\n                \\n                --- Opdracht ---\\n\\n                Gebruik de volgende context: \\n Comptabiliteitswet 2016  \\n  \\n  \\n  \\n  \\n  \\nHoofdstuk 2. De begroting en verantwoording van het Rijk  \\n  \\n§ 1. Rijksbegroting  \\n  \\nArtikel 2.1. Samenstelling en inhoud van de rijksbegroting  \\n1. Tot de rijksbegroting behoren de departementale en de niet-departementale begrotingen van de \\nministeries en de colleges.  \\n2. Onze Ministers, ieder met betrekking tot het beleid waarvoor hij verantwoordelijk is, stellen voor de \\naanvang van een begrotingsjaar een begroting op.  \\n3. Voor elk ministerie is er één departementale begroting en kunnen er één of meer niet-departementale \\nbegrotingen zijn.  \\n4. Voor elk college is er een niet-departementale begroting.  \\n5. Als niet-departementale begroting worden voorts uitsluitend aangemerkt:  \\na. de begroting van de Koning, bedoeld in artikel 2.9, en de begroting van Nationale Schuld, bedoeld in \\nartikel 2.10;  \\nb. de begroting van koninkrijksrelaties, tenzij de uitgaven en ontvangsten die samenhangen met \\nkoninkrijksrelaties worden opgenomen in de betrokken departementale begroting;  \\nc. de begrotingen van de begrotingsfondsen, bedoeld in artikel 2.11, eerste lid;  \\nd. de programmabegrotingen, bedoeld in artikel 2.12, eerste lid.  \\n6. Een departementale begroting bevat de weergave van het beleid en de bedrijfsvoering van het \\nministerie, met uitzondering van de beleidsaangelegenheden die worden opgenomen in een begroting als\\nbedoeld in het vijfde lid.  \\n7. De niet-departementale begroting van een college bevat de weergave van de taken en van de \\nbedrijfsvoering van het college.  \\n8. Een programmabegroting, onderscheidenlijk een begroting van een begrotingsfonds, bevat de \\nweergave van het afgezonderde beheer, bedoeld in artikel 2.12, eerste lid, respectievelijk artikel 2.11, \\neerste lid. Een programmabegroting, onderscheidenlijk een begroting van een begrotingsfonds, bevat \\ngeen weergave van de bedrijfsvoering die met dat afgezonderde beheer samenhangt.  \\n§ 2. Inrichting van de begroting  \\n  \\n  \\nArtikel 2.2. Presentatie van een begroting  \\n  \\nEen begroting bestaat uit een begrotingsstaat en een daarbij behorende toelichting.  \\n  \\n  \\nArtikel 2.5. Begrotingsstaat  \\n  \\nDe begrotingsstaat bestaat uit begrotingsartikelen en bevat per begrotingsartikel de volgende gegevens:  \\na. het artikelnummer;  \\nb. de artikelomschrijving;  \\nc. het geraamde bedrag voor financiële verplichtingen;  \\nd. het geraamde bedrag voor kasuitgaven;  \\ne. het geraamde bedrag voor kasontvangsten.  \\n  \\n  \\nArtikel 2.23. Indienen van de rijksbegroting  \\n  \\n1. Wij dienen de voorstellen van wet tot vaststelling van de begrotingsstaten op de derde dinsdag van \\nseptember van het jaar voorafgaande aan het begrotingsjaar bij de Tweede Kamer der Staten-Generaal \\nin.  \\n2. In afwijking van het eerste lid kunnen Wij Onze Minister van Financiën machtigen de voorstellen van \\nwet tot vaststelling van de begrotingsstaten bij de Tweede Kamer der Staten-Generaal in te dienen.  \\n3. Onze Minister van Financiën biedt op de dag van de indiening van de voorstellen van wet tot \\nvaststelling van de begrotingsstaten de Miljoenennota aan de Staten-Generaal aan.  \\n4. De Miljoenennota bevat in elk geval:  \\na. het budgettaire totaalbeeld voor het betrokken begrotingsjaar en de vier daaropvolgende jaren van de \\nrijksbegroting en de niet tot de rijksbegroting behorende budgetdisciplinesectoren;  \\nb. de budgettaire beschouwingen over het voorgenomen beleid voor de collectieve sector;  \\nc. een overzicht van de uitgaven en de ontvangsten in de begrotingen voor het begrotingsjaar en de vier \\ndaarop aansluitende jaren.  \\n  \\n  \\n  \\nHoofdstuk 4. Begrotingsbeheer en financieel beheer: verantwoordelijkheden  \\n  \\n§ 1. Beleid en bedrijfsvoering door Onze Ministers  \\n  \\n  \\nArtikel 4.3. Beheer niet-departementale begrotingen  \\n  \\n1. Onze Minister van Algemene Zaken is verantwoordelijk voor het beheer van de begroting van de \\nKoning.  \\n2. Onze Minister van Binnenlandse Zaken en Koninkrijksrelaties is verantwoordelijk voor het beheer van \\nde begroting van koninkrijksrelaties.  \\n3. Onze Minister van Financiën is verantwoordelijk voor het beheer van de begroting van Nationale \\nSchuld.  \\n§ 2. Beheer door colleges  \\n  \\nArtikel 4.4. Beheer begrotingen colleges  \\n  \\n1. Onze Minister van Algemene Zaken is verantwoordelijk voor het beheer van de begrotingen van het \\nKabinet van de Koning en de Commissie van toezicht betreffende de inlichtingen- en veiligheidsdiensten.  \\n2. Onze Minister van Binnenlandse Zaken en Koninkrijksrelaties is verantwoordelijk voor het beheer van \\nde begrotingen van de Staten-Generaal, de Raad van State, de Algemene Rekenkamer, de Nationale \\nombudsman, de Kanselarij der Nederlandse Orden, het Kabinet van de Gouverneur van Aruba, het \\nKabinet van de Gouverneur van Curaçao, het Kabinet van de Gouverneur van Sint Maarten en de \\nKiesraad.  \\n3. De colleges zijn belast met het begrotingsbeheer, het financieel beheer, de materiële bedrijfsvoering en\\nde daartoe gevoerde administraties.  \\n4. Onze Ministers die het aangaan maken met de colleges over het beheer van hun begrotingen \\nafspraken, waarin recht wordt gedaan aan de staatsrechtelijke positie van de colleges.  \\n  \\n  \\n  \\n  \\nRijksbegrotingsvoorschriften 2024  \\n  \\nDe begrotingsstaat  \\n  \\nArtikelen 2.1, eerste lid, derde tot en met achtste lid, 2.2, 2.5 en 2.11 van de Comptabiliteitswet 2016  \\n  \\nBepalingen  \\n  \\nDe begrotingsstaat behorende bij een departementale begroting inclusief de begrotingsstaat van de \\nagentschappen wordt ingericht conform model 1.20.  \\nDe begrotingsstaat behorend bij een departementale begroting, inclusief de begrotingsstaat van de \\nagentschappen en van de begrotingsfondsen wordt conform model 1.24 ingericht.  \\nDe begrotingsstaat behorende bij de begroting van een niet-departementale begroting eventueel inclusief \\nde agentschappen wordt volgens model 1.21 of model 1.22 opgesteld.  \\nDe begrotingsstaat behorende bij een begrotingsfonds wordt ingericht volgens model 1.23.  \\n  \\n \\n \\n \\n                \\n                Query: Vind alle precondities voor de volgende act in de tekst: vaststellen recht op algemene bijstand college van de gemeente waar de belanghebbende woonplaats heeft belanghebbende. Toon voor elke preconditie de inhoud en de positie ervan in de wetstekst en de naam van de wet/ wettelijke tekst waar de preconditie staat. \\n \\n\\n\\n                --- Antwoord ---\\n\\n                Geef het antwoord in het volgende formaat, voor iedere preconditie die je kan vinden: \\n \\n\\n                Preconditie: <preconditie> \\n \\n\\n                Positie: Artikel <artikelnummer>, sectie <sectienummer> IN <wetstekst> \\n \\n\\n                ', '\\n\\n\\n                --- Definitie ---\\n\\n                Preconditie: Een preconditie beschrijft de omstandigheden waaronder de handeling wettelijk kan worden uitgevoerd.\\n                Act: Een act kan worden uitgevoerd door een agent binnen het normatieve systeem dat wordt gedefinieerd door het juridische document.\\n                Fact: Fact frames beschrijven zaken waarvan de aanwezigheid of waarheidswaarde de toestand van het normatieve systeem kenmerkt. \\n\\n                \\n\\n                \\n\\n                                --- Gedachteketen ---\\n\\n                                1. Zoek alle vermeldingen van de fact in de tekst.\\n                                2. Zoek in de artikelen waarin de fact wordt genoemd naar specifieke subfacts voor de fact. \\n                                3. Zoek ook naar specifieke verwijzingen naar andere artikelen waarin mogelijk andere subfacts voor de fact worden genoemd.\\n                                4. Extraheer de subfacts en hun positie in de tekst.\\n\\n                                \\n\\n                \\n\\n                                --- Aantal Subfacts ---\\n                                \\n                                Het aantal subfacts dat je moet vinden is: 3.\\n                                \\n                \\n                --- Opdracht ---\\n\\n                Gebruik de volgende context: \\n Algemene wet bestuursrecht  \\n  \\n  \\n  \\nArtikel 1:3  \\n3. Onder aanvraag wordt verstaan: een verzoek van een belanghebbende, een besluit te nemen.  \\nArtikel 3:4  \\n2. De voor een of meer belanghebbenden nadelige gevolgen van een besluit mogen niet onevenredig zijn\\nin verhouding tot de met het besluit te dienen doelen.  \\nArtikel 4:5  \\n1. Het bestuursorgaan kan besluiten de aanvraag niet te behandelen, indien:  \\na. de aanvrager niet heeft voldaan aan enig wettelijk voorschrift voor het in behandeling nemen van de \\naanvraag, of  \\nb. de aanvraag geheel of gedeeltelijk is geweigerd op grond van artikel 2:15, of  \\nc. de verstrekte gegevens en bescheiden onvoldoende zijn voor de beoordeling van de aanvraag of voor \\nde voorbereiding van de beschikking,  \\n2. Indien de aanvraag of een van de daarbij behorende gegevens of bescheiden in een vreemde taal is \\ngesteld en een vertaling daarvan voor de beoordeling van de aanvraag of voor de voorbereiding van de \\nbeschikking noodzakelijk is, kan het bestuursorgaan besluiten de aanvraag niet te behandelen, mits de \\naanvrager de gelegenheid heeft gehad binnen een door het bestuursorgaan gestelde termijn de aanvraag\\nmet een vertaling aan te vullen.  \\n3. Indien de aanvraag of een van de daarbij behorende gegevens of bescheiden omvangrijk of \\ningewikkeld is en een samenvatting voor de beoordeling van de aanvraag of voor de voorbereiding van \\nde beschikking noodzakelijk is, kan het bestuursorgaan besluiten de aanvraag niet te behandelen, mits \\nde aanvrager de gelegenheid heeft gehad binnen een door het bestuursorgaan gestelde termijn de \\naanvraag met een samenvatting aan te vullen.  \\n4. Een besluit om de aanvraag niet te behandelen wordt aan de aanvrager bekendgemaakt binnen vier \\nweken nadat de aanvraag is aangevuld of nadat de daarvoor gestelde termijn ongebruikt is verstreken.  \\n  \\n  \\nVreemdelingenwet geldig vanaf 2024  \\n  \\n  \\nArtikel 1  \\nIn deze wet en de daarop berustende bepalingen wordt verstaan onder:  \\n* Onze Minister: Onze Minister van Veiligheid en Justitie;  \\n* referent: degene die overeenkomstig artikel 2a een verklaring heeft afgelegd of als zodanig is \\naangewezen;  \\n* verblijf op reguliere gronden: het verblijf van een vreemdeling in Nederland op grond van deze wet \\nanders dan op de gronden bedoeld in de artikelen 29 en 34;  \\n* vreemdeling: ieder die de Nederlandse nationaliteit niet bezit en niet op grond van een wettelijke \\nbepaling als Nederlander moet worden behandeld;  \\nArtikel 8  \\nDe vreemdeling heeft in Nederland uitsluitend rechtmatig verblijf:  \\na. op grond van een verblijfsvergunning voor bepaalde tijd als bedoeld in artikel 14;  \\nArtikel 9  \\n1. Onze Minister verschaft aan de vreemdeling, die rechtmatig verblijf heeft op grond van artikel 8, onder \\na tot en met d, f tot en met h en j tot en met m, en aan de vreemdeling die rechtmatig verblijf heeft op \\ngrond van artikel 8, onder e, en gemeenschapsonderdaan is als bedoeld in artikel 1, sub 2°, 4° en 6°, een\\ndocument of schriftelijke verklaring, waaruit het rechtmatig verblijf blijkt.  \\nAfdeling 3. De verblijfsvergunning regulier  \\nArtikel 14  \\n1. Onze Minister is bevoegd:  \\na. de aanvraag tot het verlenen van een verblijfsvergunning voor bepaalde tijd in te willigen, af te wijzen \\ndan wel niet in behandeling te nemen;  \\n3. Een verblijfsvergunning voor bepaalde tijd wordt verleend onder beperkingen, verband houdende met \\nhet doel waarvoor het verblijf is toegestaan.  \\n4. De verblijfsvergunning voor bepaalde tijd wordt verleend voor ten hoogste vijf achtereenvolgende \\njaren.  \\nArtikel 16  \\n1. Een aanvraag tot het verlenen van een verblijfsvergunning voor bepaalde tijd als bedoeld in artikel 14 \\nkan worden afgewezen indien:  \\na. de vreemdeling niet beschikt over een geldige machtiging tot voorlopig verblijf die overeenkomt met het\\nverblijfsdoel waarvoor de verblijfsvergunning is aangevraagd;  \\nb. de vreemdeling niet beschikt over een geldig document voor grensoverschrijding;  \\nc. de vreemdeling niet zelfstandig en duurzaam beschikt over voldoende middelen van bestaan dan wel, \\nindien de persoon bij wie de vreemdeling wil verblijven, niet zelfstandig en duurzaam beschikt over \\nvoldoende middelen van bestaan;  \\nd. de vreemdeling een gevaar vormt voor de openbare orde of nationale veiligheid;  \\ne. de vreemdeling niet bereid is om medewerking te verlenen aan een medisch onderzoek naar een \\nziekte aangewezen bij of krachtens de Wet publieke gezondheid, ter bescherming van de \\nvolksgezondheid of een medische behandeling tegen een dergelijke ziekte te ondergaan;  \\nf. de vreemdeling voor een werkgever arbeid verricht, zonder dat aan de Wet arbeid vreemdelingen is \\nvoldaan;  \\ng. de vreemdeling niet voldoet aan de beperking, verband houdende met het doel waarvoor hij wil \\nverblijven;  \\nh. de vreemdeling, die niet behoort tot een der categorieën, bedoeld in artikel 17, eerste lid, na verkrijging\\nvan rechtmatig verblijf in Nederland inburgeringsplichtig zou zijn op grond van de artikelen 3 en 4 van de \\nWet inburgering 2021 en niet beschikt over kennis op basisniveau van de Nederlandse taal en de \\nNederlandse maatschappij;  \\ni. de vreemdeling onjuiste gegevens heeft verstrekt dan wel gegevens heeft achtergehouden terwijl die \\ngegevens tot afwijzing van een eerdere aanvraag tot het verlenen, verlengen of wijzigen van een visum of\\neen verblijfsvergunning hebben geleid of zouden hebben geleid;  \\nj. de vreemdeling in Nederland verblijf heeft gehouden, anders dan op grond van artikel 8.  \\nk. ten behoeve van het verblijf van de vreemdeling geen verklaring van een referent is overgelegd als \\nbedoeld in artikel 2a, eerste lid.  \\nArtikel 17  \\n1. Een aanvraag tot het verlenen van een verblijfsvergunning voor bepaalde tijd als bedoeld in artikel 14 \\nwordt niet afgewezen wegens het ontbreken van een geldige machtiging tot voorlopig verblijf, indien het \\nbetreft:  \\na. de vreemdeling die de nationaliteit bezit van één der door bij regeling van Onze Minister in \\novereenstemming met Onze Minister van Buitenlandse Zaken aan te wijzen landen;  \\nb. de gemeenschapsonderdaan, voorzover niet reeds vrijgesteld op grond van een aanwijzing als \\nbedoeld onder a;  \\nc. de vreemdeling voor wie het gelet op diens gezondheidstoestand niet verantwoord is om te reizen;  \\nd. de vreemdeling die slachtoffer of getuige-aangever is van mensenhandel;  \\ne. de vreemdeling die onmiddellijk voorafgaande aan de aanvraag in het bezit was van een \\nverblijfsvergunning voor bepaalde tijd als bedoeld in artikel 28 dan wel van een verblijfsvergunning voor \\nonbepaalde tijd als bedoeld in artikel 33;  \\nf. de vreemdeling die tijdig een aanvraag heeft ingediend tot wijziging van een verblijfsvergunning;  \\ng. de vreemdeling die behoort tot een bij algemene maatregel van bestuur aangewezen categorie;  \\nArtikel 17a  \\n2. De vreemdeling is, in door Onze Minister te bepalen gevallen en volgens door Onze Minister te geven \\nregels, leges verschuldigd terzake van de afdoening van een aanvraag.  \\nAls betaling achterwege blijft, wordt de aanvraag niet in behandeling genomen dan wel het document niet\\nafgegeven.  \\nArtikel 4:5, vierde lid, Algemene wet bestuursrecht is niet van toepassing.  \\nArtikel 26  \\n1. De verblijfsvergunning, die van rechtswege rechtmatig verblijf inhoudt, wordt verleend met ingang van \\nde dag waarop de vreemdeling heeft aangetoond dat hij aan alle voorwaarden voldoet, maar niet eerder \\ndan met ingang van de dag waarop de aanvraag is ontvangen.  \\nArtikel 27  \\n1. De beschikking waarbij een aanvraag tot het verlenen van een verblijfsvergunning voor bepaalde tijd \\nals bedoeld in artikel 14 of een verblijfsvergunning voor onbepaalde tijd als bedoeld in artikel 20 wordt \\nafgewezen, geldt als terugkeerbesluit, tenzij reeds eerder een terugkeerbesluit tegen de vreemdeling is \\nuitgevaardigd en aan de daaruit voortvloeiende terugkeerverplichting niet is voldaan, en heeft van \\nrechtswege tot gevolg dat:  \\na. de vreemdeling niet langer rechtmatig verblijf heeft tenzij er een andere rechtsgrond voor rechtmatig \\nverblijf van toepassing is;  \\nb. de vreemdeling Nederland uit eigen beweging dient te verlaten binnen de in artikel 62 gestelde termijn, \\nbij gebreke waarvan de vreemdeling kan worden uitgezet, en  \\nc. de ambtenaren belast met het toezicht op vreemdelingen, na ommekomst van de termijn waarbinnen \\nde vreemdeling Nederland uit eigen beweging dient te verlaten, bevoegd zijn elke plaats te betreden, \\ndaaronder begrepen een woning, zonder de toestemming van de bewoner, teneinde de vreemdeling uit te\\nzetten.  \\n2. Het eerste lid is van overeenkomstige toepassing indien:  \\na. ingevolge artikel 24 of ingevolge artikel 4:5 van de Algemene wet bestuursrecht is besloten dat de \\naanvraag niet in behandeling wordt genomen;  \\nArtikel 66a  \\n6. In afwijking van artikel 8 kan de vreemdeling jegens wie een inreisverbod geldt of die is gesignaleerd \\nter fine van weigering van de toegang geen rechtmatig verblijf hebben, met uitzondering van het \\nrechtmatig verblijf:  \\na. van de vreemdeling die een eerste aanvraag tot het verlenen van een verblijfsvergunning als bedoeld \\nin artikel 28 heeft ingediend, zolang op die aanvraag nog niet is beslist;  \\nb. bedoeld in artikel 8, onder j, en  \\nc. van de vreemdeling wiens uitzetting op grond van een rechterlijke beslissing achterwege dient te \\nblijven totdat op het bezwaarschrift of beroepschrift is beslist.  \\nArtikel 67  \\n3. In afwijking van artikel 8 kan de ongewenst verklaarde vreemdeling geen rechtmatig verblijf hebben.  \\nArtikel 106a  \\n1. Voor zover op grond van de Europese verordeningen die betrekking hebben op biometrische gegevens\\ngeen gezichtsopname of vingerafdrukken kunnen worden afgenomen en verwerkt, kunnen van een \\nvreemdeling een gezichtsopname en tien vingerafdrukken worden afgenomen en verwerkt voor het \\nvaststellen van de identiteit met het oog op de uitvoering van deze wet.  \\nDe gezichtsopname en vingerafdrukken worden vergeleken met de gezichtsopnames en vingerafdrukken \\nin de vreemdelingenadministratie.  \\n  \\n  \\n  \\n \\n \\n \\n                \\n                Query: Vind alle aubfacts voor de volgende fact in de tekst: vreemdeling. Toon voor elke subfact de inhoud en de positie ervan in de wetstekst en de naam van de wet/ wettelijke tekst waar de subfact staat. \\n \\n\\n\\n                --- Antwoord ---\\n\\n                Geef het antwoord in het volgende formaat, voor iedere subfact die je kan vinden: \\n \\n\\n                Subfact: <subfact> \\n \\n\\n                Positie: Artikel <artikelnummer>, sectie <sectienummer> IN <wetstekst> \\n \\n\\n                ', '\\n\\n\\n                --- Definitie ---\\n\\n                Preconditie: Een preconditie beschrijft de omstandigheden waaronder de handeling wettelijk kan worden uitgevoerd.\\n                Act: Een act kan worden uitgevoerd door een agent binnen het normatieve systeem dat wordt gedefinieerd door het juridische document.\\n                Fact: Fact frames beschrijven zaken waarvan de aanwezigheid of waarheidswaarde de toestand van het normatieve systeem kenmerkt. \\n\\n                \\n\\n                \\n\\n                                --- Gedachteketen ---\\n\\n                                1. Zoek alle vermeldingen van de act in de tekst.\\n                                2. Zoek in de artikelen waarin de act wordt genoemd naar specifieke precondities voor de act. \\n                                3. Zoek ook naar specifieke verwijzingen naar andere artikelen waarin mogelijk andere predcondities voor de act worden genoemd.\\n                                4. Extraheer de precondities en hun positie in de tekst.\\n\\n                                \\n\\n                \\n\\n                                --- Aantal precondities ---\\n                                \\n                                Het aantal precondities dat je moet vinden is: 2.\\n                                \\n                \\n                --- Opdracht ---\\n\\n                Gebruik de volgende context: \\n Algemene wet bestuursrecht  \\n  \\n  \\n  \\nArtikel 1:3  \\n3. Onder aanvraag wordt verstaan: een verzoek van een belanghebbende, een besluit te nemen.  \\nArtikel 3:4  \\n2. De voor een of meer belanghebbenden nadelige gevolgen van een besluit mogen niet onevenredig zijn\\nin verhouding tot de met het besluit te dienen doelen.  \\nArtikel 4:5  \\n1. Het bestuursorgaan kan besluiten de aanvraag niet te behandelen, indien:  \\na. de aanvrager niet heeft voldaan aan enig wettelijk voorschrift voor het in behandeling nemen van de \\naanvraag, of  \\nb. de aanvraag geheel of gedeeltelijk is geweigerd op grond van artikel 2:15, of  \\nc. de verstrekte gegevens en bescheiden onvoldoende zijn voor de beoordeling van de aanvraag of voor \\nde voorbereiding van de beschikking,  \\n2. Indien de aanvraag of een van de daarbij behorende gegevens of bescheiden in een vreemde taal is \\ngesteld en een vertaling daarvan voor de beoordeling van de aanvraag of voor de voorbereiding van de \\nbeschikking noodzakelijk is, kan het bestuursorgaan besluiten de aanvraag niet te behandelen, mits de \\naanvrager de gelegenheid heeft gehad binnen een door het bestuursorgaan gestelde termijn de aanvraag\\nmet een vertaling aan te vullen.  \\n3. Indien de aanvraag of een van de daarbij behorende gegevens of bescheiden omvangrijk of \\ningewikkeld is en een samenvatting voor de beoordeling van de aanvraag of voor de voorbereiding van \\nde beschikking noodzakelijk is, kan het bestuursorgaan besluiten de aanvraag niet te behandelen, mits \\nde aanvrager de gelegenheid heeft gehad binnen een door het bestuursorgaan gestelde termijn de \\naanvraag met een samenvatting aan te vullen.  \\n4. Een besluit om de aanvraag niet te behandelen wordt aan de aanvrager bekendgemaakt binnen vier \\nweken nadat de aanvraag is aangevuld of nadat de daarvoor gestelde termijn ongebruikt is verstreken.  \\n  \\n  \\nVreemdelingenwet geldig vanaf 2024  \\n  \\n  \\nArtikel 1  \\nIn deze wet en de daarop berustende bepalingen wordt verstaan onder:  \\n* Onze Minister: Onze Minister van Veiligheid en Justitie;  \\n* referent: degene die overeenkomstig artikel 2a een verklaring heeft afgelegd of als zodanig is \\naangewezen;  \\n* verblijf op reguliere gronden: het verblijf van een vreemdeling in Nederland op grond van deze wet \\nanders dan op de gronden bedoeld in de artikelen 29 en 34;  \\n* vreemdeling: ieder die de Nederlandse nationaliteit niet bezit en niet op grond van een wettelijke \\nbepaling als Nederlander moet worden behandeld;  \\nArtikel 8  \\nDe vreemdeling heeft in Nederland uitsluitend rechtmatig verblijf:  \\na. op grond van een verblijfsvergunning voor bepaalde tijd als bedoeld in artikel 14;  \\nArtikel 9  \\n1. Onze Minister verschaft aan de vreemdeling, die rechtmatig verblijf heeft op grond van artikel 8, onder \\na tot en met d, f tot en met h en j tot en met m, en aan de vreemdeling die rechtmatig verblijf heeft op \\ngrond van artikel 8, onder e, en gemeenschapsonderdaan is als bedoeld in artikel 1, sub 2°, 4° en 6°, een\\ndocument of schriftelijke verklaring, waaruit het rechtmatig verblijf blijkt.  \\nAfdeling 3. De verblijfsvergunning regulier  \\nArtikel 14  \\n1. Onze Minister is bevoegd:  \\na. de aanvraag tot het verlenen van een verblijfsvergunning voor bepaalde tijd in te willigen, af te wijzen \\ndan wel niet in behandeling te nemen;  \\n3. Een verblijfsvergunning voor bepaalde tijd wordt verleend onder beperkingen, verband houdende met \\nhet doel waarvoor het verblijf is toegestaan.  \\n4. De verblijfsvergunning voor bepaalde tijd wordt verleend voor ten hoogste vijf achtereenvolgende \\njaren.  \\nArtikel 16  \\n1. Een aanvraag tot het verlenen van een verblijfsvergunning voor bepaalde tijd als bedoeld in artikel 14 \\nkan worden afgewezen indien:  \\na. de vreemdeling niet beschikt over een geldige machtiging tot voorlopig verblijf die overeenkomt met het\\nverblijfsdoel waarvoor de verblijfsvergunning is aangevraagd;  \\nb. de vreemdeling niet beschikt over een geldig document voor grensoverschrijding;  \\nc. de vreemdeling niet zelfstandig en duurzaam beschikt over voldoende middelen van bestaan dan wel, \\nindien de persoon bij wie de vreemdeling wil verblijven, niet zelfstandig en duurzaam beschikt over \\nvoldoende middelen van bestaan;  \\nd. de vreemdeling een gevaar vormt voor de openbare orde of nationale veiligheid;  \\ne. de vreemdeling niet bereid is om medewerking te verlenen aan een medisch onderzoek naar een \\nziekte aangewezen bij of krachtens de Wet publieke gezondheid, ter bescherming van de \\nvolksgezondheid of een medische behandeling tegen een dergelijke ziekte te ondergaan;  \\nf. de vreemdeling voor een werkgever arbeid verricht, zonder dat aan de Wet arbeid vreemdelingen is \\nvoldaan;  \\ng. de vreemdeling niet voldoet aan de beperking, verband houdende met het doel waarvoor hij wil \\nverblijven;  \\nh. de vreemdeling, die niet behoort tot een der categorieën, bedoeld in artikel 17, eerste lid, na verkrijging\\nvan rechtmatig verblijf in Nederland inburgeringsplichtig zou zijn op grond van de artikelen 3 en 4 van de \\nWet inburgering 2021 en niet beschikt over kennis op basisniveau van de Nederlandse taal en de \\nNederlandse maatschappij;  \\ni. de vreemdeling onjuiste gegevens heeft verstrekt dan wel gegevens heeft achtergehouden terwijl die \\ngegevens tot afwijzing van een eerdere aanvraag tot het verlenen, verlengen of wijzigen van een visum of\\neen verblijfsvergunning hebben geleid of zouden hebben geleid;  \\nj. de vreemdeling in Nederland verblijf heeft gehouden, anders dan op grond van artikel 8.  \\nk. ten behoeve van het verblijf van de vreemdeling geen verklaring van een referent is overgelegd als \\nbedoeld in artikel 2a, eerste lid.  \\nArtikel 17  \\n1. Een aanvraag tot het verlenen van een verblijfsvergunning voor bepaalde tijd als bedoeld in artikel 14 \\nwordt niet afgewezen wegens het ontbreken van een geldige machtiging tot voorlopig verblijf, indien het \\nbetreft:  \\na. de vreemdeling die de nationaliteit bezit van één der door bij regeling van Onze Minister in \\novereenstemming met Onze Minister van Buitenlandse Zaken aan te wijzen landen;  \\nb. de gemeenschapsonderdaan, voorzover niet reeds vrijgesteld op grond van een aanwijzing als \\nbedoeld onder a;  \\nc. de vreemdeling voor wie het gelet op diens gezondheidstoestand niet verantwoord is om te reizen;  \\nd. de vreemdeling die slachtoffer of getuige-aangever is van mensenhandel;  \\ne. de vreemdeling die onmiddellijk voorafgaande aan de aanvraag in het bezit was van een \\nverblijfsvergunning voor bepaalde tijd als bedoeld in artikel 28 dan wel van een verblijfsvergunning voor \\nonbepaalde tijd als bedoeld in artikel 33;  \\nf. de vreemdeling die tijdig een aanvraag heeft ingediend tot wijziging van een verblijfsvergunning;  \\ng. de vreemdeling die behoort tot een bij algemene maatregel van bestuur aangewezen categorie;  \\nArtikel 17a  \\n2. De vreemdeling is, in door Onze Minister te bepalen gevallen en volgens door Onze Minister te geven \\nregels, leges verschuldigd terzake van de afdoening van een aanvraag.  \\nAls betaling achterwege blijft, wordt de aanvraag niet in behandeling genomen dan wel het document niet\\nafgegeven.  \\nArtikel 4:5, vierde lid, Algemene wet bestuursrecht is niet van toepassing.  \\nArtikel 26  \\n1. De verblijfsvergunning, die van rechtswege rechtmatig verblijf inhoudt, wordt verleend met ingang van \\nde dag waarop de vreemdeling heeft aangetoond dat hij aan alle voorwaarden voldoet, maar niet eerder \\ndan met ingang van de dag waarop de aanvraag is ontvangen.  \\nArtikel 27  \\n1. De beschikking waarbij een aanvraag tot het verlenen van een verblijfsvergunning voor bepaalde tijd \\nals bedoeld in artikel 14 of een verblijfsvergunning voor onbepaalde tijd als bedoeld in artikel 20 wordt \\nafgewezen, geldt als terugkeerbesluit, tenzij reeds eerder een terugkeerbesluit tegen de vreemdeling is \\nuitgevaardigd en aan de daaruit voortvloeiende terugkeerverplichting niet is voldaan, en heeft van \\nrechtswege tot gevolg dat:  \\na. de vreemdeling niet langer rechtmatig verblijf heeft tenzij er een andere rechtsgrond voor rechtmatig \\nverblijf van toepassing is;  \\nb. de vreemdeling Nederland uit eigen beweging dient te verlaten binnen de in artikel 62 gestelde termijn, \\nbij gebreke waarvan de vreemdeling kan worden uitgezet, en  \\nc. de ambtenaren belast met het toezicht op vreemdelingen, na ommekomst van de termijn waarbinnen \\nde vreemdeling Nederland uit eigen beweging dient te verlaten, bevoegd zijn elke plaats te betreden, \\ndaaronder begrepen een woning, zonder de toestemming van de bewoner, teneinde de vreemdeling uit te\\nzetten.  \\n2. Het eerste lid is van overeenkomstige toepassing indien:  \\na. ingevolge artikel 24 of ingevolge artikel 4:5 van de Algemene wet bestuursrecht is besloten dat de \\naanvraag niet in behandeling wordt genomen;  \\nArtikel 66a  \\n6. In afwijking van artikel 8 kan de vreemdeling jegens wie een inreisverbod geldt of die is gesignaleerd \\nter fine van weigering van de toegang geen rechtmatig verblijf hebben, met uitzondering van het \\nrechtmatig verblijf:  \\na. van de vreemdeling die een eerste aanvraag tot het verlenen van een verblijfsvergunning als bedoeld \\nin artikel 28 heeft ingediend, zolang op die aanvraag nog niet is beslist;  \\nb. bedoeld in artikel 8, onder j, en  \\nc. van de vreemdeling wiens uitzetting op grond van een rechterlijke beslissing achterwege dient te \\nblijven totdat op het bezwaarschrift of beroepschrift is beslist.  \\nArtikel 67  \\n3. In afwijking van artikel 8 kan de ongewenst verklaarde vreemdeling geen rechtmatig verblijf hebben.  \\nArtikel 106a  \\n1. Voor zover op grond van de Europese verordeningen die betrekking hebben op biometrische gegevens\\ngeen gezichtsopname of vingerafdrukken kunnen worden afgenomen en verwerkt, kunnen van een \\nvreemdeling een gezichtsopname en tien vingerafdrukken worden afgenomen en verwerkt voor het \\nvaststellen van de identiteit met het oog op de uitvoering van deze wet.  \\nDe gezichtsopname en vingerafdrukken worden vergeleken met de gezichtsopnames en vingerafdrukken \\nin de vreemdelingenadministratie.  \\n  \\n  \\n  \\n \\n \\n \\n                \\n                Query: Vind alle precondities voor de volgende act in de tekst: inwilligen aanvraag van vreemdeling tot het verlenen van een reguliere verblijfsvergunning voor bepaalde tijd door Onze Minister van Veiligheid en Justitie. Toon voor elke preconditie de inhoud en de positie ervan in de wetstekst en de naam van de wet/ wettelijke tekst waar de preconditie staat. \\n \\n\\n\\n                --- Antwoord ---\\n\\n                Geef het antwoord in het volgende formaat, voor iedere preconditie die je kan vinden: \\n \\n\\n                Preconditie: <preconditie> \\n \\n\\n                Positie: Artikel <artikelnummer>, sectie <sectienummer> IN <wetstekst> \\n \\n\\n                ']\n",
      "Response as passed into reward model: ['Inhoud: <inhoud> \\n\\n\\n                Subfact: Indienende van de begrotingsstaten \\n                Positie: Artikel 2.23, sectie 2 IN Comptabiliteitswet 2016\\n                Inhoud: Wij dienen de voorstellen van wet tot vaststelling van de begrotingsstaten op de derde dinsdag van september van het jaar voorafgaande aan het begrotingsjaar bij de Tweede Kamer der Staten-Generaal in.\\n', 'Inhoud: <inhoud van de subfact>\\n\\n                Subfact: Budgettaire totaalbeeld\\n                Positie: Artikel 2.24, sectie 4.4 IN Rijksbegrotingsvoorschriften 2024\\n                Inhoud: Het budgettaire totaalbeeld voor het betrokken begrotingsjaar en de vier daaropvolgende jaren van de rijksbegroting en de niet tot de rijksbegroting behorende', ' Voorbeeld:\\n\\n                Preconditie: De vreemdeling niet zelfstandig en duurzaam beschikt over voldoende middelen van bestaan dan wel, indien de persoon bij wie de vreemdeling wil verblijven, niet zelfstandig en duurzaam beschikt over voldoende middelen van bestaan\\n                Positie: Artikel 16, 1c, Algemene wet bestuursrecht\\n\\n                Preconditie: De vre', ' Inhoud: <tekst van de subfact in de wetstekst>\\n\\n                  Subfact: De begrotingsstaat bevat begrotingsartikelen.\\n                  Positie: Artikel 2.5, sectie 1 IN Comptabiliteitswet 2016\\n                  Inhoud: De begrotingsstaat bestaat uit begrotingsartikelen en bevat per begrotingsartikel de volgende gegevens: (a) het artikelnummer; (b) de artikelomsch', ' <inhoud van de preconditie>\\n                -------------------------------\\n\\n                Preconditie: De belanghebbende woonplaats heeft een woonplaats in de gemeente waar het college van de gemeente is gevestigd.\\n\\n                Positie: Artikel 1, derde lid IN Comptabiliteitswet 2016\\n\\n                Inhoud van de preconditie: De belanghebbende woonplaats hoort tot de gemeente waar het college van de gemeente is gevestigd.\\n\\n\\n', '1. Het bestuur van de gemeente moet een verzoek tot algemene bijstand indienen. \\n \\n\\n                Positie: Artikel 1, sectie 1 IN Algemene wet besturing openbare lichamen \\n\\n\\n                2. De verzoekende moet in Nederland wonen. \\n \\n\\n                Positie: Artikel 1, sectie 2 IN Algemene wet besturing openbare lichamen \\n\\n\\n                3. De verzoekende moet de algemene bij', '--------------------------------------------------------------------------------------------------------------------------------------------------------------------------------------\\n                Subfact: vreemdeling \\n                Positie: Artikel 1, IN Vreemdelingenwet geldig vanaf 2024 \\n                Subfact: vreemdeling \\n                Positie: Artikel 8, IN Vreemdelingenwet geldig vanaf 2024 \\n                Subfact: vreemdeling \\n                Positie: Artikel 14, IN Vreemdelingenwet geldig', '1. De vreemdeling moet beschikken over een geldige machtiging tot voorlopig verblijf die overeenkomt met het verblijfsdoel waarvoor de verblijfsvergunning is aangevraagd. \\n \\n\\n                Positie: Artikel 16, 1a, Algemene wet bestuursrecht \\n\\n                2. De vreemdeling moet beschikken over een geldig document voor grensoverschrijding. \\n \\n\\n                Positie:']\n"
     ]
    },
    {
     "ename": "IndentationError",
     "evalue": "unexpected indent (<unknown>, line 4)",
     "output_type": "error",
     "traceback": [
      "Traceback \u001b[0;36m(most recent call last)\u001b[0m:\n",
      "\u001b[0m  File \u001b[1;32m~/miniconda3/envs/RL/lib/python3.10/site-packages/IPython/core/interactiveshell.py:3579\u001b[0m in \u001b[1;35mrun_code\u001b[0m\n    exec(code_obj, self.user_global_ns, self.user_ns)\u001b[0m\n",
      "\u001b[0m  Cell \u001b[1;32mIn[14], line 2\u001b[0m\n    trainer.train()\u001b[0m\n",
      "\u001b[0m  File \u001b[1;32m~/development/RAG/flintfiller-precondition-rl/rl_training_new/ppo_trainer_custom.py:531\u001b[0m in \u001b[1;35mtrain\u001b[0m\n    _, score, _ = self.reward_func(\u001b[0m\n",
      "\u001b[0m  File \u001b[1;32m~/development/RAG/flintfiller-precondition-rl/rl_training_new/utils.py:602\u001b[0m in \u001b[1;35m__call__\u001b[0m\n    precondition_texts_dict = ast.literal_eval(precondition_texts)\u001b[0m\n",
      "\u001b[0m  File \u001b[1;32m~/miniconda3/envs/RL/lib/python3.10/ast.py:64\u001b[0m in \u001b[1;35mliteral_eval\u001b[0m\n    node_or_string = parse(node_or_string.lstrip(\" \\t\"), mode='eval')\u001b[0m\n",
      "\u001b[0;36m  File \u001b[0;32m~/miniconda3/envs/RL/lib/python3.10/ast.py:50\u001b[0;36m in \u001b[0;35mparse\u001b[0;36m\n\u001b[0;31m    return compile(source, filename, mode, flags,\u001b[0;36m\n",
      "\u001b[0;36m  File \u001b[0;32m<unknown>:4\u001b[0;36m\u001b[0m\n\u001b[0;31m    --- Definitie ---\u001b[0m\n\u001b[0m    ^\u001b[0m\n\u001b[0;31mIndentationError\u001b[0m\u001b[0;31m:\u001b[0m unexpected indent\n"
     ]
    }
   ],
   "source": [
    "# Train\n",
    "trainer.train()"
   ]
  },
  {
   "cell_type": "code",
   "execution_count": null,
   "metadata": {},
   "outputs": [],
   "source": [
    "#TODO: training and validation loss are near zero, need to debug"
   ]
  }
 ],
 "metadata": {
  "kernelspec": {
   "display_name": "RL",
   "language": "python",
   "name": "python3"
  },
  "language_info": {
   "codemirror_mode": {
    "name": "ipython",
    "version": 3
   },
   "file_extension": ".py",
   "mimetype": "text/x-python",
   "name": "python",
   "nbconvert_exporter": "python",
   "pygments_lexer": "ipython3",
   "version": "3.10.16"
  }
 },
 "nbformat": 4,
 "nbformat_minor": 2
}
