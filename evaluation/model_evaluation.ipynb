{
 "cells": [
  {
   "cell_type": "markdown",
   "id": "7e99baab",
   "metadata": {},
   "source": [
    "# Evaluate finetuned Mistral Models"
   ]
  },
  {
   "cell_type": "markdown",
   "id": "d1d0599d",
   "metadata": {},
   "source": [
    "## Imports and environment variables"
   ]
  },
  {
   "cell_type": "code",
   "execution_count": 33,
   "id": "7235bb20",
   "metadata": {},
   "outputs": [
    {
     "name": "stdout",
     "output_type": "stream",
     "text": [
      "There are 1 GPU(s) available.\n",
      "CUDA is available. Using GPU: NVIDIA L40S\n"
     ]
    }
   ],
   "source": [
    "import torch\n",
    "import os\n",
    "import sys\n",
    "from dotenv import load_dotenv\n",
    "import ast\n",
    "import evaluate\n",
    "\n",
    "from peft import PeftModel\n",
    "\n",
    "import pandas as pd\n",
    "\n",
    "from transformers import AutoTokenizer, AutoModelForSequenceClassification, TrainingArguments, AutoModelForCausalLM\n",
    "\n",
    "# Load environment variables from .env file\n",
    "load_dotenv()\n",
    "\n",
    "# Add the parent directory to the Python path\n",
    "# __file__\n",
    "\n",
    "\n",
    "# Adjust this path to point to the directory containing rl_training_new\n",
    "module_path = os.path.abspath(os.path.join('..')) # or another relative path\n",
    "if module_path not in sys.path:\n",
    "    sys.path.append(module_path)\n",
    "\n",
    "from rl_training_new.utils import find_best_window\n",
    "\n",
    "\n",
    "from bert_score import score\n",
    "\n",
    "# load the relevant devices available on the server\n",
    "os.environ[\"CUDA_VISIBLE_DEVICES\"] = os.getenv(\"AVAILABLE_DEVICES\")\n",
    "\n",
    "# Enable expandable CUDA segments\n",
    "os.environ[\"PYTORCH_CUDA_ALLOC_CONF\"] = \"expandable_segments:True\"\n",
    "\n",
    "# load cuda\n",
    "if torch.cuda.is_available():\n",
    "    device = torch.device(\"cuda\")\n",
    "    print('There are %d GPU(s) available.' % torch.cuda.device_count())\n",
    "    print(\"CUDA is available. Using GPU:\", torch.cuda.get_device_name(0))\n",
    "else:\n",
    "    device = torch.device(\"cpu\")\n",
    "    print(\"CUDA is not available. Using CPU.\")\n"
   ]
  },
  {
   "cell_type": "code",
   "execution_count": 2,
   "id": "329c4a4d",
   "metadata": {},
   "outputs": [],
   "source": [
    "MODEL = os.getenv(\"GENERATION_MODEL_NAME\")\n",
    "ALGORITHM = os.getenv(\"EVAL_MODEL_ALGORITHM\")\n",
    "RL_TRAINED_ADAPTERS = os.getenv(\"EVAL_MODEL_FOLDER\")\n",
    "EVAL_ANSWERS_CSV = os.getenv(\"EVAL_ANSWERS_CSV\")"
   ]
  },
  {
   "cell_type": "markdown",
   "id": "db917af8",
   "metadata": {},
   "source": [
    "## Load model"
   ]
  },
  {
   "cell_type": "code",
   "execution_count": 3,
   "id": "e2ca7f88",
   "metadata": {},
   "outputs": [
    {
     "name": "stderr",
     "output_type": "stream",
     "text": [
      "Loading checkpoint shards: 100%|██████████| 3/3 [00:05<00:00,  1.78s/it]\n"
     ]
    },
    {
     "data": {
      "text/plain": [
       "PeftModelForCausalLM(\n",
       "  (base_model): LoraModel(\n",
       "    (model): MistralForCausalLM(\n",
       "      (model): MistralModel(\n",
       "        (embed_tokens): Embedding(32768, 4096)\n",
       "        (layers): ModuleList(\n",
       "          (0-31): 32 x MistralDecoderLayer(\n",
       "            (self_attn): MistralAttention(\n",
       "              (q_proj): lora.Linear(\n",
       "                (base_layer): Linear(in_features=4096, out_features=4096, bias=False)\n",
       "                (lora_dropout): ModuleDict(\n",
       "                  (default): Dropout(p=0.1, inplace=False)\n",
       "                )\n",
       "                (lora_A): ModuleDict(\n",
       "                  (default): Linear(in_features=4096, out_features=8, bias=False)\n",
       "                )\n",
       "                (lora_B): ModuleDict(\n",
       "                  (default): Linear(in_features=8, out_features=4096, bias=False)\n",
       "                )\n",
       "                (lora_embedding_A): ParameterDict()\n",
       "                (lora_embedding_B): ParameterDict()\n",
       "                (lora_magnitude_vector): ModuleDict()\n",
       "              )\n",
       "              (k_proj): Linear(in_features=4096, out_features=1024, bias=False)\n",
       "              (v_proj): lora.Linear(\n",
       "                (base_layer): Linear(in_features=4096, out_features=1024, bias=False)\n",
       "                (lora_dropout): ModuleDict(\n",
       "                  (default): Dropout(p=0.1, inplace=False)\n",
       "                )\n",
       "                (lora_A): ModuleDict(\n",
       "                  (default): Linear(in_features=4096, out_features=8, bias=False)\n",
       "                )\n",
       "                (lora_B): ModuleDict(\n",
       "                  (default): Linear(in_features=8, out_features=1024, bias=False)\n",
       "                )\n",
       "                (lora_embedding_A): ParameterDict()\n",
       "                (lora_embedding_B): ParameterDict()\n",
       "                (lora_magnitude_vector): ModuleDict()\n",
       "              )\n",
       "              (o_proj): Linear(in_features=4096, out_features=4096, bias=False)\n",
       "            )\n",
       "            (mlp): MistralMLP(\n",
       "              (gate_proj): Linear(in_features=4096, out_features=14336, bias=False)\n",
       "              (up_proj): Linear(in_features=4096, out_features=14336, bias=False)\n",
       "              (down_proj): Linear(in_features=14336, out_features=4096, bias=False)\n",
       "              (act_fn): SiLU()\n",
       "            )\n",
       "            (input_layernorm): MistralRMSNorm((4096,), eps=1e-05)\n",
       "            (post_attention_layernorm): MistralRMSNorm((4096,), eps=1e-05)\n",
       "          )\n",
       "        )\n",
       "        (norm): MistralRMSNorm((4096,), eps=1e-05)\n",
       "        (rotary_emb): MistralRotaryEmbedding()\n",
       "      )\n",
       "      (lm_head): Linear(in_features=4096, out_features=32768, bias=False)\n",
       "    )\n",
       "  )\n",
       ")"
      ]
     },
     "execution_count": 3,
     "metadata": {},
     "output_type": "execute_result"
    }
   ],
   "source": [
    "base_model = AutoModelForCausalLM.from_pretrained(MODEL)\n",
    "new_model = PeftModel.from_pretrained(base_model, RL_TRAINED_ADAPTERS)\n",
    "\n",
    "tokenizer = AutoTokenizer.from_pretrained(MODEL)\n",
    "\n",
    "base_model.eval()\n",
    "new_model.eval()\n",
    "\n",
    "base_model.to(device)\n",
    "new_model.to(device)\n"
   ]
  },
  {
   "cell_type": "markdown",
   "id": "ad7ace9b",
   "metadata": {},
   "source": [
    "## Get test dataset"
   ]
  },
  {
   "cell_type": "code",
   "execution_count": 4,
   "id": "3a729e82",
   "metadata": {},
   "outputs": [],
   "source": [
    "RL_DATA_PATH = os.getenv(\"RL_DATA_PATH\")\n",
    "df = pd.read_csv(RL_DATA_PATH + \"/test_random.csv\", sep=';')"
   ]
  },
  {
   "cell_type": "markdown",
   "id": "6afccf5c",
   "metadata": {},
   "source": [
    "## Generate Model responses"
   ]
  },
  {
   "cell_type": "code",
   "execution_count": 5,
   "id": "ab9ff172",
   "metadata": {},
   "outputs": [],
   "source": [
    "# Function to generate response\n",
    "def generate_response(prompt, tokenizer, model, max_length=1024):\n",
    "    inputs = tokenizer(prompt, return_tensors=\"pt\").to(device)\n",
    "    input_length = inputs['input_ids'].shape[1]\n",
    "    with torch.no_grad():\n",
    "        outputs = model.generate(**inputs, max_length=input_length + max_length, do_sample=True, top_k=50)\n",
    "        generated_ids = outputs[0][input_length:]\n",
    "    return tokenizer.decode(generated_ids, skip_special_tokens=True)"
   ]
  },
  {
   "cell_type": "code",
   "execution_count": 6,
   "id": "2fe4e660",
   "metadata": {},
   "outputs": [
    {
     "name": "stderr",
     "output_type": "stream",
     "text": [
      "Setting `pad_token_id` to `eos_token_id`:2 for open-end generation.\n"
     ]
    },
    {
     "name": "stderr",
     "output_type": "stream",
     "text": [
      "Setting `pad_token_id` to `eos_token_id`:2 for open-end generation.\n",
      "Setting `pad_token_id` to `eos_token_id`:2 for open-end generation.\n",
      "Setting `pad_token_id` to `eos_token_id`:2 for open-end generation.\n",
      "Setting `pad_token_id` to `eos_token_id`:2 for open-end generation.\n",
      "Setting `pad_token_id` to `eos_token_id`:2 for open-end generation.\n",
      "Setting `pad_token_id` to `eos_token_id`:2 for open-end generation.\n",
      "Setting `pad_token_id` to `eos_token_id`:2 for open-end generation.\n"
     ]
    },
    {
     "name": "stdout",
     "output_type": "stream",
     "text": [
      "                                              prompt  \\\n",
      "0  \\n\\n\\n                --- Definitie ---\\n\\n   ...   \n",
      "1  \\n\\n\\n                --- Definitie ---\\n\\n   ...   \n",
      "2  \\n\\n\\n                --- Definitie ---\\n\\n   ...   \n",
      "3  \\n\\n\\n                --- Definitie ---\\n\\n   ...   \n",
      "\n",
      "                                  response_new_model  \\\n",
      "0   Inhoud: In elk geval het budgettaire totaalbe...   \n",
      "1  <inhoud van de preconditie>\\n\\n               ...   \n",
      "2  ----------------------------------------------...   \n",
      "3  1. Voorwaarde voor het weigeren recht op algem...   \n",
      "\n",
      "                                 response_base_model  \n",
      "0  -------\\n\\n                Subfact: Begrotings...  \n",
      "1  1. De vreemdeling beschikt over een geldige ma...  \n",
      "2                 1. Een preconditie voor de act ...  \n",
      "3  ------------------------------\\n\\n\\n          ...  \n"
     ]
    }
   ],
   "source": [
    "# Apply both models\n",
    "df['response_base_model'] = df['prompt'].apply(lambda x: generate_response(x, tokenizer, base_model))\n",
    "df['response_new_model'] = df['prompt'].apply(lambda x: generate_response(x, tokenizer, new_model))\n",
    "\n",
    "# Show result\n",
    "print(df[['prompt', 'response_new_model', 'response_base_model']])"
   ]
  },
  {
   "cell_type": "code",
   "execution_count": 7,
   "id": "99499c89",
   "metadata": {},
   "outputs": [
    {
     "data": {
      "text/plain": [
       "'prompt;precondition_texts;precondition_positions;response_base_model;response_new_model\\n\"\\n\\n\\n                --- Definitie ---\\n\\n                Preconditie: Een preconditie beschrijft de omstandigheden waaronder de handeling wettelijk kan worden uitgevoerd.\\n                Act: Een act kan worden uitgevoerd door een agent binnen het normatieve systeem dat wordt gedefinieerd door het juridische document.\\n                Fact: Fact frames beschrijven zaken waarvan de aanwezigheid of waarheidswaarde de toestand van het normatieve systeem kenmerkt. \\n\\n                \\n\\n                \\n\\n                                --- Gedachteketen ---\\n\\n                                1. Zoek alle vermeldingen van de fact in de tekst.\\n                                2. Zoek in de artikelen waarin de fact wordt genoemd naar specifieke subfacts voor de fact. \\n                                3. Zoek ook naar specifieke verwijzingen naar andere artikelen waarin mogelijk andere subfacts voor de fact worden genoemd.\\n                                4. Extraheer de subfacts en hun positie in de tekst.\\n\\n                                \\n\\n                \\n\\n                                --- Aantal Subfacts ---\\n                                \\n                                Het aantal subfacts dat je moet vinden is: 3.\\n                                \\n                \\n                --- Opdracht ---\\n\\n                Gebruik de volgende context: \\n Comptabiliteitswet 2016  \\n  \\n  \\n  \\n  \\n  \\nHoofdstuk 2. De begroting en verantwoording van het Rijk  \\n  \\n§ 1. Rijksbegroting  \\n  \\nArtikel 2.1. Samenstelling en inhoud van de rijksbegroting  \\n1. Tot de rijksbegroting behoren de departementale en de niet-departementale begrotingen van de \\nministeries en de colleges.  \\n2. Onze Ministers, ieder met betrekking tot het beleid waarvoor hij verantwoordelijk is, stellen voor de \\naanvang van een begrotingsjaar een begroting op.  \\n3. Voor elk ministerie is er één departementale begroting en kunnen er één of meer niet-departementale \\nbegrotingen zijn.  \\n4. Voor elk college is er een niet-departementale begroting.  \\n5. Als niet-departementale begroting worden voorts uitsluitend aangemerkt:  \\na. de begroting van de Koning, bedoeld in artikel 2.9, en de begroting van Nationale Schuld, bedoeld in \\nartikel 2.10;  \\nb. de begroting van koninkrijksrelaties, tenzij de uitgaven en ontvangsten die samenhangen met \\nkoninkrijksrelaties worden opgenomen in de betrokken departementale begroting;  \\nc. de begrotingen van de begrotingsfondsen, bedoeld in artikel 2.11, eerste lid;  \\nd. de programmabegrotingen, bedoeld in artikel 2.12, eerste lid.  \\n6. Een departementale begroting bevat de weergave van het beleid en de bedrijfsvoering van het \\nministerie, met uitzondering van de beleidsaangelegenheden die worden opgenomen in een begroting als\\nbedoeld in het vijfde lid.  \\n7. De niet-departementale begroting van een college bevat de weergave van de taken en van de \\nbedrijfsvoering van het college.  \\n8. Een programmabegroting, onderscheidenlijk een begroting van een begrotingsfonds, bevat de \\nweergave van het afgezonderde beheer, bedoeld in artikel 2.12, eerste lid, respectievelijk artikel 2.11, \\neerste lid. Een programmabegroting, onderscheidenlijk een begroting van een begrotingsfonds, bevat \\ngeen weergave van de bedrijfsvoering die met dat afgezonderde beheer samenhangt.  \\n§ 2. Inrichting van de begroting  \\n  \\n  \\nArtikel 2.2. Presentatie van een begroting  \\n  \\nEen begroting bestaat uit een begrotingsstaat en een daarbij behorende toelichting.  \\n  \\n  \\nArtikel 2.5. Begrotingsstaat  \\n  \\nDe begrotingsstaat bestaat uit begrotingsartikelen en bevat per begrotingsartikel de volgende gegevens:  \\na. het artikelnummer;  \\nb. de artikelomschrijving;  \\nc. het geraamde bedrag voor financiële verplichtingen;  \\nd. het geraamde bedrag voor kasuitgaven;  \\ne. het geraamde bedrag voor kasontvangsten.  \\n  \\n  \\nArtikel 2.23. Indienen van de rijksbegroting  \\n  \\n1. Wij dienen de voorstellen van wet tot vaststelling van de begrotingsstaten op de derde dinsdag van \\nseptember van het jaar voorafgaande aan het begrotingsjaar bij de Tweede Kamer der Staten-Generaal \\nin.  \\n2. In afwijking van het eerste lid kunnen Wij Onze Minister van Financiën machtigen de voorstellen van \\nwet tot vaststelling van de begrotingsstaten bij de Tweede Kamer der Staten-Generaal in te dienen.  \\n3. Onze Minister van Financiën biedt op de dag van de indiening van de voorstellen van wet tot \\nvaststelling van de begrotingsstaten de Miljoenennota aan de Staten-Generaal aan.  \\n4. De Miljoenennota bevat in elk geval:  \\na. het budgettaire totaalbeeld voor het betrokken begrotingsjaar en de vier daaropvolgende jaren van de \\nrijksbegroting en de niet tot de rijksbegroting behorende budgetdisciplinesectoren;  \\nb. de budgettaire beschouwingen over het voorgenomen beleid voor de collectieve sector;  \\nc. een overzicht van de uitgaven en de ontvangsten in de begrotingen voor het begrotingsjaar en de vier \\ndaarop aansluitende jaren.  \\n  \\n  \\n  \\nHoofdstuk 4. Begrotingsbeheer en financieel beheer: verantwoordelijkheden  \\n  \\n§ 1. Beleid en bedrijfsvoering door Onze Ministers  \\n  \\n  \\nArtikel 4.3. Beheer niet-departementale begrotingen  \\n  \\n1. Onze Minister van Algemene Zaken is verantwoordelijk voor het beheer van de begroting van de \\nKoning.  \\n2. Onze Minister van Binnenlandse Zaken en Koninkrijksrelaties is verantwoordelijk voor het beheer van \\nde begroting van koninkrijksrelaties.  \\n3. Onze Minister van Financiën is verantwoordelijk voor het beheer van de begroting van Nationale \\nSchuld.  \\n§ 2. Beheer door colleges  \\n  \\nArtikel 4.4. Beheer begrotingen colleges  \\n  \\n1. Onze Minister van Algemene Zaken is verantwoordelijk voor het beheer van de begrotingen van het \\nKabinet van de Koning en de Commissie van toezicht betreffende de inlichtingen- en veiligheidsdiensten.  \\n2. Onze Minister van Binnenlandse Zaken en Koninkrijksrelaties is verantwoordelijk voor het beheer van \\nde begrotingen van de Staten-Generaal, de Raad van State, de Algemene Rekenkamer, de Nationale \\nombudsman, de Kanselarij der Nederlandse Orden, het Kabinet van de Gouverneur van Aruba, het \\nKabinet van de Gouverneur van Curaçao, het Kabinet van de Gouverneur van Sint Maarten en de \\nKiesraad.  \\n3. De colleges zijn belast met het begrotingsbeheer, het financieel beheer, de materiële bedrijfsvoering en\\nde daartoe gevoerde administraties.  \\n4. Onze Ministers die het aangaan maken met de colleges over het beheer van hun begrotingen \\nafspraken, waarin recht wordt gedaan aan de staatsrechtelijke positie van de colleges.  \\n  \\n  \\n  \\n  \\nRijksbegrotingsvoorschriften 2024  \\n  \\nDe begrotingsstaat  \\n  \\nArtikelen 2.1, eerste lid, derde tot en met achtste lid, 2.2, 2.5 en 2.11 van de Comptabiliteitswet 2016  \\n  \\nBepalingen  \\n  \\nDe begrotingsstaat behorende bij een departementale begroting inclusief de begrotingsstaat van de \\nagentschappen wordt ingericht conform model 1.20.  \\nDe begrotingsstaat behorend bij een departementale begroting, inclusief de begrotingsstaat van de \\nagentschappen en van de begrotingsfondsen wordt conform model 1.24 ingericht.  \\nDe begrotingsstaat behorende bij de begroting van een niet-departementale begroting eventueel inclusief \\nde agentschappen wordt volgens model 1.21 of model 1.22 opgesteld.  \\nDe begrotingsstaat behorende bij een begrotingsfonds wordt ingericht volgens model 1.23.  \\n  \\n \\n \\n \\n                \\n                Query: Vind alle aubfacts voor de volgende fact in de tekst: De miljoenennota bevat in elk geval het budgettaire totaalbeeld, de budgettaire beschouwingen en een overzicht van de uitgaven en ontvangsten. Toon voor elke subfact de inhoud en de positie ervan in de wetstekst en de naam van de wet/ wettelijke tekst waar de subfact staat. \\n \\n\\n\\n                --- Antwoord ---\\n\\n                Geef het antwoord in het volgende formaat, voor iedere subfact die je kan vinden: \\n \\n\\n                Subfact: <subfact> \\n \\n\\n                Positie: Artikel <artikelnummer>, sectie <sectienummer> IN <wetstekst> \\n \\n\\n                \";{\\'c65f8a04-f0ea-496d-96fd-92cd22aa32dc\\': \\'een overzicht van de uitgaven en de ontvangsten in de begrotingen voor het begrotingsjaar en de vier daarop aansluitende jaren.\\', \\'47fd8598-84b8-4020-b6bf-f38364783d0a\\': \\'de budgettaire beschouwingen over het voorgenomen beleid voor de collectieve sector\\', \\'c2670808-0c70-4d85-8e6e-3e2d258e2135\\': \\'het budgettaire totaalbeeld voor het betrokken begrotingsjaar en de vier daaropvolgende jaren van de rijksbegroting en de niet tot de rijksbegroting behorende budgetdisciplinesectoren\\'};{\\'c65f8a04-f0ea-496d-96fd-92cd22aa32dc\\': \\'Artikel 2.23 sectie 4c IN Comptabiliteitswet 2016\\', \\'47fd8598-84b8-4020-b6bf-f38364783d0a\\': \\'Artikel 2.23 sectie 4b IN Comptabiliteitswet 2016\\', \\'c2670808-0c70-4d85-8e6e-3e2d258e2135\\': \\'Artikel 2.23 sectie 4a IN Comptabiliteitswet 2016\\'};\"-------\\n\\n                Subfact: Begrotingsstaat, Budgettaire beschouwingen\\n \\t                Positie: Artikel 4.4, derde lid, letter b IN Comptabiliteitswet 2016\\n\\n                -------\\n\\n                Subfact: Budgettaire totaalbeeld\\n \\t                Positie: Artikel 4.4, derde lid, letter a IN Comptabiliteitswet 2016\\n\\n                -------\\n\\n                Subfact: Overzicht van de uitgaven en de ontvangsten\\n \\t                Positie: Artikel 4.4, derde lid, letter c IN Comptabiliteitswet 2016\";\" Inhoud: In elk geval het budgettaire totaalbeeld, de budgettaire beschouwingen en een overzicht van de uitgaven en ontvangsten.  \\n\\n                Hoofdstuk 2. Inrichting van de begroting  \\n\\n                Artikel 2.23. Indienen van de rijksbegroting  \\n\\n                  Subfact: Budgettaire totaalbeeld en budgettaire beschouwingen\\n\\n                Positie: 4a en 4b in artikel 2.23 van de Comptabiliteitswet 2016\\n\\n                  Subfact: Overzicht van de uitgaven en ontvangsten\\n\\n                Positie: 4c in artikel 2.23 van de Comptabiliteitswet 2016\"\\n\"\\n\\n\\n                --- Definitie ---\\n\\n                Preconditie: Een preconditie beschrijft de omstandigheden waaronder de handeling wettelijk kan worden uitgevoerd.\\n                Act: Een act kan worden uitgevoerd door een agent binnen het normatieve systeem dat wordt gedefinieerd door het juridische document.\\n                Fact: Fact frames beschrijven zaken waarvan de aanwezigheid of waarheidswaarde de toestand van het normatieve systeem kenmerkt. \\n\\n                \\n\\n                \\n\\n                                --- Gedachteketen ---\\n\\n                                1. Zoek alle vermeldingen van de act in de tekst.\\n                                2. Zoek in de artikelen waarin de act wordt genoemd naar specifieke precondities voor de act. \\n                                3. Zoek ook naar specifieke verwijzingen naar andere artikelen waarin mogelijk andere predcondities voor de act worden genoemd.\\n                                4. Extraheer de precondities en hun positie in de tekst.\\n\\n                                \\n\\n                \\n\\n                                --- Aantal precondities ---\\n                                \\n                                Het aantal precondities dat je moet vinden is: 2.\\n                                \\n                \\n                --- Opdracht ---\\n\\n                Gebruik de volgende context: \\n Algemene wet bestuursrecht  \\n  \\n  \\n  \\nArtikel 1:3  \\n3. Onder aanvraag wordt verstaan: een verzoek van een belanghebbende, een besluit te nemen.  \\nArtikel 3:4  \\n2. De voor een of meer belanghebbenden nadelige gevolgen van een besluit mogen niet onevenredig zijn\\nin verhouding tot de met het besluit te dienen doelen.  \\nArtikel 4:5  \\n1. Het bestuursorgaan kan besluiten de aanvraag niet te behandelen, indien:  \\na. de aanvrager niet heeft voldaan aan enig wettelijk voorschrift voor het in behandeling nemen van de \\naanvraag, of  \\nb. de aanvraag geheel of gedeeltelijk is geweigerd op grond van artikel 2:15, of  \\nc. de verstrekte gegevens en bescheiden onvoldoende zijn voor de beoordeling van de aanvraag of voor \\nde voorbereiding van de beschikking,  \\n2. Indien de aanvraag of een van de daarbij behorende gegevens of bescheiden in een vreemde taal is \\ngesteld en een vertaling daarvan voor de beoordeling van de aanvraag of voor de voorbereiding van de \\nbeschikking noodzakelijk is, kan het bestuursorgaan besluiten de aanvraag niet te behandelen, mits de \\naanvrager de gelegenheid heeft gehad binnen een door het bestuursorgaan gestelde termijn de aanvraag\\nmet een vertaling aan te vullen.  \\n3. Indien de aanvraag of een van de daarbij behorende gegevens of bescheiden omvangrijk of \\ningewikkeld is en een samenvatting voor de beoordeling van de aanvraag of voor de voorbereiding van \\nde beschikking noodzakelijk is, kan het bestuursorgaan besluiten de aanvraag niet te behandelen, mits \\nde aanvrager de gelegenheid heeft gehad binnen een door het bestuursorgaan gestelde termijn de \\naanvraag met een samenvatting aan te vullen.  \\n4. Een besluit om de aanvraag niet te behandelen wordt aan de aanvrager bekendgemaakt binnen vier \\nweken nadat de aanvraag is aangevuld of nadat de daarvoor gestelde termijn ongebruikt is verstreken.  \\n  \\n  \\nVreemdelingenwet geldig vanaf 2024  \\n  \\n  \\nArtikel 1  \\nIn deze wet en de daarop berustende bepalingen wordt verstaan onder:  \\n* Onze Minister: Onze Minister van Veiligheid en Justitie;  \\n* referent: degene die overeenkomstig artikel 2a een verklaring heeft afgelegd of als zodanig is \\naangewezen;  \\n* verblijf op reguliere gronden: het verblijf van een vreemdeling in Nederland op grond van deze wet \\nanders dan op de gronden bedoeld in de artikelen 29 en 34;  \\n* vreemdeling: ieder die de Nederlandse nationaliteit niet bezit en niet op grond van een wettelijke \\nbepaling als Nederlander moet worden behandeld;  \\nArtikel 8  \\nDe vreemdeling heeft in Nederland uitsluitend rechtmatig verblijf:  \\na. op grond van een verblijfsvergunning voor bepaalde tijd als bedoeld in artikel 14;  \\nArtikel 9  \\n1. Onze Minister verschaft aan de vreemdeling, die rechtmatig verblijf heeft op grond van artikel 8, onder \\na tot en met d, f tot en met h en j tot en met m, en aan de vreemdeling die rechtmatig verblijf heeft op \\ngrond van artikel 8, onder e, en gemeenschapsonderdaan is als bedoeld in artikel 1, sub 2°, 4° en 6°, een\\ndocument of schriftelijke verklaring, waaruit het rechtmatig verblijf blijkt.  \\nAfdeling 3. De verblijfsvergunning regulier  \\nArtikel 14  \\n1. Onze Minister is bevoegd:  \\na. de aanvraag tot het verlenen van een verblijfsvergunning voor bepaalde tijd in te willigen, af te wijzen \\ndan wel niet in behandeling te nemen;  \\n3. Een verblijfsvergunning voor bepaalde tijd wordt verleend onder beperkingen, verband houdende met \\nhet doel waarvoor het verblijf is toegestaan.  \\n4. De verblijfsvergunning voor bepaalde tijd wordt verleend voor ten hoogste vijf achtereenvolgende \\njaren.  \\nArtikel 16  \\n1. Een aanvraag tot het verlenen van een verblijfsvergunning voor bepaalde tijd als bedoeld in artikel 14 \\nkan worden afgewezen indien:  \\na. de vreemdeling niet beschikt over een geldige machtiging tot voorlopig verblijf die overeenkomt met het\\nverblijfsdoel waarvoor de verblijfsvergunning is aangevraagd;  \\nb. de vreemdeling niet beschikt over een geldig document voor grensoverschrijding;  \\nc. de vreemdeling niet zelfstandig en duurzaam beschikt over voldoende middelen van bestaan dan wel, \\nindien de persoon bij wie de vreemdeling wil verblijven, niet zelfstandig en duurzaam beschikt over \\nvoldoende middelen van bestaan;  \\nd. de vreemdeling een gevaar vormt voor de openbare orde of nationale veiligheid;  \\ne. de vreemdeling niet bereid is om medewerking te verlenen aan een medisch onderzoek naar een \\nziekte aangewezen bij of krachtens de Wet publieke gezondheid, ter bescherming van de \\nvolksgezondheid of een medische behandeling tegen een dergelijke ziekte te ondergaan;  \\nf. de vreemdeling voor een werkgever arbeid verricht, zonder dat aan de Wet arbeid vreemdelingen is \\nvoldaan;  \\ng. de vreemdeling niet voldoet aan de beperking, verband houdende met het doel waarvoor hij wil \\nverblijven;  \\nh. de vreemdeling, die niet behoort tot een der categorieën, bedoeld in artikel 17, eerste lid, na verkrijging\\nvan rechtmatig verblijf in Nederland inburgeringsplichtig zou zijn op grond van de artikelen 3 en 4 van de \\nWet inburgering 2021 en niet beschikt over kennis op basisniveau van de Nederlandse taal en de \\nNederlandse maatschappij;  \\ni. de vreemdeling onjuiste gegevens heeft verstrekt dan wel gegevens heeft achtergehouden terwijl die \\ngegevens tot afwijzing van een eerdere aanvraag tot het verlenen, verlengen of wijzigen van een visum of\\neen verblijfsvergunning hebben geleid of zouden hebben geleid;  \\nj. de vreemdeling in Nederland verblijf heeft gehouden, anders dan op grond van artikel 8.  \\nk. ten behoeve van het verblijf van de vreemdeling geen verklaring van een referent is overgelegd als \\nbedoeld in artikel 2a, eerste lid.  \\nArtikel 17  \\n1. Een aanvraag tot het verlenen van een verblijfsvergunning voor bepaalde tijd als bedoeld in artikel 14 \\nwordt niet afgewezen wegens het ontbreken van een geldige machtiging tot voorlopig verblijf, indien het \\nbetreft:  \\na. de vreemdeling die de nationaliteit bezit van één der door bij regeling van Onze Minister in \\novereenstemming met Onze Minister van Buitenlandse Zaken aan te wijzen landen;  \\nb. de gemeenschapsonderdaan, voorzover niet reeds vrijgesteld op grond van een aanwijzing als \\nbedoeld onder a;  \\nc. de vreemdeling voor wie het gelet op diens gezondheidstoestand niet verantwoord is om te reizen;  \\nd. de vreemdeling die slachtoffer of getuige-aangever is van mensenhandel;  \\ne. de vreemdeling die onmiddellijk voorafgaande aan de aanvraag in het bezit was van een \\nverblijfsvergunning voor bepaalde tijd als bedoeld in artikel 28 dan wel van een verblijfsvergunning voor \\nonbepaalde tijd als bedoeld in artikel 33;  \\nf. de vreemdeling die tijdig een aanvraag heeft ingediend tot wijziging van een verblijfsvergunning;  \\ng. de vreemdeling die behoort tot een bij algemene maatregel van bestuur aangewezen categorie;  \\nArtikel 17a  \\n2. De vreemdeling is, in door Onze Minister te bepalen gevallen en volgens door Onze Minister te geven \\nregels, leges verschuldigd terzake van de afdoening van een aanvraag.  \\nAls betaling achterwege blijft, wordt de aanvraag niet in behandeling genomen dan wel het document niet\\nafgegeven.  \\nArtikel 4:5, vierde lid, Algemene wet bestuursrecht is niet van toepassing.  \\nArtikel 26  \\n1. De verblijfsvergunning, die van rechtswege rechtmatig verblijf inhoudt, wordt verleend met ingang van \\nde dag waarop de vreemdeling heeft aangetoond dat hij aan alle voorwaarden voldoet, maar niet eerder \\ndan met ingang van de dag waarop de aanvraag is ontvangen.  \\nArtikel 27  \\n1. De beschikking waarbij een aanvraag tot het verlenen van een verblijfsvergunning voor bepaalde tijd \\nals bedoeld in artikel 14 of een verblijfsvergunning voor onbepaalde tijd als bedoeld in artikel 20 wordt \\nafgewezen, geldt als terugkeerbesluit, tenzij reeds eerder een terugkeerbesluit tegen de vreemdeling is \\nuitgevaardigd en aan de daaruit voortvloeiende terugkeerverplichting niet is voldaan, en heeft van \\nrechtswege tot gevolg dat:  \\na. de vreemdeling niet langer rechtmatig verblijf heeft tenzij er een andere rechtsgrond voor rechtmatig \\nverblijf van toepassing is;  \\nb. de vreemdeling Nederland uit eigen beweging dient te verlaten binnen de in artikel 62 gestelde termijn, \\nbij gebreke waarvan de vreemdeling kan worden uitgezet, en  \\nc. de ambtenaren belast met het toezicht op vreemdelingen, na ommekomst van de termijn waarbinnen \\nde vreemdeling Nederland uit eigen beweging dient te verlaten, bevoegd zijn elke plaats te betreden, \\ndaaronder begrepen een woning, zonder de toestemming van de bewoner, teneinde de vreemdeling uit te\\nzetten.  \\n2. Het eerste lid is van overeenkomstige toepassing indien:  \\na. ingevolge artikel 24 of ingevolge artikel 4:5 van de Algemene wet bestuursrecht is besloten dat de \\naanvraag niet in behandeling wordt genomen;  \\nArtikel 66a  \\n6. In afwijking van artikel 8 kan de vreemdeling jegens wie een inreisverbod geldt of die is gesignaleerd \\nter fine van weigering van de toegang geen rechtmatig verblijf hebben, met uitzondering van het \\nrechtmatig verblijf:  \\na. van de vreemdeling die een eerste aanvraag tot het verlenen van een verblijfsvergunning als bedoeld \\nin artikel 28 heeft ingediend, zolang op die aanvraag nog niet is beslist;  \\nb. bedoeld in artikel 8, onder j, en  \\nc. van de vreemdeling wiens uitzetting op grond van een rechterlijke beslissing achterwege dient te \\nblijven totdat op het bezwaarschrift of beroepschrift is beslist.  \\nArtikel 67  \\n3. In afwijking van artikel 8 kan de ongewenst verklaarde vreemdeling geen rechtmatig verblijf hebben.  \\nArtikel 106a  \\n1. Voor zover op grond van de Europese verordeningen die betrekking hebben op biometrische gegevens\\ngeen gezichtsopname of vingerafdrukken kunnen worden afgenomen en verwerkt, kunnen van een \\nvreemdeling een gezichtsopname en tien vingerafdrukken worden afgenomen en verwerkt voor het \\nvaststellen van de identiteit met het oog op de uitvoering van deze wet.  \\nDe gezichtsopname en vingerafdrukken worden vergeleken met de gezichtsopnames en vingerafdrukken \\nin de vreemdelingenadministratie.  \\n  \\n  \\n  \\n \\n \\n \\n                \\n                Query: Vind alle precondities voor de volgende act in de tekst: inwilligen aanvraag van vreemdeling tot het verlenen van een reguliere verblijfsvergunning voor bepaalde tijd door Onze Minister van Veiligheid en Justitie. Toon voor elke preconditie de inhoud en de positie ervan in de wetstekst en de naam van de wet/ wettelijke tekst waar de preconditie staat. \\n \\n\\n\\n                --- Antwoord ---\\n\\n                Geef het antwoord in het volgende formaat, voor iedere preconditie die je kan vinden: \\n \\n\\n                Preconditie: <preconditie> \\n \\n\\n                Positie: Artikel <artikelnummer>, sectie <sectienummer> IN <wetstekst> \\n \\n\\n                \";{\\'4bc1a4da-3948-46aa-a8a5-392f9ab86522\\': \\'de verblijfsvergunning wordt verleend met ingang van de dag waarop de vreemdeling heeft aangetoond dat hij aan alle voorwaarden voldoet\\', \\'f4cd5c2a-3e67-4a47-8b83-786f7d214add\\': \\'de verblijfsvergunning wordt verleend met ingang van een dag eerder dan de dag waarop de aanvraag is ontvangen\\'};{\\'4bc1a4da-3948-46aa-a8a5-392f9ab86522\\': \\'Artikel 26, sectie 1 IN Vreemdelingenwet 2024\\', \\'f4cd5c2a-3e67-4a47-8b83-786f7d214add\\': \\'Artikel 26, sectie 1 IN Vreemdelingenwet 2024\\'};\"1. De vreemdeling beschikt over een geldige machtiging tot voorlopig verblijf die overeenkomt met het verblijfsdoel waarvoor de verblijfsvergunning is aangevraagd. \\n                Positie: Artikel 16, sectie 1, a IN de Vreemdelingenwet geldig vanaf 2024\\n\\n\\n                2. De vreemdeling beschikt over een geldig document voor grensoverschrijding. \\n                Positie: Artikel 16, sectie 1, b IN de Vreemdelingenwet geldig vanaf 2024\\n\\n\\n                3. De vreemdeling zelfstandig en duurzaam beschikt over voldoende middelen van bestaan dan wel, indien de persoon bij wie de vreemdeling wil verblijven, niet zelfstandig en duurzaam beschikt over voldoende middelen van bestaan. \\n                Positie: Artikel 16, sectie 1, c IN de Vreemdelingenwet geldig vanaf 2024\\n\\n\\n                4. De vreemdeling een gevaar vormt niet voor de openbare orde of nationale veiligheid.  \\n                Positie: Niet in de Vreemdelingenwet geldt, deze en deze preconditie is een nieuw verzoek aan Onze Minister.\\n\\n\\n                5. De vreemdeling bereid is om medewerking te verlenen aan een medisch onderzoek naar een ziekte aangewezen bij of krachtens de Wet publieke gezondheid, ter bescherming van de volksgezondheid of een medische behandeling tegen een dergelijke ziekte te ondergaan.  \\n                Positie: Niet in de Vreemdelingenwet geldt, deze en deze preconditie is een nieuw verzoek aan Onze Minister.\\n\\n\\n                6. De vreemdeling voldoet aan de beperking, verband houdende met het doel waarvoor hij wil verblijven.  \\n                Positie: Artikel 14, sectie 3 IN de Vreemdelingenwet geldig vanaf 2024\\n\\n\\n                7. De vreemdeling, die niet behoort tot een der categorieën, bedoeld in artikel 17, eerste lid, na verkrijging van rechtmatig verblijf in Nederland is inburgeringsplichtig op grond van de artikelen 3 en 4 van de Wet inburgering 2021... en is bereid deze plicht te vervullen en beschikt over kennis om basisniveau Nederlands.  \\n                Positie: Artikel 17, eerste lid IN de Vreemdelingenwet geldig vanaf 2024\\n\\n\\n                8. De vreemdeling is bereid om toe te geven aan het voorafgaande aanvullen van de aanvraag met een vertaling indien de aanvraag of een van de daarbij behorende gegevens of bescheiden in een vreemde taal is gesteld en een vertaling daarvan voor de beoordeling van de aanvraag of voor de voorbereiding van de beschikking noodzakelijk is.  \\n                Positie: Artikel 4, sectie 3 IN Algemene wet bestuursrecht (Awb)\\n\\n\\n                9. De vreemdeling is bereid om toe te geven aan het voorafgaande aanvullen van de aanvraag met een samenvatting indien de aanvraag of een van de daarbij behorende gegevens of bescheiden omvangrijk of ingewikkeld is en een samenvatting voor de beoordeling van de aanvraag of voor de voorbereiding van de beschikking noodzakelijk is.  \\n                Positie: Artikel 4, sectie 3 IN Algemene wet bestuursrecht (Awb)\\n\\n\\n                10. De vreemdeling is bereid om toe te geven aan het voorafga\";\"<inhoud van de preconditie>\\n\\n                 --------------------------------------------------------------------------------------\\n\\n                 1. De vreemdeling beschikt over een geldige machtiging tot voorlopig verblijf die overeenkomt met het \\n                verblijfsdoel waarvoor de verblijfsvergunning is aangevraagd.  \\n\\n\\n                Positie: Artikel 16, sub 1a, Algemene wet bestuursrecht IN Vreemdelingenwet geldig vanaf 2024\\n\\n\\n                 <inhoud van de preconditie> De vreemdeling heeft een geldige machtiging tot voorlopig verblijf, die overeenkomt met het verblijfsdoel waarvoor de verblijfsvergunning is aangevraagd.\\n\\n                 --------------------------------------------------------------------------------------\\n                 2. De vreemdeling beschikt over een geldig document voor grensoverschrijding.\\n\\n\\n                Positie: Artikel 16, sub 1b, Algemene wet bestuursrecht IN Vreemdelingenwet geldig vanaf 2024\\n\\n\\n                 <inhoud van de preconditie> De vreemdeling heeft een geldig document voor grensoverschrijding.\\n\\n\\n                 --------------------------------------------------------------------------------------\\n                 3. De vreemdeling zelfstandig en duurzaam beschikt over voldoende middelen van bestaan of, indien de persoon bij wie de vreemdeling wil verblijven, niet zelfstandig en duurzaam beschikt over voldoende middelen van bestaan.\\n\\n\\n                Positie: Artikel 16, sub 1c IN Algemene wet bestuursrecht aanvulling aan Vreemdelingenwet 2000\\n\\n\\n                 <inhoud van de preconditie> De vreemdeling zelfstandig en duurzaam beschikt over voldoende middelen van bestaan of, indien de persoon bij wie de vreemdeling wil verblijven, niet zelfstandig en duurzaam beschikt over voldoende middelen van bestaan.\\n\\n                 --------------------------------------------------------------------------------------\\n                 4. De vreemdeling heeft een gemachtigde om voorlopig tot verblijf in Nederland.\\n\\n\\n                Positie: Artikel 3:40a, onder 1, Algemene wet bestuursrecht aanvulling aan Vreemdelingenwet 2000 IN Vreemdelingenwet geldig vanaf 2024\\n\\n\\n                 <inhoud van de preconditie> De vreemdeling heeft een gemachtigde om voorlopig tot verblijf in Nederland.\\n\\n                 --------------------------------------------------------------------------------------\\n                 5. De vreemdeling voldoet aan de beperkingen, verband houdende met het doel waarvoor hij wil verblijven.\\n\\n\\n                Positie: Artikel 14, sub 3 IN Verordening vreemdelingenadministratie;\\n                          Artikel 16, sub 1g IN Algemene wet bestuursrecht aanvulling aan Vreemdelingenwet 2000\\n\\n\\n                 <inhoud van de preconditie> De vreemdeling voldoet aan de beperkingen, verband houdende met het doel waarvoor hij wil verblijven.\\n\\n                 --------------------------------------------------------------------------------------\\n                 6. De vreemdeling komt niet in de categorie van de personen die naar artikel 4 van de Vreemdelingenwet geldig vanaf 2024 in het land staan verboden.\\n\\n\\n                Positie: Vreemdelingenwet geldig vanaf 2024, Artikel 8, onder 2 IN Vreemdelingenwet geldig vanaf 2024\\n\\n\\n                 <inhoud van de preconditie> De vreemdeling komt niet in de categorie van de personen die naar artikel 4 van de Vreemdelingenwet geldig vanaf 2024 in het land staan verboden.\"\\n\"\\n\\n\\n                --- Definitie ---\\n\\n                Preconditie: Een preconditie beschrijft de omstandigheden waaronder de handeling wettelijk kan worden uitgevoerd.\\n                Act: Een act kan worden uitgevoerd door een agent binnen het normatieve systeem dat wordt gedefinieerd door het juridische document.\\n                Fact: Fact frames beschrijven zaken waarvan de aanwezigheid of waarheidswaarde de toestand van het normatieve systeem kenmerkt. \\n\\n                \\n\\n                \\n\\n                                --- Gedachteketen ---\\n\\n                                1. Zoek alle vermeldingen van de act in de tekst.\\n                                2. Zoek in de artikelen waarin de act wordt genoemd naar specifieke precondities voor de act. \\n                                3. Zoek ook naar specifieke verwijzingen naar andere artikelen waarin mogelijk andere predcondities voor de act worden genoemd.\\n                                4. Extraheer de precondities en hun positie in de tekst.\\n\\n                                \\n\\n                \\n\\n                                --- Aantal precondities ---\\n                                \\n                                Het aantal precondities dat je moet vinden is: 1.\\n                                \\n                \\n                --- Opdracht ---\\n\\n                Gebruik de volgende context: \\n Comptabiliteitswet 2016  \\n  \\n  \\n  \\n  \\n  \\nHoofdstuk 2. De begroting en verantwoording van het Rijk  \\n  \\n§ 1. Rijksbegroting  \\n  \\nArtikel 2.1. Samenstelling en inhoud van de rijksbegroting  \\n1. Tot de rijksbegroting behoren de departementale en de niet-departementale begrotingen van de \\nministeries en de colleges.  \\n2. Onze Ministers, ieder met betrekking tot het beleid waarvoor hij verantwoordelijk is, stellen voor de \\naanvang van een begrotingsjaar een begroting op.  \\n3. Voor elk ministerie is er één departementale begroting en kunnen er één of meer niet-departementale \\nbegrotingen zijn.  \\n4. Voor elk college is er een niet-departementale begroting.  \\n5. Als niet-departementale begroting worden voorts uitsluitend aangemerkt:  \\na. de begroting van de Koning, bedoeld in artikel 2.9, en de begroting van Nationale Schuld, bedoeld in \\nartikel 2.10;  \\nb. de begroting van koninkrijksrelaties, tenzij de uitgaven en ontvangsten die samenhangen met \\nkoninkrijksrelaties worden opgenomen in de betrokken departementale begroting;  \\nc. de begrotingen van de begrotingsfondsen, bedoeld in artikel 2.11, eerste lid;  \\nd. de programmabegrotingen, bedoeld in artikel 2.12, eerste lid.  \\n6. Een departementale begroting bevat de weergave van het beleid en de bedrijfsvoering van het \\nministerie, met uitzondering van de beleidsaangelegenheden die worden opgenomen in een begroting als\\nbedoeld in het vijfde lid.  \\n7. De niet-departementale begroting van een college bevat de weergave van de taken en van de \\nbedrijfsvoering van het college.  \\n8. Een programmabegroting, onderscheidenlijk een begroting van een begrotingsfonds, bevat de \\nweergave van het afgezonderde beheer, bedoeld in artikel 2.12, eerste lid, respectievelijk artikel 2.11, \\neerste lid. Een programmabegroting, onderscheidenlijk een begroting van een begrotingsfonds, bevat \\ngeen weergave van de bedrijfsvoering die met dat afgezonderde beheer samenhangt.  \\n§ 2. Inrichting van de begroting  \\n  \\n  \\nArtikel 2.2. Presentatie van een begroting  \\n  \\nEen begroting bestaat uit een begrotingsstaat en een daarbij behorende toelichting.  \\n  \\n  \\nArtikel 2.5. Begrotingsstaat  \\n  \\nDe begrotingsstaat bestaat uit begrotingsartikelen en bevat per begrotingsartikel de volgende gegevens:  \\na. het artikelnummer;  \\nb. de artikelomschrijving;  \\nc. het geraamde bedrag voor financiële verplichtingen;  \\nd. het geraamde bedrag voor kasuitgaven;  \\ne. het geraamde bedrag voor kasontvangsten.  \\n  \\n  \\nArtikel 2.23. Indienen van de rijksbegroting  \\n  \\n1. Wij dienen de voorstellen van wet tot vaststelling van de begrotingsstaten op de derde dinsdag van \\nseptember van het jaar voorafgaande aan het begrotingsjaar bij de Tweede Kamer der Staten-Generaal \\nin.  \\n2. In afwijking van het eerste lid kunnen Wij Onze Minister van Financiën machtigen de voorstellen van \\nwet tot vaststelling van de begrotingsstaten bij de Tweede Kamer der Staten-Generaal in te dienen.  \\n3. Onze Minister van Financiën biedt op de dag van de indiening van de voorstellen van wet tot \\nvaststelling van de begrotingsstaten de Miljoenennota aan de Staten-Generaal aan.  \\n4. De Miljoenennota bevat in elk geval:  \\na. het budgettaire totaalbeeld voor het betrokken begrotingsjaar en de vier daaropvolgende jaren van de \\nrijksbegroting en de niet tot de rijksbegroting behorende budgetdisciplinesectoren;  \\nb. de budgettaire beschouwingen over het voorgenomen beleid voor de collectieve sector;  \\nc. een overzicht van de uitgaven en de ontvangsten in de begrotingen voor het begrotingsjaar en de vier \\ndaarop aansluitende jaren.  \\n  \\n  \\n  \\nHoofdstuk 4. Begrotingsbeheer en financieel beheer: verantwoordelijkheden  \\n  \\n§ 1. Beleid en bedrijfsvoering door Onze Ministers  \\n  \\n  \\nArtikel 4.3. Beheer niet-departementale begrotingen  \\n  \\n1. Onze Minister van Algemene Zaken is verantwoordelijk voor het beheer van de begroting van de \\nKoning.  \\n2. Onze Minister van Binnenlandse Zaken en Koninkrijksrelaties is verantwoordelijk voor het beheer van \\nde begroting van koninkrijksrelaties.  \\n3. Onze Minister van Financiën is verantwoordelijk voor het beheer van de begroting van Nationale \\nSchuld.  \\n§ 2. Beheer door colleges  \\n  \\nArtikel 4.4. Beheer begrotingen colleges  \\n  \\n1. Onze Minister van Algemene Zaken is verantwoordelijk voor het beheer van de begrotingen van het \\nKabinet van de Koning en de Commissie van toezicht betreffende de inlichtingen- en veiligheidsdiensten.  \\n2. Onze Minister van Binnenlandse Zaken en Koninkrijksrelaties is verantwoordelijk voor het beheer van \\nde begrotingen van de Staten-Generaal, de Raad van State, de Algemene Rekenkamer, de Nationale \\nombudsman, de Kanselarij der Nederlandse Orden, het Kabinet van de Gouverneur van Aruba, het \\nKabinet van de Gouverneur van Curaçao, het Kabinet van de Gouverneur van Sint Maarten en de \\nKiesraad.  \\n3. De colleges zijn belast met het begrotingsbeheer, het financieel beheer, de materiële bedrijfsvoering en\\nde daartoe gevoerde administraties.  \\n4. Onze Ministers die het aangaan maken met de colleges over het beheer van hun begrotingen \\nafspraken, waarin recht wordt gedaan aan de staatsrechtelijke positie van de colleges.  \\n  \\n  \\n  \\n  \\nRijksbegrotingsvoorschriften 2024  \\n  \\nDe begrotingsstaat  \\n  \\nArtikelen 2.1, eerste lid, derde tot en met achtste lid, 2.2, 2.5 en 2.11 van de Comptabiliteitswet 2016  \\n  \\nBepalingen  \\n  \\nDe begrotingsstaat behorende bij een departementale begroting inclusief de begrotingsstaat van de \\nagentschappen wordt ingericht conform model 1.20.  \\nDe begrotingsstaat behorend bij een departementale begroting, inclusief de begrotingsstaat van de \\nagentschappen en van de begrotingsfondsen wordt conform model 1.24 ingericht.  \\nDe begrotingsstaat behorende bij de begroting van een niet-departementale begroting eventueel inclusief \\nde agentschappen wordt volgens model 1.21 of model 1.22 opgesteld.  \\nDe begrotingsstaat behorende bij een begrotingsfonds wordt ingericht volgens model 1.23.  \\n  \\n \\n \\n \\n                \\n                Query: Vind alle precondities voor de volgende act in de tekst: Begroting opstellen. Toon voor elke preconditie de inhoud en de positie ervan in de wetstekst en de naam van de wet/ wettelijke tekst waar de preconditie staat. \\n \\n\\n\\n                --- Antwoord ---\\n\\n                Geef het antwoord in het volgende formaat, voor iedere preconditie die je kan vinden: \\n \\n\\n                Preconditie: <preconditie> \\n \\n\\n                Positie: Artikel <artikelnummer>, sectie <sectienummer> IN <wetstekst> \\n \\n\\n                \";{\\'9abf7b4e-fa63-4f88-a3ee-76046180238e\\': \\'Begroting bevat begrotingsstaat\\'};{\\'9abf7b4e-fa63-4f88-a3ee-76046180238e\\': \\'Artikel 2.2 IN Comptabiliteitswet 2016\\'};\"               1. Een preconditie voor de act Begroting opstellen is dat de ministers ieder met betrekking tot het beleid waarvoor hij verantwoordelijk is, een begroting opstelt aan het begin van het begrotingsjaar als volgt wordt bepaald:\\n\\n                                 Preconditie: Dat ieder minister een begroting opstelt.\\n                                 Positie: Artikel 2.2, sectie Hoofdstuk 2 IN Comptabiliteitswet 2016\\n\\n\\n                --- Beleging ---\\n\\n                Als de preconditie \"\"Dat een minister een begroting opstelt\"\" in de tekst voorkomt, dan zijn de volgende regELen en voorzitten hierbij betrokken:\\n\\n                - Regel:\\n\\n                    \"\"Onze Ministers, ieder met betrekking tot het beleid waarvoor hij verantwoordelijk is, stellen voor de aanvang van een begrotingsjaar een begroting op.\"\"\\n\\n                - Voorzit:\\n\\n                    \"\"Dat ieder minister een begroting opstelt.\"\"\\n\\n\\n                --- Bronnen ---\\n\\n                [Comptabiliteitswet 2016](https://wetten.overheid.nl/BWBR0033988/2020-08-01)\";\"------------------------------------------------\\n \\n                Preconditie: Een Minister moet een begroting opstellen. \\n                ------------------------------------------------\\n\\n                Positie: Artikel 2.2, sectie Hoofdstuk 2 IN Comptabiliteitswet 2016\\n\\n\\n                Preconditie: Een Minister moet een begroting voor het beleid waarover hij verantwoordelijk is opstellen. \\n                ------------------------------------------------\\n\\n                Positie: Artikel 2.1, sectie Hoofdstuk 2 IN Comptabiliteitswet 2016\"\\n\"\\n\\n\\n                --- Definitie ---\\n\\n                Preconditie: Een preconditie beschrijft de omstandigheden waaronder de handeling wettelijk kan worden uitgevoerd.\\n                Act: Een act kan worden uitgevoerd door een agent binnen het normatieve systeem dat wordt gedefinieerd door het juridische document.\\n                Fact: Fact frames beschrijven zaken waarvan de aanwezigheid of waarheidswaarde de toestand van het normatieve systeem kenmerkt. \\n\\n                \\n\\n                \\n\\n                                --- Gedachteketen ---\\n\\n                                1. Zoek alle vermeldingen van de act in de tekst.\\n                                2. Zoek in de artikelen waarin de act wordt genoemd naar specifieke precondities voor de act. \\n                                3. Zoek ook naar specifieke verwijzingen naar andere artikelen waarin mogelijk andere predcondities voor de act worden genoemd.\\n                                4. Extraheer de precondities en hun positie in de tekst.\\n\\n                                \\n\\n                \\n\\n                                --- Aantal precondities ---\\n                                \\n                                Het aantal precondities dat je moet vinden is: 20.\\n                                \\n                \\n                --- Opdracht ---\\n\\n                Gebruik de volgende context: \\n Comptabiliteitswet 2016  \\n  \\n  \\n  \\n  \\n  \\nHoofdstuk 2. De begroting en verantwoording van het Rijk  \\n  \\n§ 1. Rijksbegroting  \\n  \\nArtikel 2.1. Samenstelling en inhoud van de rijksbegroting  \\n1. Tot de rijksbegroting behoren de departementale en de niet-departementale begrotingen van de \\nministeries en de colleges.  \\n2. Onze Ministers, ieder met betrekking tot het beleid waarvoor hij verantwoordelijk is, stellen voor de \\naanvang van een begrotingsjaar een begroting op.  \\n3. Voor elk ministerie is er één departementale begroting en kunnen er één of meer niet-departementale \\nbegrotingen zijn.  \\n4. Voor elk college is er een niet-departementale begroting.  \\n5. Als niet-departementale begroting worden voorts uitsluitend aangemerkt:  \\na. de begroting van de Koning, bedoeld in artikel 2.9, en de begroting van Nationale Schuld, bedoeld in \\nartikel 2.10;  \\nb. de begroting van koninkrijksrelaties, tenzij de uitgaven en ontvangsten die samenhangen met \\nkoninkrijksrelaties worden opgenomen in de betrokken departementale begroting;  \\nc. de begrotingen van de begrotingsfondsen, bedoeld in artikel 2.11, eerste lid;  \\nd. de programmabegrotingen, bedoeld in artikel 2.12, eerste lid.  \\n6. Een departementale begroting bevat de weergave van het beleid en de bedrijfsvoering van het \\nministerie, met uitzondering van de beleidsaangelegenheden die worden opgenomen in een begroting als\\nbedoeld in het vijfde lid.  \\n7. De niet-departementale begroting van een college bevat de weergave van de taken en van de \\nbedrijfsvoering van het college.  \\n8. Een programmabegroting, onderscheidenlijk een begroting van een begrotingsfonds, bevat de \\nweergave van het afgezonderde beheer, bedoeld in artikel 2.12, eerste lid, respectievelijk artikel 2.11, \\neerste lid. Een programmabegroting, onderscheidenlijk een begroting van een begrotingsfonds, bevat \\ngeen weergave van de bedrijfsvoering die met dat afgezonderde beheer samenhangt.  \\n§ 2. Inrichting van de begroting  \\n  \\n  \\nArtikel 2.2. Presentatie van een begroting  \\n  \\nEen begroting bestaat uit een begrotingsstaat en een daarbij behorende toelichting.  \\n  \\n  \\nArtikel 2.5. Begrotingsstaat  \\n  \\nDe begrotingsstaat bestaat uit begrotingsartikelen en bevat per begrotingsartikel de volgende gegevens:  \\na. het artikelnummer;  \\nb. de artikelomschrijving;  \\nc. het geraamde bedrag voor financiële verplichtingen;  \\nd. het geraamde bedrag voor kasuitgaven;  \\ne. het geraamde bedrag voor kasontvangsten.  \\n  \\n  \\nArtikel 2.23. Indienen van de rijksbegroting  \\n  \\n1. Wij dienen de voorstellen van wet tot vaststelling van de begrotingsstaten op de derde dinsdag van \\nseptember van het jaar voorafgaande aan het begrotingsjaar bij de Tweede Kamer der Staten-Generaal \\nin.  \\n2. In afwijking van het eerste lid kunnen Wij Onze Minister van Financiën machtigen de voorstellen van \\nwet tot vaststelling van de begrotingsstaten bij de Tweede Kamer der Staten-Generaal in te dienen.  \\n3. Onze Minister van Financiën biedt op de dag van de indiening van de voorstellen van wet tot \\nvaststelling van de begrotingsstaten de Miljoenennota aan de Staten-Generaal aan.  \\n4. De Miljoenennota bevat in elk geval:  \\na. het budgettaire totaalbeeld voor het betrokken begrotingsjaar en de vier daaropvolgende jaren van de \\nrijksbegroting en de niet tot de rijksbegroting behorende budgetdisciplinesectoren;  \\nb. de budgettaire beschouwingen over het voorgenomen beleid voor de collectieve sector;  \\nc. een overzicht van de uitgaven en de ontvangsten in de begrotingen voor het begrotingsjaar en de vier \\ndaarop aansluitende jaren.  \\n  \\n  \\n  \\nHoofdstuk 4. Begrotingsbeheer en financieel beheer: verantwoordelijkheden  \\n  \\n§ 1. Beleid en bedrijfsvoering door Onze Ministers  \\n  \\n  \\nArtikel 4.3. Beheer niet-departementale begrotingen  \\n  \\n1. Onze Minister van Algemene Zaken is verantwoordelijk voor het beheer van de begroting van de \\nKoning.  \\n2. Onze Minister van Binnenlandse Zaken en Koninkrijksrelaties is verantwoordelijk voor het beheer van \\nde begroting van koninkrijksrelaties.  \\n3. Onze Minister van Financiën is verantwoordelijk voor het beheer van de begroting van Nationale \\nSchuld.  \\n§ 2. Beheer door colleges  \\n  \\nArtikel 4.4. Beheer begrotingen colleges  \\n  \\n1. Onze Minister van Algemene Zaken is verantwoordelijk voor het beheer van de begrotingen van het \\nKabinet van de Koning en de Commissie van toezicht betreffende de inlichtingen- en veiligheidsdiensten.  \\n2. Onze Minister van Binnenlandse Zaken en Koninkrijksrelaties is verantwoordelijk voor het beheer van \\nde begrotingen van de Staten-Generaal, de Raad van State, de Algemene Rekenkamer, de Nationale \\nombudsman, de Kanselarij der Nederlandse Orden, het Kabinet van de Gouverneur van Aruba, het \\nKabinet van de Gouverneur van Curaçao, het Kabinet van de Gouverneur van Sint Maarten en de \\nKiesraad.  \\n3. De colleges zijn belast met het begrotingsbeheer, het financieel beheer, de materiële bedrijfsvoering en\\nde daartoe gevoerde administraties.  \\n4. Onze Ministers die het aangaan maken met de colleges over het beheer van hun begrotingen \\nafspraken, waarin recht wordt gedaan aan de staatsrechtelijke positie van de colleges.  \\n  \\n  \\n  \\n  \\nRijksbegrotingsvoorschriften 2024  \\n  \\nDe begrotingsstaat  \\n  \\nArtikelen 2.1, eerste lid, derde tot en met achtste lid, 2.2, 2.5 en 2.11 van de Comptabiliteitswet 2016  \\n  \\nBepalingen  \\n  \\nDe begrotingsstaat behorende bij een departementale begroting inclusief de begrotingsstaat van de \\nagentschappen wordt ingericht conform model 1.20.  \\nDe begrotingsstaat behorend bij een departementale begroting, inclusief de begrotingsstaat van de \\nagentschappen en van de begrotingsfondsen wordt conform model 1.24 ingericht.  \\nDe begrotingsstaat behorende bij de begroting van een niet-departementale begroting eventueel inclusief \\nde agentschappen wordt volgens model 1.21 of model 1.22 opgesteld.  \\nDe begrotingsstaat behorende bij een begrotingsfonds wordt ingericht volgens model 1.23.  \\n  \\n \\n \\n \\n                \\n                Query: Vind alle precondities voor de volgende act in de tekst: weigeren recht op algemene bijstand. Toon voor elke preconditie de inhoud en de positie ervan in de wetstekst en de naam van de wet/ wettelijke tekst waar de preconditie staat. \\n \\n\\n\\n                --- Antwoord ---\\n\\n                Geef het antwoord in het volgende formaat, voor iedere preconditie die je kan vinden: \\n \\n\\n                Preconditie: <preconditie> \\n \\n\\n                Positie: Artikel <artikelnummer>, sectie <sectienummer> IN <wetstekst> \\n \\n\\n                \";{\\'d097e347-671e-42e8-8a2c-6e7ce107bcfb\\': \\'college stelt het recht op bijstand vast op schriftelijke aanvraag\\', \\'cfeb6104-af30-4715-9719-a58b0c8c2f37\\': \\'NOT bijstand wordt door de echtgenoten gezamenlijk aangevraagd dan wel door een van hen met schriftelijke toestemming van de ander\\', \\'7a2353e2-7de1-443a-a5a1-f012559c5608\\': \\'NOT belanghebbende is een in Nederland woonachtige Nederlander\\', \\'3299e583-3e5a-4f16-9eba-ffb439d62718\\': \\'NOT belanghebbende is een hier te lande woonachtige vreemdeling die rechtmatig in Nederland verblijf houdt in de zin van artikel 8, onderdelen a tot en met e en l, van de Vreemdelingenwet 2000\\', \\'6d18a490-bcbc-494a-a7a8-b18442a0fa7b\\': \\'\\\\nbelanghebbende aan wie rechtens zijn vrijheid is ontnomen\\', \\'84911ff7-98a5-41e9-ba26-c6cc5a47f9f9\\': \\'belanghebbende die zich onttrekt aan de tenuitvoerlegging van een vrijheidsstraf of vrijheidsbenemende maatregel\\', \\'7921e157-884c-4d03-a522-d47b0db1d194\\': \\'belanghebbende die zijn militaire of vervangende dienstplicht vervult\\', \\'e0603329-768f-438d-94e9-5070a3bd6e7b\\': \\'belanghebbende die wegens werkstaking of uitsluiting niet deelneemt aan de arbeid, voorzover diens gebrek aan middelen daarvan het gevolg is\\', \\'56143d22-316d-48a9-8a49-00cb98da9c58\\': \\'belanghebbende die per kalenderjaar langer dan vier weken verblijf houdt buiten Nederland\\', \\'e7a191c0-9e0d-4a12-9cb9-053d6d7b08fa\\': \\'belanghebbende die bijstand vraagt ter gedeeltelijke of volledige aflossing van een schuldenlast\\', \\'926f81ce-b891-4eed-9f24-0d52a07f1d86\\': \\'belanghebbende die overigens bij het ontstaan van de schuldenlast dan wel nadien, beschikte of beschikt over de middelen om in de noodzakelijke kosten van het bestaan te voorzien\\', \\'93e4655f-7cd9-4291-b406-2750fc07534c\\': \\'belanghebbende die een uitreiziger is\\', \\'ea4fd183-4e4c-4762-8ff8-0e0e76695f41\\': \\'belanghebbende van 18, 19 of 20 jaar die in een inrichting verblijft\\', \\'74412d94-9cd5-4e33-b1b4-10bb9e93c5dd\\': \\'belanghebbende die jonger is dan 27 jaar en uit ’s Rijks kas bekostigd onderwijs kan volgen\\', \\'7e931c05-d91e-4288-8936-24fe02301a7f\\': \\'belanghebbende heeft in verband met volgen onderwijs aanspraak op studiefinanciering op grond van de Wet studiefinanciering 2000\\', \\'8c1e16e8-8a7f-429a-815b-1378e64d6a4a\\': \\'belanghebbende heeft geen aanspraak op studiefinanciering omdat hij onderwijs dat hij kan volgen onderwijs, niet volgt\\', \\'ea7175fb-d603-4af3-8b9b-eb28cb82e3eb\\': \\'belanghebbende die jonger is dan 27 jaar en uit wiens houding en gedragingen ondubbelzinnig blijkt dat hij de verplichtingen, bedoeld in artikel 9, eerste lid, of artikel 55 niet wil nakomen\\', \\'e627f4e5-5f4a-4dce-9c18-fe9775e9bc6b\\': \\'bijstand wordt toegekend voor de dag waarop de belanghebbende zich heeft gemeld om bijstand aan te vragen\\', \\'abe6be54-1f78-49f8-827b-dc827fa36978\\': \\'NOT het in aanmerking te nemen inkomen lager is dan de bijstandsnorm\\', \\'fed28247-1efa-4cc0-a3e1-f479a3ec5879\\': \\'er is in aanmerking te nemen vermogen\\'};{\\'d097e347-671e-42e8-8a2c-6e7ce107bcfb\\': \\'Artikel 43, sectie 1 IN Participatiewet\\', \\'cfeb6104-af30-4715-9719-a58b0c8c2f37\\': \\'Artikel 43, sectie 2 IN Participatiewet\\', \\'7a2353e2-7de1-443a-a5a1-f012559c5608\\': \\'Artikel 11, sectie 1 IN Participatiewet\\', \\'3299e583-3e5a-4f16-9eba-ffb439d62718\\': \\'Artikel 11, sectie 2 IN Participatiewet\\', \\'6d18a490-bcbc-494a-a7a8-b18442a0fa7b\\': \\'Artikel 13, sectie 1 a IN Participatiewet\\', \\'84911ff7-98a5-41e9-ba26-c6cc5a47f9f9\\': \\'Artikel 13, sectie 1 b IN Participatiewet\\', \\'7921e157-884c-4d03-a522-d47b0db1d194\\': \\'Artikel 13, sectie 1 c IN Participatiewet\\', \\'e0603329-768f-438d-94e9-5070a3bd6e7b\\': \\'Artikel 13, sectie 1 d IN Participatiewet\\', \\'56143d22-316d-48a9-8a49-00cb98da9c58\\': \\'Artikel 13, sectie 1 e IN Participatiewet\\', \\'e7a191c0-9e0d-4a12-9cb9-053d6d7b08fa\\': \\'Artikel 13, sectie 1 g IN Participatiewet\\', \\'926f81ce-b891-4eed-9f24-0d52a07f1d86\\': \\'Artikel 13, sectie 1 g IN Participatiewet\\', \\'93e4655f-7cd9-4291-b406-2750fc07534c\\': \\'Artikel 13, sectie 1 h IN Participatiewet\\', \\'ea4fd183-4e4c-4762-8ff8-0e0e76695f41\\': \\'Artikel 13, sectie 2 a IN Participatiewet\\', \\'74412d94-9cd5-4e33-b1b4-10bb9e93c5dd\\': \\'Artikel 13, sectie 2 c IN Participatiewet\\', \\'7e931c05-d91e-4288-8936-24fe02301a7f\\': \\'Artikel 13, sectie 2 c 1 IN Participatiewet\\', \\'8c1e16e8-8a7f-429a-815b-1378e64d6a4a\\': \\'Artikel 13, sectie 2 c 2 IN Participatiewet\\', \\'ea7175fb-d603-4af3-8b9b-eb28cb82e3eb\\': \\'Artikel 13, sectie 2 d IN Participatiewet\\', \\'e627f4e5-5f4a-4dce-9c18-fe9775e9bc6b\\': \\'Artikel 44, sectie 1 IN Participatiewet\\', \\'abe6be54-1f78-49f8-827b-dc827fa36978\\': \\'Artikel 19 sectie 1 a IN Participatiewet\\', \\'fed28247-1efa-4cc0-a3e1-f479a3ec5879\\': \\'Artikel 19 sectie 1 b IN Participatiewet\\'};\"------------------------------\\n\\n\\n                Preconditie: de voorwaarde dat aan de verzoekende een recht op bijstand is verboden.\\n  Positie: Artikel 19, Hoofdstuk 1, IN Algemene bijstandswet 1998\\n\\n\\n                Preconditie: de voorwaarde dat op het moment van indiening van het verzoek een bepaalde periode van een negatiefinanciële vermogensvoorraad van minimaal 500 euro in rekening brengt.\\n  Positie: Artikel 3(1), Hoofdstuk I, IN Algemene bijstandswet 1998\\n\\n\\n                Preconditie: de voorwaarde dat de verzoekende geen huis huurt.\\n  Positie: Artikel 3a(1), Hoofdstuk I, IN Algemene bijstandswet 1998\\n\\n\\n                Preconditie: de voorwaarde dat de gemiddelde huurprijs voor het huizencontract waarvoor een vergoeding wordt gegeven, in het betreffende jaar moet zijn bedragven op ten minste 80% en op bij de ontvangst van het jaarlijkse arbeidsvermogen ten minste 50%.\\n  Positie: Artikel 3b(1), Hoofdstuk I, IN Algemene bijstandswet 1998\\n\\n\\n                Preconditie: de voorwaarde dat de verzoekende geen eigen woning heeft en niet in overeenverhouding aan deze vergunning zal huurblijven.\\n  Positie: Artikel 5(1), Hoofdstuk I, IN Algemene bijstandswet 1998\\n\\n\\n                Preconditie: de voorwaarde dat de verzoekende aan de voorwaarde genoemd in artikel 8.1a, Hoofdeling IX, kan geacht worden.\\n  Positie: Artikel 13, Hoofdstuk II IN Algemene bijstandswet 1998\\n\\n\\n                Preconditie: de voorwaarde aan wie de rechtstreekse onderhoudsplicht door het Hof is verleend en de voorwaarde dat de aan de rechtstreekse onderhoudsplicht verleende houdt aan ten het minste de helft van de rechtstreekse kinderonderhoudsplicht in de periode die hiervoor bedoeld is.\\n  Positie: Artikel 16, Hoofdstuk II, IN Algemene bijstandswet 1998\\n\\n\\n                Preconditie: de voorwaarde dat de verzoekende aan de voorwaarde genoemd in artikel 25.3 is geacht.\\n  Positie: Artikel 25, Hoofdstuk III, IN Algemene bijstandswet 1998\\n\\n\\n                Preconditie: de voorwaarde dat de verzoekende aan de voorwaarde genoemd in artikel 32 is geacht.\\n  Positie: Artikel 25, Hoofdstuk IV, IN Algemene bijstandswet 1998\\n\\n\\n                Preconditie: de voorwaarde dat de verzoekende aan de voorwaarde genoemd in artikel 35 is geacht.\\n  Positie: Artikel 25, Hoofdstuk VI IN Algemene bijstandswet 1998\\n\\n\\n                Preconditie: de voorwaarde dat de verzoekende aan de voorwaarde genoemd in artikel 37 is geacht.\\n  Positie: Artikel 25, Hoofdstuk VIII IN Algemene bijstandswet 1998\\n\\n\\n                Preconditie: de voorwaarde dat de verzoekende genoeg gehandhaafd heeft.\\n  Positie: Artikel 49, Hoofdstuk IX IN Algemene bijstandswet 1998\\n\\n\\n                Preconditie: de voorwaarde dat de verzoekende aan de voorwaarde genoemd in artikel 42 is geacht.\\n  Positie: Artikel 49(1\";\"1. Voorwaarde voor het weigeren recht op algemene bijstand:\\n\\n                Preconditie: De toestand dat het aanvragen van het algemene bijstand betrof, moet gelijk zijn aan <het anvragen van het algemene bijstand gelijk is aan de arbeidsongeschiktheid van de aangevraagd voor zoogenaamde ouderschapsverlof, dat met het werkgeverskadeverlof verbonden is> \\n\\n                Positie: Artikel 7a, sectie 2 DE WET OP DE ARBEID (Wetarbeid)  \\n\\n                ---\\n\\n                Preconditie: De verstrekking van het algemene bijstand mag in ieder geval worden verwezen bovenst door de aangegeven omstandigheden <de medische attestatie van een arts, die de aangevraagde arbeidsongeschiktheid met een duur van minstens drie maanden opgaf, aan de Dienst UAF is niet reeds toegestuurd >    Preconditie: De verstrekking van het algemene bijstand mag in ieder geval worden verwezen door de Dienst UAF als het betreft:  1: <verzoek om financiële steun voor een aankoop die nodig is voor de zinnebeeldelijke uitvoering van het werk>  2: <een verzoek houdende versterkende ondersteuning die het bijzondere karakter van een bijstandverzoek is voor vervangende ondersteuning>   Positie: Artikel 2, sectie 3 DE WET OP DE ARBEIDSUITKOMSTEN (Wetuik)    ---\\n\\n                Preconditie: De aangevraagd voor het algemene bijstand moet zijn werkzoekend te zijn\\n\\n                Positie: Artikel 10, sectie  5 BESLUIT INzake AANVRAAG INZAKOMST OP GEZAMDE BYSTANDEN (Besluit inzake aanvraag inzakomst op gezamenlijke bijstanden)\\n\\n                Preconditie: De aanvrager wil de werkingsovereenkomst en het aanvangscontract tekenen met de uitzendorganisatie\\n\\n                Positie: Artikel 1, sectie 1 WET WORSTELDING VAN ARBEIDSUITGAFSVERSWERVINGEN (Wet werking van arbeidsuitgafswervingen)\\n\\n                ---\\n\\n                Aantal toegeschreven precondities: 6\"\\n'"
      ]
     },
     "execution_count": 7,
     "metadata": {},
     "output_type": "execute_result"
    }
   ],
   "source": [
    "# store response df in csv\n",
    "df.to_csv(EVAL_ANSWERS_CSV, index=False, sep=';')"
   ]
  },
  {
   "cell_type": "code",
   "execution_count": 8,
   "id": "0658429a",
   "metadata": {},
   "outputs": [
    {
     "name": "stdout",
     "output_type": "stream",
     "text": [
      "-------\n",
      "\n",
      "                Subfact: Begrotingsstaat, Budgettaire beschouwingen\n",
      " \t                Positie: Artikel 4.4, derde lid, letter b IN Comptabiliteitswet 2016\n",
      "\n",
      "                -------\n",
      "\n",
      "                Subfact: Budgettaire totaalbeeld\n",
      " \t                Positie: Artikel 4.4, derde lid, letter a IN Comptabiliteitswet 2016\n",
      "\n",
      "                -------\n",
      "\n",
      "                Subfact: Overzicht van de uitgaven en de ontvangsten\n",
      " \t                Positie: Artikel 4.4, derde lid, letter c IN Comptabiliteitswet 2016\n",
      " Inhoud: In elk geval het budgettaire totaalbeeld, de budgettaire beschouwingen en een overzicht van de uitgaven en ontvangsten.  \n",
      "\n",
      "                Hoofdstuk 2. Inrichting van de begroting  \n",
      "\n",
      "                Artikel 2.23. Indienen van de rijksbegroting  \n",
      "\n",
      "                  Subfact: Budgettaire totaalbeeld en budgettaire beschouwingen\n",
      "\n",
      "                Positie: 4a en 4b in artikel 2.23 van de Comptabiliteitswet 2016\n",
      "\n",
      "                  Subfact: Overzicht van de uitgaven en ontvangsten\n",
      "\n",
      "                Positie: 4c in artikel 2.23 van de Comptabiliteitswet 2016\n"
     ]
    }
   ],
   "source": [
    "print(df['response_base_model'][0])\n",
    "print(df['response_new_model'][0])"
   ]
  },
  {
   "cell_type": "code",
   "execution_count": 27,
   "id": "0cb0c503",
   "metadata": {},
   "outputs": [
    {
     "name": "stdout",
     "output_type": "stream",
     "text": [
      "['een overzicht van de uitgaven en de ontvangsten in de begrotingen voor het begrotingsjaar en de vier daarop aansluitende jaren.\\nArtikel 2.23 sectie 4c IN Comptabiliteitswet 2016\\n\\nde budgettaire beschouwingen over het voorgenomen beleid voor de collectieve sector\\nArtikel 2.23 sectie 4b IN Comptabiliteitswet 2016\\n\\nhet budgettaire totaalbeeld voor het betrokken begrotingsjaar en de vier daaropvolgende jaren van de rijksbegroting en de niet tot de rijksbegroting behorende budgetdisciplinesectoren\\nArtikel 2.23 sectie 4a IN Comptabiliteitswet 2016\\n\\n', 'de verblijfsvergunning wordt verleend met ingang van de dag waarop de vreemdeling heeft aangetoond dat hij aan alle voorwaarden voldoet\\nArtikel 26, sectie 1 IN Vreemdelingenwet 2024\\n\\nde verblijfsvergunning wordt verleend met ingang van een dag eerder dan de dag waarop de aanvraag is ontvangen\\nArtikel 26, sectie 1 IN Vreemdelingenwet 2024\\n\\n', 'Begroting bevat begrotingsstaat\\nArtikel 2.2 IN Comptabiliteitswet 2016\\n\\n', 'college stelt het recht op bijstand vast op schriftelijke aanvraag\\nArtikel 43, sectie 1 IN Participatiewet\\n\\nNOT bijstand wordt door de echtgenoten gezamenlijk aangevraagd dan wel door een van hen met schriftelijke toestemming van de ander\\nArtikel 43, sectie 2 IN Participatiewet\\n\\nNOT belanghebbende is een in Nederland woonachtige Nederlander\\nArtikel 11, sectie 1 IN Participatiewet\\n\\nNOT belanghebbende is een hier te lande woonachtige vreemdeling die rechtmatig in Nederland verblijf houdt in de zin van artikel 8, onderdelen a tot en met e en l, van de Vreemdelingenwet 2000\\nArtikel 11, sectie 2 IN Participatiewet\\n\\n\\nbelanghebbende aan wie rechtens zijn vrijheid is ontnomen\\nArtikel 13, sectie 1 a IN Participatiewet\\n\\nbelanghebbende die zich onttrekt aan de tenuitvoerlegging van een vrijheidsstraf of vrijheidsbenemende maatregel\\nArtikel 13, sectie 1 b IN Participatiewet\\n\\nbelanghebbende die zijn militaire of vervangende dienstplicht vervult\\nArtikel 13, sectie 1 c IN Participatiewet\\n\\nbelanghebbende die wegens werkstaking of uitsluiting niet deelneemt aan de arbeid, voorzover diens gebrek aan middelen daarvan het gevolg is\\nArtikel 13, sectie 1 d IN Participatiewet\\n\\nbelanghebbende die per kalenderjaar langer dan vier weken verblijf houdt buiten Nederland\\nArtikel 13, sectie 1 e IN Participatiewet\\n\\nbelanghebbende die bijstand vraagt ter gedeeltelijke of volledige aflossing van een schuldenlast\\nArtikel 13, sectie 1 g IN Participatiewet\\n\\nbelanghebbende die overigens bij het ontstaan van de schuldenlast dan wel nadien, beschikte of beschikt over de middelen om in de noodzakelijke kosten van het bestaan te voorzien\\nArtikel 13, sectie 1 g IN Participatiewet\\n\\nbelanghebbende die een uitreiziger is\\nArtikel 13, sectie 1 h IN Participatiewet\\n\\nbelanghebbende van 18, 19 of 20 jaar die in een inrichting verblijft\\nArtikel 13, sectie 2 a IN Participatiewet\\n\\nbelanghebbende die jonger is dan 27 jaar en uit ’s Rijks kas bekostigd onderwijs kan volgen\\nArtikel 13, sectie 2 c IN Participatiewet\\n\\nbelanghebbende heeft in verband met volgen onderwijs aanspraak op studiefinanciering op grond van de Wet studiefinanciering 2000\\nArtikel 13, sectie 2 c 1 IN Participatiewet\\n\\nbelanghebbende heeft geen aanspraak op studiefinanciering omdat hij onderwijs dat hij kan volgen onderwijs, niet volgt\\nArtikel 13, sectie 2 c 2 IN Participatiewet\\n\\nbelanghebbende die jonger is dan 27 jaar en uit wiens houding en gedragingen ondubbelzinnig blijkt dat hij de verplichtingen, bedoeld in artikel 9, eerste lid, of artikel 55 niet wil nakomen\\nArtikel 13, sectie 2 d IN Participatiewet\\n\\nbijstand wordt toegekend voor de dag waarop de belanghebbende zich heeft gemeld om bijstand aan te vragen\\nArtikel 44, sectie 1 IN Participatiewet\\n\\nNOT het in aanmerking te nemen inkomen lager is dan de bijstandsnorm\\nArtikel 19 sectie 1 a IN Participatiewet\\n\\ner is in aanmerking te nemen vermogen\\nArtikel 19 sectie 1 b IN Participatiewet\\n\\n']\n"
     ]
    }
   ],
   "source": [
    "candidates_new = df['response_new_model'].tolist()\n",
    "candidates_base = df['response_base_model'].tolist()\n",
    "\n",
    "precon_text_list = df['precondition_texts'].to_list()\n",
    "precon_pos_list = df[\"precondition_positions\"].to_list()\n",
    "\n",
    "references = []\n",
    "for dict1, dict2 in zip(precon_text_list, precon_pos_list):\n",
    "    dict1 = ast.literal_eval(dict1)\n",
    "    dict2 = ast.literal_eval(dict2)\n",
    "    combined = []\n",
    "    for key in dict1.keys():  # or use sorted(dict1.keys()) if key order isn't guaranteed\n",
    "        combined.append(str(dict1[key]) + '\\n')\n",
    "        combined.append(str(dict2[key]) + '\\n\\n')\n",
    "    references.append(''.join(combined))\n",
    "\n",
    "print(references)"
   ]
  },
  {
   "cell_type": "markdown",
   "id": "4f1edeb3",
   "metadata": {},
   "source": [
    "## ROUGE/BLEU on relevant sequence from the answer "
   ]
  },
  {
   "cell_type": "code",
   "execution_count": 34,
   "id": "d8b32cff",
   "metadata": {},
   "outputs": [
    {
     "name": "stderr",
     "output_type": "stream",
     "text": [
      "Downloading builder script: 100%|██████████| 6.27k/6.27k [00:00<00:00, 15.0MB/s]\n"
     ]
    },
    {
     "name": "stdout",
     "output_type": "stream",
     "text": [
      "Results new: {'rouge1': np.float64(0.32155369137579465), 'rouge2': np.float64(0.14458924733614864), 'rougeL': np.float64(0.23140773059853664), 'rougeLsum': np.float64(0.30144503918275956)}\n",
      "Results base: {'rouge1': np.float64(0.22510808879830946), 'rouge2': np.float64(0.09184750625230363), 'rougeL': np.float64(0.16605545339128516), 'rougeLsum': np.float64(0.22174885260463903)}\n"
     ]
    }
   ],
   "source": [
    "# Evaluation metric 1: ROUGE on relevant sequences\n",
    "# WHy not BLEU --> penalizes missing ngrams, not something I m looking for here\n",
    "\n",
    "rouge = evaluate.load('rouge')\n",
    "\n",
    "results_new = rouge.compute(predictions=candidates_new, references=references)\n",
    "results_base = rouge.compute(predictions=candidates_base, references=references)\n",
    "\n",
    "print(f\"Results new: {results_new}\")\n",
    "print(f\"Results base: {results_base}\")\n",
    "\n",
    "\n"
   ]
  },
  {
   "cell_type": "markdown",
   "id": "db770b90",
   "metadata": {},
   "source": [
    "## BERT Score --> based on embedding similarity"
   ]
  },
  {
   "cell_type": "code",
   "execution_count": 28,
   "id": "b5360138",
   "metadata": {},
   "outputs": [],
   "source": [
    "# Maybe add BERTScore --> semantic similarity based on sentencetransformer\n",
    "P_new, R_new, F1_new = score(\n",
    "    candidates_new, \n",
    "    references, \n",
    "    model_type='answerdotai/ModernBERT-base', \n",
    "    num_layers=22,\n",
    "    lang='nl')\n",
    "\n",
    "P_base, R_base, F1_base = score(\n",
    "    candidates_base, \n",
    "    references, \n",
    "    model_type='answerdotai/ModernBERT-base', \n",
    "    num_layers=22,\n",
    "    lang='nl')"
   ]
  },
  {
   "cell_type": "code",
   "execution_count": 31,
   "id": "afdb33c2",
   "metadata": {},
   "outputs": [
    {
     "name": "stdout",
     "output_type": "stream",
     "text": [
      "BERT Score metrics new: (tensor([0.8441, 0.7226, 0.7086, 0.8301]), tensor([0.8497, 0.8189, 0.8137, 0.8155]), tensor([0.8469, 0.7678, 0.7575, 0.8227]))\n",
      "BERT Score metrics base: (tensor([0.8104, 0.7440, 0.6925, 0.7777]), tensor([0.8275, 0.8283, 0.8064, 0.8154]), tensor([0.8189, 0.7839, 0.7451, 0.7961]))\n",
      "F1 base: 0.7859886884689331, F1 new: 0.7987325191497803\n"
     ]
    }
   ],
   "source": [
    "print(f\"BERT Score metrics new: {P_new, R_new, F1_new}\")\n",
    "print(f\"BERT Score metrics base: {P_base, R_base, F1_base}\")\n",
    "\n",
    "print(f\"F1 base: {F1_base.mean()}, F1 new: {F1_new.mean()}\")\n",
    "\n"
   ]
  },
  {
   "cell_type": "markdown",
   "id": "78332f58",
   "metadata": {},
   "source": [
    "## G-Eval"
   ]
  },
  {
   "cell_type": "code",
   "execution_count": null,
   "id": "02388cd4",
   "metadata": {},
   "outputs": [],
   "source": [
    "# Evaluation metric 2: Evaluate whole answer on G-Eval"
   ]
  },
  {
   "cell_type": "markdown",
   "id": "3e6086f2",
   "metadata": {},
   "source": [
    "## Personal evaluation"
   ]
  },
  {
   "cell_type": "code",
   "execution_count": null,
   "id": "f34ef6eb",
   "metadata": {},
   "outputs": [],
   "source": [
    "# Generate about 10 answers with both models --> load them into the user interface and get reward score\n",
    "# Also maybe do qualitative evaluation"
   ]
  }
 ],
 "metadata": {
  "kernelspec": {
   "display_name": "Evaluation",
   "language": "python",
   "name": "python3"
  },
  "language_info": {
   "codemirror_mode": {
    "name": "ipython",
    "version": 3
   },
   "file_extension": ".py",
   "mimetype": "text/x-python",
   "name": "python",
   "nbconvert_exporter": "python",
   "pygments_lexer": "ipython3",
   "version": "3.9.23"
  }
 },
 "nbformat": 4,
 "nbformat_minor": 5
}
