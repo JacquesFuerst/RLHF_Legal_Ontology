{
 "cells": [
  {
   "cell_type": "markdown",
   "id": "7e99baab",
   "metadata": {},
   "source": [
    "# Evaluate finetuned Mistral Models"
   ]
  },
  {
   "cell_type": "markdown",
   "id": "d1d0599d",
   "metadata": {},
   "source": [
    "## Imports and environment variables"
   ]
  },
  {
   "cell_type": "code",
   "execution_count": 1,
   "id": "7235bb20",
   "metadata": {},
   "outputs": [
    {
     "name": "stderr",
     "output_type": "stream",
     "text": [
      "/home/jacques.furst/miniconda3/envs/Evaluation/lib/python3.9/site-packages/tqdm/auto.py:21: TqdmWarning: IProgress not found. Please update jupyter and ipywidgets. See https://ipywidgets.readthedocs.io/en/stable/user_install.html\n",
      "  from .autonotebook import tqdm as notebook_tqdm\n"
     ]
    },
    {
     "name": "stdout",
     "output_type": "stream",
     "text": [
      "There are 1 GPU(s) available.\n",
      "CUDA is available. Using GPU: NVIDIA L40S\n"
     ]
    }
   ],
   "source": [
    "import torch\n",
    "import os\n",
    "import sys\n",
    "from dotenv import load_dotenv\n",
    "import ast\n",
    "import evaluate\n",
    "\n",
    "from deepeval.metrics import GEval\n",
    "from deepeval.test_case import LLMTestCaseParams, LLMTestCase\n",
    "\n",
    "from distutils.util import strtobool\n",
    "\n",
    "# from deepeval.models.azure_openai import AzureOpenAIModel\n",
    "\n",
    "from peft import PeftModel\n",
    "\n",
    "import pandas as pd\n",
    "\n",
    "from transformers import AutoTokenizer, AutoModelForCausalLM\n",
    "\n",
    "from deepeval.models import AzureOpenAIModel\n",
    "# from deepeval.metrics import AnswerRelevancyMetric\n",
    "\n",
    "# Load environment variables from .env file\n",
    "load_dotenv()\n",
    "\n",
    "# Add the parent directory to the Python path\n",
    "# __file__\n",
    "\n",
    "\n",
    "# Adjust this path to point to the directory containing rl_training_new\n",
    "module_path = os.path.abspath(os.path.join('..')) # or another relative path\n",
    "if module_path not in sys.path:\n",
    "    sys.path.append(module_path)\n",
    "\n",
    "# from rl_training_new.utils import find_best_window\n",
    "\n",
    "\n",
    "from bert_score import score\n",
    "\n",
    "# load the relevant devices available on the server\n",
    "os.environ[\"CUDA_VISIBLE_DEVICES\"] = os.getenv(\"AVAILABLE_DEVICES\")\n",
    "\n",
    "# Enable expandable CUDA segments\n",
    "os.environ[\"PYTORCH_CUDA_ALLOC_CONF\"] = \"expandable_segments:True\"\n",
    "\n",
    "# load cuda\n",
    "if torch.cuda.is_available():\n",
    "    device = torch.device(\"cuda\")\n",
    "    print('There are %d GPU(s) available.' % torch.cuda.device_count())\n",
    "    print(\"CUDA is available. Using GPU:\", torch.cuda.get_device_name(0))\n",
    "else:\n",
    "    device = torch.device(\"cpu\")\n",
    "    print(\"CUDA is not available. Using CPU.\")\n"
   ]
  },
  {
   "cell_type": "code",
   "execution_count": 2,
   "id": "3d1260ab",
   "metadata": {},
   "outputs": [],
   "source": [
    "def str_to_bool(s):\n",
    "    return bool(strtobool(s))"
   ]
  },
  {
   "cell_type": "code",
   "execution_count": 3,
   "id": "329c4a4d",
   "metadata": {},
   "outputs": [],
   "source": [
    "MODEL = os.getenv(\"GENERATION_MODEL_NAME\")\n",
    "ALGORITHM = os.getenv(\"EVAL_MODEL_ALGORITHM\")\n",
    "RL_TRAINED_ADAPTERS = os.getenv(\"EVAL_MODEL_FOLDER\")\n",
    "EVAL_ANSWERS_CSV = os.getenv(\"EVAL_ANSWERS_CSV\")\n",
    "# GENERATE_RESPONSES = str_to_bool(os.getenv(\"GENERATE_RESPONSES\"))\n",
    "OPENAI_API_KEY = os.getenv(\"AZURE_OPENAI_API_KEY\")\n",
    "# RL_DATA_PATH = os.getenv(\"RL_DATA_PATH\")\n",
    "EVAL_FILE = os.getenv(\"EVAL_FILE\")\n",
    "NUM_RESPONSES_EVAL = int(os.getenv(\"NUM_RESPONSES_EVAL\"))  # Number of responses per model"
   ]
  },
  {
   "cell_type": "markdown",
   "id": "db917af8",
   "metadata": {},
   "source": [
    "## Load model"
   ]
  },
  {
   "cell_type": "code",
   "execution_count": 4,
   "id": "e2ca7f88",
   "metadata": {},
   "outputs": [
    {
     "name": "stderr",
     "output_type": "stream",
     "text": [
      "Loading checkpoint shards: 100%|██████████| 3/3 [00:10<00:00,  3.65s/it]\n",
      "Loading checkpoint shards: 100%|██████████| 3/3 [00:10<00:00,  3.57s/it]\n"
     ]
    },
    {
     "data": {
      "text/plain": [
       "PeftModelForCausalLM(\n",
       "  (base_model): LoraModel(\n",
       "    (model): MistralForCausalLM(\n",
       "      (model): MistralModel(\n",
       "        (embed_tokens): Embedding(32768, 4096)\n",
       "        (layers): ModuleList(\n",
       "          (0-31): 32 x MistralDecoderLayer(\n",
       "            (self_attn): MistralAttention(\n",
       "              (q_proj): lora.Linear4bit(\n",
       "                (base_layer): Linear4bit(in_features=4096, out_features=4096, bias=False)\n",
       "                (lora_dropout): ModuleDict(\n",
       "                  (default): Dropout(p=0.05, inplace=False)\n",
       "                )\n",
       "                (lora_A): ModuleDict(\n",
       "                  (default): Linear(in_features=4096, out_features=64, bias=False)\n",
       "                )\n",
       "                (lora_B): ModuleDict(\n",
       "                  (default): Linear(in_features=64, out_features=4096, bias=False)\n",
       "                )\n",
       "                (lora_embedding_A): ParameterDict()\n",
       "                (lora_embedding_B): ParameterDict()\n",
       "                (lora_magnitude_vector): ModuleDict()\n",
       "              )\n",
       "              (k_proj): Linear4bit(in_features=4096, out_features=1024, bias=False)\n",
       "              (v_proj): lora.Linear4bit(\n",
       "                (base_layer): Linear4bit(in_features=4096, out_features=1024, bias=False)\n",
       "                (lora_dropout): ModuleDict(\n",
       "                  (default): Dropout(p=0.05, inplace=False)\n",
       "                )\n",
       "                (lora_A): ModuleDict(\n",
       "                  (default): Linear(in_features=4096, out_features=64, bias=False)\n",
       "                )\n",
       "                (lora_B): ModuleDict(\n",
       "                  (default): Linear(in_features=64, out_features=1024, bias=False)\n",
       "                )\n",
       "                (lora_embedding_A): ParameterDict()\n",
       "                (lora_embedding_B): ParameterDict()\n",
       "                (lora_magnitude_vector): ModuleDict()\n",
       "              )\n",
       "              (o_proj): Linear4bit(in_features=4096, out_features=4096, bias=False)\n",
       "            )\n",
       "            (mlp): MistralMLP(\n",
       "              (gate_proj): Linear4bit(in_features=4096, out_features=14336, bias=False)\n",
       "              (up_proj): Linear4bit(in_features=4096, out_features=14336, bias=False)\n",
       "              (down_proj): Linear4bit(in_features=14336, out_features=4096, bias=False)\n",
       "              (act_fn): SiLU()\n",
       "            )\n",
       "            (input_layernorm): MistralRMSNorm((4096,), eps=1e-05)\n",
       "            (post_attention_layernorm): MistralRMSNorm((4096,), eps=1e-05)\n",
       "          )\n",
       "        )\n",
       "        (norm): MistralRMSNorm((4096,), eps=1e-05)\n",
       "        (rotary_emb): MistralRotaryEmbedding()\n",
       "      )\n",
       "      (lm_head): Linear(in_features=4096, out_features=32768, bias=False)\n",
       "    )\n",
       "  )\n",
       ")"
      ]
     },
     "execution_count": 4,
     "metadata": {},
     "output_type": "execute_result"
    }
   ],
   "source": [
    "# base_model = AutoModelForCausalLM.from_pretrained(MODEL)\n",
    "base_model = AutoModelForCausalLM.from_pretrained(MODEL,  \n",
    "                                            #  device_map=\"auto\",  # For GPU/TPU acceleration\n",
    "                                            device_map=None,\n",
    "                                            torch_dtype=torch.bfloat16,\n",
    "                                            #  load_in_4bit=True,\n",
    "                                            quantization_config={\n",
    "                                                \"load_in_4bit\": True,\n",
    "                                                \"bnb_4bit_compute_dtype\": torch.bfloat16,\n",
    "                                                \"bnb_4bit_use_double_quant\": True,\n",
    "                                                \"bnb_4bit_quant_type\": \"nf4\"\n",
    "                                                }\n",
    "                                            )   # Optimize precision)\n",
    "# base_model_new = AutoModelForCausalLM.from_pretrained(MODEL)\n",
    "base_model_new = AutoModelForCausalLM.from_pretrained(MODEL,  \n",
    "                                            #  device_map=\"auto\",  # For GPU/TPU acceleration\n",
    "                                            device_map=None,\n",
    "                                            torch_dtype=torch.bfloat16,\n",
    "                                            #  load_in_4bit=True,\n",
    "                                            quantization_config={\n",
    "                                                \"load_in_4bit\": True,\n",
    "                                                \"bnb_4bit_compute_dtype\": torch.bfloat16,\n",
    "                                                \"bnb_4bit_use_double_quant\": True,\n",
    "                                                \"bnb_4bit_quant_type\": \"nf4\"\n",
    "                                                }\n",
    "                                            )   # Optimize precision)\n",
    "new_model = PeftModel.from_pretrained(base_model_new, RL_TRAINED_ADAPTERS)\n",
    "\n",
    "tokenizer = AutoTokenizer.from_pretrained(MODEL)\n",
    "\n",
    "base_model.eval()\n",
    "new_model.eval()\n",
    "\n",
    "base_model.to(device)\n",
    "new_model.to(device)\n"
   ]
  },
  {
   "cell_type": "markdown",
   "id": "ad7ace9b",
   "metadata": {},
   "source": [
    "## Get test dataset"
   ]
  },
  {
   "cell_type": "code",
   "execution_count": 5,
   "id": "3a729e82",
   "metadata": {},
   "outputs": [],
   "source": [
    "df = pd.read_csv(EVAL_FILE, sep=';')"
   ]
  },
  {
   "cell_type": "markdown",
   "id": "6afccf5c",
   "metadata": {},
   "source": [
    "## Generate Model responses"
   ]
  },
  {
   "cell_type": "code",
   "execution_count": 6,
   "id": "ab9ff172",
   "metadata": {},
   "outputs": [],
   "source": [
    "# Function to generate response\n",
    "def generate_response(prompt, tokenizer, model, max_length=1024):\n",
    "    inputs = tokenizer(prompt, return_tensors=\"pt\").to(device)\n",
    "    input_length = inputs['input_ids'].shape[1]\n",
    "    with torch.no_grad():\n",
    "        outputs = model.generate(**inputs, max_length=input_length + max_length, do_sample=True, top_k=50)\n",
    "        generated_ids = outputs[0][input_length:]\n",
    "    return tokenizer.decode(generated_ids, skip_special_tokens=True)"
   ]
  },
  {
   "cell_type": "code",
   "execution_count": 7,
   "id": "2fe4e660",
   "metadata": {},
   "outputs": [],
   "source": [
    "if not os.path.exists(EVAL_ANSWERS_CSV):\n",
    "    # Generate multiple responses for each prompt\n",
    "    for i in range(NUM_RESPONSES_EVAL):\n",
    "        df[f'response_base_model_{i+1}'] = df['prompt'].apply(lambda x: generate_response(x, tokenizer, base_model))\n",
    "        df[f'response_new_model_{i+1}'] = df['prompt'].apply(lambda x: generate_response(x, tokenizer, new_model))\n",
    "\n",
    "    # Show result: displaying first response columns for brevity\n",
    "    response_cols = [f'response_new_model_{i+1}' for i in range(NUM_RESPONSES_EVAL)] + \\\n",
    "                    [f'response_base_model_{i+1}' for i in range(NUM_RESPONSES_EVAL)]\n",
    "    print(df[['prompt'] + response_cols])\n",
    "\n",
    "    # Store in CSV\n",
    "    df.to_csv(EVAL_ANSWERS_CSV, index=False, sep=';')\n",
    "\n",
    "else:\n",
    "    df = pd.read_csv(EVAL_ANSWERS_CSV, sep=';')\n",
    "\n",
    "\n",
    "\n",
    "# if GENERATE_RESPONSES:\n",
    "#     # Apply both models\n",
    "#     df['response_base_model'] = df['prompt'].apply(lambda x: generate_response(x, tokenizer, base_model))\n",
    "#     df['response_new_model'] = df['prompt'].apply(lambda x: generate_response(x, tokenizer, new_model))\n",
    "\n",
    "#     # Show result\n",
    "#     print(df[['prompt', 'response_new_model', 'response_base_model']])\n",
    "\n",
    "#     # store response df in csv\n",
    "#     df.to_csv(EVAL_ANSWERS_CSV, index=False, sep=';')\n",
    "# else:\n",
    "#     pd.read_csv(EVAL_ANSWERS_CSV, sep=';')"
   ]
  },
  {
   "cell_type": "code",
   "execution_count": 8,
   "id": "0658429a",
   "metadata": {},
   "outputs": [],
   "source": [
    "# print(df['response_base_model'][0])\n",
    "# print(df['response_new_model'][0])"
   ]
  },
  {
   "cell_type": "code",
   "execution_count": 9,
   "id": "0cb0c503",
   "metadata": {},
   "outputs": [
    {
     "name": "stdout",
     "output_type": "stream",
     "text": [
      "['een overzicht van de uitgaven en de ontvangsten in de begrotingen voor het begrotingsjaar en de vier daarop aansluitende jaren.\\nArtikel 2.23 sectie 4c IN Comptabiliteitswet 2016\\n\\nde budgettaire beschouwingen over het voorgenomen beleid voor de collectieve sector\\nArtikel 2.23 sectie 4b IN Comptabiliteitswet 2016\\n\\nhet budgettaire totaalbeeld voor het betrokken begrotingsjaar en de vier daaropvolgende jaren van de rijksbegroting en de niet tot de rijksbegroting behorende budgetdisciplinesectoren\\nArtikel 2.23 sectie 4a IN Comptabiliteitswet 2016\\n\\n', 'de verblijfsvergunning wordt verleend met ingang van de dag waarop de vreemdeling heeft aangetoond dat hij aan alle voorwaarden voldoet\\nArtikel 26, sectie 1 IN Vreemdelingenwet 2024\\n\\nde verblijfsvergunning wordt verleend met ingang van een dag eerder dan de dag waarop de aanvraag is ontvangen\\nArtikel 26, sectie 1 IN Vreemdelingenwet 2024\\n\\n', 'Begroting bevat begrotingsstaat\\nArtikel 2.2 IN Comptabiliteitswet 2016\\n\\n', 'college stelt het recht op bijstand vast op schriftelijke aanvraag\\nArtikel 43, sectie 1 IN Participatiewet\\n\\nNOT bijstand wordt door de echtgenoten gezamenlijk aangevraagd dan wel door een van hen met schriftelijke toestemming van de ander\\nArtikel 43, sectie 2 IN Participatiewet\\n\\nNOT belanghebbende is een in Nederland woonachtige Nederlander\\nArtikel 11, sectie 1 IN Participatiewet\\n\\nNOT belanghebbende is een hier te lande woonachtige vreemdeling die rechtmatig in Nederland verblijf houdt in de zin van artikel 8, onderdelen a tot en met e en l, van de Vreemdelingenwet 2000\\nArtikel 11, sectie 2 IN Participatiewet\\n\\n\\nbelanghebbende aan wie rechtens zijn vrijheid is ontnomen\\nArtikel 13, sectie 1 a IN Participatiewet\\n\\nbelanghebbende die zich onttrekt aan de tenuitvoerlegging van een vrijheidsstraf of vrijheidsbenemende maatregel\\nArtikel 13, sectie 1 b IN Participatiewet\\n\\nbelanghebbende die zijn militaire of vervangende dienstplicht vervult\\nArtikel 13, sectie 1 c IN Participatiewet\\n\\nbelanghebbende die wegens werkstaking of uitsluiting niet deelneemt aan de arbeid, voorzover diens gebrek aan middelen daarvan het gevolg is\\nArtikel 13, sectie 1 d IN Participatiewet\\n\\nbelanghebbende die per kalenderjaar langer dan vier weken verblijf houdt buiten Nederland\\nArtikel 13, sectie 1 e IN Participatiewet\\n\\nbelanghebbende die bijstand vraagt ter gedeeltelijke of volledige aflossing van een schuldenlast\\nArtikel 13, sectie 1 g IN Participatiewet\\n\\nbelanghebbende die overigens bij het ontstaan van de schuldenlast dan wel nadien, beschikte of beschikt over de middelen om in de noodzakelijke kosten van het bestaan te voorzien\\nArtikel 13, sectie 1 g IN Participatiewet\\n\\nbelanghebbende die een uitreiziger is\\nArtikel 13, sectie 1 h IN Participatiewet\\n\\nbelanghebbende van 18, 19 of 20 jaar die in een inrichting verblijft\\nArtikel 13, sectie 2 a IN Participatiewet\\n\\nbelanghebbende die jonger is dan 27 jaar en uit ’s Rijks kas bekostigd onderwijs kan volgen\\nArtikel 13, sectie 2 c IN Participatiewet\\n\\nbelanghebbende heeft in verband met volgen onderwijs aanspraak op studiefinanciering op grond van de Wet studiefinanciering 2000\\nArtikel 13, sectie 2 c 1 IN Participatiewet\\n\\nbelanghebbende heeft geen aanspraak op studiefinanciering omdat hij onderwijs dat hij kan volgen onderwijs, niet volgt\\nArtikel 13, sectie 2 c 2 IN Participatiewet\\n\\nbelanghebbende die jonger is dan 27 jaar en uit wiens houding en gedragingen ondubbelzinnig blijkt dat hij de verplichtingen, bedoeld in artikel 9, eerste lid, of artikel 55 niet wil nakomen\\nArtikel 13, sectie 2 d IN Participatiewet\\n\\nbijstand wordt toegekend voor de dag waarop de belanghebbende zich heeft gemeld om bijstand aan te vragen\\nArtikel 44, sectie 1 IN Participatiewet\\n\\nNOT het in aanmerking te nemen inkomen lager is dan de bijstandsnorm\\nArtikel 19 sectie 1 a IN Participatiewet\\n\\ner is in aanmerking te nemen vermogen\\nArtikel 19 sectie 1 b IN Participatiewet\\n\\n']\n"
     ]
    }
   ],
   "source": [
    "\n",
    "# Create list of column names\n",
    "new_cols = [f'response_new_model_{j+1}' for j in range(NUM_RESPONSES_EVAL)]\n",
    "base_cols = [f'response_base_model_{j+1}' for j in range(NUM_RESPONSES_EVAL)]\n",
    "\n",
    "# Select columns and convert to list of lists (rows)\n",
    "candidates_new = df[new_cols].values.tolist()\n",
    "candidates_base = df[base_cols].values.tolist()\n",
    "\n",
    "precon_text_list = df['precondition_texts'].to_list()\n",
    "precon_pos_list = df[\"precondition_positions\"].to_list()\n",
    "\n",
    "references = []\n",
    "for dict1, dict2 in zip(precon_text_list, precon_pos_list):\n",
    "    dict1 = ast.literal_eval(dict1)\n",
    "    dict2 = ast.literal_eval(dict2)\n",
    "    combined = []\n",
    "    for key in dict1.keys():  # or use sorted(dict1.keys()) if key order isn't guaranteed\n",
    "        combined.append(str(dict1[key]) + '\\n')\n",
    "        combined.append(str(dict2[key]) + '\\n\\n')\n",
    "    references.append(''.join(combined))\n",
    "\n",
    "print(references)"
   ]
  },
  {
   "cell_type": "code",
   "execution_count": 21,
   "id": "69cdaded",
   "metadata": {},
   "outputs": [
    {
     "name": "stdout",
     "output_type": "stream",
     "text": [
      "[' Subfact: budgettaire totaalbeeld \\n  Positie: Artikel 4.3, vierde lid IN Rijksbegroting 2016\\n\\n                  Subfact: budgettaire beschouwingen\\n  Positie: Artikel 4.3, vierde lid IN Rijksbegroting 2016\\n\\n                  Subfact: een overzicht van de uitgaven en ontvangsten\\n  Positie: Artikel 4.3, vierde lid IN Rijksbegroting 2016', ' Subfact: Budgettaire totaalbeeld\\n                  Positie: Artikel 4.4, vierde lid IN Comptabiliteitswet 2016\\n\\n                  Subfact: Budgettaire beschouwingen\\n                  Positie: Artikel 4.4, vierde lid IN Comptabiliteitswet 2016\\n\\n                  Subfact: Overzicht van uitgaven en ontvangsten\\n                  Positie: Artikel 4.4, vierde lid IN Comptabiliteitswet 2016', '----------\\n\\n                Subfact: Budgettaire totaalbeeld \\n  Positie: Inhoud van het Artikel 4.4 van de Hoofdstuk 4 van de Comptabiliteitswet 2016\\n\\n              Subfact: Budgettaire beschouwingen \\n              Positie: Inhoud van het Artikel 4.4 van de Hoofdstuk 4 van de Comptabiliteitswet 2016\\n\\n              Subfact: Een overzicht van de uitgaven en ontvangsten \\n              Positie: Inhoud van het Artikel 4.4 van de Hoofdstuk 4 van de Comptabiliteitswet 2016', ' Subfact: Budgettaire totaalbeeld\\n                  Positie: Artikel 4.3.4.(b), sectie 4, IN Rijksbegrotingwet 2016\\n\\n                  Subfact: Budgettaire beschouwingen\\n                  Positie: Artikel 4.3.4.(b), sectie 4, IN Rijksbegrotingwet 2016\\n\\n                  Subfact: Overzicht van de uitgaven en ontvangsten\\n                  Positie: Artikel 4.3.4.(c), sectie 4, IN Rijksbegrotingwet 2016', ' Subfact: budgettaire totaalbeeld  \\n  Positie: Artikel 2.4.4.d IN Rijksbegrotingsvoorschriften 2024  \\n  Naam: Rijksbegrotingsvoorschriften 2024  \\n  Subfact: budgettaire beschouwingen  \\n  Positie: Artikel 2.4.4.d IN Rijksbegrotingsvoorschriften 2024  \\n  Naam: Rijksbegrotingsvoorschriften 2024  \\n  Subfact: overzicht van de uitgaven en ontvangsten  \\n  Positie: Artikel 2.4.4.d IN Rijksbegrotingsvoorschriften 2024\\n  Naam: Rijksbegrotingsvoorschriften 2024', ' Subfact: \"Budgettaire totaalbeeld\"\\n  Position: Artikel 4.4.4, sectie Hoofdstuk 4 Rijksbegroting 2016 IN Rijksbegroting 2016\\n\\n                  Subfact: \"Budgettaire beschouwingen\"\\n  Position: Artikel 4.4.4, sectie Hoofdstuk 4 Rijksbegroting 2016 IN Rijksbegroting 2016\\n\\n                  Subfact: \"Overzicht van de uitgaven en ontvangsten\"\\n  Position: Artikel 4.4.4, sectie Hoofdstuk 4 Rijksbegroting 2016 IN Rijksbegroting 2016', ' Subfact: Het budgettaire totaalbeeld\\n                  Positie: Artikel 4.4.4, sectie 4 van Artikel 4.3 Rijksbegrotingsvoorschriften 2024\\n                Subfact: De budgettaire beschouwingen\\n                Positie: Artikel 4.4.4, sectie 4 van Artikel 4.3 Rijksbegrotingsvoorschriften 2024\\n                Subfact: een overzicht van de uitgaven en ontvangsten\\n                Positie: Artikel 4.4.4, sectie 4 van Artikel 4.3 Rijksbegrotingsvoorschriften 2024', ' Subfact: Budgettaire totaalbeeld \\n\\n                Positie: Artikel 2.4.4.(a) in de tekst van Comptabiliteitswet 2016\\n\\n                  Subfact: Budgettaire beschouwingen\\n\\n                Positie: Artikel 2.4.4.(b) in de tekst van Comptabiliteitswet 2016\\n\\n                  Subfact: Overzicht van uitgaven en ontvangsten\\n\\n                Positie: Artikel 2.4.4.(c) in de tekst van Comptabiliteitswet 2016', ' Subfact: budgettaire beschouwingen\\n                  Positie: Artikel 2.4.4, sectie 4 IN Rijksbegroting 2016\\n\\n                  Subfact: budgettaire totaalbeeld\\n                  Positie: Artikel 2.4.4, sectie 4 IN Rijksbegroting 2016\\n                  Positie: Artikel 4.4, sectie 4 IN Rijksbegroting 2016\\n\\n                  Subfact: overzicht van de uitgaven en ontvangsten\\n                  Positie: Artikel 2.4.4, sectie 4 IN Rijksbegroting 2016', ' Subfact: Budgettaire totaalbeeld IN Hoofdstuk 2 van de Comptabiliteitswet  2016  \\n    Position:                  Artikel 2.4,                                           IN Hoofdstuk 2 van de Comptabiliteitswet 2016\\n\\n                  Subfact: Budgettaire beschouwingen IN Hoofstad 2 van de Comptabiliteitswet 2016  \\n    Position:                  Artikel 2.24,                                           IN Hoofstad 2 van de Comptabiliteitswet 2016\\n\\n                  Subfact: Overzicht van uitgaven en ontvangsten IN Hoofsdad 2 van de Comptabiliteitswet 2016  \\n    Position:                  Artikel 2.23,                                           IN Hoofsdad 2 van de Comptabiliteitswet 2016', ' Preconditie: de aanvrager moet beschikken over een geldige machtiging tot voorlopig verblijf die overeenkomt met het verblijfsdoel waarvoor de verblijfsvergunning is aangevraagd.\\n\\n                  Positie: Artikel 16, 1 a IN Vreemdelingenwet geldig vanaf 2024\\n\\n                  \\tPreconditie: de aanvrager moet beschikken over een geldig document voor grensoverschrijding.\\n\\n                  \\tPositie: Artikel 16, 1 b IN Vreemdelingenwet geldig vanaf 2024\\n\\n                          \\tPreconditie: de aanvrager moet zelfstandig en duurzaam beschikken over voldoende middelen van bestaan dan wel, indien de persoon bij wie de vreemdeling wil verblijven, niet zelfstandig en duurzaam beschikt over voldoende middelen van bestaan.\\n\\n                  \\tPositie: Artikel 16, 1 c IN Vreemdelingenwet geldig vanaf 2024', ' Preconditie: De vreemdeling moet beschikken over een geldige machtiging tot voorlopig verblijf die overeenkomt met het verblijfsdoel waarvoor de verblijfsvergunning is aangevraagd.\\n\\n                  Positie: Artikel 16, sub 1 a IN Vreemdelingenwet\\n\\n                  Preconditie: De vreemdeling moet zelfstandig en duurzaam beschikken over voldoende middelen van bestaan dan wel, indien de persoon bij wie de vreemdeling wil verblijven, niet zelfstandig en duurzaam beschikt over voldoende middelen van bestaan.\\n\\n                  Positie: Artikel 16, sub 1 c IN Vreemdelingenwet\\n\\n                  Preconditie: De vreemdeling moet voldoen aan de beperking, verband houdende met het doel waarvoor hij wil verblijven.\\n\\n                  Positie: Artikel 14, sub 3 IN Vreemdelingenwet\\n\\n                  Preconditie: Het bestuursorgaan moet beschikken over een verklaring van een referent.\\n\\n                  Positie: Artikel 14, sub 1 k IN Vreemdelingenwet, Afdeling 3. De verblijfsvergunning regulier', ' Preconditie: degene overeenkomstig artikel 2a een verklaring heeft afgelegd of als zodanig is aangewezen;\\n  Position: Artikel 8, gedeelte 1 INVreemdelingenwet\\n\\n                Preconditie: het vreemdeling behoort tot een der categorieën, bedoeld in artikel 17, eerste lid;\\n  Position: Artikel 17, eerste lid INVreemdelingenwet\\n\\n                Preconditie: De vreemdeling voldoet aan de beperking, verband houdende met het doel waarvoor hij wil verblijven;\\n  Position: Artikel 14, derde lid INVreemdelingenwet\\n\\n                Preconditie: verlangert de Minister het verlenen van de aanvraag. Hiervoor mag de vreemdeling zich niet verstrekken aan gelijke vereiste;\\n  Position: Artikel 3 in wet Algemene wet bestuursrecht', ' Preconditie: de vreemdeling beschikt over een geldige machtiging tot voorlopig verblijf die overeenkomt met het verblijfsdoel waarvoor de verblijfsvergunning is aangevraagd \\n\\n                  Positie: Artikel 16, sub 1a IN Vreemdelingenwet geldig vanaf 2024\\n\\n                  Preconditie: de vreemdeling beschikt over een geldig document voor grensoverschrijding\\n\\n                  Positie: Artikel 16, sub 1b IN Vreemdelingenwet geldig vanaf 2024\\n\\n                  Preconditie: de vreemdeling zelfstandig en duurzaam beschikt over voldoende middelen van bestaan dan wel, indien de persoon bij wie de vreemdeling wil verblijven, niet zelfstandig en duurzaam beschikt over voldoende middelen van bestaan\\n\\n                  Positie: Artikel 16, sub 1c IN Vreemdelingenwet geldig vanaf 2024', ' Preconditie: de vreemdeling beschikt over een geldige machtiging tot voorlopig verblijf die overeenkomt met het verblijfsdoel waarvoor de verblijfsvergunning is aangevraagd.\\n\\n                  Positie: Artikel 16, 1a, Algemene wet bestuursrecht\\n\\n                  Preconditie: de vreemdeling beschikt over een geldig document voor grensoverschrijding.\\n\\n                  Positie: Artikel 16, 1b, Algemene wet bestuursrecht\\n\\n                  Preconditie: de vreemdeling zelfstandig en duurzaam beschikt over voldoende middelen van bestaan dan wel, indien de persoon bij wie de vreemdeling wil verblijven, zelfstandig en duurzaam beschikt over voldoende middelen van bestaan.\\n\\n                  Positie: Artikel 16, 1c, Algemene wet bestuursrecht', ' Verblijfsvergunning regulier\\n\\n                  Preconditie: De vreemdeling niet zelfstandig en duurzaam beschikken over voldoende middelen van bestaan dan wel, indien de persoon bij wie de vreemdeling wil verblijven, niet zelfstandig en duurzaam beschikt over voldoende middelen van bestaan \\n\\n                  Positie: 1 c. IN artikel 14\\n\\n                  Preconditie: De vreemdeling voldoen aan de beperking, verband houdende met het doel waarvoor hij wil  verblijven\\n\\n                  Positie: 1 g. IN artikel 14', ' - Preconditie: De aanvrager moet geschikte middelen van bestaan beschikken.\\n  Positie: Artikel 16, 1c\\n  Wetstekst: Vreemdelingenwet geldig vanaf 2024\\n                  - Preconditie: De aanvrager moet zich willen verbindingen laten met een referent met overeenkomstellige bevoegdheid als bedoeld in artikel 2a van de Vreemdelingenwet 2024.\\n  Positie: Artikel 17, 1k\\n  Wetstekst: Vreemdelingenwet geldig vanaf 2024', '---------------------\\n\\n                Preconditie: De aanvraag tot het verlenen van een verblijfsvergunning voor bepaalde tijd moet worden ingediend in Nederland.\\n                Positie: Artikel 14, 1a IN Vreemdelingenwet\\n\\n\\n                Preconditie: De vreemdeling moet beschikken over een gevalideerd voorlopig verblijfsbewijs.\\n                Positie: Artikel 14, 1a IN Vreemdelingenwet\\n\\n\\n                Preconditie: De aanvrager moet zelfstandig en duurzaam bij voorbaat zonder een werkgever beschikken over voldoende middelen die zijn bedoeld als basis voor overleven.\\n                Positie: Artikel 16, 1c IN Vreemdelingenwet\\n\\n\\n                Preconditie: De vreemdeling mag niet een gevaar vormen voor de openbare orde of nationale veiligheid.\\n                Positie: Artikel 16, 1d IN Vreemdelingenwet', ' Preconditie: de vreemdeling beschikt over een geldige machtiging tot voorlopig verblijf die overeenkomt met het verblijfsdoel waarvoor de verblijfsvergunning is aangevraagd\\n\\n                  Positie: Artikel 16, 1, a IN Vreemdelingenwet geldig vanaf 2024\\n\\n                  Preconditie: de vreemdeling beschikt over een geldig document voor grensoverschrijding\\n\\n                  Positie: Artikel 16, 1, b IN Vreemdelingenwet geldig vanaf 2024\\n\\n                  Preconditie: de vreemdeling zelfstandig en duurzaam beschikt over voldoende middelen van bestaan dan wel, indien de persoon bij wie de vreemdeling wil verblijven, niet zelfstandig en duurzaam beschikt over voldoende middelen van bestaan\\n\\n                  Positie: Artikel 16, 1, c IN Vreemdelingenwet geldig vanaf 2024\\n\\n                  Preconditie: de vreemdeling niet voldoet aan de beperking, verband houdende met het doel waarvoor hij wil verblijven\\n\\n                  Positie: Artikel 16, 1, g IN Vreemdelingenwet geldig vanaf 2024\\n\\n\\n      Met deze toets kan de roteerder de systematische methode op een systematische manier toetsen. Als u de context wilt toetsen om onderscheidend te zijn binnen de wet, kan het geschiktere zijn om een toets te gebruiken die gericht is op de doelen van de wet, daardoor mogelijk het verschil tussen verscheidene juridische documenten in beeld brengt.', ' Voorbeeld:\\n                  Preconditie: De vreemdeling moet een geldige machtiging tot voorlopig verblijf hebben die overeenkomt met het doel van de aanvraag.\\n\\n                  Positie: Artikel 16, paragraaf 1, letter a, Algemene wet bestuursrecht\\n\\n                Zoekresultaat:\\n                Preconditie: De vreemdeling moet een geldige machtiging tot voorlopig verblijf hebben die overeenkomt met het doel  van de aanvraag.\\n\\n                  Positie: Artikel 16, paragraaf 1, letter a, Algemene wet bestuursrecht\\n\\n                Preconditie: De vreemdeling moet zelfstandig en duurzaam beschikken over voldoende middelen van bestaan.\\n\\n                  Positie: Artikel 16, paragraaf 1, letter c, Algemene wet bestuursrecht\\n\\n                Preconditie: De vreemdeling moet niet voldoen aan de beperkingen verband houdende met het doel waarvoor de vreemdeling wil verblijden.\\n\\n                  Positie: Artikel 14, paragraaf 3, letter g, Vreemdelingenwet\\n\\n                Preconditie: De vreemdeling moet niet voldoen aan iedeel onjuiste gegeven of gegeven die achtergehouden is.\\n\\n                  Positie: Artikel 16, paragraaf 1, letter i, Vreemdelingenwet\\n\\n                Preconditie: De vreemdeling moet aan alle voorwaarden van de aanvraag voldoen.\\n\\n                  Positie: Artikel 26, Vreemdelingenwet', '--------------------------------------------------------------------------------------------------\\n\\n                Preconditie: \"Onze Ministers, ieder met betrekking tot het beleid waaronder hij verantwoordelijk is, stellen voor de aanvang van een begrotingsjaar een begroting op.\" \\n\\n                Positie: Artikel 2.2, 1ste lid IN Comptabiliteitswet 2016  \\n\\n                --------------------------------------------------------------------------------------------------\\n\\n                Preconditie: \"De begrotingen dienen ingericht te worden vanaf de datum van het begin van het begrotingsjaar.\"\\n\\n                Positie: Er werd in het volgende verband over de preconditie gesproken:\\n\\n                \"Begroting opstellen:\"\\n\\n                Hoofdstuk 2. De begroting en verantwoording van het Rijk\\n\\n                Artikel 2.1. Samenstelling en inhoud van de rijksbegroting\\n\\n                2. Onze Ministers, ieder met betrekking tot het beleid waarvoor hij verantwoordelijk is, stellen voor de aanvang van een begrotingsjaar een begroting op.\\n\\n                Geen rechtstreeks citaat in de tekst.', '--------------------------------------------\\n\\n                 Preconditie: Ministers stellen voor de aanvang van een begrotingsjaar een begroting op.\\n                 Position: Artikel 2.2, eerste lid IN Comptabiliteitswet 2016\\n\\n                 --------------------------------------------\\n\\n                 Preconditie: Er is een begroting voor elk ministerie.\\n                 Position: Artikel 2.1, derde lid IN Comptabiliteitswet 2016', '1. Preconditie: Ieder minister stelt een begroting op.\\n                  Positie: Artikel 2.2, sectie 1 IN Comptabiliteitswet 2016\\n                  Wetstekst: Comptabiliteitswet 2016\\n\\n                      2. Preconditie: Elk ministerie heeft één departementale begroting en kan er minstens één niet-departementale begroting hebben.\\n                      Positie: Artikel 2.1, eerste lid IN Comptabiliteitswet 2016\\n                      Wetstekst: Comptabiliteitswet 2016\\n\\n                      Extra informatie: Precondities voor het aantal begrotingen per ministerie zijn bepaald ten behoeve van de structuur van de begrotingen.\\n\\n                     3. Preconditie: Wij dienen een begroting op te stellen aan de Tweede Kamer der Staten-Generaal voor de aanvang van elk begrotingsjaar.\\n                      Positie: Artikel 2.23, eerste lid IN Comptabiliteitswet 2016\\n                      Wetstekst: Comptabiliteitswet 2016', ' Preconditie: De Minister stelt voor de aanvang van een begrotingsjaar een begroting op.\\n\\n                  Positie: 2.1.1 IN Comptabiliteitswet 2016', ' Preconditie: De begrotingen voor elk ministerie zijn er één departementale begroting en kunnen er één of meer niet-departementale begrotingen zijn.   Positie:  Artikel 2.1, derde lid, in Comptabiliteitswet 2016\\n\\n                  Preconditie: Voor elk ministerie is er één departementale en de minister stelt voor de aanvang van een begrotingsjaar een begroting op. Positie: Artikel 2.1, tweede lid, in Comptabiliteitswet 2016\\n\\n                  Preconditie: Voor de begroting van een niet-departementale begroting worden alleen aangemerkt de begroting van de Koning, de begroting van Nationale Schuld, de begrogingen van de begrotingsfondsen, de programmabegrotingen en de begroting van koninkrijksrelaties tenzij de uitgaven en ontvangsten die samenhangen met koninkrijksrelaties worden opgenomen in de betrokken departementale begroting. Positie: artikel 2.5, letter d in Comptabiliteitswet 2016.\\n\\n                  Preconditie: Onze Ministers, ieder met betrekking tot het beleid waarvoor hij verantwoordelijk is, stellen voor de aanvang van een begrotingsjaar een begroting op. Positie: Artikel 2.1, eerste lid, in Comptabiliteitswet 2016', 'Preconditie: De ministers verantwoordelijk zijn voor het opstellen van de begroting.  Positie: Artikel 2.2, eerste lid IN Comptabiliteitswet 2016\\n\\n\\n  --  Preconditie: Een begroting is gedaan voor  elk ministerie.    Positie: Artikel 2.2, tweede lid IN Comptabiliteitswet 2016\\n\\n\\n  --  Preconditie: Elk ministerie kan maximaal één departementale begroting stellen en maximaal meer dan een\\n     niet-departementale begroting.     Positie: Artikel 2.3 IN Comptabiliteitswet 2016\\n\\n\\n  --  Preconditie: Een niet-departementale begroting is enkel aangemerkt als: begroting van de Koning, begroting van Nationale Schuld, begroting van koninkrijksrelaties (zolang deze niet opgenomen zijn in de betreffende departementale begroting), begrotingen van de begrotingsfondsen,\\n     programmabegrotingen.      Positie: Artikel 2.5c IN Comptabiliteitswet 2016\\n\\n\\n  --  Preconditie: Een departementale begroting is alleen over het beleid en de bedrijfsvoering van het ministerie.    Positie: Artikel 6 IN Comptabiliteitswet 2016\\n\\n\\n  --  Preconditie: Een programmabegroting/ begroting van een begrotingsfonds is alleen over het afgezonderde beheer en bevat geen weergave van de bedrijfsvoering.   Positie: Artikel 8 IN Comptabiliteitswet 2016\\n\\n\\n  --  Preconditie: De voorstellen van de begrotingen moeten ingediend worden bij de Tweede Kamer.     Positie: Artikel 2.23, eerste lid IN Comptabiliteitswet 2016\\n\\n\\n  --  Preconditie: De voorstellen van de begrotingen kunnen worden ingediend door de Minister van Financiën.    Positie: Artikel 2.23, tweede lid, eerste zin IN Comptabiliteitswet 2016\\n\\n\\n  --  Preconditie: De voorstellen van de begrotingen moeten de miljoeennota bevatten en de voorstellen moet op de 3e dinsdag van september van het jaar voorafgaande aan het begrotingsjaar bij de Tweede Kamer der Staten-Generaal ingediend worden.     Positie: Artikel 2.23, eerste lid IN Comptabiliteitswet 2016\\n\\n\\n  --  Preconditie: De miljoenennota moet in elk geval bevatten: het budgettaire totaalbeeld voor het betrokken begrotingsjaar en de vier daaropvolgende jaren van de rijksbegroting en de niet tot de rijksbegroting behorende budgetdisciplinesector.    Positie: Artikel 4.4 derde lid, onderdeel a IN Comptabiliteitswet 2016', ' Preconditie: De Ministers, ieder met betrekking tot het beleid waarvoor hij verantwoordelijk is, stellen voor de aanvang van een begrotingsjaar een begroting op. \\n                    Positie: Artikel 2.1 van de Comptabiliteitswet 2016\\n                    Wetstekst: Comptabiliteitswet 2016\\n\\n                  N.B.: De precondities voorzien niet in acten zoals \"indienen van de rijksbegroting\" of \"vaststelling van de begrotingsstaten\". Het aantal precondities is daarom: 1.', \" Preconditie: Onze Ministers, ieder met betrekking tot het beleid waarvoor hij verantwoordelijk is, stellen voor de aanvang van een begrotingsjaar een begroting op.\\n\\n                  Positie: Artikel 2.2, tweede lid IN Comptabiliteitswet 2016\\n\\n                                          Voor elke andere preconditie, geeft dan het antwoord 'Niet gevonden'.\\n\\n                Preconditie: Niet gevonden.\\n\\n                  Preconditie: Niet gevonden.\\n\\n                  Preconditie: Niet gevonden.\\n\\n                ...\", ' Preconditie: ministers voorstellen voor een begroingsjaar een begroting op (Artikel 2.1.2 IN Comptabiliteitswet 2016)\\n                  Preconditie: voor elk ministerie is er één departementale begroting en kunnen er één of meer niet-departementale begrotingen zijn (Artikel 2.1.3 IN Comptabiliteitswet 2016)\\n                  Preconditie: als niet-departementale begroving wordt voorgestaan: begroting van koning, begroting van Nationale Schuld, begroving van koninkrijksrelaties tenzij de uitgaven en ontvangsten die samenhangen met koninkrijksrelaties worden opgenomen in de betrokken departementale begroving, begrovingen van de begrotingsfondsen, programmabegrovingen (Artikel 2.5.5 IN Comptabiliteitswet 2016)\\n                  Preconditie: voor het beheer van de begroting van Nationale Schuld is Onze Minister van Financiën verantwoordelijk (Artikel 4.3.3 IN Comptabiliteitswet 2016)', ' Preconditie: Ministraat verantwoordelijkheid\\n  Preconditie: minister verantwoordelijk\\n  Positie: 2.2, eerste lid IN Comptabiliteitswet 2016\\n\\n                  Preconditie: De minister bij de aanvang van een begrotingsjaar\\n  Preconditie: minister de aanvang maakt van een begrotingsjaar\\n  Positie: 2.5 IN Comptabiliteitswet 2016', ' Preconditie:  Wezen ongehuwde moeder of gehuwd vrouw met minder dan twee kinderen of ongehuwde vader (zelf of partner) met kinderen, gezamenlijk een kind in de leeftijd tussen 18 en 21 jaar.\\n                  Positie: Artikel 2.1 van de Wet op de algemene bijstand 2018\\n\\n                  Preconditie:  Zelf en de partner in te volgen financiële bezwarende voorwaarden.\\n                  Positie: Artikel 2.5, tweede lid van de Wet op de algemene bijstand 1999\\n\\n                  Preconditie:  Er bestaat geen contract of overeenkomst tot het verblijf van de aangevraagd inrichting in een pandhuis of andere zelfstandige woonruimtes in de Nederlandse Gemeenten, behalve de gebieden van Bonaire, Sint Eustatius en Saba.\\n                  Positie: Artikel 19 van de Wet op de algemene bijstand 1999\\n\\n                  Preconditie:  De aangeduide instelling of organisatie in het betreffende land een overeenkomstige erkenning van de overheid.\\n                  Positie: Artikel 19 van de Wet op de algemene bijstand 1999\\n\\n                  Preconditie:  De toepassing van de regel op de belabbering van de verhouding tussen de inkomten en de gehele kosten van het verzorgen van het gerechtelijke verderzorgingsbeleid in het betreffende land moet op de manier betrekking hebben dat de daaruit wereldflooiende gelden aan de Nederlandse Rijksbelastingen worden afgeleverd.\\n                  Positie: Artikel 19, eerste lid van de Wet op de financiële verhoudingen van rijk en ministeries 1989\\n\\n                  Preconditie:  De erkende instelling of organisatie in het betreffende land aan de voorwaarden van het overheidsprogramma voldoet.\\n                  Positie: Artikel 19, tweede lid van de Wet op de financiële verhoudingen van rijk en ministeries 1989\\n\\n                  Preconditie:  Er moet worden aangeven of in het betroffende land al eerder aangenomen is of dat aangezien wordt (en daarom in aanmerking wordt vervat voor bijstanding).\\n                  Positie: Artikel 3, eerste lid van de Wet op de algemene bijstand 2018\\n\\n                  Preconditie:  Niet voor zichzelf verblijven in een van de Europese landen, het Verenigd Koninkrijk, Noorwegen, Zwitserland, Amerika of Zwitserland.\\n                  Positie: Artikel 3, tweede lid van de Wet op de algemene bijstand 2018\\n\\n                  Preconditie:  Voorwaarde van geheelheid gemaakt tussen de belastingen en de verplichtingen in de Nederlandse Gemeenten.\\n                  Positie: Artikel 4, eerste lid van de Wet op de algemene bijstand 1999\\n\\n                  Preconditie:  Voorwaarde van geheelheid gemaakt tussen de belastingen en de verplichtingen in het betreffende land.\\n                  Positie: Artikel 4, hoofdstuk 2, eerste lid van de Wet op de financiële verhoudingen van rijk en ministeries 1989\\n\\n                  Preconditie:  Er moet een overeenkomst zijn met het kabinet over de toelating tot het programma Algemene Bijstand.\\n                  Positie: Artikel 2, 5e lid van de Wet op de algemene bijstand 2018\\n\\n                  Preconditie:  Een verzoek voor recht op algemene bijstand dient in te dienen binnen één jaar na het inschrijven voor een zijde.\\n', ' Preconditie: De voorstellen van wet tot vaststelling van de begrotingsstaten dienen ingediend te \\n  bevatten een voorstel van wet als vaststelling van de weigeringstellingregeling ter voorkoming van \\n  rechten op algemene bijstand \\n  Positie: Artikel 2.23, tweede lid van de Comptabiliteitswet 2016\\n\\n                  Preconditie: De begroting, bij welke de weigeringstellingregeling wordt opgenomen, bevat een \\n  voorstel van regel voor de weigering tot rechten op algemene bijstand\\n  Positie: Artikel 3.6, tweede lid van de Rijksbegrotingsvoorschriften 2024', ' Preconditie: In het betreffende begrotingsjaar moet een departementale begroting zijn ingericht\\n                  Positie:Artikel 1, eerste lid IN Comptabiliteitswet 2016\\n\\n                  Preconditie: het betreffende begrotingsjaar mag niet de derde week van september van het jaar voorafgaand aan dat begrotingstaar beginnen\\n                  Positie:Artikel 2.23, eerste lid IN Comptabiliteitswet 2016\\n\\n                  Preconditie: De begroting behoort tot de rijksbegroting\\n                  Positie:Artikel 2.1, eerste lid IN Comptabiliteitswet 2016\\n\\n                  Preconditie: De Minister van Financiën is geverenigd de voorstellen van wet tot vaststelling van de begrotingstaten bij de Tweede Kamer der Staten-Generaal in te dienen\\n                  Positie:Artikel 2.23, tweede lid IN Comptabiliteitswet 2016\\n\\n                  Preconditie: Het betreffende beleid voor de collectieve sector mag geen verantwoordt worden uit de begroting\\n                  Positie:Artikel 2.4, vierde lid IN Comptabiliteitswet 2016\\n\\n                  Preconditie: Het betreffende beleid voor de collectieve sector mag geen verantwoordt worden door de begroting\\n                  Positie:Artikel 4.3, vierde lid IN Comptabiliteitswet 2016\\n\\n                  Preconditie: De begroting is door de minister ingesteld\\n                  Positie:Artikel 4.3, eerste lid IN Comptabiliteitswet 2016\\n\\n                  Preconditie: De begroting wordt door de minister beheerd\\n                  Positie:Artikel 4.3, derde lid IN Comptabiliteitswet 2016\\n\\n                  Preconditie: De begroting is door de minister goedgekeurd\\n                  Positie:Artikel 4.3, vierde lid IN Comptabiliteitswet 2016\\n\\n                  Preconditie: De begroting is vastgesteld door een wet\\n                  Positie: Artikel 4.3, vijfde lid IN Comptabiliteitswet 2016\\n\\n                  Preconditie: De begroting wordt tijdens de uitvoering gecontroleerd door een externe instantie\\n                  Positie:Artikel 4.4, vierde lid IN Comptabiliteitswet 2016', ' Preconditie: Om recht op algemene bijstand te kunnen weigeren moet een gemeente geld hebben.\\n\\n                  Positie: Artikel 2.10, sectie 1 IN Comptabiliteitswet 2016\\n\\n                  Preconditie: Een gemeente moet de rechtspositie hebben van de bestuurder of bestuurder in naam met gereserveserde bevoegdheid van een overheid.\\n\\n                  Positie: Artikel 4.1, sectie 2 IN Comptabiliteitswet 2016', ' Preconditie: Het aangaan is gezorgd\\n                Positie: Artikel 2.1, eerste deel, IN: Comptabiliteitswet 2016\\n\\n                Preconditie: De begroting moet zijn ingediend vóór het jaar waarop zij geldig is.\\n                Positie: Artikel 2.23, tweede deel, IN: Comptabiliteitswet 2016\\n\\n                Preconditie: Er is een begroting opgesteld voor de collectieve sector.\\n                Positie: Artikel 2.9, IN: Comptabiliteitswet 2016\\n\\n                Preconditie: De begroting hoort bij de rijksbegroting of een niet tot de rijksbegroting behorende begrodisciplinesector.\\n                Positie: Artikel 2.5, eerste lid, IN: Comptabiliteitswet 2016\\n\\n                Preconditie: De begroting heeft een begrotingsstaat.\\n                Positie: Artikel 2.5, eerste lid, IN: Comptabiliteitswet 2016\\n\\n                Preconditie: De begroting moet bewaarschuwt worden tot aan de vervaldatum aan de Staten-Generaal.\\n                Positie: Kunstzinnige toelichting IN: Rijksbegrotingsvoorschriften 2024\\n\\n                Preconditie: De werkzaamheden moeten aangepast worden aan de wetgeving rond de bepaalde wettelijke beschikkingen en rechten.\\n                Positie: 4.1.1.2. IN: Ministerie van Sociale Zaken en Werkgelegenheid, Beleidsnotitie Werkgelegenheid, 24/12/2015\\n\\n                Preconditie: De kandidaat moet de algemene voorwaarden voldoen.\\n                Positie: 4.1.1.3. IN: Ministerie van Sociale Zaken en Werkgelegenheid, Beleidsnotitie Werkgelegenheid, 24/12/2015\\n\\n                Preconditie: De kandidaat heeft de algemene welzijnstoetes uitgezocht.\\n                Positie: 4.1.1.7. IN: Ministerie van Sociale Zaken en Werkgelegenheid, Beleidsnotitie Werkgelegenheid, 24/12/2015\\n\\n                Preconditie: De kandidaat is niet reeds een geldig ontvanger van een bijstandspensioen.\\n                Positie: 4.1.2.3 IN: Ministerie van Sociale Zaken en Werkgelegenheid, Beleidsnotitie Werkgelegenheid, 24/12/2015\\n\\n                Preconditie: De kandidaat heeft geen werkzaamheid in een tijdsverlengde verricht.\\n                Positie: 4.1.2.6 IN: Ministerie van Sociale Zaken en Werkgelegenheid, Beleidsnotitie Werkgelegenheid, 24/12/2015\\n\\n                Preconditie: De kandidaat heeft de opgelegde werkzaamheidsovereenkomst getroost geaccepteerd.\\n                Positie: 4.1.2.9 IN: Ministerie van Sociale Zaken en Werkgelegenheid, Beleidsnotitie Werkgelegenheid, 24/12/2015\\n\\n                Preconditie: De kandidaat is niet eerder weigerd algemene bijstand.\\n                Positie: 3.3.14.1 IN: Wet op de sociale bijstand, Stb. 2013, 332\\n\\n                Preconditie: De kandidaat hebben de wettelijke belastingen betaald als aangewezen.\\n                Positie: 3.3.14.3 IN: Wet op de sociale bijstand, Stb', ' Preconditie: De act moet uitgevoerd worden door de Regering, het Kabinet of een Minister\\n                    Positie: Artikel 2.2 van de Comptabiliteitswet 2016\\n                  Preconditie: De regering / het Kabinet / de Minister heeft het recht om algemene bijstand te verstrekken\\n                    Positie: Artikel 2.23, eerste lid van de Comptabiliteitswet 2016\\n                  Preconditie: De aanvrager moet zich voldoen aan de voorwaarden voor algemene bijstand\\n                    Positie: Artikel 115, eerste lid van de Wet algemene bijstand\\n                  Preconditie: De aanvrager moet zijn eigen besteden uitgeput of verzuimen daarop te investeren\\n                    Positie: Artikel 115, eerste lid van de Wet algemene bijstand\\n                  Preconditie: De aanvrager moet zich mogen achtbaar bevinden voor het bestuur van de bijstand\\n                    Positie: Artikel 11, eerste lid van de Wet algemene bijstand (bevestigd in Artikel 115, eerste lid van de Wet algemene bijstand)\\n                  Preconditie: Geen van de voorwaarden voor verplichte bijstand is aanwezig\\n                    Positie: Artikel 115, tweede lid van de Wet algemene bijstand\\n                  Preconditie: Het aanvraagschrift moet ingediend worden bij de Regering / het Kabinet / de Minister\\n                    Positie: Artikel 116, eerste lid van de Wet algemene bijstand\\n                  Preconditie: De doordeweekse werkloosheid moet acht weken duuren\\n                    Positie: Artikel 117, eerste lid van de Wet algemene bijstand\\n                  Preconditie: De aannemelijke leeftijd van de aanvrager is minimaal twintig\\n                    Positie: Artikel 11, tweede lid van de Wet algemene bijstand (bevestigd in Artikel 115, eerste lid van de Wet algemene bijstand)\\n                  Preconditie: De aanvrager moet wel in Nederland wonen of verblijven\\n                    Positie: Artikel 11, tweede lid van de Wet algemene bijstand (bevestigd in Artikel 115, eerste lid van de Wet algemene bijstand)\\n                  Preconditie: De aanvrager moet Nederlanders zijn\\n                    Positie: Artikel 11, tweede lid van de Wet algemene bijstand (bevestigd in Artikel 115, eerste lid van de Wet algemene bijstand)\\n                  Preconditie: Algemene bijstand kan niet worden verleend als de aanvrager voldoen aan de voorwaarden voor verplichte bijstand\\n                    Positie: Artikel 115, eerste lid van de Wet algemene bijstand\\n                  Preconditie: Algemene bijstand kan niet worden verleend aan werkgevers of verenigingen\\n                    Positie: Artikel 115, tweede lid van de Wet algemene bijstand\\n                  Preconditie: De aanvrager moet aan alle eisen voldoen om verplichte bijstand te krijgen\\n                    Positie: Artikel 1.1, tweede lid van de Wet verplichte bijstand', ' Preconditie: Geen aandachtspunt in de uitvoeringswet Wet arbeidsongeschiktheidsregeling 2013  \\n -----------------------\\n\\n                  Positie: -\\n\\n                  Preconditie: Voorwaarde geen arbeidsongeschiktheid  \\n -------------------------------\\n\\n                  Positie: Artikel 3, sectie 1 IN Wet arbeidsongeschiktheidsregeling 2013\\n\\n                  Preconditie: Het aangifte dat de inschrijving of aanmeerbeeld is ontvangen binnen een looptijd van 25 werkloosheidsdagen  \\n -------------------------------------------------------------------------------------------------------------------------\\n\\n                  Positie: Artikel 5, sectie 2 IN Wet arbeidsongeschiktheidsregeling 2013\\n\\n                  Preconditie: Geen vergoedingen ontvangen voor dezelfde werkloosheid  \\n ------------------------------------------------------------------------------------------------------------------------\\n\\n                  Positie: Artikel 6, sectie 1 IN Wet arbeidsongeschiktheidsregeling 2013\\n\\n                  Preconditie: Voorwaarde arbeidloosheid van meer dan 28 dagen  \\n -----------------------------------------------------------------------------------\\n\\n                  Positie: Artikel 7, sectie 2 IN Wet arbeidsongeschiktheidsregeling 2013\\n\\n                  Preconditie: Er moet totaal geen kort dagyloon ontvangen van het werkgevend  \\n ---------------------------------------------------------------------------------------------\\n\\n                  Positie: Artikel 7, sectie 4 IN Wet arbeidsongeschiktheidsregeling 2013\\n\\n                  Preconditie: De aanvrager zat tijdens de aanvrageperiode niet in het bezit van een WW-verklaring  \\n --------------------------------------------------------------------------------------------------------\\n\\n                  Positie: Artikel 8 IN Wet arbeidsongeschiktheidsregeling 2013\\n\\n                  Preconditie: Er is geen voldoende opleidingskrediet ontvangen  \\n -----------------------------------------------------------------------\\n\\n                  Positie: Artikel 14 IN Wet arbeidsongeschiktheidsregeling 2013\\n\\n                  Preconditie: De inschrijving of aanmeerbeeld is ontvangen bij het RSZ-kantoor  \\n ------------------------------------------------------------------------------\\n\\n                  Positie: Artikel 15 IN Wet arbeidsongeschiktheidsregeling 2013\\n\\n                  Preconditie: De inschrijving of aanmeerbeeld is ontvangen door de gemeente  \\n ----------------------------------------------\\n\\n                  Preconditie: Geen belastingontrekking ontvangen  \\n --------------------------------------------------------\\n\\n                  Positie: Artikel 15a IN Wet arbeidsongeschiktheidsregeling 2013\\n\\n                  Preconditie: Kort dagyloon of WW-verklaring zijn ontvangen binnen de aanvrageperiode  \\n ---------------------------------------------------------------------------------------------\\n\\n                  Positie: Artikel 16 IN Wet arbeidsongeschiktheidsregeling 2013\\n\\n                  Preconditie: De aanvrager heeft een verklaring afgelegd waardoor hij beschikbaar is voor een ervaringsondersteuningspact  \\n ---------------------------------------------------------------------------------------------------------------\\n\\n                  Positie: Artikel 18 IN Wet arbeidsongeschiktheidsregeling 2013\\n\\n                  Preconditie: De aanvrager had geen aandachtspunt gevraagd binnen de 12 maanden voor de aanvrageperiode  \\n ----------------------------------------------------------------------------------------------------------------\\n\\n                  Positie: Artikel 19, sectie 2 IN Wet arbeidsongeschiktheidsregeling 2013\\n\\n                  Preconditie: De aanvrager geeft aan dat hij recht op een vergoeding binnen de laatste 5 jaar heeft geweiger', ' Preconditie: Wij dienen de voorstellen van wet tot vaststelling van de begrotingsstaten bij de Tweede Kamer der Staten-Generaal in.\\n  Positie: Artikel 2.23.1, Hoofdstuk 2 IN Comptabiliteitswet 2016\\n\\n                  Preconditie: Het budgettaire totaalbeeld voor het betrokken begrotingsjaar en de vier daaropvolgende jaren van de rijksbegroting en de niet tot de rijksbegroting behorende budgetdisciplinesectoren moet in de Miljoenennota bevat zijn.\\n  Positie: onderdeel 4a, Artikel 2.23.4, Hoofdstuk 2 IN Comptabiliteitswet 2016\\n\\n                  Preconditie: Het budgettaire totaalbeeld voor het betrokken begrotingsjaar en de vier daaropvolgende jaren van de rijksbegroting en de niet tot de rijksbegroting behorende budgetdisciplinesectoren biedt de minister van Financiën aan de Staten-Generaal aan.\\n  Positie: onderdeel 3, Artikel 2.23.3, Hoofdstuk 2 IN Comptabiliteitswet 2016\\n\\n                  Preconditie: De regering heeft de voorstel ingediend voor de toelating van recht op algemene bijstand.\\n  Positie: voorafgaand aan deze tekst, Hoofdstuk 2 IN Comptabiliteitswet 2016 (tekst is bepaald door context; verklaring in geen artikel)\\n\\n                  Preconditie: Iedereen die aan de voorwaarden is voldaan kan recht op algemene bijstand krijgen.\\n  Positie: Article 21.2, HOOFSTUK 1, in Wet algemene bijstand (WAZ)', '--------\\n\\n                Preconditie: Wij dienen de voorstellen van wet tot vaststelling van de begrotingsstaten op de derde dinsdag van september van het jaar voorafgaande aan het begrotingsjaar...\\n                Positie: Artikel 2.23, eerste lid IN Comptabiliteitswet 2016\\n\\n                --------\\n\\n                Preconditie: ...bij de Tweede Kamer der Staten-Generaal aan de Miljoenennota aan de Staten-Generaal aan dienen.\\n                Positie: Artikel 2.23, derde lid IN Comptabiliteitswet 2016\\n\\n                --------\\n\\n                Preconditie: De Miljoenennota bevat in elk geval: ... een overzicht van de uitgaven en de ontvangsten in de begrotingen voor het begrotingsjaar en de vier daarop aansluitende jaren.\\n                Positie: Artikel 2.23, vierde lid IN Comptabiliteitswet 2016\\n\\n                --------\\n\\n                Preconditie: Wij dienen de voorstellen van wet tot vaststelling van de begrotingsstaten op de derde dinsdag van september van het jaar voorafgaande aan het begrotingsjaar...\\n                Positie: Artikel 2.23, eerste lid IN Comptabiliteitswet 2016\\n\\n                --------\\n\\n                Preconditie: ...bij de Tweede Kamer der Staten-Generaal dienen te worden in diende.\\n                Positie: Artikel 2.23, tweede lid IN Comptabiliteitswet 2016\\n\\n                --------\\n\\n                Preconditie: De niet-departementale begroting van een college bevat de weergave van de taken en van de bedrijfsvoering van het college.\\n                Positie: Artikel 4.4, vijfde lid IN Comptabiliteitswet 2016\\n\\n                --------\\n\\n                Preconditie: De begrotingsstaat behorende bij een departementale begroting, inclusief de begrotingsstaat van de agentschappen en van de begrotingsfondsen...\\n                Positie: Begrotingsvoorschriften 2024, eerste lid IN Begrotingsvoorschriften 2024\\n\\n                --------\\n\\n                Preconditie: ...wordt conform model 1.20 opgestelt.\\n                Positie: Begrotingsvoorschriften 2024, tweede lid IN Begrotingsvoorschriften 2024\\n\\n                --------\\n\\n                Preconditie: De begrotingsstaat behorende bij een begrotingsfonds wordt ingericht volgens model 1.23.\\n                Positie: Begrotingsvoorschriften 2024, derde lid IN Begrotingsvoorschriften 2024\\n\\n                --------\\n\\n                Preconditie: Onder aanvaarding van de voorstellen van de wet tot de vaststelling van de \\n                begrotingsstaten...\\n                Positie: Artikel 123 IN Comptabiliteitswet 2016\\n\\n                Preconditie: ...wordt de rijksbegroting aangenomen.\\n                Positie: Artikel 2.25, eerste lid IN Comptabiliteitswet 2016\\n\\n                Preconditie: Een agent gaat door met het uitvoeren van een handeling alleen als de voorwaarden...\\n                Positie: Een onbekend juridisch document\\n\\n                Preconditie: Dit geraamde bedrag is de bedragenzaamheid die Wij hebben vastgesteld.\\n                Positie: Artikel 2.5, letter c IN Comptabiliteitswet 2016\\n\\n                Preconditie: Dit geraamde bedrag is de bedragenzaamheid die het agent heeft vastgesteld.\\n                Positie: Artikel 2.5, letter d IN Comptabiliteitswet 2016', ' Preconditie: Weigert men de gezinsintegriteit\\n                  Positie: Artikel 3.10, sectie 11 IN Rijksbegroting 2016\\n\\n                  Preconditie: Geen voldoende verbinding met beide genoemde ouders van het kind\\n                  Positie: Artikel 3.10, sectie 12 IN Rijksbegroting 2016\\n\\n                  Preconditie: Afwezigheid van een tijdelijke hulpverlener van ouders\\n                  Positie: Artikel 3.10, sectie 13 IN Rijksbegroting 2016\\n\\n                  Preconditie: De kinderen zijn verantwoordelijk voor zijn eigen huwelijk, relatie, of voorwaarden van een relatie of zijn gehuwd met iemand\\n                  Positie: Artikel 3.11, sectie 1 IN Rijksbegroting 2016\\n\\n                  Preconditie: Op grond van een vernietiging door natuurramp, oorlogsgebeurtenissen of oorlogshandelingen, geïmplementeerd over de grenzen van ons land\\n                  Positie: Artikel 3.15, sectie 2 IN Rijksbegroting 2016\\n\\n                  Preconditie: Voor het eerst is het gelast met een uitzonderingsregeling 2\\n                  Positie: Artikel 3.15, sectie 5 IN Rijksbegroting 2016\\n\\n                  Preconditie: Wordt de persoon gezagshalv bestemd in een wetsvoorschrift\\n                  Positie: Artikel 3.34, sectie 2 IN Rijksbegroting 2016\\n\\n                  Preconditie: Is het omgekeerde verband met huwelijk of partnerverband aangetoond\\n                  Positie: Artikel 3.35, sectie 1 IN Rijksbegroting 2016\\n\\n                  Preconditie: wordt de persoon in een wettelijke beschrijving als hulpverlener gekenmerkt\\n                  Positie: Artikel 3.35, sectie 3 IN Rijksbegroting 2016\\n\\n                  Preconditie: wordt de persoon in een wettelijke beschrijving als verantwoordelijk hulpverlener gekenmerkt\\n                  Positie: Artikel 3.35, sectie 4 IN Rijksbegroting 2016\\n\\n                  Preconditie: Is de kinderensleeper verantwoordelijk voor een kind dat hij/zij niet bij de aangifte heeft\\n                  Positie: Artikel 3.35, sectie 6 IN Rijksbegroting 2016\\n\\n                  Preconditie: Is de kinderensleeper verantwoordelijk voor een kind dat bij de aangifte niet is geregistreerd\\n                  Positie: Artikel 3.35, sectie 7 IN Rijksbegroting 2016\\n\\n                  Preconditie: De kinderen zijn ondergebracht in een inrichting voor minderjarigen\\n                  Positie: Artikel 3.36, sectie 1 IN Rijksbegroting 2016\\n\\n                  Preconditie: Is de kinderensleeper verantwoordelijk voor een kind dat is opgenomen in een ervan gedacht zijnd instelling\\n                  Positie: Artikel 3.36, sectie 2 IN Rijksbegroting 2016\\n\\n                  Preconditie: De kinderen zijn verantwoordelijk voor een kind dat in een verder verwant huishouden is ondergebracht\\n                  Positie: Artikel 3.36, sectie 3 IN Rijksbegroting 2016\\n\\n                  Preconditie: De kinderen zijn verantwoordelijk gebleken voor zowel hun eigen huw']\n",
      "['een overzicht van de uitgaven en de ontvangsten in de begrotingen voor het begrotingsjaar en de vier daarop aansluitende jaren.\\nArtikel 2.23 sectie 4c IN Comptabiliteitswet 2016\\n\\nde budgettaire beschouwingen over het voorgenomen beleid voor de collectieve sector\\nArtikel 2.23 sectie 4b IN Comptabiliteitswet 2016\\n\\nhet budgettaire totaalbeeld voor het betrokken begrotingsjaar en de vier daaropvolgende jaren van de rijksbegroting en de niet tot de rijksbegroting behorende budgetdisciplinesectoren\\nArtikel 2.23 sectie 4a IN Comptabiliteitswet 2016\\n\\n', 'een overzicht van de uitgaven en de ontvangsten in de begrotingen voor het begrotingsjaar en de vier daarop aansluitende jaren.\\nArtikel 2.23 sectie 4c IN Comptabiliteitswet 2016\\n\\nde budgettaire beschouwingen over het voorgenomen beleid voor de collectieve sector\\nArtikel 2.23 sectie 4b IN Comptabiliteitswet 2016\\n\\nhet budgettaire totaalbeeld voor het betrokken begrotingsjaar en de vier daaropvolgende jaren van de rijksbegroting en de niet tot de rijksbegroting behorende budgetdisciplinesectoren\\nArtikel 2.23 sectie 4a IN Comptabiliteitswet 2016\\n\\n', 'een overzicht van de uitgaven en de ontvangsten in de begrotingen voor het begrotingsjaar en de vier daarop aansluitende jaren.\\nArtikel 2.23 sectie 4c IN Comptabiliteitswet 2016\\n\\nde budgettaire beschouwingen over het voorgenomen beleid voor de collectieve sector\\nArtikel 2.23 sectie 4b IN Comptabiliteitswet 2016\\n\\nhet budgettaire totaalbeeld voor het betrokken begrotingsjaar en de vier daaropvolgende jaren van de rijksbegroting en de niet tot de rijksbegroting behorende budgetdisciplinesectoren\\nArtikel 2.23 sectie 4a IN Comptabiliteitswet 2016\\n\\n', 'een overzicht van de uitgaven en de ontvangsten in de begrotingen voor het begrotingsjaar en de vier daarop aansluitende jaren.\\nArtikel 2.23 sectie 4c IN Comptabiliteitswet 2016\\n\\nde budgettaire beschouwingen over het voorgenomen beleid voor de collectieve sector\\nArtikel 2.23 sectie 4b IN Comptabiliteitswet 2016\\n\\nhet budgettaire totaalbeeld voor het betrokken begrotingsjaar en de vier daaropvolgende jaren van de rijksbegroting en de niet tot de rijksbegroting behorende budgetdisciplinesectoren\\nArtikel 2.23 sectie 4a IN Comptabiliteitswet 2016\\n\\n', 'een overzicht van de uitgaven en de ontvangsten in de begrotingen voor het begrotingsjaar en de vier daarop aansluitende jaren.\\nArtikel 2.23 sectie 4c IN Comptabiliteitswet 2016\\n\\nde budgettaire beschouwingen over het voorgenomen beleid voor de collectieve sector\\nArtikel 2.23 sectie 4b IN Comptabiliteitswet 2016\\n\\nhet budgettaire totaalbeeld voor het betrokken begrotingsjaar en de vier daaropvolgende jaren van de rijksbegroting en de niet tot de rijksbegroting behorende budgetdisciplinesectoren\\nArtikel 2.23 sectie 4a IN Comptabiliteitswet 2016\\n\\n', 'een overzicht van de uitgaven en de ontvangsten in de begrotingen voor het begrotingsjaar en de vier daarop aansluitende jaren.\\nArtikel 2.23 sectie 4c IN Comptabiliteitswet 2016\\n\\nde budgettaire beschouwingen over het voorgenomen beleid voor de collectieve sector\\nArtikel 2.23 sectie 4b IN Comptabiliteitswet 2016\\n\\nhet budgettaire totaalbeeld voor het betrokken begrotingsjaar en de vier daaropvolgende jaren van de rijksbegroting en de niet tot de rijksbegroting behorende budgetdisciplinesectoren\\nArtikel 2.23 sectie 4a IN Comptabiliteitswet 2016\\n\\n', 'een overzicht van de uitgaven en de ontvangsten in de begrotingen voor het begrotingsjaar en de vier daarop aansluitende jaren.\\nArtikel 2.23 sectie 4c IN Comptabiliteitswet 2016\\n\\nde budgettaire beschouwingen over het voorgenomen beleid voor de collectieve sector\\nArtikel 2.23 sectie 4b IN Comptabiliteitswet 2016\\n\\nhet budgettaire totaalbeeld voor het betrokken begrotingsjaar en de vier daaropvolgende jaren van de rijksbegroting en de niet tot de rijksbegroting behorende budgetdisciplinesectoren\\nArtikel 2.23 sectie 4a IN Comptabiliteitswet 2016\\n\\n', 'een overzicht van de uitgaven en de ontvangsten in de begrotingen voor het begrotingsjaar en de vier daarop aansluitende jaren.\\nArtikel 2.23 sectie 4c IN Comptabiliteitswet 2016\\n\\nde budgettaire beschouwingen over het voorgenomen beleid voor de collectieve sector\\nArtikel 2.23 sectie 4b IN Comptabiliteitswet 2016\\n\\nhet budgettaire totaalbeeld voor het betrokken begrotingsjaar en de vier daaropvolgende jaren van de rijksbegroting en de niet tot de rijksbegroting behorende budgetdisciplinesectoren\\nArtikel 2.23 sectie 4a IN Comptabiliteitswet 2016\\n\\n', 'een overzicht van de uitgaven en de ontvangsten in de begrotingen voor het begrotingsjaar en de vier daarop aansluitende jaren.\\nArtikel 2.23 sectie 4c IN Comptabiliteitswet 2016\\n\\nde budgettaire beschouwingen over het voorgenomen beleid voor de collectieve sector\\nArtikel 2.23 sectie 4b IN Comptabiliteitswet 2016\\n\\nhet budgettaire totaalbeeld voor het betrokken begrotingsjaar en de vier daaropvolgende jaren van de rijksbegroting en de niet tot de rijksbegroting behorende budgetdisciplinesectoren\\nArtikel 2.23 sectie 4a IN Comptabiliteitswet 2016\\n\\n', 'een overzicht van de uitgaven en de ontvangsten in de begrotingen voor het begrotingsjaar en de vier daarop aansluitende jaren.\\nArtikel 2.23 sectie 4c IN Comptabiliteitswet 2016\\n\\nde budgettaire beschouwingen over het voorgenomen beleid voor de collectieve sector\\nArtikel 2.23 sectie 4b IN Comptabiliteitswet 2016\\n\\nhet budgettaire totaalbeeld voor het betrokken begrotingsjaar en de vier daaropvolgende jaren van de rijksbegroting en de niet tot de rijksbegroting behorende budgetdisciplinesectoren\\nArtikel 2.23 sectie 4a IN Comptabiliteitswet 2016\\n\\n', 'de verblijfsvergunning wordt verleend met ingang van de dag waarop de vreemdeling heeft aangetoond dat hij aan alle voorwaarden voldoet\\nArtikel 26, sectie 1 IN Vreemdelingenwet 2024\\n\\nde verblijfsvergunning wordt verleend met ingang van een dag eerder dan de dag waarop de aanvraag is ontvangen\\nArtikel 26, sectie 1 IN Vreemdelingenwet 2024\\n\\n', 'de verblijfsvergunning wordt verleend met ingang van de dag waarop de vreemdeling heeft aangetoond dat hij aan alle voorwaarden voldoet\\nArtikel 26, sectie 1 IN Vreemdelingenwet 2024\\n\\nde verblijfsvergunning wordt verleend met ingang van een dag eerder dan de dag waarop de aanvraag is ontvangen\\nArtikel 26, sectie 1 IN Vreemdelingenwet 2024\\n\\n', 'de verblijfsvergunning wordt verleend met ingang van de dag waarop de vreemdeling heeft aangetoond dat hij aan alle voorwaarden voldoet\\nArtikel 26, sectie 1 IN Vreemdelingenwet 2024\\n\\nde verblijfsvergunning wordt verleend met ingang van een dag eerder dan de dag waarop de aanvraag is ontvangen\\nArtikel 26, sectie 1 IN Vreemdelingenwet 2024\\n\\n', 'de verblijfsvergunning wordt verleend met ingang van de dag waarop de vreemdeling heeft aangetoond dat hij aan alle voorwaarden voldoet\\nArtikel 26, sectie 1 IN Vreemdelingenwet 2024\\n\\nde verblijfsvergunning wordt verleend met ingang van een dag eerder dan de dag waarop de aanvraag is ontvangen\\nArtikel 26, sectie 1 IN Vreemdelingenwet 2024\\n\\n', 'de verblijfsvergunning wordt verleend met ingang van de dag waarop de vreemdeling heeft aangetoond dat hij aan alle voorwaarden voldoet\\nArtikel 26, sectie 1 IN Vreemdelingenwet 2024\\n\\nde verblijfsvergunning wordt verleend met ingang van een dag eerder dan de dag waarop de aanvraag is ontvangen\\nArtikel 26, sectie 1 IN Vreemdelingenwet 2024\\n\\n', 'de verblijfsvergunning wordt verleend met ingang van de dag waarop de vreemdeling heeft aangetoond dat hij aan alle voorwaarden voldoet\\nArtikel 26, sectie 1 IN Vreemdelingenwet 2024\\n\\nde verblijfsvergunning wordt verleend met ingang van een dag eerder dan de dag waarop de aanvraag is ontvangen\\nArtikel 26, sectie 1 IN Vreemdelingenwet 2024\\n\\n', 'de verblijfsvergunning wordt verleend met ingang van de dag waarop de vreemdeling heeft aangetoond dat hij aan alle voorwaarden voldoet\\nArtikel 26, sectie 1 IN Vreemdelingenwet 2024\\n\\nde verblijfsvergunning wordt verleend met ingang van een dag eerder dan de dag waarop de aanvraag is ontvangen\\nArtikel 26, sectie 1 IN Vreemdelingenwet 2024\\n\\n', 'de verblijfsvergunning wordt verleend met ingang van de dag waarop de vreemdeling heeft aangetoond dat hij aan alle voorwaarden voldoet\\nArtikel 26, sectie 1 IN Vreemdelingenwet 2024\\n\\nde verblijfsvergunning wordt verleend met ingang van een dag eerder dan de dag waarop de aanvraag is ontvangen\\nArtikel 26, sectie 1 IN Vreemdelingenwet 2024\\n\\n', 'de verblijfsvergunning wordt verleend met ingang van de dag waarop de vreemdeling heeft aangetoond dat hij aan alle voorwaarden voldoet\\nArtikel 26, sectie 1 IN Vreemdelingenwet 2024\\n\\nde verblijfsvergunning wordt verleend met ingang van een dag eerder dan de dag waarop de aanvraag is ontvangen\\nArtikel 26, sectie 1 IN Vreemdelingenwet 2024\\n\\n', 'de verblijfsvergunning wordt verleend met ingang van de dag waarop de vreemdeling heeft aangetoond dat hij aan alle voorwaarden voldoet\\nArtikel 26, sectie 1 IN Vreemdelingenwet 2024\\n\\nde verblijfsvergunning wordt verleend met ingang van een dag eerder dan de dag waarop de aanvraag is ontvangen\\nArtikel 26, sectie 1 IN Vreemdelingenwet 2024\\n\\n', 'Begroting bevat begrotingsstaat\\nArtikel 2.2 IN Comptabiliteitswet 2016\\n\\n', 'Begroting bevat begrotingsstaat\\nArtikel 2.2 IN Comptabiliteitswet 2016\\n\\n', 'Begroting bevat begrotingsstaat\\nArtikel 2.2 IN Comptabiliteitswet 2016\\n\\n', 'Begroting bevat begrotingsstaat\\nArtikel 2.2 IN Comptabiliteitswet 2016\\n\\n', 'Begroting bevat begrotingsstaat\\nArtikel 2.2 IN Comptabiliteitswet 2016\\n\\n', 'Begroting bevat begrotingsstaat\\nArtikel 2.2 IN Comptabiliteitswet 2016\\n\\n', 'Begroting bevat begrotingsstaat\\nArtikel 2.2 IN Comptabiliteitswet 2016\\n\\n', 'Begroting bevat begrotingsstaat\\nArtikel 2.2 IN Comptabiliteitswet 2016\\n\\n', 'Begroting bevat begrotingsstaat\\nArtikel 2.2 IN Comptabiliteitswet 2016\\n\\n', 'Begroting bevat begrotingsstaat\\nArtikel 2.2 IN Comptabiliteitswet 2016\\n\\n', 'college stelt het recht op bijstand vast op schriftelijke aanvraag\\nArtikel 43, sectie 1 IN Participatiewet\\n\\nNOT bijstand wordt door de echtgenoten gezamenlijk aangevraagd dan wel door een van hen met schriftelijke toestemming van de ander\\nArtikel 43, sectie 2 IN Participatiewet\\n\\nNOT belanghebbende is een in Nederland woonachtige Nederlander\\nArtikel 11, sectie 1 IN Participatiewet\\n\\nNOT belanghebbende is een hier te lande woonachtige vreemdeling die rechtmatig in Nederland verblijf houdt in de zin van artikel 8, onderdelen a tot en met e en l, van de Vreemdelingenwet 2000\\nArtikel 11, sectie 2 IN Participatiewet\\n\\n\\nbelanghebbende aan wie rechtens zijn vrijheid is ontnomen\\nArtikel 13, sectie 1 a IN Participatiewet\\n\\nbelanghebbende die zich onttrekt aan de tenuitvoerlegging van een vrijheidsstraf of vrijheidsbenemende maatregel\\nArtikel 13, sectie 1 b IN Participatiewet\\n\\nbelanghebbende die zijn militaire of vervangende dienstplicht vervult\\nArtikel 13, sectie 1 c IN Participatiewet\\n\\nbelanghebbende die wegens werkstaking of uitsluiting niet deelneemt aan de arbeid, voorzover diens gebrek aan middelen daarvan het gevolg is\\nArtikel 13, sectie 1 d IN Participatiewet\\n\\nbelanghebbende die per kalenderjaar langer dan vier weken verblijf houdt buiten Nederland\\nArtikel 13, sectie 1 e IN Participatiewet\\n\\nbelanghebbende die bijstand vraagt ter gedeeltelijke of volledige aflossing van een schuldenlast\\nArtikel 13, sectie 1 g IN Participatiewet\\n\\nbelanghebbende die overigens bij het ontstaan van de schuldenlast dan wel nadien, beschikte of beschikt over de middelen om in de noodzakelijke kosten van het bestaan te voorzien\\nArtikel 13, sectie 1 g IN Participatiewet\\n\\nbelanghebbende die een uitreiziger is\\nArtikel 13, sectie 1 h IN Participatiewet\\n\\nbelanghebbende van 18, 19 of 20 jaar die in een inrichting verblijft\\nArtikel 13, sectie 2 a IN Participatiewet\\n\\nbelanghebbende die jonger is dan 27 jaar en uit ’s Rijks kas bekostigd onderwijs kan volgen\\nArtikel 13, sectie 2 c IN Participatiewet\\n\\nbelanghebbende heeft in verband met volgen onderwijs aanspraak op studiefinanciering op grond van de Wet studiefinanciering 2000\\nArtikel 13, sectie 2 c 1 IN Participatiewet\\n\\nbelanghebbende heeft geen aanspraak op studiefinanciering omdat hij onderwijs dat hij kan volgen onderwijs, niet volgt\\nArtikel 13, sectie 2 c 2 IN Participatiewet\\n\\nbelanghebbende die jonger is dan 27 jaar en uit wiens houding en gedragingen ondubbelzinnig blijkt dat hij de verplichtingen, bedoeld in artikel 9, eerste lid, of artikel 55 niet wil nakomen\\nArtikel 13, sectie 2 d IN Participatiewet\\n\\nbijstand wordt toegekend voor de dag waarop de belanghebbende zich heeft gemeld om bijstand aan te vragen\\nArtikel 44, sectie 1 IN Participatiewet\\n\\nNOT het in aanmerking te nemen inkomen lager is dan de bijstandsnorm\\nArtikel 19 sectie 1 a IN Participatiewet\\n\\ner is in aanmerking te nemen vermogen\\nArtikel 19 sectie 1 b IN Participatiewet\\n\\n', 'college stelt het recht op bijstand vast op schriftelijke aanvraag\\nArtikel 43, sectie 1 IN Participatiewet\\n\\nNOT bijstand wordt door de echtgenoten gezamenlijk aangevraagd dan wel door een van hen met schriftelijke toestemming van de ander\\nArtikel 43, sectie 2 IN Participatiewet\\n\\nNOT belanghebbende is een in Nederland woonachtige Nederlander\\nArtikel 11, sectie 1 IN Participatiewet\\n\\nNOT belanghebbende is een hier te lande woonachtige vreemdeling die rechtmatig in Nederland verblijf houdt in de zin van artikel 8, onderdelen a tot en met e en l, van de Vreemdelingenwet 2000\\nArtikel 11, sectie 2 IN Participatiewet\\n\\n\\nbelanghebbende aan wie rechtens zijn vrijheid is ontnomen\\nArtikel 13, sectie 1 a IN Participatiewet\\n\\nbelanghebbende die zich onttrekt aan de tenuitvoerlegging van een vrijheidsstraf of vrijheidsbenemende maatregel\\nArtikel 13, sectie 1 b IN Participatiewet\\n\\nbelanghebbende die zijn militaire of vervangende dienstplicht vervult\\nArtikel 13, sectie 1 c IN Participatiewet\\n\\nbelanghebbende die wegens werkstaking of uitsluiting niet deelneemt aan de arbeid, voorzover diens gebrek aan middelen daarvan het gevolg is\\nArtikel 13, sectie 1 d IN Participatiewet\\n\\nbelanghebbende die per kalenderjaar langer dan vier weken verblijf houdt buiten Nederland\\nArtikel 13, sectie 1 e IN Participatiewet\\n\\nbelanghebbende die bijstand vraagt ter gedeeltelijke of volledige aflossing van een schuldenlast\\nArtikel 13, sectie 1 g IN Participatiewet\\n\\nbelanghebbende die overigens bij het ontstaan van de schuldenlast dan wel nadien, beschikte of beschikt over de middelen om in de noodzakelijke kosten van het bestaan te voorzien\\nArtikel 13, sectie 1 g IN Participatiewet\\n\\nbelanghebbende die een uitreiziger is\\nArtikel 13, sectie 1 h IN Participatiewet\\n\\nbelanghebbende van 18, 19 of 20 jaar die in een inrichting verblijft\\nArtikel 13, sectie 2 a IN Participatiewet\\n\\nbelanghebbende die jonger is dan 27 jaar en uit ’s Rijks kas bekostigd onderwijs kan volgen\\nArtikel 13, sectie 2 c IN Participatiewet\\n\\nbelanghebbende heeft in verband met volgen onderwijs aanspraak op studiefinanciering op grond van de Wet studiefinanciering 2000\\nArtikel 13, sectie 2 c 1 IN Participatiewet\\n\\nbelanghebbende heeft geen aanspraak op studiefinanciering omdat hij onderwijs dat hij kan volgen onderwijs, niet volgt\\nArtikel 13, sectie 2 c 2 IN Participatiewet\\n\\nbelanghebbende die jonger is dan 27 jaar en uit wiens houding en gedragingen ondubbelzinnig blijkt dat hij de verplichtingen, bedoeld in artikel 9, eerste lid, of artikel 55 niet wil nakomen\\nArtikel 13, sectie 2 d IN Participatiewet\\n\\nbijstand wordt toegekend voor de dag waarop de belanghebbende zich heeft gemeld om bijstand aan te vragen\\nArtikel 44, sectie 1 IN Participatiewet\\n\\nNOT het in aanmerking te nemen inkomen lager is dan de bijstandsnorm\\nArtikel 19 sectie 1 a IN Participatiewet\\n\\ner is in aanmerking te nemen vermogen\\nArtikel 19 sectie 1 b IN Participatiewet\\n\\n', 'college stelt het recht op bijstand vast op schriftelijke aanvraag\\nArtikel 43, sectie 1 IN Participatiewet\\n\\nNOT bijstand wordt door de echtgenoten gezamenlijk aangevraagd dan wel door een van hen met schriftelijke toestemming van de ander\\nArtikel 43, sectie 2 IN Participatiewet\\n\\nNOT belanghebbende is een in Nederland woonachtige Nederlander\\nArtikel 11, sectie 1 IN Participatiewet\\n\\nNOT belanghebbende is een hier te lande woonachtige vreemdeling die rechtmatig in Nederland verblijf houdt in de zin van artikel 8, onderdelen a tot en met e en l, van de Vreemdelingenwet 2000\\nArtikel 11, sectie 2 IN Participatiewet\\n\\n\\nbelanghebbende aan wie rechtens zijn vrijheid is ontnomen\\nArtikel 13, sectie 1 a IN Participatiewet\\n\\nbelanghebbende die zich onttrekt aan de tenuitvoerlegging van een vrijheidsstraf of vrijheidsbenemende maatregel\\nArtikel 13, sectie 1 b IN Participatiewet\\n\\nbelanghebbende die zijn militaire of vervangende dienstplicht vervult\\nArtikel 13, sectie 1 c IN Participatiewet\\n\\nbelanghebbende die wegens werkstaking of uitsluiting niet deelneemt aan de arbeid, voorzover diens gebrek aan middelen daarvan het gevolg is\\nArtikel 13, sectie 1 d IN Participatiewet\\n\\nbelanghebbende die per kalenderjaar langer dan vier weken verblijf houdt buiten Nederland\\nArtikel 13, sectie 1 e IN Participatiewet\\n\\nbelanghebbende die bijstand vraagt ter gedeeltelijke of volledige aflossing van een schuldenlast\\nArtikel 13, sectie 1 g IN Participatiewet\\n\\nbelanghebbende die overigens bij het ontstaan van de schuldenlast dan wel nadien, beschikte of beschikt over de middelen om in de noodzakelijke kosten van het bestaan te voorzien\\nArtikel 13, sectie 1 g IN Participatiewet\\n\\nbelanghebbende die een uitreiziger is\\nArtikel 13, sectie 1 h IN Participatiewet\\n\\nbelanghebbende van 18, 19 of 20 jaar die in een inrichting verblijft\\nArtikel 13, sectie 2 a IN Participatiewet\\n\\nbelanghebbende die jonger is dan 27 jaar en uit ’s Rijks kas bekostigd onderwijs kan volgen\\nArtikel 13, sectie 2 c IN Participatiewet\\n\\nbelanghebbende heeft in verband met volgen onderwijs aanspraak op studiefinanciering op grond van de Wet studiefinanciering 2000\\nArtikel 13, sectie 2 c 1 IN Participatiewet\\n\\nbelanghebbende heeft geen aanspraak op studiefinanciering omdat hij onderwijs dat hij kan volgen onderwijs, niet volgt\\nArtikel 13, sectie 2 c 2 IN Participatiewet\\n\\nbelanghebbende die jonger is dan 27 jaar en uit wiens houding en gedragingen ondubbelzinnig blijkt dat hij de verplichtingen, bedoeld in artikel 9, eerste lid, of artikel 55 niet wil nakomen\\nArtikel 13, sectie 2 d IN Participatiewet\\n\\nbijstand wordt toegekend voor de dag waarop de belanghebbende zich heeft gemeld om bijstand aan te vragen\\nArtikel 44, sectie 1 IN Participatiewet\\n\\nNOT het in aanmerking te nemen inkomen lager is dan de bijstandsnorm\\nArtikel 19 sectie 1 a IN Participatiewet\\n\\ner is in aanmerking te nemen vermogen\\nArtikel 19 sectie 1 b IN Participatiewet\\n\\n', 'college stelt het recht op bijstand vast op schriftelijke aanvraag\\nArtikel 43, sectie 1 IN Participatiewet\\n\\nNOT bijstand wordt door de echtgenoten gezamenlijk aangevraagd dan wel door een van hen met schriftelijke toestemming van de ander\\nArtikel 43, sectie 2 IN Participatiewet\\n\\nNOT belanghebbende is een in Nederland woonachtige Nederlander\\nArtikel 11, sectie 1 IN Participatiewet\\n\\nNOT belanghebbende is een hier te lande woonachtige vreemdeling die rechtmatig in Nederland verblijf houdt in de zin van artikel 8, onderdelen a tot en met e en l, van de Vreemdelingenwet 2000\\nArtikel 11, sectie 2 IN Participatiewet\\n\\n\\nbelanghebbende aan wie rechtens zijn vrijheid is ontnomen\\nArtikel 13, sectie 1 a IN Participatiewet\\n\\nbelanghebbende die zich onttrekt aan de tenuitvoerlegging van een vrijheidsstraf of vrijheidsbenemende maatregel\\nArtikel 13, sectie 1 b IN Participatiewet\\n\\nbelanghebbende die zijn militaire of vervangende dienstplicht vervult\\nArtikel 13, sectie 1 c IN Participatiewet\\n\\nbelanghebbende die wegens werkstaking of uitsluiting niet deelneemt aan de arbeid, voorzover diens gebrek aan middelen daarvan het gevolg is\\nArtikel 13, sectie 1 d IN Participatiewet\\n\\nbelanghebbende die per kalenderjaar langer dan vier weken verblijf houdt buiten Nederland\\nArtikel 13, sectie 1 e IN Participatiewet\\n\\nbelanghebbende die bijstand vraagt ter gedeeltelijke of volledige aflossing van een schuldenlast\\nArtikel 13, sectie 1 g IN Participatiewet\\n\\nbelanghebbende die overigens bij het ontstaan van de schuldenlast dan wel nadien, beschikte of beschikt over de middelen om in de noodzakelijke kosten van het bestaan te voorzien\\nArtikel 13, sectie 1 g IN Participatiewet\\n\\nbelanghebbende die een uitreiziger is\\nArtikel 13, sectie 1 h IN Participatiewet\\n\\nbelanghebbende van 18, 19 of 20 jaar die in een inrichting verblijft\\nArtikel 13, sectie 2 a IN Participatiewet\\n\\nbelanghebbende die jonger is dan 27 jaar en uit ’s Rijks kas bekostigd onderwijs kan volgen\\nArtikel 13, sectie 2 c IN Participatiewet\\n\\nbelanghebbende heeft in verband met volgen onderwijs aanspraak op studiefinanciering op grond van de Wet studiefinanciering 2000\\nArtikel 13, sectie 2 c 1 IN Participatiewet\\n\\nbelanghebbende heeft geen aanspraak op studiefinanciering omdat hij onderwijs dat hij kan volgen onderwijs, niet volgt\\nArtikel 13, sectie 2 c 2 IN Participatiewet\\n\\nbelanghebbende die jonger is dan 27 jaar en uit wiens houding en gedragingen ondubbelzinnig blijkt dat hij de verplichtingen, bedoeld in artikel 9, eerste lid, of artikel 55 niet wil nakomen\\nArtikel 13, sectie 2 d IN Participatiewet\\n\\nbijstand wordt toegekend voor de dag waarop de belanghebbende zich heeft gemeld om bijstand aan te vragen\\nArtikel 44, sectie 1 IN Participatiewet\\n\\nNOT het in aanmerking te nemen inkomen lager is dan de bijstandsnorm\\nArtikel 19 sectie 1 a IN Participatiewet\\n\\ner is in aanmerking te nemen vermogen\\nArtikel 19 sectie 1 b IN Participatiewet\\n\\n', 'college stelt het recht op bijstand vast op schriftelijke aanvraag\\nArtikel 43, sectie 1 IN Participatiewet\\n\\nNOT bijstand wordt door de echtgenoten gezamenlijk aangevraagd dan wel door een van hen met schriftelijke toestemming van de ander\\nArtikel 43, sectie 2 IN Participatiewet\\n\\nNOT belanghebbende is een in Nederland woonachtige Nederlander\\nArtikel 11, sectie 1 IN Participatiewet\\n\\nNOT belanghebbende is een hier te lande woonachtige vreemdeling die rechtmatig in Nederland verblijf houdt in de zin van artikel 8, onderdelen a tot en met e en l, van de Vreemdelingenwet 2000\\nArtikel 11, sectie 2 IN Participatiewet\\n\\n\\nbelanghebbende aan wie rechtens zijn vrijheid is ontnomen\\nArtikel 13, sectie 1 a IN Participatiewet\\n\\nbelanghebbende die zich onttrekt aan de tenuitvoerlegging van een vrijheidsstraf of vrijheidsbenemende maatregel\\nArtikel 13, sectie 1 b IN Participatiewet\\n\\nbelanghebbende die zijn militaire of vervangende dienstplicht vervult\\nArtikel 13, sectie 1 c IN Participatiewet\\n\\nbelanghebbende die wegens werkstaking of uitsluiting niet deelneemt aan de arbeid, voorzover diens gebrek aan middelen daarvan het gevolg is\\nArtikel 13, sectie 1 d IN Participatiewet\\n\\nbelanghebbende die per kalenderjaar langer dan vier weken verblijf houdt buiten Nederland\\nArtikel 13, sectie 1 e IN Participatiewet\\n\\nbelanghebbende die bijstand vraagt ter gedeeltelijke of volledige aflossing van een schuldenlast\\nArtikel 13, sectie 1 g IN Participatiewet\\n\\nbelanghebbende die overigens bij het ontstaan van de schuldenlast dan wel nadien, beschikte of beschikt over de middelen om in de noodzakelijke kosten van het bestaan te voorzien\\nArtikel 13, sectie 1 g IN Participatiewet\\n\\nbelanghebbende die een uitreiziger is\\nArtikel 13, sectie 1 h IN Participatiewet\\n\\nbelanghebbende van 18, 19 of 20 jaar die in een inrichting verblijft\\nArtikel 13, sectie 2 a IN Participatiewet\\n\\nbelanghebbende die jonger is dan 27 jaar en uit ’s Rijks kas bekostigd onderwijs kan volgen\\nArtikel 13, sectie 2 c IN Participatiewet\\n\\nbelanghebbende heeft in verband met volgen onderwijs aanspraak op studiefinanciering op grond van de Wet studiefinanciering 2000\\nArtikel 13, sectie 2 c 1 IN Participatiewet\\n\\nbelanghebbende heeft geen aanspraak op studiefinanciering omdat hij onderwijs dat hij kan volgen onderwijs, niet volgt\\nArtikel 13, sectie 2 c 2 IN Participatiewet\\n\\nbelanghebbende die jonger is dan 27 jaar en uit wiens houding en gedragingen ondubbelzinnig blijkt dat hij de verplichtingen, bedoeld in artikel 9, eerste lid, of artikel 55 niet wil nakomen\\nArtikel 13, sectie 2 d IN Participatiewet\\n\\nbijstand wordt toegekend voor de dag waarop de belanghebbende zich heeft gemeld om bijstand aan te vragen\\nArtikel 44, sectie 1 IN Participatiewet\\n\\nNOT het in aanmerking te nemen inkomen lager is dan de bijstandsnorm\\nArtikel 19 sectie 1 a IN Participatiewet\\n\\ner is in aanmerking te nemen vermogen\\nArtikel 19 sectie 1 b IN Participatiewet\\n\\n', 'college stelt het recht op bijstand vast op schriftelijke aanvraag\\nArtikel 43, sectie 1 IN Participatiewet\\n\\nNOT bijstand wordt door de echtgenoten gezamenlijk aangevraagd dan wel door een van hen met schriftelijke toestemming van de ander\\nArtikel 43, sectie 2 IN Participatiewet\\n\\nNOT belanghebbende is een in Nederland woonachtige Nederlander\\nArtikel 11, sectie 1 IN Participatiewet\\n\\nNOT belanghebbende is een hier te lande woonachtige vreemdeling die rechtmatig in Nederland verblijf houdt in de zin van artikel 8, onderdelen a tot en met e en l, van de Vreemdelingenwet 2000\\nArtikel 11, sectie 2 IN Participatiewet\\n\\n\\nbelanghebbende aan wie rechtens zijn vrijheid is ontnomen\\nArtikel 13, sectie 1 a IN Participatiewet\\n\\nbelanghebbende die zich onttrekt aan de tenuitvoerlegging van een vrijheidsstraf of vrijheidsbenemende maatregel\\nArtikel 13, sectie 1 b IN Participatiewet\\n\\nbelanghebbende die zijn militaire of vervangende dienstplicht vervult\\nArtikel 13, sectie 1 c IN Participatiewet\\n\\nbelanghebbende die wegens werkstaking of uitsluiting niet deelneemt aan de arbeid, voorzover diens gebrek aan middelen daarvan het gevolg is\\nArtikel 13, sectie 1 d IN Participatiewet\\n\\nbelanghebbende die per kalenderjaar langer dan vier weken verblijf houdt buiten Nederland\\nArtikel 13, sectie 1 e IN Participatiewet\\n\\nbelanghebbende die bijstand vraagt ter gedeeltelijke of volledige aflossing van een schuldenlast\\nArtikel 13, sectie 1 g IN Participatiewet\\n\\nbelanghebbende die overigens bij het ontstaan van de schuldenlast dan wel nadien, beschikte of beschikt over de middelen om in de noodzakelijke kosten van het bestaan te voorzien\\nArtikel 13, sectie 1 g IN Participatiewet\\n\\nbelanghebbende die een uitreiziger is\\nArtikel 13, sectie 1 h IN Participatiewet\\n\\nbelanghebbende van 18, 19 of 20 jaar die in een inrichting verblijft\\nArtikel 13, sectie 2 a IN Participatiewet\\n\\nbelanghebbende die jonger is dan 27 jaar en uit ’s Rijks kas bekostigd onderwijs kan volgen\\nArtikel 13, sectie 2 c IN Participatiewet\\n\\nbelanghebbende heeft in verband met volgen onderwijs aanspraak op studiefinanciering op grond van de Wet studiefinanciering 2000\\nArtikel 13, sectie 2 c 1 IN Participatiewet\\n\\nbelanghebbende heeft geen aanspraak op studiefinanciering omdat hij onderwijs dat hij kan volgen onderwijs, niet volgt\\nArtikel 13, sectie 2 c 2 IN Participatiewet\\n\\nbelanghebbende die jonger is dan 27 jaar en uit wiens houding en gedragingen ondubbelzinnig blijkt dat hij de verplichtingen, bedoeld in artikel 9, eerste lid, of artikel 55 niet wil nakomen\\nArtikel 13, sectie 2 d IN Participatiewet\\n\\nbijstand wordt toegekend voor de dag waarop de belanghebbende zich heeft gemeld om bijstand aan te vragen\\nArtikel 44, sectie 1 IN Participatiewet\\n\\nNOT het in aanmerking te nemen inkomen lager is dan de bijstandsnorm\\nArtikel 19 sectie 1 a IN Participatiewet\\n\\ner is in aanmerking te nemen vermogen\\nArtikel 19 sectie 1 b IN Participatiewet\\n\\n', 'college stelt het recht op bijstand vast op schriftelijke aanvraag\\nArtikel 43, sectie 1 IN Participatiewet\\n\\nNOT bijstand wordt door de echtgenoten gezamenlijk aangevraagd dan wel door een van hen met schriftelijke toestemming van de ander\\nArtikel 43, sectie 2 IN Participatiewet\\n\\nNOT belanghebbende is een in Nederland woonachtige Nederlander\\nArtikel 11, sectie 1 IN Participatiewet\\n\\nNOT belanghebbende is een hier te lande woonachtige vreemdeling die rechtmatig in Nederland verblijf houdt in de zin van artikel 8, onderdelen a tot en met e en l, van de Vreemdelingenwet 2000\\nArtikel 11, sectie 2 IN Participatiewet\\n\\n\\nbelanghebbende aan wie rechtens zijn vrijheid is ontnomen\\nArtikel 13, sectie 1 a IN Participatiewet\\n\\nbelanghebbende die zich onttrekt aan de tenuitvoerlegging van een vrijheidsstraf of vrijheidsbenemende maatregel\\nArtikel 13, sectie 1 b IN Participatiewet\\n\\nbelanghebbende die zijn militaire of vervangende dienstplicht vervult\\nArtikel 13, sectie 1 c IN Participatiewet\\n\\nbelanghebbende die wegens werkstaking of uitsluiting niet deelneemt aan de arbeid, voorzover diens gebrek aan middelen daarvan het gevolg is\\nArtikel 13, sectie 1 d IN Participatiewet\\n\\nbelanghebbende die per kalenderjaar langer dan vier weken verblijf houdt buiten Nederland\\nArtikel 13, sectie 1 e IN Participatiewet\\n\\nbelanghebbende die bijstand vraagt ter gedeeltelijke of volledige aflossing van een schuldenlast\\nArtikel 13, sectie 1 g IN Participatiewet\\n\\nbelanghebbende die overigens bij het ontstaan van de schuldenlast dan wel nadien, beschikte of beschikt over de middelen om in de noodzakelijke kosten van het bestaan te voorzien\\nArtikel 13, sectie 1 g IN Participatiewet\\n\\nbelanghebbende die een uitreiziger is\\nArtikel 13, sectie 1 h IN Participatiewet\\n\\nbelanghebbende van 18, 19 of 20 jaar die in een inrichting verblijft\\nArtikel 13, sectie 2 a IN Participatiewet\\n\\nbelanghebbende die jonger is dan 27 jaar en uit ’s Rijks kas bekostigd onderwijs kan volgen\\nArtikel 13, sectie 2 c IN Participatiewet\\n\\nbelanghebbende heeft in verband met volgen onderwijs aanspraak op studiefinanciering op grond van de Wet studiefinanciering 2000\\nArtikel 13, sectie 2 c 1 IN Participatiewet\\n\\nbelanghebbende heeft geen aanspraak op studiefinanciering omdat hij onderwijs dat hij kan volgen onderwijs, niet volgt\\nArtikel 13, sectie 2 c 2 IN Participatiewet\\n\\nbelanghebbende die jonger is dan 27 jaar en uit wiens houding en gedragingen ondubbelzinnig blijkt dat hij de verplichtingen, bedoeld in artikel 9, eerste lid, of artikel 55 niet wil nakomen\\nArtikel 13, sectie 2 d IN Participatiewet\\n\\nbijstand wordt toegekend voor de dag waarop de belanghebbende zich heeft gemeld om bijstand aan te vragen\\nArtikel 44, sectie 1 IN Participatiewet\\n\\nNOT het in aanmerking te nemen inkomen lager is dan de bijstandsnorm\\nArtikel 19 sectie 1 a IN Participatiewet\\n\\ner is in aanmerking te nemen vermogen\\nArtikel 19 sectie 1 b IN Participatiewet\\n\\n', 'college stelt het recht op bijstand vast op schriftelijke aanvraag\\nArtikel 43, sectie 1 IN Participatiewet\\n\\nNOT bijstand wordt door de echtgenoten gezamenlijk aangevraagd dan wel door een van hen met schriftelijke toestemming van de ander\\nArtikel 43, sectie 2 IN Participatiewet\\n\\nNOT belanghebbende is een in Nederland woonachtige Nederlander\\nArtikel 11, sectie 1 IN Participatiewet\\n\\nNOT belanghebbende is een hier te lande woonachtige vreemdeling die rechtmatig in Nederland verblijf houdt in de zin van artikel 8, onderdelen a tot en met e en l, van de Vreemdelingenwet 2000\\nArtikel 11, sectie 2 IN Participatiewet\\n\\n\\nbelanghebbende aan wie rechtens zijn vrijheid is ontnomen\\nArtikel 13, sectie 1 a IN Participatiewet\\n\\nbelanghebbende die zich onttrekt aan de tenuitvoerlegging van een vrijheidsstraf of vrijheidsbenemende maatregel\\nArtikel 13, sectie 1 b IN Participatiewet\\n\\nbelanghebbende die zijn militaire of vervangende dienstplicht vervult\\nArtikel 13, sectie 1 c IN Participatiewet\\n\\nbelanghebbende die wegens werkstaking of uitsluiting niet deelneemt aan de arbeid, voorzover diens gebrek aan middelen daarvan het gevolg is\\nArtikel 13, sectie 1 d IN Participatiewet\\n\\nbelanghebbende die per kalenderjaar langer dan vier weken verblijf houdt buiten Nederland\\nArtikel 13, sectie 1 e IN Participatiewet\\n\\nbelanghebbende die bijstand vraagt ter gedeeltelijke of volledige aflossing van een schuldenlast\\nArtikel 13, sectie 1 g IN Participatiewet\\n\\nbelanghebbende die overigens bij het ontstaan van de schuldenlast dan wel nadien, beschikte of beschikt over de middelen om in de noodzakelijke kosten van het bestaan te voorzien\\nArtikel 13, sectie 1 g IN Participatiewet\\n\\nbelanghebbende die een uitreiziger is\\nArtikel 13, sectie 1 h IN Participatiewet\\n\\nbelanghebbende van 18, 19 of 20 jaar die in een inrichting verblijft\\nArtikel 13, sectie 2 a IN Participatiewet\\n\\nbelanghebbende die jonger is dan 27 jaar en uit ’s Rijks kas bekostigd onderwijs kan volgen\\nArtikel 13, sectie 2 c IN Participatiewet\\n\\nbelanghebbende heeft in verband met volgen onderwijs aanspraak op studiefinanciering op grond van de Wet studiefinanciering 2000\\nArtikel 13, sectie 2 c 1 IN Participatiewet\\n\\nbelanghebbende heeft geen aanspraak op studiefinanciering omdat hij onderwijs dat hij kan volgen onderwijs, niet volgt\\nArtikel 13, sectie 2 c 2 IN Participatiewet\\n\\nbelanghebbende die jonger is dan 27 jaar en uit wiens houding en gedragingen ondubbelzinnig blijkt dat hij de verplichtingen, bedoeld in artikel 9, eerste lid, of artikel 55 niet wil nakomen\\nArtikel 13, sectie 2 d IN Participatiewet\\n\\nbijstand wordt toegekend voor de dag waarop de belanghebbende zich heeft gemeld om bijstand aan te vragen\\nArtikel 44, sectie 1 IN Participatiewet\\n\\nNOT het in aanmerking te nemen inkomen lager is dan de bijstandsnorm\\nArtikel 19 sectie 1 a IN Participatiewet\\n\\ner is in aanmerking te nemen vermogen\\nArtikel 19 sectie 1 b IN Participatiewet\\n\\n', 'college stelt het recht op bijstand vast op schriftelijke aanvraag\\nArtikel 43, sectie 1 IN Participatiewet\\n\\nNOT bijstand wordt door de echtgenoten gezamenlijk aangevraagd dan wel door een van hen met schriftelijke toestemming van de ander\\nArtikel 43, sectie 2 IN Participatiewet\\n\\nNOT belanghebbende is een in Nederland woonachtige Nederlander\\nArtikel 11, sectie 1 IN Participatiewet\\n\\nNOT belanghebbende is een hier te lande woonachtige vreemdeling die rechtmatig in Nederland verblijf houdt in de zin van artikel 8, onderdelen a tot en met e en l, van de Vreemdelingenwet 2000\\nArtikel 11, sectie 2 IN Participatiewet\\n\\n\\nbelanghebbende aan wie rechtens zijn vrijheid is ontnomen\\nArtikel 13, sectie 1 a IN Participatiewet\\n\\nbelanghebbende die zich onttrekt aan de tenuitvoerlegging van een vrijheidsstraf of vrijheidsbenemende maatregel\\nArtikel 13, sectie 1 b IN Participatiewet\\n\\nbelanghebbende die zijn militaire of vervangende dienstplicht vervult\\nArtikel 13, sectie 1 c IN Participatiewet\\n\\nbelanghebbende die wegens werkstaking of uitsluiting niet deelneemt aan de arbeid, voorzover diens gebrek aan middelen daarvan het gevolg is\\nArtikel 13, sectie 1 d IN Participatiewet\\n\\nbelanghebbende die per kalenderjaar langer dan vier weken verblijf houdt buiten Nederland\\nArtikel 13, sectie 1 e IN Participatiewet\\n\\nbelanghebbende die bijstand vraagt ter gedeeltelijke of volledige aflossing van een schuldenlast\\nArtikel 13, sectie 1 g IN Participatiewet\\n\\nbelanghebbende die overigens bij het ontstaan van de schuldenlast dan wel nadien, beschikte of beschikt over de middelen om in de noodzakelijke kosten van het bestaan te voorzien\\nArtikel 13, sectie 1 g IN Participatiewet\\n\\nbelanghebbende die een uitreiziger is\\nArtikel 13, sectie 1 h IN Participatiewet\\n\\nbelanghebbende van 18, 19 of 20 jaar die in een inrichting verblijft\\nArtikel 13, sectie 2 a IN Participatiewet\\n\\nbelanghebbende die jonger is dan 27 jaar en uit ’s Rijks kas bekostigd onderwijs kan volgen\\nArtikel 13, sectie 2 c IN Participatiewet\\n\\nbelanghebbende heeft in verband met volgen onderwijs aanspraak op studiefinanciering op grond van de Wet studiefinanciering 2000\\nArtikel 13, sectie 2 c 1 IN Participatiewet\\n\\nbelanghebbende heeft geen aanspraak op studiefinanciering omdat hij onderwijs dat hij kan volgen onderwijs, niet volgt\\nArtikel 13, sectie 2 c 2 IN Participatiewet\\n\\nbelanghebbende die jonger is dan 27 jaar en uit wiens houding en gedragingen ondubbelzinnig blijkt dat hij de verplichtingen, bedoeld in artikel 9, eerste lid, of artikel 55 niet wil nakomen\\nArtikel 13, sectie 2 d IN Participatiewet\\n\\nbijstand wordt toegekend voor de dag waarop de belanghebbende zich heeft gemeld om bijstand aan te vragen\\nArtikel 44, sectie 1 IN Participatiewet\\n\\nNOT het in aanmerking te nemen inkomen lager is dan de bijstandsnorm\\nArtikel 19 sectie 1 a IN Participatiewet\\n\\ner is in aanmerking te nemen vermogen\\nArtikel 19 sectie 1 b IN Participatiewet\\n\\n', 'college stelt het recht op bijstand vast op schriftelijke aanvraag\\nArtikel 43, sectie 1 IN Participatiewet\\n\\nNOT bijstand wordt door de echtgenoten gezamenlijk aangevraagd dan wel door een van hen met schriftelijke toestemming van de ander\\nArtikel 43, sectie 2 IN Participatiewet\\n\\nNOT belanghebbende is een in Nederland woonachtige Nederlander\\nArtikel 11, sectie 1 IN Participatiewet\\n\\nNOT belanghebbende is een hier te lande woonachtige vreemdeling die rechtmatig in Nederland verblijf houdt in de zin van artikel 8, onderdelen a tot en met e en l, van de Vreemdelingenwet 2000\\nArtikel 11, sectie 2 IN Participatiewet\\n\\n\\nbelanghebbende aan wie rechtens zijn vrijheid is ontnomen\\nArtikel 13, sectie 1 a IN Participatiewet\\n\\nbelanghebbende die zich onttrekt aan de tenuitvoerlegging van een vrijheidsstraf of vrijheidsbenemende maatregel\\nArtikel 13, sectie 1 b IN Participatiewet\\n\\nbelanghebbende die zijn militaire of vervangende dienstplicht vervult\\nArtikel 13, sectie 1 c IN Participatiewet\\n\\nbelanghebbende die wegens werkstaking of uitsluiting niet deelneemt aan de arbeid, voorzover diens gebrek aan middelen daarvan het gevolg is\\nArtikel 13, sectie 1 d IN Participatiewet\\n\\nbelanghebbende die per kalenderjaar langer dan vier weken verblijf houdt buiten Nederland\\nArtikel 13, sectie 1 e IN Participatiewet\\n\\nbelanghebbende die bijstand vraagt ter gedeeltelijke of volledige aflossing van een schuldenlast\\nArtikel 13, sectie 1 g IN Participatiewet\\n\\nbelanghebbende die overigens bij het ontstaan van de schuldenlast dan wel nadien, beschikte of beschikt over de middelen om in de noodzakelijke kosten van het bestaan te voorzien\\nArtikel 13, sectie 1 g IN Participatiewet\\n\\nbelanghebbende die een uitreiziger is\\nArtikel 13, sectie 1 h IN Participatiewet\\n\\nbelanghebbende van 18, 19 of 20 jaar die in een inrichting verblijft\\nArtikel 13, sectie 2 a IN Participatiewet\\n\\nbelanghebbende die jonger is dan 27 jaar en uit ’s Rijks kas bekostigd onderwijs kan volgen\\nArtikel 13, sectie 2 c IN Participatiewet\\n\\nbelanghebbende heeft in verband met volgen onderwijs aanspraak op studiefinanciering op grond van de Wet studiefinanciering 2000\\nArtikel 13, sectie 2 c 1 IN Participatiewet\\n\\nbelanghebbende heeft geen aanspraak op studiefinanciering omdat hij onderwijs dat hij kan volgen onderwijs, niet volgt\\nArtikel 13, sectie 2 c 2 IN Participatiewet\\n\\nbelanghebbende die jonger is dan 27 jaar en uit wiens houding en gedragingen ondubbelzinnig blijkt dat hij de verplichtingen, bedoeld in artikel 9, eerste lid, of artikel 55 niet wil nakomen\\nArtikel 13, sectie 2 d IN Participatiewet\\n\\nbijstand wordt toegekend voor de dag waarop de belanghebbende zich heeft gemeld om bijstand aan te vragen\\nArtikel 44, sectie 1 IN Participatiewet\\n\\nNOT het in aanmerking te nemen inkomen lager is dan de bijstandsnorm\\nArtikel 19 sectie 1 a IN Participatiewet\\n\\ner is in aanmerking te nemen vermogen\\nArtikel 19 sectie 1 b IN Participatiewet\\n\\n']\n",
      "40\n",
      "40\n"
     ]
    }
   ],
   "source": [
    "# Flatten the candidate lists\n",
    "candidates_new_flat = [resp for row in candidates_new for resp in row]\n",
    "candidates_base_flat = [resp for row in candidates_base for resp in row]\n",
    "\n",
    "# Repeat each reference NUM_RESPONSES times to match the flattened predictions\n",
    "references_flat = [ref for ref in references for _ in range(NUM_RESPONSES_EVAL)]\n",
    "\n",
    "print(candidates_new_flat)\n",
    "\n",
    "print(references_flat)\n",
    "\n",
    "print(len(references_flat))\n",
    "print(len(candidates_new_flat))"
   ]
  },
  {
   "cell_type": "markdown",
   "id": "4f1edeb3",
   "metadata": {},
   "source": [
    "## ROUGE/BLEU on relevant sequence from the answer "
   ]
  },
  {
   "cell_type": "code",
   "execution_count": 11,
   "id": "d8b32cff",
   "metadata": {},
   "outputs": [
    {
     "name": "stdout",
     "output_type": "stream",
     "text": [
      "Results new: {'rouge1': np.float64(0.26903899959926475), 'rouge2': np.float64(0.08075648293634999), 'rougeL': np.float64(0.19610885576452364), 'rougeLsum': np.float64(0.25988549214648693)}\n",
      "Results base: {'rouge1': np.float64(0.2380949946009449), 'rouge2': np.float64(0.0951200057279944), 'rougeL': np.float64(0.15279703243016496), 'rougeLsum': np.float64(0.22638269227554414)}\n"
     ]
    }
   ],
   "source": [
    "# Evaluation metric 1: ROUGE on relevant sequences\n",
    "# WHy not BLEU --> penalizes missing ngrams, not something I m looking for here\n",
    "\n",
    "rouge = evaluate.load('rouge')\n",
    "\n",
    "\n",
    "results_new = rouge.compute(predictions=candidates_new_flat, references=references_flat)\n",
    "results_base = rouge.compute(predictions=candidates_base_flat, references=references_flat)\n",
    "\n",
    "\n",
    "print(f\"Results new: {results_new}\")\n",
    "print(f\"Results base: {results_base}\")"
   ]
  },
  {
   "cell_type": "markdown",
   "id": "db770b90",
   "metadata": {},
   "source": [
    "## BERT Score --> based on embedding similarity"
   ]
  },
  {
   "cell_type": "code",
   "execution_count": 12,
   "id": "b5360138",
   "metadata": {},
   "outputs": [
    {
     "name": "stderr",
     "output_type": "stream",
     "text": [
      "huggingface/tokenizers: The current process just got forked, after parallelism has already been used. Disabling parallelism to avoid deadlocks...\n",
      "To disable this warning, you can either:\n",
      "\t- Avoid using `tokenizers` before the fork if possible\n",
      "\t- Explicitly set the environment variable TOKENIZERS_PARALLELISM=(true | false)\n",
      "huggingface/tokenizers: The current process just got forked, after parallelism has already been used. Disabling parallelism to avoid deadlocks...\n",
      "To disable this warning, you can either:\n",
      "\t- Avoid using `tokenizers` before the fork if possible\n",
      "\t- Explicitly set the environment variable TOKENIZERS_PARALLELISM=(true | false)\n"
     ]
    }
   ],
   "source": [
    "# Maybe add BERTScore --> semantic similarity based on sentencetransformer\n",
    "P_new, R_new, F1_new = score(\n",
    "    candidates_new_flat, \n",
    "    references_flat, \n",
    "    model_type='answerdotai/ModernBERT-base', \n",
    "    num_layers=22,\n",
    "    lang='nl')\n",
    "\n",
    "P_base, R_base, F1_base = score(\n",
    "    candidates_base_flat, \n",
    "    references_flat, \n",
    "    model_type='answerdotai/ModernBERT-base', \n",
    "    num_layers=22,\n",
    "    lang='nl')"
   ]
  },
  {
   "cell_type": "code",
   "execution_count": 13,
   "id": "afdb33c2",
   "metadata": {},
   "outputs": [
    {
     "name": "stdout",
     "output_type": "stream",
     "text": [
      "BERT Score metrics new: (tensor([0.8326, 0.8375, 0.8130, 0.8244, 0.7785, 0.8020, 0.8106, 0.8212, 0.8264,\n",
      "        0.8142, 0.7983, 0.7946, 0.8134, 0.8024, 0.7708, 0.8099, 0.8149, 0.7864,\n",
      "        0.7789, 0.7603, 0.7087, 0.7537, 0.7002, 0.8246, 0.6824, 0.6269, 0.7587,\n",
      "        0.7403, 0.6926, 0.7183, 0.8008, 0.8092, 0.7641, 0.7999, 0.7648, 0.7609,\n",
      "        0.7746, 0.8002, 0.7682, 0.7822]), tensor([0.8096, 0.8064, 0.8182, 0.8040, 0.7976, 0.7822, 0.8075, 0.8123, 0.7996,\n",
      "        0.8117, 0.8598, 0.8527, 0.8541, 0.8567, 0.8374, 0.8513, 0.8310, 0.8402,\n",
      "        0.8516, 0.8377, 0.8530, 0.8259, 0.8119, 0.8758, 0.7947, 0.7866, 0.8298,\n",
      "        0.8683, 0.7876, 0.8056, 0.8115, 0.7494, 0.7933, 0.7474, 0.8008, 0.7892,\n",
      "        0.8143, 0.7981, 0.8053, 0.8137]), tensor([0.8210, 0.8217, 0.8156, 0.8141, 0.7880, 0.7920, 0.8091, 0.8167, 0.8128,\n",
      "        0.8130, 0.8279, 0.8226, 0.8332, 0.8287, 0.8027, 0.8301, 0.8229, 0.8124,\n",
      "        0.8136, 0.7971, 0.7742, 0.7882, 0.7519, 0.8494, 0.7342, 0.6977, 0.7927,\n",
      "        0.7992, 0.7371, 0.7595, 0.8061, 0.7781, 0.7784, 0.7728, 0.7824, 0.7748,\n",
      "        0.7939, 0.7992, 0.7864, 0.7976]))\n",
      "BERT Score metrics base: (tensor([0.8501, 0.8197, 0.7641, 0.7790, 0.7558, 0.7669, 0.8009, 0.7329, 0.7446,\n",
      "        0.8135, 0.7276, 0.7391, 0.8106, 0.7749, 0.7377, 0.7700, 0.7361, 0.7395,\n",
      "        0.7704, 0.7709, 0.6999, 0.6580, 0.7010, 0.6989, 0.6437, 0.6920, 0.6958,\n",
      "        0.7061, 0.6458, 0.7324, 0.8147, 0.8229, 0.8138, 0.7842, 0.8103, 0.8139,\n",
      "        0.7886, 0.7994, 0.8072, 0.8253]), tensor([0.8838, 0.8797, 0.7953, 0.8174, 0.7865, 0.7870, 0.8078, 0.8147, 0.8016,\n",
      "        0.8520, 0.8380, 0.8389, 0.8412, 0.8461, 0.8375, 0.8451, 0.8419, 0.8462,\n",
      "        0.8496, 0.8425, 0.8030, 0.7954, 0.7986, 0.7994, 0.7816, 0.7878, 0.8090,\n",
      "        0.8100, 0.8043, 0.8470, 0.8185, 0.8118, 0.7923, 0.8048, 0.8255, 0.8238,\n",
      "        0.6940, 0.8227, 0.8224, 0.8072]), tensor([0.8667, 0.8486, 0.7794, 0.7977, 0.7708, 0.7768, 0.8044, 0.7716, 0.7721,\n",
      "        0.8323, 0.7790, 0.7858, 0.8256, 0.8089, 0.7844, 0.8058, 0.7855, 0.7893,\n",
      "        0.8080, 0.8051, 0.7479, 0.7202, 0.7466, 0.7458, 0.7060, 0.7368, 0.7482,\n",
      "        0.7545, 0.7164, 0.7855, 0.8166, 0.8173, 0.8029, 0.7944, 0.8178, 0.8189,\n",
      "        0.7383, 0.8109, 0.8147, 0.8161]))\n",
      "F1 base: 0.7863398790359497, F1 new: 0.7962180376052856\n"
     ]
    }
   ],
   "source": [
    "print(f\"BERT Score metrics new: {P_new, R_new, F1_new}\")\n",
    "print(f\"BERT Score metrics base: {P_base, R_base, F1_base}\")\n",
    "\n",
    "print(f\"F1 base: {F1_base.mean()}, F1 new: {F1_new.mean()}\")\n",
    "\n"
   ]
  },
  {
   "cell_type": "markdown",
   "id": "78332f58",
   "metadata": {},
   "source": [
    "## G-Eval"
   ]
  },
  {
   "cell_type": "code",
   "execution_count": 14,
   "id": "02388cd4",
   "metadata": {},
   "outputs": [],
   "source": [
    "# Evaluation metric 2: Evaluate whole answer on G-Eval\n",
    "\n",
    "prompts = df['prompt'].tolist()\n",
    "\n",
    "# setup variables for the Azure OpenAI API\n",
    "endpoint = \"https://openai-ds-instance-sweden.openai.azure.com/\"\n",
    "model_name = \"gpt-4.1\"\n",
    "deployment = \"deze-voor-alles\"\n",
    "\n",
    "\n",
    "\n",
    "subscription_key = os.getenv(\"AZURE_OPENAI_API_KEY\")\n",
    "api_version = \"2024-12-01-preview\"\n",
    "\n",
    "\n",
    "\n",
    "azure_model = AzureOpenAIModel(\n",
    "    openai_api_version=api_version,\n",
    "    azure_endpoint=endpoint,\n",
    "    api_key=subscription_key,\n",
    "    deployment_name=deployment\n",
    ")\n",
    "\n",
    "\n",
    "criteria = \"\"\"\n",
    "\n",
    "\n",
    "Evalueer hoe goed een taalmodel presteerde in de taak van voorwaarde-extractie uit Nederlandse juridische teksten.\n",
    "\n",
    "Voor elke lijst van precondities/subfacts werd de act/fact aan een taalmodel gegeven als onderdeel van een prompt, met de opdracht om alle bijbehorende subfact/preconditie(s) en hun respectieve positie(s) in de tekst terug te geven.\n",
    "\n",
    "Uw taak is om per paar te evalueren hoe goed het model presteerde op twee punten (op een 4-punt Likert-schaal):\n",
    "\n",
    "1. **Het vinden van alle relevante precondities in de tekst**\n",
    "2. **Hoe duidelijk de positie in de tekst is die het model aanduidde**\n",
    "\n",
    "Voor het modelantwoord krijgt u het hele antwoord voor een act/fact (die dus meredere precondities/subfacts kan beïnhouden) en moet u voor elke ground truth preconditie afzonderlijk evalueren of deze \n",
    "    a) aanwezig is in het antwoord en \n",
    "    b) of de positie ervan ook goed is aangegeven in het antwoord. \n",
    "\n",
    "\n",
    "\"\"\" #TODO: think about criteria...\n",
    "\n",
    "precondition_extraction_metric = GEval(\n",
    "    name=\"Precondition_Extraction\",\n",
    "    criteria=criteria,\n",
    "    evaluation_params=[LLMTestCaseParams.INPUT, LLMTestCaseParams.ACTUAL_OUTPUT, LLMTestCaseParams.EXPECTED_OUTPUT],\n",
    "    model=azure_model,\n",
    ")\n"
   ]
  },
  {
   "cell_type": "code",
   "execution_count": 23,
   "id": "bffd8ea6",
   "metadata": {},
   "outputs": [
    {
     "data": {
      "text/html": [
       "<pre style=\"white-space:pre;overflow-x:auto;line-height:normal;font-family:Menlo,'DejaVu Sans Mono',consolas,'Courier New',monospace\">/home/jacques.furst/miniconda3/envs/Evaluation/lib/python3.9/site-packages/rich/live.py:231: UserWarning: install \n",
       "\"ipywidgets\" for Jupyter support\n",
       "  warnings.warn('install \"ipywidgets\" for Jupyter support')\n",
       "</pre>\n"
      ],
      "text/plain": [
       "/home/jacques.furst/miniconda3/envs/Evaluation/lib/python3.9/site-packages/rich/live.py:231: UserWarning: install \n",
       "\"ipywidgets\" for Jupyter support\n",
       "  warnings.warn('install \"ipywidgets\" for Jupyter support')\n"
      ]
     },
     "metadata": {},
     "output_type": "display_data"
    },
    {
     "name": "stdout",
     "output_type": "stream",
     "text": [
      "40\n"
     ]
    },
    {
     "data": {
      "text/html": [
       "<pre style=\"white-space:pre;overflow-x:auto;line-height:normal;font-family:Menlo,'DejaVu Sans Mono',consolas,'Courier New',monospace\"></pre>\n"
      ],
      "text/plain": []
     },
     "metadata": {},
     "output_type": "display_data"
    },
    {
     "data": {
      "text/html": [
       "<pre style=\"white-space:pre;overflow-x:auto;line-height:normal;font-family:Menlo,'DejaVu Sans Mono',consolas,'Courier New',monospace\"></pre>\n"
      ],
      "text/plain": []
     },
     "metadata": {},
     "output_type": "display_data"
    },
    {
     "data": {
      "text/html": [
       "<pre style=\"white-space:pre;overflow-x:auto;line-height:normal;font-family:Menlo,'DejaVu Sans Mono',consolas,'Courier New',monospace\"></pre>\n"
      ],
      "text/plain": []
     },
     "metadata": {},
     "output_type": "display_data"
    },
    {
     "data": {
      "text/html": [
       "<pre style=\"white-space:pre;overflow-x:auto;line-height:normal;font-family:Menlo,'DejaVu Sans Mono',consolas,'Courier New',monospace\"></pre>\n"
      ],
      "text/plain": []
     },
     "metadata": {},
     "output_type": "display_data"
    },
    {
     "data": {
      "text/html": [
       "<pre style=\"white-space:pre;overflow-x:auto;line-height:normal;font-family:Menlo,'DejaVu Sans Mono',consolas,'Courier New',monospace\"></pre>\n"
      ],
      "text/plain": []
     },
     "metadata": {},
     "output_type": "display_data"
    },
    {
     "data": {
      "text/html": [
       "<pre style=\"white-space:pre;overflow-x:auto;line-height:normal;font-family:Menlo,'DejaVu Sans Mono',consolas,'Courier New',monospace\"></pre>\n"
      ],
      "text/plain": []
     },
     "metadata": {},
     "output_type": "display_data"
    },
    {
     "data": {
      "text/html": [
       "<pre style=\"white-space:pre;overflow-x:auto;line-height:normal;font-family:Menlo,'DejaVu Sans Mono',consolas,'Courier New',monospace\"></pre>\n"
      ],
      "text/plain": []
     },
     "metadata": {},
     "output_type": "display_data"
    },
    {
     "data": {
      "text/html": [
       "<pre style=\"white-space:pre;overflow-x:auto;line-height:normal;font-family:Menlo,'DejaVu Sans Mono',consolas,'Courier New',monospace\"></pre>\n"
      ],
      "text/plain": []
     },
     "metadata": {},
     "output_type": "display_data"
    },
    {
     "data": {
      "text/html": [
       "<pre style=\"white-space:pre;overflow-x:auto;line-height:normal;font-family:Menlo,'DejaVu Sans Mono',consolas,'Courier New',monospace\"></pre>\n"
      ],
      "text/plain": []
     },
     "metadata": {},
     "output_type": "display_data"
    },
    {
     "data": {
      "text/html": [
       "<pre style=\"white-space:pre;overflow-x:auto;line-height:normal;font-family:Menlo,'DejaVu Sans Mono',consolas,'Courier New',monospace\"></pre>\n"
      ],
      "text/plain": []
     },
     "metadata": {},
     "output_type": "display_data"
    },
    {
     "data": {
      "text/html": [
       "<pre style=\"white-space:pre;overflow-x:auto;line-height:normal;font-family:Menlo,'DejaVu Sans Mono',consolas,'Courier New',monospace\"></pre>\n"
      ],
      "text/plain": []
     },
     "metadata": {},
     "output_type": "display_data"
    },
    {
     "data": {
      "text/html": [
       "<pre style=\"white-space:pre;overflow-x:auto;line-height:normal;font-family:Menlo,'DejaVu Sans Mono',consolas,'Courier New',monospace\"></pre>\n"
      ],
      "text/plain": []
     },
     "metadata": {},
     "output_type": "display_data"
    },
    {
     "data": {
      "text/html": [
       "<pre style=\"white-space:pre;overflow-x:auto;line-height:normal;font-family:Menlo,'DejaVu Sans Mono',consolas,'Courier New',monospace\"></pre>\n"
      ],
      "text/plain": []
     },
     "metadata": {},
     "output_type": "display_data"
    },
    {
     "data": {
      "text/html": [
       "<pre style=\"white-space:pre;overflow-x:auto;line-height:normal;font-family:Menlo,'DejaVu Sans Mono',consolas,'Courier New',monospace\"></pre>\n"
      ],
      "text/plain": []
     },
     "metadata": {},
     "output_type": "display_data"
    },
    {
     "data": {
      "text/html": [
       "<pre style=\"white-space:pre;overflow-x:auto;line-height:normal;font-family:Menlo,'DejaVu Sans Mono',consolas,'Courier New',monospace\"></pre>\n"
      ],
      "text/plain": []
     },
     "metadata": {},
     "output_type": "display_data"
    },
    {
     "data": {
      "text/html": [
       "<pre style=\"white-space:pre;overflow-x:auto;line-height:normal;font-family:Menlo,'DejaVu Sans Mono',consolas,'Courier New',monospace\"></pre>\n"
      ],
      "text/plain": []
     },
     "metadata": {},
     "output_type": "display_data"
    },
    {
     "data": {
      "text/html": [
       "<pre style=\"white-space:pre;overflow-x:auto;line-height:normal;font-family:Menlo,'DejaVu Sans Mono',consolas,'Courier New',monospace\"></pre>\n"
      ],
      "text/plain": []
     },
     "metadata": {},
     "output_type": "display_data"
    },
    {
     "data": {
      "text/html": [
       "<pre style=\"white-space:pre;overflow-x:auto;line-height:normal;font-family:Menlo,'DejaVu Sans Mono',consolas,'Courier New',monospace\"></pre>\n"
      ],
      "text/plain": []
     },
     "metadata": {},
     "output_type": "display_data"
    },
    {
     "data": {
      "text/html": [
       "<pre style=\"white-space:pre;overflow-x:auto;line-height:normal;font-family:Menlo,'DejaVu Sans Mono',consolas,'Courier New',monospace\"></pre>\n"
      ],
      "text/plain": []
     },
     "metadata": {},
     "output_type": "display_data"
    },
    {
     "data": {
      "text/html": [
       "<pre style=\"white-space:pre;overflow-x:auto;line-height:normal;font-family:Menlo,'DejaVu Sans Mono',consolas,'Courier New',monospace\"></pre>\n"
      ],
      "text/plain": []
     },
     "metadata": {},
     "output_type": "display_data"
    },
    {
     "data": {
      "text/html": [
       "<pre style=\"white-space:pre;overflow-x:auto;line-height:normal;font-family:Menlo,'DejaVu Sans Mono',consolas,'Courier New',monospace\"></pre>\n"
      ],
      "text/plain": []
     },
     "metadata": {},
     "output_type": "display_data"
    },
    {
     "data": {
      "text/html": [
       "<pre style=\"white-space:pre;overflow-x:auto;line-height:normal;font-family:Menlo,'DejaVu Sans Mono',consolas,'Courier New',monospace\"></pre>\n"
      ],
      "text/plain": []
     },
     "metadata": {},
     "output_type": "display_data"
    },
    {
     "data": {
      "text/html": [
       "<pre style=\"white-space:pre;overflow-x:auto;line-height:normal;font-family:Menlo,'DejaVu Sans Mono',consolas,'Courier New',monospace\"></pre>\n"
      ],
      "text/plain": []
     },
     "metadata": {},
     "output_type": "display_data"
    },
    {
     "data": {
      "text/html": [
       "<pre style=\"white-space:pre;overflow-x:auto;line-height:normal;font-family:Menlo,'DejaVu Sans Mono',consolas,'Courier New',monospace\"></pre>\n"
      ],
      "text/plain": []
     },
     "metadata": {},
     "output_type": "display_data"
    },
    {
     "data": {
      "text/html": [
       "<pre style=\"white-space:pre;overflow-x:auto;line-height:normal;font-family:Menlo,'DejaVu Sans Mono',consolas,'Courier New',monospace\"></pre>\n"
      ],
      "text/plain": []
     },
     "metadata": {},
     "output_type": "display_data"
    },
    {
     "data": {
      "text/html": [
       "<pre style=\"white-space:pre;overflow-x:auto;line-height:normal;font-family:Menlo,'DejaVu Sans Mono',consolas,'Courier New',monospace\"></pre>\n"
      ],
      "text/plain": []
     },
     "metadata": {},
     "output_type": "display_data"
    },
    {
     "data": {
      "text/html": [
       "<pre style=\"white-space:pre;overflow-x:auto;line-height:normal;font-family:Menlo,'DejaVu Sans Mono',consolas,'Courier New',monospace\"></pre>\n"
      ],
      "text/plain": []
     },
     "metadata": {},
     "output_type": "display_data"
    },
    {
     "data": {
      "text/html": [
       "<pre style=\"white-space:pre;overflow-x:auto;line-height:normal;font-family:Menlo,'DejaVu Sans Mono',consolas,'Courier New',monospace\"></pre>\n"
      ],
      "text/plain": []
     },
     "metadata": {},
     "output_type": "display_data"
    },
    {
     "data": {
      "text/html": [
       "<pre style=\"white-space:pre;overflow-x:auto;line-height:normal;font-family:Menlo,'DejaVu Sans Mono',consolas,'Courier New',monospace\"></pre>\n"
      ],
      "text/plain": []
     },
     "metadata": {},
     "output_type": "display_data"
    },
    {
     "data": {
      "text/html": [
       "<pre style=\"white-space:pre;overflow-x:auto;line-height:normal;font-family:Menlo,'DejaVu Sans Mono',consolas,'Courier New',monospace\"></pre>\n"
      ],
      "text/plain": []
     },
     "metadata": {},
     "output_type": "display_data"
    },
    {
     "data": {
      "text/html": [
       "<pre style=\"white-space:pre;overflow-x:auto;line-height:normal;font-family:Menlo,'DejaVu Sans Mono',consolas,'Courier New',monospace\"></pre>\n"
      ],
      "text/plain": []
     },
     "metadata": {},
     "output_type": "display_data"
    },
    {
     "data": {
      "text/html": [
       "<pre style=\"white-space:pre;overflow-x:auto;line-height:normal;font-family:Menlo,'DejaVu Sans Mono',consolas,'Courier New',monospace\"></pre>\n"
      ],
      "text/plain": []
     },
     "metadata": {},
     "output_type": "display_data"
    },
    {
     "data": {
      "text/html": [
       "<pre style=\"white-space:pre;overflow-x:auto;line-height:normal;font-family:Menlo,'DejaVu Sans Mono',consolas,'Courier New',monospace\"></pre>\n"
      ],
      "text/plain": []
     },
     "metadata": {},
     "output_type": "display_data"
    },
    {
     "data": {
      "text/html": [
       "<pre style=\"white-space:pre;overflow-x:auto;line-height:normal;font-family:Menlo,'DejaVu Sans Mono',consolas,'Courier New',monospace\"></pre>\n"
      ],
      "text/plain": []
     },
     "metadata": {},
     "output_type": "display_data"
    },
    {
     "data": {
      "text/html": [
       "<pre style=\"white-space:pre;overflow-x:auto;line-height:normal;font-family:Menlo,'DejaVu Sans Mono',consolas,'Courier New',monospace\"></pre>\n"
      ],
      "text/plain": []
     },
     "metadata": {},
     "output_type": "display_data"
    },
    {
     "data": {
      "text/html": [
       "<pre style=\"white-space:pre;overflow-x:auto;line-height:normal;font-family:Menlo,'DejaVu Sans Mono',consolas,'Courier New',monospace\"></pre>\n"
      ],
      "text/plain": []
     },
     "metadata": {},
     "output_type": "display_data"
    },
    {
     "data": {
      "text/html": [
       "<pre style=\"white-space:pre;overflow-x:auto;line-height:normal;font-family:Menlo,'DejaVu Sans Mono',consolas,'Courier New',monospace\"></pre>\n"
      ],
      "text/plain": []
     },
     "metadata": {},
     "output_type": "display_data"
    },
    {
     "data": {
      "text/html": [
       "<pre style=\"white-space:pre;overflow-x:auto;line-height:normal;font-family:Menlo,'DejaVu Sans Mono',consolas,'Courier New',monospace\"></pre>\n"
      ],
      "text/plain": []
     },
     "metadata": {},
     "output_type": "display_data"
    },
    {
     "data": {
      "text/html": [
       "<pre style=\"white-space:pre;overflow-x:auto;line-height:normal;font-family:Menlo,'DejaVu Sans Mono',consolas,'Courier New',monospace\"></pre>\n"
      ],
      "text/plain": []
     },
     "metadata": {},
     "output_type": "display_data"
    },
    {
     "data": {
      "text/html": [
       "<pre style=\"white-space:pre;overflow-x:auto;line-height:normal;font-family:Menlo,'DejaVu Sans Mono',consolas,'Courier New',monospace\"></pre>\n"
      ],
      "text/plain": []
     },
     "metadata": {},
     "output_type": "display_data"
    },
    {
     "data": {
      "text/html": [
       "<pre style=\"white-space:pre;overflow-x:auto;line-height:normal;font-family:Menlo,'DejaVu Sans Mono',consolas,'Courier New',monospace\"></pre>\n"
      ],
      "text/plain": []
     },
     "metadata": {},
     "output_type": "display_data"
    },
    {
     "data": {
      "text/html": [
       "<pre style=\"white-space:pre;overflow-x:auto;line-height:normal;font-family:Menlo,'DejaVu Sans Mono',consolas,'Courier New',monospace\"></pre>\n"
      ],
      "text/plain": []
     },
     "metadata": {},
     "output_type": "display_data"
    },
    {
     "data": {
      "text/html": [
       "<pre style=\"white-space:pre;overflow-x:auto;line-height:normal;font-family:Menlo,'DejaVu Sans Mono',consolas,'Courier New',monospace\"></pre>\n"
      ],
      "text/plain": []
     },
     "metadata": {},
     "output_type": "display_data"
    },
    {
     "data": {
      "text/html": [
       "<pre style=\"white-space:pre;overflow-x:auto;line-height:normal;font-family:Menlo,'DejaVu Sans Mono',consolas,'Courier New',monospace\"></pre>\n"
      ],
      "text/plain": []
     },
     "metadata": {},
     "output_type": "display_data"
    },
    {
     "data": {
      "text/html": [
       "<pre style=\"white-space:pre;overflow-x:auto;line-height:normal;font-family:Menlo,'DejaVu Sans Mono',consolas,'Courier New',monospace\"></pre>\n"
      ],
      "text/plain": []
     },
     "metadata": {},
     "output_type": "display_data"
    },
    {
     "data": {
      "text/html": [
       "<pre style=\"white-space:pre;overflow-x:auto;line-height:normal;font-family:Menlo,'DejaVu Sans Mono',consolas,'Courier New',monospace\"></pre>\n"
      ],
      "text/plain": []
     },
     "metadata": {},
     "output_type": "display_data"
    },
    {
     "data": {
      "text/html": [
       "<pre style=\"white-space:pre;overflow-x:auto;line-height:normal;font-family:Menlo,'DejaVu Sans Mono',consolas,'Courier New',monospace\"></pre>\n"
      ],
      "text/plain": []
     },
     "metadata": {},
     "output_type": "display_data"
    },
    {
     "data": {
      "text/html": [
       "<pre style=\"white-space:pre;overflow-x:auto;line-height:normal;font-family:Menlo,'DejaVu Sans Mono',consolas,'Courier New',monospace\"></pre>\n"
      ],
      "text/plain": []
     },
     "metadata": {},
     "output_type": "display_data"
    },
    {
     "data": {
      "text/html": [
       "<pre style=\"white-space:pre;overflow-x:auto;line-height:normal;font-family:Menlo,'DejaVu Sans Mono',consolas,'Courier New',monospace\"></pre>\n"
      ],
      "text/plain": []
     },
     "metadata": {},
     "output_type": "display_data"
    },
    {
     "data": {
      "text/html": [
       "<pre style=\"white-space:pre;overflow-x:auto;line-height:normal;font-family:Menlo,'DejaVu Sans Mono',consolas,'Courier New',monospace\"></pre>\n"
      ],
      "text/plain": []
     },
     "metadata": {},
     "output_type": "display_data"
    },
    {
     "data": {
      "text/html": [
       "<pre style=\"white-space:pre;overflow-x:auto;line-height:normal;font-family:Menlo,'DejaVu Sans Mono',consolas,'Courier New',monospace\"></pre>\n"
      ],
      "text/plain": []
     },
     "metadata": {},
     "output_type": "display_data"
    },
    {
     "data": {
      "text/html": [
       "<pre style=\"white-space:pre;overflow-x:auto;line-height:normal;font-family:Menlo,'DejaVu Sans Mono',consolas,'Courier New',monospace\"></pre>\n"
      ],
      "text/plain": []
     },
     "metadata": {},
     "output_type": "display_data"
    },
    {
     "data": {
      "text/html": [
       "<pre style=\"white-space:pre;overflow-x:auto;line-height:normal;font-family:Menlo,'DejaVu Sans Mono',consolas,'Courier New',monospace\"></pre>\n"
      ],
      "text/plain": []
     },
     "metadata": {},
     "output_type": "display_data"
    },
    {
     "data": {
      "text/html": [
       "<pre style=\"white-space:pre;overflow-x:auto;line-height:normal;font-family:Menlo,'DejaVu Sans Mono',consolas,'Courier New',monospace\"></pre>\n"
      ],
      "text/plain": []
     },
     "metadata": {},
     "output_type": "display_data"
    },
    {
     "data": {
      "text/html": [
       "<pre style=\"white-space:pre;overflow-x:auto;line-height:normal;font-family:Menlo,'DejaVu Sans Mono',consolas,'Courier New',monospace\"></pre>\n"
      ],
      "text/plain": []
     },
     "metadata": {},
     "output_type": "display_data"
    },
    {
     "data": {
      "text/html": [
       "<pre style=\"white-space:pre;overflow-x:auto;line-height:normal;font-family:Menlo,'DejaVu Sans Mono',consolas,'Courier New',monospace\"></pre>\n"
      ],
      "text/plain": []
     },
     "metadata": {},
     "output_type": "display_data"
    },
    {
     "data": {
      "text/html": [
       "<pre style=\"white-space:pre;overflow-x:auto;line-height:normal;font-family:Menlo,'DejaVu Sans Mono',consolas,'Courier New',monospace\"></pre>\n"
      ],
      "text/plain": []
     },
     "metadata": {},
     "output_type": "display_data"
    },
    {
     "data": {
      "text/html": [
       "<pre style=\"white-space:pre;overflow-x:auto;line-height:normal;font-family:Menlo,'DejaVu Sans Mono',consolas,'Courier New',monospace\"></pre>\n"
      ],
      "text/plain": []
     },
     "metadata": {},
     "output_type": "display_data"
    },
    {
     "data": {
      "text/html": [
       "<pre style=\"white-space:pre;overflow-x:auto;line-height:normal;font-family:Menlo,'DejaVu Sans Mono',consolas,'Courier New',monospace\"></pre>\n"
      ],
      "text/plain": []
     },
     "metadata": {},
     "output_type": "display_data"
    },
    {
     "data": {
      "text/html": [
       "<pre style=\"white-space:pre;overflow-x:auto;line-height:normal;font-family:Menlo,'DejaVu Sans Mono',consolas,'Courier New',monospace\"></pre>\n"
      ],
      "text/plain": []
     },
     "metadata": {},
     "output_type": "display_data"
    },
    {
     "data": {
      "text/html": [
       "<pre style=\"white-space:pre;overflow-x:auto;line-height:normal;font-family:Menlo,'DejaVu Sans Mono',consolas,'Courier New',monospace\"></pre>\n"
      ],
      "text/plain": []
     },
     "metadata": {},
     "output_type": "display_data"
    },
    {
     "data": {
      "text/html": [
       "<pre style=\"white-space:pre;overflow-x:auto;line-height:normal;font-family:Menlo,'DejaVu Sans Mono',consolas,'Courier New',monospace\"></pre>\n"
      ],
      "text/plain": []
     },
     "metadata": {},
     "output_type": "display_data"
    },
    {
     "data": {
      "text/html": [
       "<pre style=\"white-space:pre;overflow-x:auto;line-height:normal;font-family:Menlo,'DejaVu Sans Mono',consolas,'Courier New',monospace\"></pre>\n"
      ],
      "text/plain": []
     },
     "metadata": {},
     "output_type": "display_data"
    },
    {
     "data": {
      "text/html": [
       "<pre style=\"white-space:pre;overflow-x:auto;line-height:normal;font-family:Menlo,'DejaVu Sans Mono',consolas,'Courier New',monospace\"></pre>\n"
      ],
      "text/plain": []
     },
     "metadata": {},
     "output_type": "display_data"
    },
    {
     "data": {
      "text/html": [
       "<pre style=\"white-space:pre;overflow-x:auto;line-height:normal;font-family:Menlo,'DejaVu Sans Mono',consolas,'Courier New',monospace\"></pre>\n"
      ],
      "text/plain": []
     },
     "metadata": {},
     "output_type": "display_data"
    },
    {
     "data": {
      "text/html": [
       "<pre style=\"white-space:pre;overflow-x:auto;line-height:normal;font-family:Menlo,'DejaVu Sans Mono',consolas,'Courier New',monospace\"></pre>\n"
      ],
      "text/plain": []
     },
     "metadata": {},
     "output_type": "display_data"
    },
    {
     "data": {
      "text/html": [
       "<pre style=\"white-space:pre;overflow-x:auto;line-height:normal;font-family:Menlo,'DejaVu Sans Mono',consolas,'Courier New',monospace\"></pre>\n"
      ],
      "text/plain": []
     },
     "metadata": {},
     "output_type": "display_data"
    },
    {
     "data": {
      "text/html": [
       "<pre style=\"white-space:pre;overflow-x:auto;line-height:normal;font-family:Menlo,'DejaVu Sans Mono',consolas,'Courier New',monospace\"></pre>\n"
      ],
      "text/plain": []
     },
     "metadata": {},
     "output_type": "display_data"
    },
    {
     "data": {
      "text/html": [
       "<pre style=\"white-space:pre;overflow-x:auto;line-height:normal;font-family:Menlo,'DejaVu Sans Mono',consolas,'Courier New',monospace\"></pre>\n"
      ],
      "text/plain": []
     },
     "metadata": {},
     "output_type": "display_data"
    },
    {
     "data": {
      "text/html": [
       "<pre style=\"white-space:pre;overflow-x:auto;line-height:normal;font-family:Menlo,'DejaVu Sans Mono',consolas,'Courier New',monospace\"></pre>\n"
      ],
      "text/plain": []
     },
     "metadata": {},
     "output_type": "display_data"
    },
    {
     "data": {
      "text/html": [
       "<pre style=\"white-space:pre;overflow-x:auto;line-height:normal;font-family:Menlo,'DejaVu Sans Mono',consolas,'Courier New',monospace\"></pre>\n"
      ],
      "text/plain": []
     },
     "metadata": {},
     "output_type": "display_data"
    },
    {
     "data": {
      "text/html": [
       "<pre style=\"white-space:pre;overflow-x:auto;line-height:normal;font-family:Menlo,'DejaVu Sans Mono',consolas,'Courier New',monospace\"></pre>\n"
      ],
      "text/plain": []
     },
     "metadata": {},
     "output_type": "display_data"
    },
    {
     "data": {
      "text/html": [
       "<pre style=\"white-space:pre;overflow-x:auto;line-height:normal;font-family:Menlo,'DejaVu Sans Mono',consolas,'Courier New',monospace\"></pre>\n"
      ],
      "text/plain": []
     },
     "metadata": {},
     "output_type": "display_data"
    },
    {
     "data": {
      "text/html": [
       "<pre style=\"white-space:pre;overflow-x:auto;line-height:normal;font-family:Menlo,'DejaVu Sans Mono',consolas,'Courier New',monospace\"></pre>\n"
      ],
      "text/plain": []
     },
     "metadata": {},
     "output_type": "display_data"
    },
    {
     "data": {
      "text/html": [
       "<pre style=\"white-space:pre;overflow-x:auto;line-height:normal;font-family:Menlo,'DejaVu Sans Mono',consolas,'Courier New',monospace\"></pre>\n"
      ],
      "text/plain": []
     },
     "metadata": {},
     "output_type": "display_data"
    },
    {
     "data": {
      "text/html": [
       "<pre style=\"white-space:pre;overflow-x:auto;line-height:normal;font-family:Menlo,'DejaVu Sans Mono',consolas,'Courier New',monospace\"></pre>\n"
      ],
      "text/plain": []
     },
     "metadata": {},
     "output_type": "display_data"
    },
    {
     "data": {
      "text/html": [
       "<pre style=\"white-space:pre;overflow-x:auto;line-height:normal;font-family:Menlo,'DejaVu Sans Mono',consolas,'Courier New',monospace\"></pre>\n"
      ],
      "text/plain": []
     },
     "metadata": {},
     "output_type": "display_data"
    },
    {
     "data": {
      "text/html": [
       "<pre style=\"white-space:pre;overflow-x:auto;line-height:normal;font-family:Menlo,'DejaVu Sans Mono',consolas,'Courier New',monospace\"></pre>\n"
      ],
      "text/plain": []
     },
     "metadata": {},
     "output_type": "display_data"
    },
    {
     "data": {
      "text/html": [
       "<pre style=\"white-space:pre;overflow-x:auto;line-height:normal;font-family:Menlo,'DejaVu Sans Mono',consolas,'Courier New',monospace\"></pre>\n"
      ],
      "text/plain": []
     },
     "metadata": {},
     "output_type": "display_data"
    },
    {
     "data": {
      "text/html": [
       "<pre style=\"white-space:pre;overflow-x:auto;line-height:normal;font-family:Menlo,'DejaVu Sans Mono',consolas,'Courier New',monospace\"></pre>\n"
      ],
      "text/plain": []
     },
     "metadata": {},
     "output_type": "display_data"
    },
    {
     "name": "stdout",
     "output_type": "stream",
     "text": [
      "New Model Scores: [0.18807970764133558, 0.1952574124802879, 0.19890130559121316, 0.25, 0.19399133515091155, 0.20758581873336315, 0.20070006516916536, 0.512097041916076, 0.25, 0.277729987149254, 0.13208213073183842, 0.10758581852443776, 0.10373268892182123, 0.10373268839975532, 0.09706877698846184, 0.1, 0.1, 0.10229773702863632, 0.10373268838636902, 0.1966615486368886, 0.19770226314280637, 0.1992999349904389, 0.26013242076506676, 0.19859363731633717, 0.1377540675801802, 0.20000000000000004, 0.20474258741873436, 0.20953494584723922, 0.19241418231126367, 0.20179862069353516, 0.0, 0.0, 0.0, 0.0, 0.09046505286741727, 0.1, 0.0, 0.022270014398423358, 0.0, 0.0]\n",
      "Base Model Scores: [0.28506347230854856, 0.2970637542742415, 0.20179862106858773, 0.28698864638409305, 0.3073008942459313, 0.21480472036701054, 0.19241418241572636, 0.343466732515267, 0.19241418163225626, 0.2850634719832917, 0.14999999999999997, 0.1095349469397812, 0.14378234991142017, 0.18175744806385544, 0.11480472036701053, 0.10229773676520001, 0.1622459338205511, 0.1777299850856842, 0.1268941415510503, 0.12227001439842336, 0.19859363738348773, 0.20600866556441583, 0.1679178686187839, 0.1777299866333616, 0.23208212943308298, 0.20193536651979943, 0.21824255215839009, 0.19706877694606353, 0.1904650538956921, 0.2, 0.09241418210233832, 0.0, 0.1, 0.0, 0.1, 0.0, 0.0, 0.0014063627262776185, 0.09706877717395443, 0.0017986211541260618]\n"
     ]
    }
   ],
   "source": [
    "#TODO: the flat version does not make tons of sense at the moment, double-check\n",
    "\n",
    "# Store results\n",
    "scores_new, reasons_new = [], []\n",
    "scores_base, reasons_base = [], []\n",
    "\n",
    "# print(len(candidates_new_flat))\n",
    "\n",
    "# Evaluate each prompt individually\n",
    "for i, (new_out, base_out, ref) in enumerate(zip(candidates_new_flat, candidates_base_flat, references_flat)):\n",
    "\n",
    "    prompt = prompts[i // NUM_RESPONSES_EVAL]\n",
    " \n",
    "    # New model evaluation\n",
    "    g_eval_new = LLMTestCase(\n",
    "        input=prompt,\n",
    "        actual_output=f\"Extracted Preconditions: {new_out}\",\n",
    "        expected_output=f\"Expected Preconditions: {ref}\"\n",
    "    )\n",
    "    precondition_extraction_metric.measure(g_eval_new)\n",
    "    scores_new.append(precondition_extraction_metric.score)\n",
    "    reasons_new.append(precondition_extraction_metric.reason)\n",
    "\n",
    "    # Base model evaluation\n",
    "    g_eval_base = LLMTestCase(\n",
    "        input=prompt,\n",
    "        actual_output=f\"Extracted Preconditions: {base_out}\",\n",
    "        expected_output=f\"Expected Preconditions: {ref}\"\n",
    "    )   \n",
    "    precondition_extraction_metric.measure(g_eval_base)\n",
    "    scores_base.append(precondition_extraction_metric.score)\n",
    "    reasons_base.append(precondition_extraction_metric.reason)\n",
    "\n",
    "# Optionally: print or analyze results\n",
    "print(\"New Model Scores:\", scores_new)\n",
    "print(\"Base Model Scores:\", scores_base)"
   ]
  },
  {
   "cell_type": "code",
   "execution_count": 24,
   "id": "fbd333f1",
   "metadata": {},
   "outputs": [
    {
     "name": "stdout",
     "output_type": "stream",
     "text": [
      "New Model Scores average: 0.1458986119695314\n",
      "Base Model Scores average: 0.1595106983601926\n",
      "[\"De drie verwachte subfacts zijn inhoudelijk wel herkend in de Actual Output, maar de posities zijn volledig onjuist: alle subfacts worden geplaatst in Artikel 4.3, vierde lid van 'Rijksbegroting 2016', terwijl ze volgens de Expected Output in Artikel 2.23, sectie 4a-c van de Comptabiliteitswet 2016 horen. De namen van de subfacts zijn bovendien minder volledig geformuleerd dan in de Expected Output. De extractie is dus incompleet qua precisie en de positieaanduiding is onjuist en onduidelijk.\", 'De Actual Output bevat de drie gevraagde subfacts qua naam, maar de posities zijn volledig onjuist: alle subfacts worden geplaatst in Artikel 4.4, vierde lid, terwijl ze volgens de Expected Output in Artikel 2.23, sectie 4a, 4b en 4c van de Comptabiliteitswet 2016 horen. De inhoud van de subfacts is bovendien te summier en niet volledig geformuleerd zoals in de Expected Output. Hierdoor is de extractie onvolledig en de positieaanduiding onjuist, wat slechts minimale punten oplevert.', 'De drie verwachte subfacts zijn qua inhoud globaal herkend, maar de posities zijn volledig onjuist: alle subfacts worden aan Artikel 4.4 gekoppeld, terwijl ze in werkelijkheid in Artikel 2.23 lid 4a, 4b en 4c van de Comptabiliteitswet 2016 staan. De formuleringen van de subfacts zijn minder volledig dan verwacht. De extractie is dus incompleet en de positieaanduiding is onjuist, wat slechts minimale punten rechtvaardigt.', 'De drie verwachte subfacts zijn inhoudelijk herkend in de Actual Output, maar de posities zijn onjuist: de artikelen en secties komen niet overeen met de Expected Output (Actual Output noemt Artikel 4.3.4.(b)/(c) in de Rijksbegrotingwet 2016, terwijl het Artikel 2.23, sectie 4a/b/c in de Comptabiliteitswet 2016 moet zijn). Ook de naam van de wet is fout. De extractie is dus incompleet qua positionering, ondanks dat de subfacts zelf wel aanwezig zijn.', \"De drie gevraagde subfacts zijn wel herkend qua inhoud (budgettaire totaalbeeld, budgettaire beschouwingen, overzicht van uitgaven en ontvangsten), maar de posities zijn volledig onjuist: ze worden allemaal aan 'Artikel 2.4.4.d IN Rijksbegrotingsvoorschriften 2024' gekoppeld, terwijl ze volgens de Expected Output in Artikel 2.23, sectie 4a-c van de Comptabiliteitswet 2016 horen. Er is dus herkenning van de juiste subfacts, maar de extractie van de posities en de bron is onvolledig en onjuist, wat zwaar weegt in de beoordeling.\", 'De drie verwachte subfacts zijn inhoudelijk aanwezig in de Actual Output, maar de posities zijn volledig onjuist: alle subfacts worden geplaatst in Artikel 4.4.4, Hoofdstuk 4 van de Rijksbegroting 2016, terwijl ze volgens de Expected Output in Artikel 2.23, sectie 4a-c van de Comptabiliteitswet 2016 moeten staan. De namen van de wetten zijn ook onjuist. De extractie van de subfacts is oppervlakkig correct, maar de positionering is volledig fout, wat zwaar weegt in de beoordeling.', \"Alle drie de verwachte subfacts zijn qua inhoud globaal herkend in de Actual Output, maar de formuleringen zijn minder volledig en missen belangrijke details zoals 'voor het betrokken begrotingsjaar en de vier daaropvolgende jaren' en 'voor de collectieve sector'. De posities zijn volledig onjuist: in plaats van Artikel 2.23 lid 4a-c van de Comptabiliteitswet 2016, worden niet-bestaande artikelen en de verkeerde wet (Rijksbegrotingsvoorschriften 2024) genoemd. De extractie is dus incompleet en de positieaanduiding is onjuist, wat slechts minimale punten rechtvaardigt.\", \"Alle drie de verwachte subfacts zijn aanwezig in de Actual Output, maar de formuleringen zijn minder volledig dan in de Expected Output (bijvoorbeeld ontbreekt bij het budgettaire totaalbeeld de verwijzing naar de jaren en de budgetdisciplinesectoren). De posities zijn niet correct: er wordt verwezen naar 'Artikel 2.4.4.(a/b/c)', terwijl het juiste artikel 2.23 lid 4a/b/c is. De wetstekstnaam is wel correct. De extractie is dus onvolledig qua formulering en de positieaanduiding is onjuist, wat leidt tot een matige score.\", \"De drie gevraagde subfacts zijn wel herkend in de Actual Output, maar de posities zijn onjuist: de artikelen en secties komen niet overeen met de Expected Output (Actual Output noemt 'Artikel 2.4.4, sectie 4' en 'Artikel 4.4, sectie 4' in 'Rijksbegroting 2016', terwijl het 'Artikel 2.23 sectie 4a/b/c' in 'Comptabiliteitswet 2016' moet zijn). Ook zijn de subfacts niet volledig geformuleerd zoals in de Expected Output. De extractie is dus onvolledig en de positieaanduiding is onduidelijk en incorrect.\", 'De drie verwachte subfacts zijn in de Actual Output aanwezig, maar de inhoud is te algemeen geformuleerd en wijkt af van de precieze formulering in de Expected Output. De posities zijn grotendeels onjuist: de juiste locatie is Artikel 2.23, lid 4a/b/c van de Comptabiliteitswet 2016, maar de Actual Output noemt verkeerde artikelnummers (2.4, 2.24, 2.23) en geen secties. De wetnaam is soms verkeerd gespeld. De extractie is incompleet qua precisie en de positieaanduiding is onduidelijk of foutief, wat leidt tot een lage score ondanks dat de juiste subfacts globaal zijn herkend.', 'De Actual Output bevat drie precondities uit artikel 16, terwijl de Expected Output precondities uit artikel 26 verwacht. Geen van de verwachte precondities is aanwezig in de Actual Output. De posities en inhoud van de precondities komen niet overeen met de Expected Output. Er is dus vrijwel geen overlap, behalve dat de output wel precondities uit de juiste wet noemt.', 'De Actual Output bevat geen van de twee verwachte precondities uit de Expected Output. De verwachte precondities zijn beide gebaseerd op Artikel 26, sectie 1 van de Vreemdelingenwet 2024, terwijl de Actual Output uitsluitend precondities uit Artikel 16 en 14 noemt. Er is dus geen overlap in inhoud of positie. De extractie is volledig onjuist ten opzichte van de opdracht, waardoor de score zeer laag uitvalt.', 'Geen van de precondities uit de Expected Output is correct geëxtraheerd in de Actual Output. De verwachte precondities uit artikel 26, sectie 1 van de Vreemdelingenwet 2024 worden niet genoemd. De gepresenteerde precondities in de Actual Output komen uit andere artikelen of zijn onjuist geformuleerd, en de posities komen niet overeen met de verwachte posities. Er is dus vrijwel geen overlap of correcte extractie, wat slechts minimale punten rechtvaardigt.', 'De Actual Output bevat geen van de twee verwachte precondities uit de Expected Output. In plaats daarvan worden drie andere precondities uit artikel 16 genoemd, terwijl de Expected Output precondities uit artikel 26 vereist. Er is dus geen overlap in inhoud of positie, wat betekent dat de extractie niet overeenkomt met de opdracht. De volledigheid en duidelijkheid van de positieaanduiding zijn niet relevant omdat de juiste precondities ontbreken.', 'De Actual Output bevat geen van de twee verwachte precondities uit de Expected Output. In plaats daarvan worden drie andere precondities uit een andere wet (Algemene wet bestuursrecht) genoemd, terwijl de Expected Output precondities uit de Vreemdelingenwet 2024 vereist. Er is dus geen overeenstemming qua inhoud of positie, wat resulteert in een zeer lage score.', 'De Actual Output bevat geen van de verwachte precondities uit de Expected Output. De verwachte precondities gaan over het moment van verlening van de verblijfsvergunning (Artikel 26, sectie 1, Vreemdelingenwet 2024), terwijl de Actual Output precondities uit artikel 14 noemt die niet relevant zijn voor deze specifieke act. Er is dus geen correcte extractie of juiste positievermelding. Er is minimale relevantie, maar geen enkele juiste match.', 'De Actual Output bevat geen van de verwachte precondities uit de Expected Output. De verwachte precondities zijn beide afkomstig uit Artikel 26, sectie 1 van de Vreemdelingenwet 2024, maar de Actual Output noemt precondities uit Artikel 16 en 17, die niet overeenkomen met de gevraagde. Er is dus geen correcte extractie of juiste positieaanduiding. De volledigheid en duidelijkheid van de extractie zijn daardoor zeer laag.', 'De Actual Output bevat geen van de twee verwachte precondities uit de Expected Output. De verwachte precondities gaan over het moment van verlening van de verblijfsvergunning (na aantonen voldoen aan alle voorwaarden en niet eerder dan ontvangst aanvraag, beide uit Artikel 26, sectie 1 Vreemdelingenwet 2024). De Actual Output noemt andere voorwaarden (zoals middelen van bestaan, voorlopig verblijfsbewijs, gevaar voor openbare orde) en verwijst naar andere artikelen (14 en 16), niet naar Artikel 26. Er is dus geen correcte extractie of juiste positieaanduiding voor de gevraagde precondities.', 'De Actual Output bevat geen van de twee verwachte precondities uit de Expected Output. In plaats daarvan worden precondities uit artikel 16 genoemd, terwijl de Expected Output precondities uit artikel 26 vereist. Er is dus geen overlap in inhoud of positie, en de volledigheid en duidelijkheid van de extractie zijn daardoor zeer laag.', \"De Expected Output bevat twee specifieke precondities uit Artikel 26, sectie 1 van de Vreemdelingenwet 2024, namelijk het aantonen dat aan alle voorwaarden is voldaan en dat de vergunning niet eerder wordt verleend dan de dag van ontvangst van de aanvraag. In de Actual Output wordt slechts één van deze precondities gedeeltelijk genoemd ('De vreemdeling moet aan alle voorwaarden van de aanvraag voldoen'), met een correcte verwijzing naar Artikel 26, Vreemdelingenwet, maar zonder sectienummer. De tweede preconditie over de ingangsdatum ontbreekt volledig. Daarnaast worden meerdere irrelevante of foutieve precondities uit andere artikelen en zelfs uit de verkeerde wet (Algemene wet bestuursrecht) genoemd. De extractie is dus onvolledig en de positieaanduiding is slechts deels correct.\", 'De verwachte preconditie is dat de begroting een begrotingsstaat bevat (Artikel 2.2 Comptabiliteitswet 2016). In de Actual Output worden andere precondities genoemd, namelijk het tijdstip van opstellen en wie verantwoordelijk is, maar niet dat de begroting een begrotingsstaat moet bevatten. De juiste preconditie ontbreekt volledig, waardoor er nauwelijks overeenstemming is met de Expected Output. Er is dus geen correcte extractie of juiste positieaanduiding voor de gevraagde preconditie.', \"De Expected Output vraagt om de preconditie 'Begroting bevat begrotingsstaat' uit Artikel 2.2 van de Comptabiliteitswet 2016. In de Actual Output worden twee andere precondities genoemd, namelijk dat ministers voor de aanvang van het begrotingsjaar een begroting opstellen (met een foutieve positie: Artikel 2.2 i.p.v. Artikel 2.1, tweede lid) en dat er voor elk ministerie een begroting is (Artikel 2.1, derde lid). De gevraagde preconditie uit Artikel 2.2 wordt niet genoemd, noch wordt de juiste inhoud of positie geëxtraheerd. Er is dus nauwelijks overlap met de Expected Output, maar er is enige relevantie omdat de output wel precondities rond het opstellen van de begroting probeert te extraheren.\", \"De Expected Output vraagt om de preconditie dat de begroting een begrotingsstaat bevat, met als positie Artikel 2.2 IN Comptabiliteitswet 2016. In de Actual Output wordt deze preconditie niet expliciet genoemd; in plaats daarvan worden andere precondities genoemd, zoals wie de begroting opstelt en het aantal begrotingen per ministerie. Wel wordt in de eerste preconditie verwezen naar Artikel 2.2, maar de inhoud ('ieder minister stelt een begroting op') komt niet overeen met de verwachte preconditie ('begroting bevat begrotingsstaat'). De positieaanduiding is deels correct, maar de inhoud van de preconditie is onjuist. Daarom is de extractie onvolledig en de positieaanduiding slechts deels juist.\", 'De verwachte preconditie is dat de begroting een begrotingsstaat moet bevatten (Artikel 2.2 IN Comptabiliteitswet 2016), maar de output noemt alleen dat de minister voor de aanvang van het begrotingsjaar een begroting opstelt (Artikel 2.1.1). De juiste preconditie wordt niet geëxtraheerd en de positie komt niet overeen met de verwachte output. Er is dus nauwelijks overlap met de evaluatiestappen, behalve dat er een poging is gedaan om een preconditie en positie te geven.', 'De verwachte preconditie is dat de begroting een begrotingsstaat bevat (Artikel 2.2, Comptabiliteitswet 2016). Geen van de in de Actual Output genoemde precondities komt overeen met deze inhoud of positie; alle genoemde precondities gaan over het opstellen van begrotingen, niet over de vereiste inhoud (begrotingsstaat). Er is dus geen juiste extractie of correcte positieaanduiding. Er is wel enige relevantie qua onderwerp, maar geen enkele preconditie uit de Expected Output is correct gevonden.', \"De Expected Output vraagt om de preconditie dat de begroting een begrotingsstaat bevat (Artikel 2.2 IN Comptabiliteitswet 2016). In de Actual Output wordt deze preconditie niet expliciet genoemd; de dichtstbijzijnde is 'De ministers verantwoordelijk zijn voor het opstellen van de begroting' met een onjuiste positie (Artikel 2.2, eerste lid). Andere genoemde precondities zijn irrelevante of incorrecte extracties. De juiste preconditie ontbreekt, en de posities zijn niet accuraat. Er is dus nauwelijks overeenstemming met de evaluatiestappen.\", 'De Expected Output vraagt om de preconditie dat de begroting een begrotingsstaat bevat (Artikel 2.2 IN Comptabiliteitswet 2016). De Actual Output noemt echter alleen dat ministers voor de aanvang van het begrotingsjaar een begroting opstellen (Artikel 2.1), wat niet overeenkomt met de verwachte preconditie en positie. De juiste preconditie en locatie ontbreken volledig, waardoor de extractie onvolledig is en de positieaanduiding niet overeenkomt met de verwachting.', \"De Expected Output vraagt om de preconditie 'Begroting bevat begrotingsstaat' uit Artikel 2.2 van de Comptabiliteitswet 2016. De Actual Output noemt in plaats daarvan een andere preconditie uit Artikel 2.2, tweede lid, die niet overeenkomt met de verwachte preconditie. De juiste preconditie en positie zijn dus niet correct geëxtraheerd. Er is geen volledigheid of duidelijkheid in de extractie van de gevraagde preconditie, wat resulteert in een lage score.\", 'De enige verwachte preconditie is dat de begroting een begrotingsstaat bevat (Artikel 2.2 IN Comptabiliteitswet 2016). Geen van de precondities in de Actual Output komt overeen met deze inhoud of positie; alle genoemde precondities gaan over wie een begroting opstelt of over de soorten begrotingen, niet over de vereiste van een begrotingsstaat. Er is dus geen juiste extractie, maar de output bevat wel relevante tekstfragmenten uit de wet, wat een minimale relevantie oplevert.', 'De Expected Output vraagt om de preconditie dat de begroting een begrotingsstaat bevat, met als positie Artikel 2.2 in de Comptabiliteitswet 2016. In de Actual Output worden echter twee andere precondities genoemd die niet overeenkomen met de gevraagde preconditie. Daarnaast zijn de posities onjuist: er wordt verwezen naar 2.2, eerste lid en 2.5, terwijl alleen Artikel 2.2 relevant is. Er is dus geen juiste extractie van de gevraagde preconditie en de positieaanduiding is niet correct. Er is minimale overlap in verwijzing naar Artikel 2.2, maar de inhoud en specificiteit ontbreken.', 'De Actual Output bevat geen enkele van de verwachte precondities uit de Expected Output. De precondities zijn afkomstig uit de verkeerde wet (Wet op de algemene bijstand of Wet op de financiële verhoudingen), terwijl de Expected Output uitsluitend precondities uit de Participatiewet vereist. Daarnaast komen de genoemde posities en inhoud van de precondities niet overeen met de verwachte precondities en hun posities. Er is dus geen enkele correcte extractie of juiste positionering aanwezig.', 'De Expected Output bevat twintig specifieke precondities uit de Participatiewet, elk met een duidelijke positieaanduiding (artikel en sectie). De Actual Output bevat geen enkele van deze precondities, noch worden de juiste posities of de juiste wet (Participatiewet) genoemd. In plaats daarvan worden irrelevante bepalingen uit de Comptabiliteitswet 2016 en de Rijksbegrotingsvoorschriften 2024 genoemd, die niet aansluiten bij de gevraagde act of de relevante precondities. Er is dus geen enkele overlap of correcte extractie.', 'De Actual Output bevat geen enkele van de verwachte precondities uit de Expected Output. Alle precondities in de Expected Output verwijzen naar de Participatiewet, terwijl de Actual Output uitsluitend irrelevante precondities uit de Comptabiliteitswet 2016 noemt. Er is geen enkele overlap in inhoud of positie, en geen enkele preconditie is correct geëxtraheerd of gepositioneerd. De extractie is dus volledig onvolledig en niet relevant voor de gevraagde act.', 'De verwachte output bevat 20 specifieke precondities uit de Participatiewet met bijbehorende posities, terwijl de daadwerkelijke output slechts twee irrelevante en incorrecte precondities uit de Comptabiliteitswet 2016 noemt. Geen enkele verwachte preconditie is correct geëxtraheerd of gepositioneerd. Er is geen overlap tussen de gevonden en verwachte precondities, noch zijn de posities of de juiste wetstekst gebruikt. De extractie is dus volledig onvolledig en niet relevant.', \"De verwachte precondities zijn allemaal afkomstig uit de Participatiewet en gaan specifiek over het weigeren van recht op algemene bijstand, met duidelijke verwijzingen naar relevante artikelen en secties. De Actual Output bevat geen enkele preconditie uit de Participatiewet, maar noemt in plaats daarvan irrelevante of niet-bestaande precondities uit andere wetten en beleidsnotities, vaak met onjuiste of niet-bestaande posities. Er is geen enkele match qua inhoud of positie met de Expected Output. Slechts één preconditie ('De kandidaat is niet eerder weigerd algemene bijstand') lijkt vaag gerelateerd, maar is onvolledig, onduidelijk en niet correct gepositioneerd. De extractie is dus vrijwel volledig onjuist en onvolledig.\", 'De meeste precondities uit de Expected Output (Participatiewet, artikelen 11, 13, 19, 43, 44) zijn niet aanwezig in de Actual Output. De Actual Output bevat precondities uit de Wet algemene bijstand en de Comptabiliteitswet 2016, die niet relevant zijn voor de gevraagde act en context. Posities en wetsteksten komen niet overeen met de Expected Output. Slechts enkele algemene concepten (zoals woonplaats of nationaliteit) zijn vaag gerelateerd, maar niet correct gepositioneerd of geformuleerd. De extractie is dus vrijwel volledig onjuist en onvolledig.', \"De Actual Output bevat uitsluitend precondities uit de Wet arbeidsongeschiktheidsregeling 2013, terwijl de Expected Output precondities uit de Participatiewet vereist voor de act 'weigeren recht op algemene bijstand'. Geen enkele verwachte preconditie is aanwezig, noch zijn de posities of wetsartikelen correct. Er is geen enkele overlap met de gevraagde precondities of relevante wetstekst, waardoor de extractie volledig onjuist is.\", \"Geen enkele van de verwachte precondities uit de Participatiewet is geëxtraheerd in de Actual Output. De gegeven precondities zijn afkomstig uit de Comptabiliteitswet 2016 en zijn niet relevant voor de act 'weigeren recht op algemene bijstand'. Ook de posities en wetsteksten komen niet overeen met de Expected Output. Er is dus geen enkele overlap of correcte extractie.\", 'De verwachte precondities zijn allemaal afkomstig uit de Participatiewet en hebben betrekking op het weigeren van recht op algemene bijstand. De daadwerkelijke output bevat uitsluitend precondities uit de Comptabiliteitswet 2016 en Begrotingsvoorschriften 2024, die niet relevant zijn voor de gevraagde act. Geen enkele verwachte preconditie is aanwezig in de output, noch zijn de posities of de wetstekst correct. Er is dus geen enkele overlap of correcte extractie.', 'De Actual Output bevat geen enkele van de verwachte precondities uit de Expected Output. De precondities zijn niet afkomstig uit de juiste wet (Participatiewet), noch zijn de posities of inhoud correct. Er is geen enkele overlap in inhoud, positie of wetstekst tussen de verwachte en gevonden precondities. De extractie is volledig onjuist en voldoet niet aan de evaluatiestappen.']\n",
      "[\"Alle drie de verwachte subfacts zijn aanwezig in de Actual Output, maar de posities zijn onjuist: de subfacts worden geplaatst in 'Artikel 4.4.4, sectie 1 IN Rijksbegroting 2016' in plaats van 'Artikel 2.23 sectie 4a/4b/4c IN Comptabiliteitswet 2016'. De inhoud van de subfacts is grotendeels correct, maar de positionering is essentieel voor de opdracht. Hierdoor is de extractie onvolledig en de positieaanduiding onduidelijk, wat leidt tot een lage score.\", \"Alle drie de verwachte subfacts zijn inhoudelijk correct geëxtraheerd, maar de posities zijn onjuist: de Actual Output noemt 'Artikel 4.2.4d, Hoofdstuk 4 IN Rijksbegroting 2016', terwijl de juiste positie 'Artikel 2.23 sectie 4a/b/c IN Comptabiliteitswet 2016' is. De naam van de wet is ook foutief. Hierdoor is de extractie qua inhoud volledig, maar de duidelijkheid en juistheid van de positieaanduiding schiet ernstig tekort.\", 'De drie verwachte subfacts zijn qua inhoud globaal herkend (budgettaire totaalbeeld, budgettaire beschouwingen, overzicht van uitgaven en ontvangsten), maar de posities zijn volledig onjuist: de modeloutput verwijst naar Artikel 4.4.4 in de Rijksbegrotingsvoorschriften 2024, terwijl de juiste posities Artikel 2.23 lid 4a, 4b en 4c in de Comptabiliteitswet 2016 zijn. De inhoud van de subfacts is bovendien te algemeen en niet volledig overgenomen uit de wetstekst. De extractie is dus onvolledig en de positieaanduiding is onjuist en onduidelijk.', 'De drie verwachte subfacts zijn wel herkend qua inhoud (budgettaire totaalbeeld, budgettaire beschouwingen, overzicht van uitgaven en ontvangsten), maar de posities zijn volledig onjuist: ze worden allemaal aan Artikel 4.4.4 in de Rijksbegrotingsvoorschriften 2024 toegeschreven, terwijl ze in werkelijkheid in Artikel 2.23 lid 4a, 4b en 4c van de Comptabiliteitswet 2016 staan. De inhoud van de subfacts is redelijk accuraat, maar de positionering is essentieel voor deze taak en is hier fout. Daarom is de extractie onvolledig en de positieaanduiding onduidelijk.', \"Alle drie de verwachte subfacts zijn in de Actual Output aanwezig, maar de formuleringen zijn minder volledig dan in de Expected Output. De posities zijn onjuist: in plaats van Artikel 2.23 lid 4a/b/c van de Comptabiliteitswet 2016, wordt telkens 'Artikel 4.2.4 van de Wet op de rijksbegroting' genoemd, wat niet overeenkomt met de context. De wetstekstverwijzing is ook niet correct. De extractie is dus incompleet qua precisie en duidelijkheid van de positieaanduiding.\", 'De drie gevraagde subfacts zijn qua inhoud globaal herkend, maar de posities zijn volledig onjuist: de subfacts worden allemaal aan Artikel 4.4.4 van de Rijksbegrotingsvoorschriften 2024 toegeschreven, terwijl ze in werkelijkheid in Artikel 2.23 lid 4a, 4b en 4c van de Comptabiliteitswet 2016 staan. Ook de inhoud van de subfacts is te algemeen geformuleerd en mist de details uit de wetstekst (zoals de verwijzing naar de jaren en de collectieve sector). De extractie is dus onvolledig en de positieaanduiding is onjuist.', 'De drie verwachte subfacts zijn qua inhoud globaal herkend in de Actual Output, maar de formuleringen zijn minder volledig en missen belangrijke details zoals de verwijzing naar de jaren en de collectieve sector. De posities zijn volledig onjuist: alle subfacts worden geplaatst in Artikel 4.4.4, sectie 1 van de Rijksbegrotingsvoorschriften 2024, terwijl ze volgens de Expected Output in Artikel 2.23, sectie 4a-c van de Comptabiliteitswet 2016 horen. Er is dus herkenning van de juiste subfacts, maar de extractie is onvolledig en de positieaanduiding is foutief voor alle drie, wat slechts minimale punten rechtvaardigt.', 'De drie gevraagde subfacts zijn inhoudelijk correct geëxtraheerd, maar de posities zijn onjuist: in plaats van Artikel 2.23, sectie 4a/b/c IN Comptabiliteitswet 2016, wordt telkens Artikel 4.3, § 1 IN Rijksbegroting genoemd. De inhoud van de subfacts komt overeen met de Expected Output, maar de positionering is niet accuraat en de naam van de wet is fout. Dit leidt tot een lage score, ondanks de juiste identificatie van de subfacts.', 'Hoewel het model drie subfacts noemt die qua naam overeenkomen met de verwachte subfacts, zijn de posities volledig onjuist: alle subfacts worden geplaatst in Artikel 4.4.4, sectie 4 van de Rijksbegrotingsvoorschriften 2024, terwijl ze volgens de Expected Output in Artikel 2.23, sectie 4a-c van de Comptabiliteitswet 2016 moeten staan. De inhoud van de subfacts is bovendien minder volledig geformuleerd dan in de Expected Output. De extractie is dus incompleet en de positieaanduiding is onjuist, wat slechts minimale overeenstemming oplevert.', \"De drie verwachte subfacts zijn inhoudelijk correct geëxtraheerd, maar de posities zijn volledig onjuist: de Actual Output verwijst naar 'Artikel 4.4.4.d. IV, Hoofdstuk 4 IN Rijksbegrotingsvoorschriften 2024', terwijl de Expected Output duidelijk 'Artikel 2.23 sectie 4a/b/c IN Comptabiliteitswet 2016' vereist. Hierdoor is de extractie qua inhoud voldoende, maar de positionering is onduidelijk en foutief, wat zwaar weegt in de beoordeling volgens de evaluatiestappen.\", 'De Actual Output bevat uitsluitend precondities uit artikel 16 en 17 van de Algemene wet bestuursrecht, terwijl de Expected Output precondities uit artikel 26, sectie 1 van de Vreemdelingenwet 2024 vereist. Geen van de verwachte precondities is geëxtraheerd of correct gelokaliseerd. De posities en inhoud komen niet overeen met de Expected Output. Er is dus vrijwel geen overlap, wat slechts minimale punten rechtvaardigt.', 'De Expected Output vraagt om twee specifieke precondities uit Artikel 26, sectie 1 van de Vreemdelingenwet 2024, namelijk: (1) dat de verblijfsvergunning wordt verleend met ingang van de dag waarop de vreemdeling heeft aangetoond aan alle voorwaarden te voldoen, en (2) dat deze niet eerder wordt verleend dan de dag waarop de aanvraag is ontvangen. In de Actual Output worden deze precondities niet genoemd of correct gelokaliseerd; in plaats daarvan worden irrelevante of onjuiste precondities uit andere artikelen en wetten genoemd. Geen van de verwachte precondities is aanwezig, dus de extractie is onvolledig en de positieaanduiding is niet relevant. Er is minimale tot geen overlap met de Expected Output.', 'De Actual Output bevat geen van de twee verwachte precondities uit de Expected Output. De verwachte precondities gaan over het moment van verlening van de verblijfsvergunning (Artikel 26, sectie 1, Vreemdelingenwet 2024), terwijl de Actual Output precondities uit Artikel 16 noemt die betrekking hebben op afwijzingsgronden. Geen enkele preconditie uit de Expected Output is correct geëxtraheerd of gepositioneerd. Er is dus vrijwel geen overlap, maar de Actual Output bevat wel relevante juridische verwijzingen.', 'De Actual Output bevat geen van de twee verwachte precondities uit de Expected Output, namelijk de voorwaarden en het tijdstip van verlening zoals genoemd in Artikel 26, sectie 1 van de Vreemdelingenwet 2024. In plaats daarvan worden precondities uit Artikel 16 opgesomd, die niet overeenkomen met de gevraagde extractie. Er is dus geen correcte extractie of juiste positieaanduiding voor de verwachte precondities, wat slechts minimale relevantie oplevert.', 'De Actual Output bevat geen van de twee verwachte precondities uit de Expected Output, namelijk de voorwaarden en het tijdstip van verlening zoals genoemd in Artikel 26, sectie 1 van de Vreemdelingenwet 2024. In plaats daarvan worden andere precondities uit Artikel 16 en andere artikelen genoemd. Er is dus geen correcte extractie of juiste positieaanduiding voor de gevraagde precondities. De volledigheid en duidelijkheid van de extractie zijn daardoor zeer laag.', 'De verwachte precondities uit Artikel 26, sectie 1 van de Vreemdelingenwet 2024 worden niet geëxtraheerd in de Actual Output. In plaats daarvan worden precondities uit andere artikelen (voornamelijk Artikel 16) genoemd, die niet overeenkomen met de gevraagde voorwaarden en posities. Geen van de verwachte precondities is aanwezig of correct gelokaliseerd, wat resulteert in een zeer lage score.', 'De Expected Output vraagt om twee specifieke precondities uit Artikel 26, sectie 1 van de Vreemdelingenwet 2024, namelijk: (1) dat de verblijfsvergunning wordt verleend met ingang van de dag waarop de vreemdeling heeft aangetoond aan alle voorwaarden te voldoen, en (2) dat deze niet eerder wordt verleend dan de dag waarop de aanvraag is ontvangen. De Actual Output noemt deze precondities niet en focust in plaats daarvan op voorwaarden uit Artikel 16 en 14. Er is dus geen juiste extractie van de gevraagde precondities en posities. Slechts een minimale relevantie is aanwezig doordat de output wel precondities uit de juiste wet noemt, maar niet uit het juiste artikel of met de juiste inhoud.', 'De Expected Output vraagt om twee specifieke precondities uit Artikel 26, sectie 1 van de Vreemdelingenwet 2024, namelijk dat de verblijfsvergunning wordt verleend met ingang van de dag waarop aan alle voorwaarden is voldaan, maar niet eerder dan de dag van ontvangst van de aanvraag. De Actual Output noemt deze precondities niet en focust uitsluitend op de voorwaarden uit Artikel 16. Er is geen enkele expliciete extractie van de verwachte precondities, noch worden de juiste posities genoemd. De extractie is dus onvolledig en de positieaanduiding is onjuist, wat slechts minimale punten oplevert voor het noemen van relevante context (de Vreemdelingenwet).', 'De Expected Output vraagt om twee specifieke precondities uit Artikel 26, sectie 1 van de Vreemdelingenwet 2024, namelijk: (1) de vreemdeling moet aantonen aan alle voorwaarden te voldoen, en (2) de vergunning wordt niet eerder verleend dan de dag van ontvangst van de aanvraag. De Actual Output noemt uitsluitend precondities uit Artikel 16, en geen van de verwachte precondities uit Artikel 26 wordt genoemd of correct gepositioneerd. Er is dus geen juiste extractie of positionering van de gevraagde precondities, wat slechts minimale alignment oplevert.', 'De Actual Output bevat geen van de twee verwachte precondities uit de Expected Output, namelijk de voorwaarden en het tijdstip van verlening uit Artikel 26, sectie 1 van de Vreemdelingenwet 2024. In plaats daarvan worden andere precondities uit Artikel 16 en 14 genoemd, die niet overeenkomen met de gevraagde. Ook de posities komen niet overeen. Er is dus vrijwel geen overlap met de Expected Output, wat resulteert in een zeer lage score.', 'De Expected Output vraagt om de preconditie dat een begroting een begrotingsstaat bevat, met als positie Artikel 2.2 in de Comptabiliteitswet 2016. In de Actual Output worden drie andere precondities genoemd, die niet overeenkomen met de gevraagde preconditie. Geen van de genoemde precondities of posities komt overeen met de Expected Output. Er is dus geen correcte extractie of positionering, maar het antwoord bevat wel relevante tekstextracties uit de wet, wat een minimale score rechtvaardigt.', \"De Expected Output vraagt om de preconditie 'Begroting bevat begrotingsstaat' uit Artikel 2.2 van de Comptabiliteitswet 2016. In de Actual Output worden twee andere precondities genoemd, namelijk uit Artikel 2.1, tweede lid en Artikel 2.23, eerste lid, die niet overeenkomen met de gevraagde preconditie of positie. De juiste preconditie en positie ontbreken volledig, waardoor er nauwelijks tot geen overlap is met de evaluatiestappen. Er is wel een poging tot extractie, maar deze is niet relevant voor de opdracht.\", 'De verwachte preconditie is dat de begroting een begrotingsstaat bevat (Artikel 2.2 IN Comptabiliteitswet 2016). In de Actual Output worden vier andere precondities genoemd, maar de vereiste preconditie wordt niet genoemd. Geen van de posities komt overeen met de Expected Output. Er is dus geen correcte extractie, maar de output toont wel enige poging tot relevante extractie van precondities uit de tekst.', 'De enige verwachte preconditie is dat de begroting een begrotingsstaat bevat (Artikel 2.2 IN Comptabiliteitswet 2016). In de Actual Output worden echter alleen precondities genoemd over het tijdstip van opstellen en wie de begroting opstelt, en niet over de vereiste inhoud (de begrotingsstaat). Geen van de genoemde precondities in de Actual Output komt overeen met de verwachte preconditie qua inhoud of positie. Er is dus nauwelijks overlap, wat resulteert in een zeer lage score.', 'De Expected Output vraagt om de preconditie dat de begroting een begrotingsstaat bevat, met als positie Artikel 2.2 van de Comptabiliteitswet 2016. In de Actual Output worden meerdere precondities genoemd, maar geen daarvan benoemt expliciet dat de begroting een begrotingsstaat moet bevatten of verwijst naar Artikel 2.2. De posities en inhoud komen dus niet overeen met de Expected Output. Er is enige relevantie in de algemene richting van de extracties, maar de specifieke gevraagde preconditie ontbreekt volledig.', 'De enige verwachte preconditie is dat de begroting een begrotingsstaat bevat (Artikel 2.2 IN Comptabiliteitswet 2016). De Actual Output noemt deze preconditie niet expliciet en verwijst niet naar Artikel 2.2. In plaats daarvan worden andere voorwaarden en artikelen genoemd, zoals Artikel 2.1 en 2.23, die niet overeenkomen met de Expected Output. De extractie is dus onvolledig en de positieaanduiding is niet correct volgens de opdracht.', \"De Expected Output vraagt om de preconditie 'Begroting bevat begrotingsstaat' uit Artikel 2.2 van de Comptabiliteitswet 2016. In de Actual Output worden alleen precondities genoemd over wie de begroting opstelt en de verantwoordelijkheid van de minister, met verwijzingen naar Artikel 2.1 en 4.3, maar niet naar Artikel 2.2 of de inhoudelijke eis dat een begroting een begrotingsstaat bevat. De relevante preconditie ontbreekt dus volledig, en de posities komen niet overeen met de Expected Output. Er is enige relevantie in de context van begroting opstellen, maar de gevraagde preconditie wordt niet geëxtraheerd.\", 'De enige verwachte preconditie is dat de begroting een begrotingsstaat bevat (Artikel 2.2 Comptabiliteitswet 2016). In de Actual Output worden twee andere precondities genoemd die niet overeenkomen met de Expected Output. De juiste preconditie ontbreekt volledig, waardoor de extractie niet volledig is en de positieaanduiding niet relevant is. Er is dus nauwelijks tot geen alignment met de evaluatiestappen.', 'De Expected Output vraagt om de preconditie dat de begroting een begrotingsstaat bevat (Artikel 2.2 Comptabiliteitswet 2016). De Actual Output noemt twee andere precondities (ministeriële verantwoordelijkheid en het jaar van indiening), die niet overeenkomen met de gevraagde preconditie. De juiste preconditie wordt niet genoemd of gepositioneerd, waardoor er geen correcte extractie of positieaanduiding is. Er is enige relevantie omdat de output wel precondities probeert te extraheren, maar deze zijn niet correct volgens de opdracht.', \"De verwachte preconditie is 'Begroting bevat begrotingsstaat' uit Artikel 2.2 van de Comptabiliteitswet 2016, maar de gegenereerde output noemt een irrelevante preconditie ('Het aantal ministers moet er een zijn') uit Artikel 2.1. De juiste preconditie wordt niet genoemd en de positie komt niet overeen met de Expected Output. Er is dus nauwelijks overlap met de gevraagde extractie, wat slechts minimale punten rechtvaardigt.\", 'De Actual Output bevat geen enkele van de verwachte precondities uit de Participatiewet, noch worden de juiste posities of wetsartikelen genoemd. De genoemde precondities verwijzen naar andere wetten (Comptabiliteitswet, Algemene Bijstandswet) en zijn inhoudelijk niet relevant voor het weigeren van recht op algemene bijstand volgens de Participatiewet. Er is geen enkele correcte extractie of juiste positionering, waardoor de uitlijning met de evaluatiestappen minimaal is.', \"De Actual Output bevat geen enkele van de verwachte precondities uit de Expected Output. De precondities die zijn geëxtraheerd zijn niet relevant voor de act 'weigeren recht op algemene bijstand' en verwijzen naar onjuiste artikelen en secties in de Comptabiliteitswet 2016 in plaats van de Participatiewet. Er is geen enkele overeenkomst in inhoud of positie, en de volledigheid en duidelijkheid van de extractie zijn volledig afwezig.\", 'De Actual Output bevat geen enkele van de verwachte precondities uit de Participatiewet, noch worden de juiste posities of relevante wetsartikelen genoemd. In plaats daarvan worden algemene voorwaarden uit een andere wet (General Assistance Act, VS) genoemd, die niet relevant zijn voor de gevraagde Nederlandse context. Er is dus vrijwel geen overlap met de Expected Output en de extractie is volledig onjuist.', 'De Actual Output bevat geen enkele van de verwachte precondities uit de Expected Output. De genoemde precondities verwijzen naar niet-bestaande artikelen en secties in de Wet op de algemene bijstand 2019, terwijl de Expected Output precondities uit de Participatiewet vereist. Geen enkele preconditie of positie komt overeen met de test case parameters, en de volledigheid en duidelijkheid van de extractie zijn volledig afwezig.', \"De Actual Output bevat geen enkele van de verwachte precondities uit de Expected Output, noch komen de genoemde posities overeen met de Participatiewet of de juiste artikelen en secties. De precondities zijn grotendeels verzonnen of niet relevant voor de act 'weigeren recht op algemene bijstand' en verwijzen naar de verkeerde wet (Wet op de algemene bijstand i.p.v. Participatiewet). Er is geen enkele correcte extractie of juiste positieaanduiding, wat resulteert in vrijwel geen alignment met de evaluatiestappen.\", 'De verwachte precondities zijn allemaal afkomstig uit de Participatiewet en gaan over de voorwaarden waaronder het recht op algemene bijstand kan worden geweigerd. De Actual Output bevat precondities die niet in de Comptabiliteitswet 2016 voorkomen en die inhoudelijk niet overeenkomen met de verwachte precondities. Ook de genoemde posities (artikelen en secties) bestaan niet in de Comptabiliteitswet 2016 en zijn niet correct. Er is geen enkele match tussen de verwachte en gevonden precondities, noch qua inhoud, noch qua positie. De extractie is dus volledig onjuist en onvolledig.', 'De Actual Output bevat geen van de 20 verwachte precondities uit de Expected Output en geeft geen enkele correcte of specifieke positieaanduiding. Er is slechts een algemene, nietszeggende preconditie genoemd zonder verwijzing naar relevante artikelen of secties uit de Participatiewet. De extractie is dus volledig onvolledig en voldoet niet aan de evaluatiestappen.', 'Geen enkele van de verwachte precondities uit de Participatiewet is geëxtraheerd in de Actual Output. Alle genoemde precondities en posities in de Actual Output verwijzen naar niet-bestaande artikelen in de Comptabiliteitswet 2016 en zijn inhoudelijk niet relevant voor het weigeren van recht op algemene bijstand. Er is geen enkele overlap met de verwachte precondities of hun posities, waardoor de extractie volledig onjuist en onvolledig is.', 'De Actual Output bevat geen enkele van de verwachte precondities uit de Participatiewet, noch komen de genoemde artikelen, secties of wetsteksten overeen met de Expected Output. De precondities zijn afkomstig uit een andere wet (Algemene wet bijzondere bijstand 1981) en bevatten onjuiste of niet-relevante voorwaarden. Er is geen enkele correcte extractie of juiste positieaanduiding aanwezig.', \"De Actual Output bevat geen enkele van de verwachte precondities uit de Expected Output. De precondities zijn niet afkomstig uit de Participatiewet, maar zijn grotendeels verzonnen of irrelevant voor de act 'weigeren recht op algemene bijstand'. Er worden geen correcte posities of artikelnummers genoemd, en de wetstekstnamen zijn onjuist of ontbreken. Er is geen enkele match met de verwachte precondities, noch qua inhoud, noch qua positionering, waardoor de extractie volledig onvolledig en onjuist is.\"]\n"
     ]
    },
    {
     "data": {
      "text/plain": [
       "40"
      ]
     },
     "execution_count": 24,
     "metadata": {},
     "output_type": "execute_result"
    }
   ],
   "source": [
    "geval_scores_new_average = sum(scores_new) / len(scores_new)\n",
    "geval_scores_base_average = sum(scores_base) / len(scores_base)\n",
    "\n",
    "print(\"New Model Scores average:\", geval_scores_new_average)\n",
    "print(\"Base Model Scores average:\", geval_scores_base_average)\n",
    "\n",
    "\n",
    "print(reasons_new)\n",
    "print(reasons_base)\n",
    "\n",
    "len(reasons_new)\n"
   ]
  },
  {
   "cell_type": "code",
   "execution_count": 17,
   "id": "e6a98bc5",
   "metadata": {},
   "outputs": [],
   "source": [
    "# ############ OLD VERSION ######################\n",
    "\n",
    "# # Now define your test case, actual_output is your LLM output\n",
    "# g_eval_new = LLMTestCase(input=prompts, actual_output=f\"Extracetd Preconditions: {candidates_new}\", expected_output=f\"Expected preconditions: {references}\")\n",
    "# g_eval_base = LLMTestCase(input=prompts, actual_output=f\"Extracetd Preconditions: {candidates_base}\", expected_output=f\"Expected preconditions: {references}\")\n",
    "\n",
    "\n",
    "# # Use G-Eval metric\n",
    "# precondition_extraction_metric.measure(g_eval_new)\n",
    "# print(\"Score:\", precondition_extraction_metric.score)\n",
    "# print(\"Reason:\", precondition_extraction_metric.reason)\n",
    "\n",
    "# precondition_extraction_metric.measure(g_eval_base)\n",
    "# print(\"Score:\", precondition_extraction_metric.score)\n",
    "# print(\"Reason:\", precondition_extraction_metric.reason)"
   ]
  },
  {
   "cell_type": "markdown",
   "id": "3e6086f2",
   "metadata": {},
   "source": [
    "## Personal evaluation"
   ]
  },
  {
   "cell_type": "code",
   "execution_count": 18,
   "id": "f34ef6eb",
   "metadata": {},
   "outputs": [],
   "source": [
    "# Generate about 10 answers with both models --> load them into the user interface and get reward score\n",
    "# Also maybe do qualitative evaluation"
   ]
  }
 ],
 "metadata": {
  "kernelspec": {
   "display_name": "Evaluation",
   "language": "python",
   "name": "python3"
  },
  "language_info": {
   "codemirror_mode": {
    "name": "ipython",
    "version": 3
   },
   "file_extension": ".py",
   "mimetype": "text/x-python",
   "name": "python",
   "nbconvert_exporter": "python",
   "pygments_lexer": "ipython3",
   "version": "3.9.23"
  }
 },
 "nbformat": 4,
 "nbformat_minor": 5
}
