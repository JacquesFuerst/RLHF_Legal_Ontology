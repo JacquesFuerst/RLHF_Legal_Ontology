{
 "cells": [
  {
   "cell_type": "markdown",
   "id": "e7313a04",
   "metadata": {},
   "source": [
    "# Notebook to split datasets into proper files"
   ]
  },
  {
   "cell_type": "markdown",
   "id": "7e286de1",
   "metadata": {},
   "source": [
    "## Imports"
   ]
  },
  {
   "cell_type": "code",
   "execution_count": null,
   "id": "63aad9b0",
   "metadata": {},
   "outputs": [],
   "source": [
    "import os\n",
    "\n",
    "from dotenv import load_dotenv\n",
    "# Load environment variables from .env file\n",
    "load_dotenv()"
   ]
  },
  {
   "cell_type": "markdown",
   "id": "2e800d9f",
   "metadata": {},
   "source": [
    "## Prompt dataset for RL training and final evaluation"
   ]
  },
  {
   "cell_type": "code",
   "execution_count": null,
   "id": "16b4c7b8",
   "metadata": {},
   "outputs": [],
   "source": [
    "RL_DATA_PATH = os.getenv(\"RL_DATA_PATH\")"
   ]
  },
  {
   "cell_type": "code",
   "execution_count": null,
   "id": "d2512fad",
   "metadata": {},
   "outputs": [],
   "source": [
    "# load prompt dataset\n",
    "\n",
    "import pandas as pd\n",
    "from sklearn.model_selection import train_test_split\n",
    "\n",
    "# Load the CSV file\n",
    "df = pd.read_csv(\"your_file.csv\")\n",
    "\n",
    "# First split: train + temp (temp will be split into val/test)\n",
    "train_df, temp_df = train_test_split(df, test_size=0.3, random_state=42)\n",
    "\n",
    "# Second split: validation + test\n",
    "val_df, test_df = train_test_split(temp_df, test_size=0.5, random_state=42)\n",
    "\n",
    "# Check the sizes\n",
    "print(f\"Train: {len(train_df)}\")\n",
    "print(f\"Validation: {len(val_df)}\")\n",
    "print(f\"Test: {len(test_df)}\")\n",
    "\n",
    "# Save to CSV files without the index column\n",
    "train_df.to_csv(\"train.csv\", index=False, sep=';')\n",
    "val_df.to_csv(\"validation.csv\", index=False, sep=';')\n",
    "test_df.to_csv(\"test.csv\", index=False, sep=';')"
   ]
  },
  {
   "cell_type": "markdown",
   "id": "633e0b34",
   "metadata": {},
   "source": [
    "## Feedback dataset for Reward model finetuning"
   ]
  },
  {
   "cell_type": "markdown",
   "id": "cab1e5c5",
   "metadata": {},
   "source": []
  }
 ],
 "metadata": {
  "kernelspec": {
   "display_name": "Evaluation",
   "language": "python",
   "name": "python3"
  },
  "language_info": {
   "name": "python",
   "version": "3.9.23"
  }
 },
 "nbformat": 4,
 "nbformat_minor": 5
}
