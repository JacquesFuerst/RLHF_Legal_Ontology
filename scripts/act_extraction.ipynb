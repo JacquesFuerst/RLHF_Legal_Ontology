{
 "cells": [
  {
   "cell_type": "markdown",
   "id": "d786a25a",
   "metadata": {},
   "source": [
    "Example to extract logical hierarchy from:\n",
    "\n",
    "niet in behandeling nemen aanvraag verblijfsvergunning regulier bepaalde tijd\n",
    "\n",
    "from file Interpretatie_Vw_over_besluiten_op_aanvragen_voor_een_verblijfsvergunning_regulier_bepaalde_tijd.json"
   ]
  },
  {
   "cell_type": "code",
   "execution_count": 1,
   "id": "e3556c8f",
   "metadata": {},
   "outputs": [],
   "source": [
    "# import networkx as nx\n",
    "# import matplotlib.pyplot as plt\n",
    "# from networkx.drawing.nx_pydot import graphviz_layout\n",
    "import json"
   ]
  },
  {
   "cell_type": "code",
   "execution_count": 2,
   "id": "51f65224",
   "metadata": {},
   "outputs": [],
   "source": [
    "def gather_preconditions_parent(parent, preconditions_json, preconds_list, precond_texts):\n",
    "    \"\"\"\n",
    "    Get all the preconditons of an act frame.\n",
    "\n",
    "\n",
    "    \"\"\"\n",
    "    children = parent['children']\n",
    "    for child in children:\n",
    "        if 'frame' in child.keys():\n",
    "            # print(\"This is happening at all, yay!\")\n",
    "            #TODO\n",
    "            preconds_list.append(child['frame'])\n",
    "            precond_texts[child['frame']] = \"\"\n",
    "        gather_preconditions_parent(child, preconditions_json, preconds_list, precond_texts)\n",
    "    \n",
    "    return preconds_list, precond_texts"
   ]
  },
  {
   "cell_type": "code",
   "execution_count": 3,
   "id": "f8749de4",
   "metadata": {},
   "outputs": [],
   "source": [
    "def extract_preconditions(file):\n",
    "    \"\"\"\n",
    "    Extract mappings of all preconditions.pdf\n",
    "\n",
    "    Returns:\n",
    "    frames_precond (dict): mapping of  \n",
    "    precond_texts, \n",
    "    actions_texts\n",
    "    \"\"\"\n",
    "\n",
    "    # Example input data (JSON) as a Python dictionary\n",
    "    # Open and load the JSON data from a file\n",
    "    with open(file, 'r') as file:\n",
    "        data = json.load(file)\n",
    "\n",
    "    print(f\"sourcedocs length: {len(data['frames'])}\")\n",
    "\n",
    "    frames = data['frames']\n",
    "    frames_precond = {}\n",
    "    precond_texts = {}\n",
    "    actions_texts = {}\n",
    "\n",
    "    # gather all the precondition IDs from the frame\n",
    "    for frame in frames:\n",
    "        \n",
    "        if frame['typeId'] == 'act':\n",
    "            \n",
    "            preconditions = frame['precondition']\n",
    "            if len(preconditions.get('children')) != 0:\n",
    "                this_frame_preconds_list = []\n",
    "                frames_precond[frame['id']], precond_texts = gather_preconditions_parent(frame['precondition'], preconditions, this_frame_preconds_list, precond_texts)\n",
    "                actions_texts[frame['id']] = frame['act']\n",
    "            elif preconditions.get('frame') is not None: # and len(preconditions.get('children')) == 0\n",
    "                print(f\"preconds: {preconditions.keys()}\")\n",
    "                print(f\"frame id: {frame['id']}\")\n",
    "                frames_precond[frame['id']] = [preconditions['frame']]\n",
    "                precond_texts.setdefault(preconditions['frame'], \"\")\n",
    "                actions_texts[frame['id']] = frame['act']\n",
    "            # else:\n",
    "            #     this_frame_preconds_list = []\n",
    "            #     frames_precond[frame['id']], precond_texts = gather_preconditions_parent(frame['precondition'], preconditions, this_frame_preconds_list, precond_texts)\n",
    "            #     actions_texts[frame['id']] = frame['act']\n",
    "\n",
    "            \n",
    "            # precond_texts.setdefault(frames_precond[frame['id']], \"\")\n",
    "    \n",
    "    for frame in frames:\n",
    "        # add actual text of the respective preconditions to the dictionary\n",
    "        if frame['id'] in precond_texts.keys():\n",
    "            if not frame['fact']:\n",
    "                precond_texts[frame['id']] = frame['label']\n",
    "            else:\n",
    "                precond_texts[frame['id']] = frame['fact']\n",
    "\n",
    "            \n",
    "        \n",
    "\n",
    "\n",
    "    return frames_precond, precond_texts, actions_texts"
   ]
  },
  {
   "cell_type": "code",
   "execution_count": 4,
   "id": "e60aad7f",
   "metadata": {},
   "outputs": [],
   "source": [
    "# file = 'Interpretatie_Vw_over_besluiten_op_aanvragen_voor_een_verblijfsvergunning_regulier_bepaalde_tijd.json'\n",
    "# frames_precond, precond_texts, actions_texts = extract_preconditions(file)\n",
    "\n",
    "# example = frames_precond[\"2168d545-ef9d-4d7f-b21f-ee3fa1b0d8df\"]\n",
    "# action_text = actions_texts[\"2168d545-ef9d-4d7f-b21f-ee3fa1b0d8df\"]\n",
    "# print(f\"Keys: {frames_precond.keys()}\")\n",
    "# print(f\"preconditiions: {len(example)}\")\n",
    "# print(f\"Precondition texts: {precond_texts['4714e879-ad2c-4037-986a-9c1bb9388856']}\")\n",
    "# print(f\"actions text: {action_text}\")\n",
    "\n",
    "# #TODO: somehow create a dataset from this...\n",
    "\n"
   ]
  },
  {
   "cell_type": "code",
   "execution_count": 5,
   "id": "5171f08f",
   "metadata": {},
   "outputs": [
    {
     "name": "stdout",
     "output_type": "stream",
     "text": [
      "sourcedocs length: 69\n",
      "preconds: dict_keys(['frame', 'children', 'operatorToJoinChildren'])\n",
      "frame id: 8d4d71e7-7e9f-4d40-964d-57fe362f94c4\n"
     ]
    }
   ],
   "source": [
    "# Add stuff to the JSON\n",
    "# Function to create the desired JSON structure\n",
    "def create_json_structure(file):\n",
    "    frames_precond, precond_texts, action_text = extract_preconditions(file)\n",
    "    result = []\n",
    "\n",
    "\n",
    "    for act, preconditions in frames_precond.items():\n",
    "        act_dict = {\n",
    "            \"file\": file,\n",
    "            \"ID\": act,\n",
    "            \"type\": \"act\",\n",
    "            \"text\": action_text[act],\n",
    "            \"precondition_texts\": {precondition: precond_texts[precondition] for precondition in preconditions},\n",
    "            \"text_positions\": {precondition: \"\" for precondition in preconditions}\n",
    "            # \"text_position\": {pre[\"precondition_ID\"]: pre[\"text_position\"] for pre in act[\"preconditions\"]}\n",
    "        }\n",
    "        result.append(act_dict)\n",
    "    return result\n",
    "\n",
    "# Create JSON structure\n",
    "file_1 = 'Interpretatie_Vw_over_besluiten_op_aanvragen_voor_een_verblijfsvergunning_regulier_bepaalde_tijd.json'\n",
    "file_2 = 'Participatiewet_most_recent_public.json'\n",
    "file_3 = 'Besluit_vvr_bep_2024-11-06T14_53_09_interpretation.json'\n",
    "file_4 = 'rijksbegrotingscyclus.json'\n",
    "# file_2 = \n",
    "json_structure = create_json_structure(file_4)\n",
    "# print(json_structure)\n",
    "\n",
    "\n",
    "with open(f'acts_{file_4}.json', 'w') as file:\n",
    "    json.dump(json_structure, file, indent=4)"
   ]
  },
  {
   "cell_type": "code",
   "execution_count": 6,
   "id": "843d76c6",
   "metadata": {},
   "outputs": [
    {
     "ename": "FileNotFoundError",
     "evalue": "[Errno 2] No such file or directory: 'acts_Participatiewet_most_recent_public.json'",
     "output_type": "error",
     "traceback": [
      "\u001b[1;31m---------------------------------------------------------------------------\u001b[0m",
      "\u001b[1;31mFileNotFoundError\u001b[0m                         Traceback (most recent call last)",
      "Cell \u001b[1;32mIn[6], line 5\u001b[0m\n\u001b[0;32m      1\u001b[0m \u001b[38;5;66;03m# code to extract all actions in a for loop\u001b[39;00m\n\u001b[0;32m      3\u001b[0m ground_truth_1 \u001b[38;5;241m=\u001b[39m \u001b[38;5;124m'\u001b[39m\u001b[38;5;124macts_Participatiewet_most_recent_public.json\u001b[39m\u001b[38;5;124m'\u001b[39m\n\u001b[1;32m----> 5\u001b[0m \u001b[38;5;28;01mwith\u001b[39;00m \u001b[38;5;28;43mopen\u001b[39;49m\u001b[43m(\u001b[49m\u001b[43mground_truth_1\u001b[49m\u001b[43m,\u001b[49m\u001b[43m \u001b[49m\u001b[38;5;124;43m'\u001b[39;49m\u001b[38;5;124;43mr\u001b[39;49m\u001b[38;5;124;43m'\u001b[39;49m\u001b[43m)\u001b[49m \u001b[38;5;28;01mas\u001b[39;00m file:\n\u001b[0;32m      6\u001b[0m         data \u001b[38;5;241m=\u001b[39m json\u001b[38;5;241m.\u001b[39mload(file)\n\u001b[0;32m      8\u001b[0m \u001b[38;5;28;01mfor\u001b[39;00m act \u001b[38;5;129;01min\u001b[39;00m data:\n",
      "File \u001b[1;32mc:\\Users\\furstj\\AppData\\Local\\anaconda3\\envs\\preprocess_data\\lib\\site-packages\\IPython\\core\\interactiveshell.py:310\u001b[0m, in \u001b[0;36m_modified_open\u001b[1;34m(file, *args, **kwargs)\u001b[0m\n\u001b[0;32m    303\u001b[0m \u001b[38;5;28;01mif\u001b[39;00m file \u001b[38;5;129;01min\u001b[39;00m {\u001b[38;5;241m0\u001b[39m, \u001b[38;5;241m1\u001b[39m, \u001b[38;5;241m2\u001b[39m}:\n\u001b[0;32m    304\u001b[0m     \u001b[38;5;28;01mraise\u001b[39;00m \u001b[38;5;167;01mValueError\u001b[39;00m(\n\u001b[0;32m    305\u001b[0m         \u001b[38;5;124mf\u001b[39m\u001b[38;5;124m\"\u001b[39m\u001b[38;5;124mIPython won\u001b[39m\u001b[38;5;124m'\u001b[39m\u001b[38;5;124mt let you open fd=\u001b[39m\u001b[38;5;132;01m{\u001b[39;00mfile\u001b[38;5;132;01m}\u001b[39;00m\u001b[38;5;124m by default \u001b[39m\u001b[38;5;124m\"\u001b[39m\n\u001b[0;32m    306\u001b[0m         \u001b[38;5;124m\"\u001b[39m\u001b[38;5;124mas it is likely to crash IPython. If you know what you are doing, \u001b[39m\u001b[38;5;124m\"\u001b[39m\n\u001b[0;32m    307\u001b[0m         \u001b[38;5;124m\"\u001b[39m\u001b[38;5;124myou can use builtins\u001b[39m\u001b[38;5;124m'\u001b[39m\u001b[38;5;124m open.\u001b[39m\u001b[38;5;124m\"\u001b[39m\n\u001b[0;32m    308\u001b[0m     )\n\u001b[1;32m--> 310\u001b[0m \u001b[38;5;28;01mreturn\u001b[39;00m io_open(file, \u001b[38;5;241m*\u001b[39margs, \u001b[38;5;241m*\u001b[39m\u001b[38;5;241m*\u001b[39mkwargs)\n",
      "\u001b[1;31mFileNotFoundError\u001b[0m: [Errno 2] No such file or directory: 'acts_Participatiewet_most_recent_public.json'"
     ]
    }
   ],
   "source": [
    "# code to extract all actions in a for loop\n",
    "\n",
    "ground_truth_1 = 'acts_Participatiewet_most_recent_public.json'\n",
    "\n",
    "with open(ground_truth_1, 'r') as file:\n",
    "        data = json.load(file)\n",
    "\n",
    "for act in data:\n",
    "        print(act['text'])"
   ]
  }
 ],
 "metadata": {
  "kernelspec": {
   "display_name": "preprocess_data",
   "language": "python",
   "name": "python3"
  },
  "language_info": {
   "codemirror_mode": {
    "name": "ipython",
    "version": 3
   },
   "file_extension": ".py",
   "mimetype": "text/x-python",
   "name": "python",
   "nbconvert_exporter": "python",
   "pygments_lexer": "ipython3",
   "version": "3.9.21"
  }
 },
 "nbformat": 4,
 "nbformat_minor": 5
}
