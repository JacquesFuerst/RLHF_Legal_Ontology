{
 "cells": [
  {
   "cell_type": "markdown",
   "metadata": {},
   "source": [
    "# TODOS\n",
    "\n",
    "1. find good config for GRPO\n",
    "2. Add LoRA layer to model\n",
    "3. Add PPO trainer"
   ]
  },
  {
   "cell_type": "markdown",
   "metadata": {},
   "source": [
    "# Reward model training"
   ]
  },
  {
   "cell_type": "code",
   "execution_count": null,
   "metadata": {},
   "outputs": [],
   "source": [
    "import torch\n",
    "import warnings\n",
    "warnings.filterwarnings('ignore')\n",
    "from datasets import Dataset, load_dataset\n",
    "from transformers import AutoTokenizer, AutoModelForSequenceClassification, TrainingArguments, AutoModelForCausalLM\n",
    "from trl import PPOTrainer, PPOConfig, create_reference_model\n",
    "from trl import GRPOTrainer, GRPOConfig\n",
    "\n",
    "from trl import RewardTrainer, RewardConfig\n",
    "\n",
    "from peft import LoraConfig, get_peft_model, PeftModel\n",
    "\n",
    "from tqdm import tqdm\n",
    "\n",
    "import os\n",
    "from dotenv import load_dotenv\n",
    "\n",
    "# Load environment variables from .env file\n",
    "load_dotenv()\n",
    "\n",
    "# load the relevant devices available on the server\n",
    "os.environ[\"CUDA_VISIBLE_DEVICES\"] = os.getenv(\"AVAILABLE_DEVICES\")\n",
    "\n",
    "# Enable expandable CUDA segments\n",
    "os.environ[\"PYTORCH_CUDA_ALLOC_CONF\"] = \"expandable_segments:True\"\n",
    "\n",
    "# load cuda\n",
    "if torch.cuda.is_available():\n",
    "    device = torch.device(\"cuda\")\n",
    "    print('There are %d GPU(s) available.' % torch.cuda.device_count())\n",
    "    print(\"CUDA is available. Using GPU:\", torch.cuda.get_device_name(0))\n",
    "else:\n",
    "    device = torch.device(\"cpu\")\n",
    "    print(\"CUDA is not available. Using CPU.\")"
   ]
  },
  {
   "cell_type": "code",
   "execution_count": null,
   "metadata": {},
   "outputs": [],
   "source": [
    "MODEL = os.getenv(\"GENERATION_MODEL\")\n",
    "REWARD_MODEL = os.getenv(\"REWARD_MODEL_NAME\")\n",
    "REWARD_MODEL_EXTRACTION_LORA = os.getenv(\"REWARD_MODEL_EXTRACTION_LORA\")\n",
    "REWARD_MODEL_DETECTION_LORA = os.getenv(\"REWARD_MODEL_DETECTION_LORA\")"
   ]
  },
  {
   "cell_type": "markdown",
   "metadata": {},
   "source": [
    "# RL Training loop"
   ]
  },
  {
   "cell_type": "markdown",
   "metadata": {},
   "source": [
    "## Load the model"
   ]
  },
  {
   "cell_type": "code",
   "execution_count": null,
   "metadata": {},
   "outputs": [],
   "source": [
    "# reward function definition\n",
    "\n",
    "#TODO: per prompt and response, iterate through the preconditions/subfacts and their positions and add up the rewards for all of them...\n",
    "\n",
    "# Example: Get reward for a response\n",
    "def reward_extraction(prompt, response):\n",
    "    inputs = tokenizer(prompt, response, return_tensors=\"pt\", truncation=True)\n",
    "    return reward_model(**inputs).logits.item()"
   ]
  },
  {
   "cell_type": "code",
   "execution_count": null,
   "metadata": {},
   "outputs": [],
   "source": [
    "# Load base model and tokenizer\n",
    "model = AutoModelForCausalLM.from_pretrained(MODEL,  \n",
    "                                             device_map=\"auto\",  # For GPU/TPU acceleration\n",
    "                                             torch_dtype=\"auto\")   # Optimize precision)\n",
    "tokenizer = AutoTokenizer.from_pretrained(MODEL)\n",
    "\n",
    "# Load reward model feedback extraction\n",
    "base_model = AutoModelForSequenceClassification.from_pretrained(MODEL, num_labels=1)\n",
    "\n",
    "extraction_model = PeftModel.from_pretrained(base_model, REWARD_MODEL_EXTRACTION_LORA)\n",
    "extraction_model = extraction_model.merge_and_unload()\n",
    "\n",
    "detection_model = PeftModel.from_pretrained(base_model, REWARD_MODEL_DETECTION_LORA)\n",
    "detection_model = detection_model.merge_and_unload()"
   ]
  },
  {
   "cell_type": "code",
   "execution_count": null,
   "metadata": {},
   "outputs": [],
   "source": [
    "# Define GRPO config\n",
    "grpo_config = {\n",
    "    \"batch_size\": 32,\n",
    "    \"learning_rate\": 1e-5,\n",
    "    \"gamma\": 0.99,  # Discount factor\n",
    "    \"clip_range\": 0.2,  # Similar to PPO\n",
    "}\n",
    "\n",
    "training_args = GRPOConfig(\n",
    "    output_dir=\"Mistral-7B-Instruct-v0.3-GRPO\", \n",
    "    logging_steps=10, \n",
    "    gradient_checkpointing=True,\n",
    "    learning_rate=1e-5,\n",
    "    num_train_epochs=3,\n",
    "    weight_decay=0.01,\n",
    "    warmup_steps=100,\n",
    "    logging_dir=\"logs\",\n",
    "    save_steps=1000,\n",
    "    save_total_limit=2,\n",
    "    evaluation_strategy=\"steps\",\n",
    "    eval_steps=100,\n",
    "    load_best_model_at_end=True,\n",
    "    metric_for_best_model=\"eval_loss\",\n",
    "    )\n",
    "\n",
    "# Initialize GRPO trainer\n",
    "trainer = GRPOTrainer(\n",
    "    model=model,\n",
    "    tokenizer=tokenizer,\n",
    "    reward_funcs=[reward_extraction, reward__detection],\n",
    "    reward_weights=[1.0, 1.0],\n",
    "    args=training_args,\n",
    "    **grpo_config\n",
    ")\n",
    "\n",
    "# Train\n",
    "trainer.train(prompts_dataset)"
   ]
  },
  {
   "cell_type": "markdown",
   "metadata": {},
   "source": [
    "## Code from Huggingface TRL"
   ]
  },
  {
   "cell_type": "markdown",
   "metadata": {},
   "source": [
    "## Notes:\n",
    "\n",
    "1. Do not use SLURM since I am in a single-node multi GPU setting and SLURM would work with scheduled training on a multi node cluster... --> use accelerate instead\n",
    "\n",
    "2. install transformers accelerate deepspeed trl\n",
    "\n",
    "3. DAPO paper for some hyperparameter settings, DeepSeekMath paper for hyperparametersettings is good as well"
   ]
  },
  {
   "cell_type": "markdown",
   "metadata": {},
   "source": [
    "# PPO Training"
   ]
  },
  {
   "cell_type": "code",
   "execution_count": null,
   "metadata": {},
   "outputs": [],
   "source": []
  }
 ],
 "metadata": {
  "kernelspec": {
   "display_name": "RL",
   "language": "python",
   "name": "python3"
  },
  "language_info": {
   "codemirror_mode": {
    "name": "ipython",
    "version": 3
   },
   "file_extension": ".py",
   "mimetype": "text/x-python",
   "name": "python",
   "nbconvert_exporter": "python",
   "pygments_lexer": "ipython3",
   "version": "3.10.16"
  }
 },
 "nbformat": 4,
 "nbformat_minor": 2
}
